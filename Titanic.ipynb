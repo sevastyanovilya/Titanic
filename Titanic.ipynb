{
  "cells": [
    {
      "cell_type": "markdown",
      "metadata": {
        "id": "OQkbgVXF2n8k"
      },
      "source": [
        "Привет! Делюсь собственным вариантом решения задачи о Титанике с Kaggle. Надеюсь, он будет вам полезен."
      ]
    },
    {
      "cell_type": "code",
      "execution_count": 2,
      "metadata": {
        "id": "yUDn_TXS2k3Q"
      },
      "outputs": [],
      "source": [
        "import pandas as pd\n",
        "import numpy as np\n",
        "import matplotlib.pyplot as plt\n",
        "import random\n",
        "import seaborn as sns\n",
        "from sklearn.impute import SimpleImputer\n",
        "from imblearn.over_sampling import SMOTE\n",
        "from sklearn.model_selection import train_test_split\n",
        "from catboost import CatBoostClassifier, Pool\n",
        "from sklearn.metrics import (\n",
        "    recall_score,\n",
        "    precision_score,\n",
        "    f1_score,\n",
        "    roc_auc_score,\n",
        "    confusion_matrix,\n",
        ")\n",
        "from sklearn.preprocessing import StandardScaler\n",
        "from sklearn.model_selection import RandomizedSearchCV, cross_validate\n",
        "from scipy.stats import randint\n",
        "import shap\n",
        "\n",
        "random.seed(42)\n",
        "np.random.seed(42)"
      ]
    },
    {
      "cell_type": "code",
      "execution_count": 3,
      "metadata": {
        "colab": {
          "base_uri": "https://localhost:8080/"
        },
        "id": "QRMKNoFM3bJT",
        "outputId": "65bad931-39ba-4d67-a430-2c973ea0118a"
      },
      "outputs": [
        {
          "output_type": "stream",
          "name": "stdout",
          "text": [
            "Drive already mounted at /content/drive/; to attempt to forcibly remount, call drive.mount(\"/content/drive/\", force_remount=True).\n"
          ]
        }
      ],
      "source": [
        "from google.colab import drive\n",
        "drive.mount('/content/drive/')"
      ]
    },
    {
      "cell_type": "markdown",
      "metadata": {
        "id": "dLKRfZd03xnI"
      },
      "source": [
        "1. Анализ и предобработка данных"
      ]
    },
    {
      "cell_type": "code",
      "execution_count": 4,
      "metadata": {
        "colab": {
          "base_uri": "https://localhost:8080/",
          "height": 363
        },
        "id": "eg6jWfO03vSD",
        "outputId": "0a01493c-fc81-440e-ad06-f82e383aa0bf"
      },
      "outputs": [
        {
          "output_type": "execute_result",
          "data": {
            "text/plain": [
              "   Survived  Pclass     Sex   Age  SibSp  Parch            Ticket     Fare  \\\n",
              "0         0       3    male  22.0      1      0         A/5 21171   7.2500   \n",
              "1         1       1  female  38.0      1      0          PC 17599  71.2833   \n",
              "2         1       3  female  26.0      0      0  STON/O2. 3101282   7.9250   \n",
              "3         1       1  female  35.0      1      0            113803  53.1000   \n",
              "4         0       3    male  35.0      0      0            373450   8.0500   \n",
              "5         0       3    male   NaN      0      0            330877   8.4583   \n",
              "6         0       1    male  54.0      0      0             17463  51.8625   \n",
              "7         0       3    male   2.0      3      1            349909  21.0750   \n",
              "8         1       3  female  27.0      0      2            347742  11.1333   \n",
              "9         1       2  female  14.0      1      0            237736  30.0708   \n",
              "\n",
              "  Cabin Embarked  \n",
              "0   NaN        S  \n",
              "1   C85        C  \n",
              "2   NaN        S  \n",
              "3  C123        S  \n",
              "4   NaN        S  \n",
              "5   NaN        Q  \n",
              "6   E46        S  \n",
              "7   NaN        S  \n",
              "8   NaN        S  \n",
              "9   NaN        C  "
            ],
            "text/html": [
              "\n",
              "  <div id=\"df-b8590345-d015-4659-99fd-999f57b32d96\" class=\"colab-df-container\">\n",
              "    <div>\n",
              "<style scoped>\n",
              "    .dataframe tbody tr th:only-of-type {\n",
              "        vertical-align: middle;\n",
              "    }\n",
              "\n",
              "    .dataframe tbody tr th {\n",
              "        vertical-align: top;\n",
              "    }\n",
              "\n",
              "    .dataframe thead th {\n",
              "        text-align: right;\n",
              "    }\n",
              "</style>\n",
              "<table border=\"1\" class=\"dataframe\">\n",
              "  <thead>\n",
              "    <tr style=\"text-align: right;\">\n",
              "      <th></th>\n",
              "      <th>Survived</th>\n",
              "      <th>Pclass</th>\n",
              "      <th>Sex</th>\n",
              "      <th>Age</th>\n",
              "      <th>SibSp</th>\n",
              "      <th>Parch</th>\n",
              "      <th>Ticket</th>\n",
              "      <th>Fare</th>\n",
              "      <th>Cabin</th>\n",
              "      <th>Embarked</th>\n",
              "    </tr>\n",
              "  </thead>\n",
              "  <tbody>\n",
              "    <tr>\n",
              "      <th>0</th>\n",
              "      <td>0</td>\n",
              "      <td>3</td>\n",
              "      <td>male</td>\n",
              "      <td>22.0</td>\n",
              "      <td>1</td>\n",
              "      <td>0</td>\n",
              "      <td>A/5 21171</td>\n",
              "      <td>7.2500</td>\n",
              "      <td>NaN</td>\n",
              "      <td>S</td>\n",
              "    </tr>\n",
              "    <tr>\n",
              "      <th>1</th>\n",
              "      <td>1</td>\n",
              "      <td>1</td>\n",
              "      <td>female</td>\n",
              "      <td>38.0</td>\n",
              "      <td>1</td>\n",
              "      <td>0</td>\n",
              "      <td>PC 17599</td>\n",
              "      <td>71.2833</td>\n",
              "      <td>C85</td>\n",
              "      <td>C</td>\n",
              "    </tr>\n",
              "    <tr>\n",
              "      <th>2</th>\n",
              "      <td>1</td>\n",
              "      <td>3</td>\n",
              "      <td>female</td>\n",
              "      <td>26.0</td>\n",
              "      <td>0</td>\n",
              "      <td>0</td>\n",
              "      <td>STON/O2. 3101282</td>\n",
              "      <td>7.9250</td>\n",
              "      <td>NaN</td>\n",
              "      <td>S</td>\n",
              "    </tr>\n",
              "    <tr>\n",
              "      <th>3</th>\n",
              "      <td>1</td>\n",
              "      <td>1</td>\n",
              "      <td>female</td>\n",
              "      <td>35.0</td>\n",
              "      <td>1</td>\n",
              "      <td>0</td>\n",
              "      <td>113803</td>\n",
              "      <td>53.1000</td>\n",
              "      <td>C123</td>\n",
              "      <td>S</td>\n",
              "    </tr>\n",
              "    <tr>\n",
              "      <th>4</th>\n",
              "      <td>0</td>\n",
              "      <td>3</td>\n",
              "      <td>male</td>\n",
              "      <td>35.0</td>\n",
              "      <td>0</td>\n",
              "      <td>0</td>\n",
              "      <td>373450</td>\n",
              "      <td>8.0500</td>\n",
              "      <td>NaN</td>\n",
              "      <td>S</td>\n",
              "    </tr>\n",
              "    <tr>\n",
              "      <th>5</th>\n",
              "      <td>0</td>\n",
              "      <td>3</td>\n",
              "      <td>male</td>\n",
              "      <td>NaN</td>\n",
              "      <td>0</td>\n",
              "      <td>0</td>\n",
              "      <td>330877</td>\n",
              "      <td>8.4583</td>\n",
              "      <td>NaN</td>\n",
              "      <td>Q</td>\n",
              "    </tr>\n",
              "    <tr>\n",
              "      <th>6</th>\n",
              "      <td>0</td>\n",
              "      <td>1</td>\n",
              "      <td>male</td>\n",
              "      <td>54.0</td>\n",
              "      <td>0</td>\n",
              "      <td>0</td>\n",
              "      <td>17463</td>\n",
              "      <td>51.8625</td>\n",
              "      <td>E46</td>\n",
              "      <td>S</td>\n",
              "    </tr>\n",
              "    <tr>\n",
              "      <th>7</th>\n",
              "      <td>0</td>\n",
              "      <td>3</td>\n",
              "      <td>male</td>\n",
              "      <td>2.0</td>\n",
              "      <td>3</td>\n",
              "      <td>1</td>\n",
              "      <td>349909</td>\n",
              "      <td>21.0750</td>\n",
              "      <td>NaN</td>\n",
              "      <td>S</td>\n",
              "    </tr>\n",
              "    <tr>\n",
              "      <th>8</th>\n",
              "      <td>1</td>\n",
              "      <td>3</td>\n",
              "      <td>female</td>\n",
              "      <td>27.0</td>\n",
              "      <td>0</td>\n",
              "      <td>2</td>\n",
              "      <td>347742</td>\n",
              "      <td>11.1333</td>\n",
              "      <td>NaN</td>\n",
              "      <td>S</td>\n",
              "    </tr>\n",
              "    <tr>\n",
              "      <th>9</th>\n",
              "      <td>1</td>\n",
              "      <td>2</td>\n",
              "      <td>female</td>\n",
              "      <td>14.0</td>\n",
              "      <td>1</td>\n",
              "      <td>0</td>\n",
              "      <td>237736</td>\n",
              "      <td>30.0708</td>\n",
              "      <td>NaN</td>\n",
              "      <td>C</td>\n",
              "    </tr>\n",
              "  </tbody>\n",
              "</table>\n",
              "</div>\n",
              "    <div class=\"colab-df-buttons\">\n",
              "\n",
              "  <div class=\"colab-df-container\">\n",
              "    <button class=\"colab-df-convert\" onclick=\"convertToInteractive('df-b8590345-d015-4659-99fd-999f57b32d96')\"\n",
              "            title=\"Convert this dataframe to an interactive table.\"\n",
              "            style=\"display:none;\">\n",
              "\n",
              "  <svg xmlns=\"http://www.w3.org/2000/svg\" height=\"24px\" viewBox=\"0 -960 960 960\">\n",
              "    <path d=\"M120-120v-720h720v720H120Zm60-500h600v-160H180v160Zm220 220h160v-160H400v160Zm0 220h160v-160H400v160ZM180-400h160v-160H180v160Zm440 0h160v-160H620v160ZM180-180h160v-160H180v160Zm440 0h160v-160H620v160Z\"/>\n",
              "  </svg>\n",
              "    </button>\n",
              "\n",
              "  <style>\n",
              "    .colab-df-container {\n",
              "      display:flex;\n",
              "      gap: 12px;\n",
              "    }\n",
              "\n",
              "    .colab-df-convert {\n",
              "      background-color: #E8F0FE;\n",
              "      border: none;\n",
              "      border-radius: 50%;\n",
              "      cursor: pointer;\n",
              "      display: none;\n",
              "      fill: #1967D2;\n",
              "      height: 32px;\n",
              "      padding: 0 0 0 0;\n",
              "      width: 32px;\n",
              "    }\n",
              "\n",
              "    .colab-df-convert:hover {\n",
              "      background-color: #E2EBFA;\n",
              "      box-shadow: 0px 1px 2px rgba(60, 64, 67, 0.3), 0px 1px 3px 1px rgba(60, 64, 67, 0.15);\n",
              "      fill: #174EA6;\n",
              "    }\n",
              "\n",
              "    .colab-df-buttons div {\n",
              "      margin-bottom: 4px;\n",
              "    }\n",
              "\n",
              "    [theme=dark] .colab-df-convert {\n",
              "      background-color: #3B4455;\n",
              "      fill: #D2E3FC;\n",
              "    }\n",
              "\n",
              "    [theme=dark] .colab-df-convert:hover {\n",
              "      background-color: #434B5C;\n",
              "      box-shadow: 0px 1px 3px 1px rgba(0, 0, 0, 0.15);\n",
              "      filter: drop-shadow(0px 1px 2px rgba(0, 0, 0, 0.3));\n",
              "      fill: #FFFFFF;\n",
              "    }\n",
              "  </style>\n",
              "\n",
              "    <script>\n",
              "      const buttonEl =\n",
              "        document.querySelector('#df-b8590345-d015-4659-99fd-999f57b32d96 button.colab-df-convert');\n",
              "      buttonEl.style.display =\n",
              "        google.colab.kernel.accessAllowed ? 'block' : 'none';\n",
              "\n",
              "      async function convertToInteractive(key) {\n",
              "        const element = document.querySelector('#df-b8590345-d015-4659-99fd-999f57b32d96');\n",
              "        const dataTable =\n",
              "          await google.colab.kernel.invokeFunction('convertToInteractive',\n",
              "                                                    [key], {});\n",
              "        if (!dataTable) return;\n",
              "\n",
              "        const docLinkHtml = 'Like what you see? Visit the ' +\n",
              "          '<a target=\"_blank\" href=https://colab.research.google.com/notebooks/data_table.ipynb>data table notebook</a>'\n",
              "          + ' to learn more about interactive tables.';\n",
              "        element.innerHTML = '';\n",
              "        dataTable['output_type'] = 'display_data';\n",
              "        await google.colab.output.renderOutput(dataTable, element);\n",
              "        const docLink = document.createElement('div');\n",
              "        docLink.innerHTML = docLinkHtml;\n",
              "        element.appendChild(docLink);\n",
              "      }\n",
              "    </script>\n",
              "  </div>\n",
              "\n",
              "\n",
              "    <div id=\"df-8e89812c-148b-4e20-afa4-8f53ad02c475\">\n",
              "      <button class=\"colab-df-quickchart\" onclick=\"quickchart('df-8e89812c-148b-4e20-afa4-8f53ad02c475')\"\n",
              "                title=\"Suggest charts\"\n",
              "                style=\"display:none;\">\n",
              "\n",
              "<svg xmlns=\"http://www.w3.org/2000/svg\" height=\"24px\"viewBox=\"0 0 24 24\"\n",
              "     width=\"24px\">\n",
              "    <g>\n",
              "        <path d=\"M19 3H5c-1.1 0-2 .9-2 2v14c0 1.1.9 2 2 2h14c1.1 0 2-.9 2-2V5c0-1.1-.9-2-2-2zM9 17H7v-7h2v7zm4 0h-2V7h2v10zm4 0h-2v-4h2v4z\"/>\n",
              "    </g>\n",
              "</svg>\n",
              "      </button>\n",
              "\n",
              "<style>\n",
              "  .colab-df-quickchart {\n",
              "      --bg-color: #E8F0FE;\n",
              "      --fill-color: #1967D2;\n",
              "      --hover-bg-color: #E2EBFA;\n",
              "      --hover-fill-color: #174EA6;\n",
              "      --disabled-fill-color: #AAA;\n",
              "      --disabled-bg-color: #DDD;\n",
              "  }\n",
              "\n",
              "  [theme=dark] .colab-df-quickchart {\n",
              "      --bg-color: #3B4455;\n",
              "      --fill-color: #D2E3FC;\n",
              "      --hover-bg-color: #434B5C;\n",
              "      --hover-fill-color: #FFFFFF;\n",
              "      --disabled-bg-color: #3B4455;\n",
              "      --disabled-fill-color: #666;\n",
              "  }\n",
              "\n",
              "  .colab-df-quickchart {\n",
              "    background-color: var(--bg-color);\n",
              "    border: none;\n",
              "    border-radius: 50%;\n",
              "    cursor: pointer;\n",
              "    display: none;\n",
              "    fill: var(--fill-color);\n",
              "    height: 32px;\n",
              "    padding: 0;\n",
              "    width: 32px;\n",
              "  }\n",
              "\n",
              "  .colab-df-quickchart:hover {\n",
              "    background-color: var(--hover-bg-color);\n",
              "    box-shadow: 0 1px 2px rgba(60, 64, 67, 0.3), 0 1px 3px 1px rgba(60, 64, 67, 0.15);\n",
              "    fill: var(--button-hover-fill-color);\n",
              "  }\n",
              "\n",
              "  .colab-df-quickchart-complete:disabled,\n",
              "  .colab-df-quickchart-complete:disabled:hover {\n",
              "    background-color: var(--disabled-bg-color);\n",
              "    fill: var(--disabled-fill-color);\n",
              "    box-shadow: none;\n",
              "  }\n",
              "\n",
              "  .colab-df-spinner {\n",
              "    border: 2px solid var(--fill-color);\n",
              "    border-color: transparent;\n",
              "    border-bottom-color: var(--fill-color);\n",
              "    animation:\n",
              "      spin 1s steps(1) infinite;\n",
              "  }\n",
              "\n",
              "  @keyframes spin {\n",
              "    0% {\n",
              "      border-color: transparent;\n",
              "      border-bottom-color: var(--fill-color);\n",
              "      border-left-color: var(--fill-color);\n",
              "    }\n",
              "    20% {\n",
              "      border-color: transparent;\n",
              "      border-left-color: var(--fill-color);\n",
              "      border-top-color: var(--fill-color);\n",
              "    }\n",
              "    30% {\n",
              "      border-color: transparent;\n",
              "      border-left-color: var(--fill-color);\n",
              "      border-top-color: var(--fill-color);\n",
              "      border-right-color: var(--fill-color);\n",
              "    }\n",
              "    40% {\n",
              "      border-color: transparent;\n",
              "      border-right-color: var(--fill-color);\n",
              "      border-top-color: var(--fill-color);\n",
              "    }\n",
              "    60% {\n",
              "      border-color: transparent;\n",
              "      border-right-color: var(--fill-color);\n",
              "    }\n",
              "    80% {\n",
              "      border-color: transparent;\n",
              "      border-right-color: var(--fill-color);\n",
              "      border-bottom-color: var(--fill-color);\n",
              "    }\n",
              "    90% {\n",
              "      border-color: transparent;\n",
              "      border-bottom-color: var(--fill-color);\n",
              "    }\n",
              "  }\n",
              "</style>\n",
              "\n",
              "      <script>\n",
              "        async function quickchart(key) {\n",
              "          const quickchartButtonEl =\n",
              "            document.querySelector('#' + key + ' button');\n",
              "          quickchartButtonEl.disabled = true;  // To prevent multiple clicks.\n",
              "          quickchartButtonEl.classList.add('colab-df-spinner');\n",
              "          try {\n",
              "            const charts = await google.colab.kernel.invokeFunction(\n",
              "                'suggestCharts', [key], {});\n",
              "          } catch (error) {\n",
              "            console.error('Error during call to suggestCharts:', error);\n",
              "          }\n",
              "          quickchartButtonEl.classList.remove('colab-df-spinner');\n",
              "          quickchartButtonEl.classList.add('colab-df-quickchart-complete');\n",
              "        }\n",
              "        (() => {\n",
              "          let quickchartButtonEl =\n",
              "            document.querySelector('#df-8e89812c-148b-4e20-afa4-8f53ad02c475 button');\n",
              "          quickchartButtonEl.style.display =\n",
              "            google.colab.kernel.accessAllowed ? 'block' : 'none';\n",
              "        })();\n",
              "      </script>\n",
              "    </div>\n",
              "    </div>\n",
              "  </div>\n"
            ],
            "application/vnd.google.colaboratory.intrinsic+json": {
              "type": "dataframe",
              "variable_name": "train_df",
              "summary": "{\n  \"name\": \"train_df\",\n  \"rows\": 891,\n  \"fields\": [\n    {\n      \"column\": \"Survived\",\n      \"properties\": {\n        \"dtype\": \"number\",\n        \"std\": 0,\n        \"min\": 0,\n        \"max\": 1,\n        \"num_unique_values\": 2,\n        \"samples\": [\n          1,\n          0\n        ],\n        \"semantic_type\": \"\",\n        \"description\": \"\"\n      }\n    },\n    {\n      \"column\": \"Pclass\",\n      \"properties\": {\n        \"dtype\": \"number\",\n        \"std\": 0,\n        \"min\": 1,\n        \"max\": 3,\n        \"num_unique_values\": 3,\n        \"samples\": [\n          3,\n          1\n        ],\n        \"semantic_type\": \"\",\n        \"description\": \"\"\n      }\n    },\n    {\n      \"column\": \"Sex\",\n      \"properties\": {\n        \"dtype\": \"category\",\n        \"num_unique_values\": 2,\n        \"samples\": [\n          \"female\",\n          \"male\"\n        ],\n        \"semantic_type\": \"\",\n        \"description\": \"\"\n      }\n    },\n    {\n      \"column\": \"Age\",\n      \"properties\": {\n        \"dtype\": \"number\",\n        \"std\": 14.526497332334044,\n        \"min\": 0.42,\n        \"max\": 80.0,\n        \"num_unique_values\": 88,\n        \"samples\": [\n          0.75,\n          22.0\n        ],\n        \"semantic_type\": \"\",\n        \"description\": \"\"\n      }\n    },\n    {\n      \"column\": \"SibSp\",\n      \"properties\": {\n        \"dtype\": \"number\",\n        \"std\": 1,\n        \"min\": 0,\n        \"max\": 8,\n        \"num_unique_values\": 7,\n        \"samples\": [\n          1,\n          0\n        ],\n        \"semantic_type\": \"\",\n        \"description\": \"\"\n      }\n    },\n    {\n      \"column\": \"Parch\",\n      \"properties\": {\n        \"dtype\": \"number\",\n        \"std\": 0,\n        \"min\": 0,\n        \"max\": 6,\n        \"num_unique_values\": 7,\n        \"samples\": [\n          0,\n          1\n        ],\n        \"semantic_type\": \"\",\n        \"description\": \"\"\n      }\n    },\n    {\n      \"column\": \"Ticket\",\n      \"properties\": {\n        \"dtype\": \"string\",\n        \"num_unique_values\": 681,\n        \"samples\": [\n          \"11774\",\n          \"248740\"\n        ],\n        \"semantic_type\": \"\",\n        \"description\": \"\"\n      }\n    },\n    {\n      \"column\": \"Fare\",\n      \"properties\": {\n        \"dtype\": \"number\",\n        \"std\": 49.693428597180905,\n        \"min\": 0.0,\n        \"max\": 512.3292,\n        \"num_unique_values\": 248,\n        \"samples\": [\n          11.2417,\n          51.8625\n        ],\n        \"semantic_type\": \"\",\n        \"description\": \"\"\n      }\n    },\n    {\n      \"column\": \"Cabin\",\n      \"properties\": {\n        \"dtype\": \"category\",\n        \"num_unique_values\": 147,\n        \"samples\": [\n          \"D45\",\n          \"B49\"\n        ],\n        \"semantic_type\": \"\",\n        \"description\": \"\"\n      }\n    },\n    {\n      \"column\": \"Embarked\",\n      \"properties\": {\n        \"dtype\": \"category\",\n        \"num_unique_values\": 3,\n        \"samples\": [\n          \"S\",\n          \"C\"\n        ],\n        \"semantic_type\": \"\",\n        \"description\": \"\"\n      }\n    }\n  ]\n}"
            }
          },
          "metadata": {},
          "execution_count": 4
        }
      ],
      "source": [
        "train_df = pd.read_csv(\"/content/drive/MyDrive/titanic/train.csv\")\n",
        "test_df = pd.read_csv(\"/content/drive/MyDrive/titanic/test.csv\")\n",
        "submission = pd.read_csv('/content/drive/MyDrive/titanic/gender_submission.csv')\n",
        "train_df.drop('PassengerId',axis=1,inplace=True)\n",
        "test_df.drop('PassengerId',axis=1,inplace=True)\n",
        "train_df.drop('Name',axis=1,inplace=True)\n",
        "test_df.drop('Name',axis=1,inplace=True)\n",
        "train_df.head(10)"
      ]
    },
    {
      "cell_type": "markdown",
      "metadata": {
        "id": "UErY63eH6jwd"
      },
      "source": [
        "Рассмотрим описательные характеристики для каждого признака. На первый взгляд сложно определить наличие явных выбросов в данных, поэтому далее проанализируем распределения признаков более подробно."
      ]
    },
    {
      "cell_type": "code",
      "execution_count": 5,
      "metadata": {
        "colab": {
          "base_uri": "https://localhost:8080/",
          "height": 300
        },
        "id": "lIGiXkup58Qm",
        "outputId": "6862d7ef-e12a-4f7f-ae29-1e02a93773a7"
      },
      "outputs": [
        {
          "output_type": "execute_result",
          "data": {
            "text/plain": [
              "         Survived      Pclass         Age       SibSp       Parch        Fare\n",
              "count  891.000000  891.000000  714.000000  891.000000  891.000000  891.000000\n",
              "mean     0.383838    2.308642   29.699118    0.523008    0.381594   32.204208\n",
              "std      0.486592    0.836071   14.526497    1.102743    0.806057   49.693429\n",
              "min      0.000000    1.000000    0.420000    0.000000    0.000000    0.000000\n",
              "25%      0.000000    2.000000   20.125000    0.000000    0.000000    7.910400\n",
              "50%      0.000000    3.000000   28.000000    0.000000    0.000000   14.454200\n",
              "75%      1.000000    3.000000   38.000000    1.000000    0.000000   31.000000\n",
              "max      1.000000    3.000000   80.000000    8.000000    6.000000  512.329200"
            ],
            "text/html": [
              "\n",
              "  <div id=\"df-ff89b86b-80e3-412e-bf27-b2579a124332\" class=\"colab-df-container\">\n",
              "    <div>\n",
              "<style scoped>\n",
              "    .dataframe tbody tr th:only-of-type {\n",
              "        vertical-align: middle;\n",
              "    }\n",
              "\n",
              "    .dataframe tbody tr th {\n",
              "        vertical-align: top;\n",
              "    }\n",
              "\n",
              "    .dataframe thead th {\n",
              "        text-align: right;\n",
              "    }\n",
              "</style>\n",
              "<table border=\"1\" class=\"dataframe\">\n",
              "  <thead>\n",
              "    <tr style=\"text-align: right;\">\n",
              "      <th></th>\n",
              "      <th>Survived</th>\n",
              "      <th>Pclass</th>\n",
              "      <th>Age</th>\n",
              "      <th>SibSp</th>\n",
              "      <th>Parch</th>\n",
              "      <th>Fare</th>\n",
              "    </tr>\n",
              "  </thead>\n",
              "  <tbody>\n",
              "    <tr>\n",
              "      <th>count</th>\n",
              "      <td>891.000000</td>\n",
              "      <td>891.000000</td>\n",
              "      <td>714.000000</td>\n",
              "      <td>891.000000</td>\n",
              "      <td>891.000000</td>\n",
              "      <td>891.000000</td>\n",
              "    </tr>\n",
              "    <tr>\n",
              "      <th>mean</th>\n",
              "      <td>0.383838</td>\n",
              "      <td>2.308642</td>\n",
              "      <td>29.699118</td>\n",
              "      <td>0.523008</td>\n",
              "      <td>0.381594</td>\n",
              "      <td>32.204208</td>\n",
              "    </tr>\n",
              "    <tr>\n",
              "      <th>std</th>\n",
              "      <td>0.486592</td>\n",
              "      <td>0.836071</td>\n",
              "      <td>14.526497</td>\n",
              "      <td>1.102743</td>\n",
              "      <td>0.806057</td>\n",
              "      <td>49.693429</td>\n",
              "    </tr>\n",
              "    <tr>\n",
              "      <th>min</th>\n",
              "      <td>0.000000</td>\n",
              "      <td>1.000000</td>\n",
              "      <td>0.420000</td>\n",
              "      <td>0.000000</td>\n",
              "      <td>0.000000</td>\n",
              "      <td>0.000000</td>\n",
              "    </tr>\n",
              "    <tr>\n",
              "      <th>25%</th>\n",
              "      <td>0.000000</td>\n",
              "      <td>2.000000</td>\n",
              "      <td>20.125000</td>\n",
              "      <td>0.000000</td>\n",
              "      <td>0.000000</td>\n",
              "      <td>7.910400</td>\n",
              "    </tr>\n",
              "    <tr>\n",
              "      <th>50%</th>\n",
              "      <td>0.000000</td>\n",
              "      <td>3.000000</td>\n",
              "      <td>28.000000</td>\n",
              "      <td>0.000000</td>\n",
              "      <td>0.000000</td>\n",
              "      <td>14.454200</td>\n",
              "    </tr>\n",
              "    <tr>\n",
              "      <th>75%</th>\n",
              "      <td>1.000000</td>\n",
              "      <td>3.000000</td>\n",
              "      <td>38.000000</td>\n",
              "      <td>1.000000</td>\n",
              "      <td>0.000000</td>\n",
              "      <td>31.000000</td>\n",
              "    </tr>\n",
              "    <tr>\n",
              "      <th>max</th>\n",
              "      <td>1.000000</td>\n",
              "      <td>3.000000</td>\n",
              "      <td>80.000000</td>\n",
              "      <td>8.000000</td>\n",
              "      <td>6.000000</td>\n",
              "      <td>512.329200</td>\n",
              "    </tr>\n",
              "  </tbody>\n",
              "</table>\n",
              "</div>\n",
              "    <div class=\"colab-df-buttons\">\n",
              "\n",
              "  <div class=\"colab-df-container\">\n",
              "    <button class=\"colab-df-convert\" onclick=\"convertToInteractive('df-ff89b86b-80e3-412e-bf27-b2579a124332')\"\n",
              "            title=\"Convert this dataframe to an interactive table.\"\n",
              "            style=\"display:none;\">\n",
              "\n",
              "  <svg xmlns=\"http://www.w3.org/2000/svg\" height=\"24px\" viewBox=\"0 -960 960 960\">\n",
              "    <path d=\"M120-120v-720h720v720H120Zm60-500h600v-160H180v160Zm220 220h160v-160H400v160Zm0 220h160v-160H400v160ZM180-400h160v-160H180v160Zm440 0h160v-160H620v160ZM180-180h160v-160H180v160Zm440 0h160v-160H620v160Z\"/>\n",
              "  </svg>\n",
              "    </button>\n",
              "\n",
              "  <style>\n",
              "    .colab-df-container {\n",
              "      display:flex;\n",
              "      gap: 12px;\n",
              "    }\n",
              "\n",
              "    .colab-df-convert {\n",
              "      background-color: #E8F0FE;\n",
              "      border: none;\n",
              "      border-radius: 50%;\n",
              "      cursor: pointer;\n",
              "      display: none;\n",
              "      fill: #1967D2;\n",
              "      height: 32px;\n",
              "      padding: 0 0 0 0;\n",
              "      width: 32px;\n",
              "    }\n",
              "\n",
              "    .colab-df-convert:hover {\n",
              "      background-color: #E2EBFA;\n",
              "      box-shadow: 0px 1px 2px rgba(60, 64, 67, 0.3), 0px 1px 3px 1px rgba(60, 64, 67, 0.15);\n",
              "      fill: #174EA6;\n",
              "    }\n",
              "\n",
              "    .colab-df-buttons div {\n",
              "      margin-bottom: 4px;\n",
              "    }\n",
              "\n",
              "    [theme=dark] .colab-df-convert {\n",
              "      background-color: #3B4455;\n",
              "      fill: #D2E3FC;\n",
              "    }\n",
              "\n",
              "    [theme=dark] .colab-df-convert:hover {\n",
              "      background-color: #434B5C;\n",
              "      box-shadow: 0px 1px 3px 1px rgba(0, 0, 0, 0.15);\n",
              "      filter: drop-shadow(0px 1px 2px rgba(0, 0, 0, 0.3));\n",
              "      fill: #FFFFFF;\n",
              "    }\n",
              "  </style>\n",
              "\n",
              "    <script>\n",
              "      const buttonEl =\n",
              "        document.querySelector('#df-ff89b86b-80e3-412e-bf27-b2579a124332 button.colab-df-convert');\n",
              "      buttonEl.style.display =\n",
              "        google.colab.kernel.accessAllowed ? 'block' : 'none';\n",
              "\n",
              "      async function convertToInteractive(key) {\n",
              "        const element = document.querySelector('#df-ff89b86b-80e3-412e-bf27-b2579a124332');\n",
              "        const dataTable =\n",
              "          await google.colab.kernel.invokeFunction('convertToInteractive',\n",
              "                                                    [key], {});\n",
              "        if (!dataTable) return;\n",
              "\n",
              "        const docLinkHtml = 'Like what you see? Visit the ' +\n",
              "          '<a target=\"_blank\" href=https://colab.research.google.com/notebooks/data_table.ipynb>data table notebook</a>'\n",
              "          + ' to learn more about interactive tables.';\n",
              "        element.innerHTML = '';\n",
              "        dataTable['output_type'] = 'display_data';\n",
              "        await google.colab.output.renderOutput(dataTable, element);\n",
              "        const docLink = document.createElement('div');\n",
              "        docLink.innerHTML = docLinkHtml;\n",
              "        element.appendChild(docLink);\n",
              "      }\n",
              "    </script>\n",
              "  </div>\n",
              "\n",
              "\n",
              "    <div id=\"df-d19e89ce-5ab4-47ff-bbc6-2babca603dbc\">\n",
              "      <button class=\"colab-df-quickchart\" onclick=\"quickchart('df-d19e89ce-5ab4-47ff-bbc6-2babca603dbc')\"\n",
              "                title=\"Suggest charts\"\n",
              "                style=\"display:none;\">\n",
              "\n",
              "<svg xmlns=\"http://www.w3.org/2000/svg\" height=\"24px\"viewBox=\"0 0 24 24\"\n",
              "     width=\"24px\">\n",
              "    <g>\n",
              "        <path d=\"M19 3H5c-1.1 0-2 .9-2 2v14c0 1.1.9 2 2 2h14c1.1 0 2-.9 2-2V5c0-1.1-.9-2-2-2zM9 17H7v-7h2v7zm4 0h-2V7h2v10zm4 0h-2v-4h2v4z\"/>\n",
              "    </g>\n",
              "</svg>\n",
              "      </button>\n",
              "\n",
              "<style>\n",
              "  .colab-df-quickchart {\n",
              "      --bg-color: #E8F0FE;\n",
              "      --fill-color: #1967D2;\n",
              "      --hover-bg-color: #E2EBFA;\n",
              "      --hover-fill-color: #174EA6;\n",
              "      --disabled-fill-color: #AAA;\n",
              "      --disabled-bg-color: #DDD;\n",
              "  }\n",
              "\n",
              "  [theme=dark] .colab-df-quickchart {\n",
              "      --bg-color: #3B4455;\n",
              "      --fill-color: #D2E3FC;\n",
              "      --hover-bg-color: #434B5C;\n",
              "      --hover-fill-color: #FFFFFF;\n",
              "      --disabled-bg-color: #3B4455;\n",
              "      --disabled-fill-color: #666;\n",
              "  }\n",
              "\n",
              "  .colab-df-quickchart {\n",
              "    background-color: var(--bg-color);\n",
              "    border: none;\n",
              "    border-radius: 50%;\n",
              "    cursor: pointer;\n",
              "    display: none;\n",
              "    fill: var(--fill-color);\n",
              "    height: 32px;\n",
              "    padding: 0;\n",
              "    width: 32px;\n",
              "  }\n",
              "\n",
              "  .colab-df-quickchart:hover {\n",
              "    background-color: var(--hover-bg-color);\n",
              "    box-shadow: 0 1px 2px rgba(60, 64, 67, 0.3), 0 1px 3px 1px rgba(60, 64, 67, 0.15);\n",
              "    fill: var(--button-hover-fill-color);\n",
              "  }\n",
              "\n",
              "  .colab-df-quickchart-complete:disabled,\n",
              "  .colab-df-quickchart-complete:disabled:hover {\n",
              "    background-color: var(--disabled-bg-color);\n",
              "    fill: var(--disabled-fill-color);\n",
              "    box-shadow: none;\n",
              "  }\n",
              "\n",
              "  .colab-df-spinner {\n",
              "    border: 2px solid var(--fill-color);\n",
              "    border-color: transparent;\n",
              "    border-bottom-color: var(--fill-color);\n",
              "    animation:\n",
              "      spin 1s steps(1) infinite;\n",
              "  }\n",
              "\n",
              "  @keyframes spin {\n",
              "    0% {\n",
              "      border-color: transparent;\n",
              "      border-bottom-color: var(--fill-color);\n",
              "      border-left-color: var(--fill-color);\n",
              "    }\n",
              "    20% {\n",
              "      border-color: transparent;\n",
              "      border-left-color: var(--fill-color);\n",
              "      border-top-color: var(--fill-color);\n",
              "    }\n",
              "    30% {\n",
              "      border-color: transparent;\n",
              "      border-left-color: var(--fill-color);\n",
              "      border-top-color: var(--fill-color);\n",
              "      border-right-color: var(--fill-color);\n",
              "    }\n",
              "    40% {\n",
              "      border-color: transparent;\n",
              "      border-right-color: var(--fill-color);\n",
              "      border-top-color: var(--fill-color);\n",
              "    }\n",
              "    60% {\n",
              "      border-color: transparent;\n",
              "      border-right-color: var(--fill-color);\n",
              "    }\n",
              "    80% {\n",
              "      border-color: transparent;\n",
              "      border-right-color: var(--fill-color);\n",
              "      border-bottom-color: var(--fill-color);\n",
              "    }\n",
              "    90% {\n",
              "      border-color: transparent;\n",
              "      border-bottom-color: var(--fill-color);\n",
              "    }\n",
              "  }\n",
              "</style>\n",
              "\n",
              "      <script>\n",
              "        async function quickchart(key) {\n",
              "          const quickchartButtonEl =\n",
              "            document.querySelector('#' + key + ' button');\n",
              "          quickchartButtonEl.disabled = true;  // To prevent multiple clicks.\n",
              "          quickchartButtonEl.classList.add('colab-df-spinner');\n",
              "          try {\n",
              "            const charts = await google.colab.kernel.invokeFunction(\n",
              "                'suggestCharts', [key], {});\n",
              "          } catch (error) {\n",
              "            console.error('Error during call to suggestCharts:', error);\n",
              "          }\n",
              "          quickchartButtonEl.classList.remove('colab-df-spinner');\n",
              "          quickchartButtonEl.classList.add('colab-df-quickchart-complete');\n",
              "        }\n",
              "        (() => {\n",
              "          let quickchartButtonEl =\n",
              "            document.querySelector('#df-d19e89ce-5ab4-47ff-bbc6-2babca603dbc button');\n",
              "          quickchartButtonEl.style.display =\n",
              "            google.colab.kernel.accessAllowed ? 'block' : 'none';\n",
              "        })();\n",
              "      </script>\n",
              "    </div>\n",
              "    </div>\n",
              "  </div>\n"
            ],
            "application/vnd.google.colaboratory.intrinsic+json": {
              "type": "dataframe",
              "summary": "{\n  \"name\": \"train_df\",\n  \"rows\": 8,\n  \"fields\": [\n    {\n      \"column\": \"Survived\",\n      \"properties\": {\n        \"dtype\": \"number\",\n        \"std\": 314.8713661874558,\n        \"min\": 0.0,\n        \"max\": 891.0,\n        \"num_unique_values\": 5,\n        \"samples\": [\n          0.3838383838383838,\n          1.0,\n          0.4865924542648585\n        ],\n        \"semantic_type\": \"\",\n        \"description\": \"\"\n      }\n    },\n    {\n      \"column\": \"Pclass\",\n      \"properties\": {\n        \"dtype\": \"number\",\n        \"std\": 314.2523437079693,\n        \"min\": 0.8360712409770513,\n        \"max\": 891.0,\n        \"num_unique_values\": 6,\n        \"samples\": [\n          891.0,\n          2.308641975308642,\n          3.0\n        ],\n        \"semantic_type\": \"\",\n        \"description\": \"\"\n      }\n    },\n    {\n      \"column\": \"Age\",\n      \"properties\": {\n        \"dtype\": \"number\",\n        \"std\": 242.9056731818781,\n        \"min\": 0.42,\n        \"max\": 714.0,\n        \"num_unique_values\": 8,\n        \"samples\": [\n          29.69911764705882,\n          28.0,\n          714.0\n        ],\n        \"semantic_type\": \"\",\n        \"description\": \"\"\n      }\n    },\n    {\n      \"column\": \"SibSp\",\n      \"properties\": {\n        \"dtype\": \"number\",\n        \"std\": 314.4908277465442,\n        \"min\": 0.0,\n        \"max\": 891.0,\n        \"num_unique_values\": 6,\n        \"samples\": [\n          891.0,\n          0.5230078563411896,\n          8.0\n        ],\n        \"semantic_type\": \"\",\n        \"description\": \"\"\n      }\n    },\n    {\n      \"column\": \"Parch\",\n      \"properties\": {\n        \"dtype\": \"number\",\n        \"std\": 314.65971717879,\n        \"min\": 0.0,\n        \"max\": 891.0,\n        \"num_unique_values\": 5,\n        \"samples\": [\n          0.38159371492704824,\n          6.0,\n          0.8060572211299559\n        ],\n        \"semantic_type\": \"\",\n        \"description\": \"\"\n      }\n    },\n    {\n      \"column\": \"Fare\",\n      \"properties\": {\n        \"dtype\": \"number\",\n        \"std\": 330.6256632228577,\n        \"min\": 0.0,\n        \"max\": 891.0,\n        \"num_unique_values\": 8,\n        \"samples\": [\n          32.204207968574636,\n          14.4542,\n          891.0\n        ],\n        \"semantic_type\": \"\",\n        \"description\": \"\"\n      }\n    }\n  ]\n}"
            }
          },
          "metadata": {},
          "execution_count": 5
        }
      ],
      "source": [
        "train_df.describe()"
      ]
    },
    {
      "cell_type": "markdown",
      "metadata": {
        "id": "5U79dwi-7Wmo"
      },
      "source": [
        "Пропуски в признаке *Возраст* будут заполнены медианными значениями. Признак *Каюта* стоит рассмотреть отдельно: вероятно, у пассажиров самого низкого класса каюты действительно отсутствовали."
      ]
    },
    {
      "cell_type": "code",
      "execution_count": 6,
      "metadata": {
        "colab": {
          "base_uri": "https://localhost:8080/",
          "height": 398
        },
        "id": "k8Fldxej7EU4",
        "outputId": "e2908ce6-e684-49ae-c756-acded44c0535"
      },
      "outputs": [
        {
          "output_type": "execute_result",
          "data": {
            "text/plain": [
              "Survived      0\n",
              "Pclass        0\n",
              "Sex           0\n",
              "Age         177\n",
              "SibSp         0\n",
              "Parch         0\n",
              "Ticket        0\n",
              "Fare          0\n",
              "Cabin       687\n",
              "Embarked      2\n",
              "dtype: int64"
            ],
            "text/html": [
              "<div>\n",
              "<style scoped>\n",
              "    .dataframe tbody tr th:only-of-type {\n",
              "        vertical-align: middle;\n",
              "    }\n",
              "\n",
              "    .dataframe tbody tr th {\n",
              "        vertical-align: top;\n",
              "    }\n",
              "\n",
              "    .dataframe thead th {\n",
              "        text-align: right;\n",
              "    }\n",
              "</style>\n",
              "<table border=\"1\" class=\"dataframe\">\n",
              "  <thead>\n",
              "    <tr style=\"text-align: right;\">\n",
              "      <th></th>\n",
              "      <th>0</th>\n",
              "    </tr>\n",
              "  </thead>\n",
              "  <tbody>\n",
              "    <tr>\n",
              "      <th>Survived</th>\n",
              "      <td>0</td>\n",
              "    </tr>\n",
              "    <tr>\n",
              "      <th>Pclass</th>\n",
              "      <td>0</td>\n",
              "    </tr>\n",
              "    <tr>\n",
              "      <th>Sex</th>\n",
              "      <td>0</td>\n",
              "    </tr>\n",
              "    <tr>\n",
              "      <th>Age</th>\n",
              "      <td>177</td>\n",
              "    </tr>\n",
              "    <tr>\n",
              "      <th>SibSp</th>\n",
              "      <td>0</td>\n",
              "    </tr>\n",
              "    <tr>\n",
              "      <th>Parch</th>\n",
              "      <td>0</td>\n",
              "    </tr>\n",
              "    <tr>\n",
              "      <th>Ticket</th>\n",
              "      <td>0</td>\n",
              "    </tr>\n",
              "    <tr>\n",
              "      <th>Fare</th>\n",
              "      <td>0</td>\n",
              "    </tr>\n",
              "    <tr>\n",
              "      <th>Cabin</th>\n",
              "      <td>687</td>\n",
              "    </tr>\n",
              "    <tr>\n",
              "      <th>Embarked</th>\n",
              "      <td>2</td>\n",
              "    </tr>\n",
              "  </tbody>\n",
              "</table>\n",
              "</div><br><label><b>dtype:</b> int64</label>"
            ]
          },
          "metadata": {},
          "execution_count": 6
        }
      ],
      "source": [
        "train_df.isna().sum()"
      ]
    },
    {
      "cell_type": "code",
      "execution_count": 7,
      "metadata": {
        "colab": {
          "base_uri": "https://localhost:8080/",
          "height": 366
        },
        "id": "3aJ20fMncYwG",
        "outputId": "4de51c07-33d6-4269-d1bc-60cc2e739ed1"
      },
      "outputs": [
        {
          "output_type": "execute_result",
          "data": {
            "text/plain": [
              "Pclass        0\n",
              "Sex           0\n",
              "Age          86\n",
              "SibSp         0\n",
              "Parch         0\n",
              "Ticket        0\n",
              "Fare          1\n",
              "Cabin       327\n",
              "Embarked      0\n",
              "dtype: int64"
            ],
            "text/html": [
              "<div>\n",
              "<style scoped>\n",
              "    .dataframe tbody tr th:only-of-type {\n",
              "        vertical-align: middle;\n",
              "    }\n",
              "\n",
              "    .dataframe tbody tr th {\n",
              "        vertical-align: top;\n",
              "    }\n",
              "\n",
              "    .dataframe thead th {\n",
              "        text-align: right;\n",
              "    }\n",
              "</style>\n",
              "<table border=\"1\" class=\"dataframe\">\n",
              "  <thead>\n",
              "    <tr style=\"text-align: right;\">\n",
              "      <th></th>\n",
              "      <th>0</th>\n",
              "    </tr>\n",
              "  </thead>\n",
              "  <tbody>\n",
              "    <tr>\n",
              "      <th>Pclass</th>\n",
              "      <td>0</td>\n",
              "    </tr>\n",
              "    <tr>\n",
              "      <th>Sex</th>\n",
              "      <td>0</td>\n",
              "    </tr>\n",
              "    <tr>\n",
              "      <th>Age</th>\n",
              "      <td>86</td>\n",
              "    </tr>\n",
              "    <tr>\n",
              "      <th>SibSp</th>\n",
              "      <td>0</td>\n",
              "    </tr>\n",
              "    <tr>\n",
              "      <th>Parch</th>\n",
              "      <td>0</td>\n",
              "    </tr>\n",
              "    <tr>\n",
              "      <th>Ticket</th>\n",
              "      <td>0</td>\n",
              "    </tr>\n",
              "    <tr>\n",
              "      <th>Fare</th>\n",
              "      <td>1</td>\n",
              "    </tr>\n",
              "    <tr>\n",
              "      <th>Cabin</th>\n",
              "      <td>327</td>\n",
              "    </tr>\n",
              "    <tr>\n",
              "      <th>Embarked</th>\n",
              "      <td>0</td>\n",
              "    </tr>\n",
              "  </tbody>\n",
              "</table>\n",
              "</div><br><label><b>dtype:</b> int64</label>"
            ]
          },
          "metadata": {},
          "execution_count": 7
        }
      ],
      "source": [
        "test_df.isna().sum()"
      ]
    },
    {
      "cell_type": "markdown",
      "metadata": {
        "id": "BNRj0CnO753t"
      },
      "source": [
        "Как и ожидалось, у пассажиров третьего класса комфорта отсутствовала закреплённая каюта, поэтому в колонке *Каюта* наблюдаются пропуски."
      ]
    },
    {
      "cell_type": "code",
      "execution_count": 8,
      "metadata": {
        "colab": {
          "base_uri": "https://localhost:8080/",
          "height": 424
        },
        "id": "yDJaquq77VtN",
        "outputId": "2810a9be-628a-4eda-c059-f911a34009ad"
      },
      "outputs": [
        {
          "output_type": "execute_result",
          "data": {
            "text/plain": [
              "     Survived  Pclass     Sex   Age  SibSp  Parch            Ticket     Fare  \\\n",
              "0           0       3    male  22.0      1      0         A/5 21171   7.2500   \n",
              "2           1       3  female  26.0      0      0  STON/O2. 3101282   7.9250   \n",
              "4           0       3    male  35.0      0      0            373450   8.0500   \n",
              "5           0       3    male   NaN      0      0            330877   8.4583   \n",
              "7           0       3    male   2.0      3      1            349909  21.0750   \n",
              "..        ...     ...     ...   ...    ...    ...               ...      ...   \n",
              "884         0       3    male  25.0      0      0   SOTON/OQ 392076   7.0500   \n",
              "885         0       3  female  39.0      0      5            382652  29.1250   \n",
              "886         0       2    male  27.0      0      0            211536  13.0000   \n",
              "888         0       3  female   NaN      1      2        W./C. 6607  23.4500   \n",
              "890         0       3    male  32.0      0      0            370376   7.7500   \n",
              "\n",
              "    Cabin Embarked  \n",
              "0     NaN        S  \n",
              "2     NaN        S  \n",
              "4     NaN        S  \n",
              "5     NaN        Q  \n",
              "7     NaN        S  \n",
              "..    ...      ...  \n",
              "884   NaN        S  \n",
              "885   NaN        Q  \n",
              "886   NaN        S  \n",
              "888   NaN        S  \n",
              "890   NaN        Q  \n",
              "\n",
              "[687 rows x 10 columns]"
            ],
            "text/html": [
              "\n",
              "  <div id=\"df-6d77d284-57af-4095-8579-8181fbc54a6f\" class=\"colab-df-container\">\n",
              "    <div>\n",
              "<style scoped>\n",
              "    .dataframe tbody tr th:only-of-type {\n",
              "        vertical-align: middle;\n",
              "    }\n",
              "\n",
              "    .dataframe tbody tr th {\n",
              "        vertical-align: top;\n",
              "    }\n",
              "\n",
              "    .dataframe thead th {\n",
              "        text-align: right;\n",
              "    }\n",
              "</style>\n",
              "<table border=\"1\" class=\"dataframe\">\n",
              "  <thead>\n",
              "    <tr style=\"text-align: right;\">\n",
              "      <th></th>\n",
              "      <th>Survived</th>\n",
              "      <th>Pclass</th>\n",
              "      <th>Sex</th>\n",
              "      <th>Age</th>\n",
              "      <th>SibSp</th>\n",
              "      <th>Parch</th>\n",
              "      <th>Ticket</th>\n",
              "      <th>Fare</th>\n",
              "      <th>Cabin</th>\n",
              "      <th>Embarked</th>\n",
              "    </tr>\n",
              "  </thead>\n",
              "  <tbody>\n",
              "    <tr>\n",
              "      <th>0</th>\n",
              "      <td>0</td>\n",
              "      <td>3</td>\n",
              "      <td>male</td>\n",
              "      <td>22.0</td>\n",
              "      <td>1</td>\n",
              "      <td>0</td>\n",
              "      <td>A/5 21171</td>\n",
              "      <td>7.2500</td>\n",
              "      <td>NaN</td>\n",
              "      <td>S</td>\n",
              "    </tr>\n",
              "    <tr>\n",
              "      <th>2</th>\n",
              "      <td>1</td>\n",
              "      <td>3</td>\n",
              "      <td>female</td>\n",
              "      <td>26.0</td>\n",
              "      <td>0</td>\n",
              "      <td>0</td>\n",
              "      <td>STON/O2. 3101282</td>\n",
              "      <td>7.9250</td>\n",
              "      <td>NaN</td>\n",
              "      <td>S</td>\n",
              "    </tr>\n",
              "    <tr>\n",
              "      <th>4</th>\n",
              "      <td>0</td>\n",
              "      <td>3</td>\n",
              "      <td>male</td>\n",
              "      <td>35.0</td>\n",
              "      <td>0</td>\n",
              "      <td>0</td>\n",
              "      <td>373450</td>\n",
              "      <td>8.0500</td>\n",
              "      <td>NaN</td>\n",
              "      <td>S</td>\n",
              "    </tr>\n",
              "    <tr>\n",
              "      <th>5</th>\n",
              "      <td>0</td>\n",
              "      <td>3</td>\n",
              "      <td>male</td>\n",
              "      <td>NaN</td>\n",
              "      <td>0</td>\n",
              "      <td>0</td>\n",
              "      <td>330877</td>\n",
              "      <td>8.4583</td>\n",
              "      <td>NaN</td>\n",
              "      <td>Q</td>\n",
              "    </tr>\n",
              "    <tr>\n",
              "      <th>7</th>\n",
              "      <td>0</td>\n",
              "      <td>3</td>\n",
              "      <td>male</td>\n",
              "      <td>2.0</td>\n",
              "      <td>3</td>\n",
              "      <td>1</td>\n",
              "      <td>349909</td>\n",
              "      <td>21.0750</td>\n",
              "      <td>NaN</td>\n",
              "      <td>S</td>\n",
              "    </tr>\n",
              "    <tr>\n",
              "      <th>...</th>\n",
              "      <td>...</td>\n",
              "      <td>...</td>\n",
              "      <td>...</td>\n",
              "      <td>...</td>\n",
              "      <td>...</td>\n",
              "      <td>...</td>\n",
              "      <td>...</td>\n",
              "      <td>...</td>\n",
              "      <td>...</td>\n",
              "      <td>...</td>\n",
              "    </tr>\n",
              "    <tr>\n",
              "      <th>884</th>\n",
              "      <td>0</td>\n",
              "      <td>3</td>\n",
              "      <td>male</td>\n",
              "      <td>25.0</td>\n",
              "      <td>0</td>\n",
              "      <td>0</td>\n",
              "      <td>SOTON/OQ 392076</td>\n",
              "      <td>7.0500</td>\n",
              "      <td>NaN</td>\n",
              "      <td>S</td>\n",
              "    </tr>\n",
              "    <tr>\n",
              "      <th>885</th>\n",
              "      <td>0</td>\n",
              "      <td>3</td>\n",
              "      <td>female</td>\n",
              "      <td>39.0</td>\n",
              "      <td>0</td>\n",
              "      <td>5</td>\n",
              "      <td>382652</td>\n",
              "      <td>29.1250</td>\n",
              "      <td>NaN</td>\n",
              "      <td>Q</td>\n",
              "    </tr>\n",
              "    <tr>\n",
              "      <th>886</th>\n",
              "      <td>0</td>\n",
              "      <td>2</td>\n",
              "      <td>male</td>\n",
              "      <td>27.0</td>\n",
              "      <td>0</td>\n",
              "      <td>0</td>\n",
              "      <td>211536</td>\n",
              "      <td>13.0000</td>\n",
              "      <td>NaN</td>\n",
              "      <td>S</td>\n",
              "    </tr>\n",
              "    <tr>\n",
              "      <th>888</th>\n",
              "      <td>0</td>\n",
              "      <td>3</td>\n",
              "      <td>female</td>\n",
              "      <td>NaN</td>\n",
              "      <td>1</td>\n",
              "      <td>2</td>\n",
              "      <td>W./C. 6607</td>\n",
              "      <td>23.4500</td>\n",
              "      <td>NaN</td>\n",
              "      <td>S</td>\n",
              "    </tr>\n",
              "    <tr>\n",
              "      <th>890</th>\n",
              "      <td>0</td>\n",
              "      <td>3</td>\n",
              "      <td>male</td>\n",
              "      <td>32.0</td>\n",
              "      <td>0</td>\n",
              "      <td>0</td>\n",
              "      <td>370376</td>\n",
              "      <td>7.7500</td>\n",
              "      <td>NaN</td>\n",
              "      <td>Q</td>\n",
              "    </tr>\n",
              "  </tbody>\n",
              "</table>\n",
              "<p>687 rows × 10 columns</p>\n",
              "</div>\n",
              "    <div class=\"colab-df-buttons\">\n",
              "\n",
              "  <div class=\"colab-df-container\">\n",
              "    <button class=\"colab-df-convert\" onclick=\"convertToInteractive('df-6d77d284-57af-4095-8579-8181fbc54a6f')\"\n",
              "            title=\"Convert this dataframe to an interactive table.\"\n",
              "            style=\"display:none;\">\n",
              "\n",
              "  <svg xmlns=\"http://www.w3.org/2000/svg\" height=\"24px\" viewBox=\"0 -960 960 960\">\n",
              "    <path d=\"M120-120v-720h720v720H120Zm60-500h600v-160H180v160Zm220 220h160v-160H400v160Zm0 220h160v-160H400v160ZM180-400h160v-160H180v160Zm440 0h160v-160H620v160ZM180-180h160v-160H180v160Zm440 0h160v-160H620v160Z\"/>\n",
              "  </svg>\n",
              "    </button>\n",
              "\n",
              "  <style>\n",
              "    .colab-df-container {\n",
              "      display:flex;\n",
              "      gap: 12px;\n",
              "    }\n",
              "\n",
              "    .colab-df-convert {\n",
              "      background-color: #E8F0FE;\n",
              "      border: none;\n",
              "      border-radius: 50%;\n",
              "      cursor: pointer;\n",
              "      display: none;\n",
              "      fill: #1967D2;\n",
              "      height: 32px;\n",
              "      padding: 0 0 0 0;\n",
              "      width: 32px;\n",
              "    }\n",
              "\n",
              "    .colab-df-convert:hover {\n",
              "      background-color: #E2EBFA;\n",
              "      box-shadow: 0px 1px 2px rgba(60, 64, 67, 0.3), 0px 1px 3px 1px rgba(60, 64, 67, 0.15);\n",
              "      fill: #174EA6;\n",
              "    }\n",
              "\n",
              "    .colab-df-buttons div {\n",
              "      margin-bottom: 4px;\n",
              "    }\n",
              "\n",
              "    [theme=dark] .colab-df-convert {\n",
              "      background-color: #3B4455;\n",
              "      fill: #D2E3FC;\n",
              "    }\n",
              "\n",
              "    [theme=dark] .colab-df-convert:hover {\n",
              "      background-color: #434B5C;\n",
              "      box-shadow: 0px 1px 3px 1px rgba(0, 0, 0, 0.15);\n",
              "      filter: drop-shadow(0px 1px 2px rgba(0, 0, 0, 0.3));\n",
              "      fill: #FFFFFF;\n",
              "    }\n",
              "  </style>\n",
              "\n",
              "    <script>\n",
              "      const buttonEl =\n",
              "        document.querySelector('#df-6d77d284-57af-4095-8579-8181fbc54a6f button.colab-df-convert');\n",
              "      buttonEl.style.display =\n",
              "        google.colab.kernel.accessAllowed ? 'block' : 'none';\n",
              "\n",
              "      async function convertToInteractive(key) {\n",
              "        const element = document.querySelector('#df-6d77d284-57af-4095-8579-8181fbc54a6f');\n",
              "        const dataTable =\n",
              "          await google.colab.kernel.invokeFunction('convertToInteractive',\n",
              "                                                    [key], {});\n",
              "        if (!dataTable) return;\n",
              "\n",
              "        const docLinkHtml = 'Like what you see? Visit the ' +\n",
              "          '<a target=\"_blank\" href=https://colab.research.google.com/notebooks/data_table.ipynb>data table notebook</a>'\n",
              "          + ' to learn more about interactive tables.';\n",
              "        element.innerHTML = '';\n",
              "        dataTable['output_type'] = 'display_data';\n",
              "        await google.colab.output.renderOutput(dataTable, element);\n",
              "        const docLink = document.createElement('div');\n",
              "        docLink.innerHTML = docLinkHtml;\n",
              "        element.appendChild(docLink);\n",
              "      }\n",
              "    </script>\n",
              "  </div>\n",
              "\n",
              "\n",
              "    <div id=\"df-3e45b764-b82c-40b6-9601-75b29872cb1f\">\n",
              "      <button class=\"colab-df-quickchart\" onclick=\"quickchart('df-3e45b764-b82c-40b6-9601-75b29872cb1f')\"\n",
              "                title=\"Suggest charts\"\n",
              "                style=\"display:none;\">\n",
              "\n",
              "<svg xmlns=\"http://www.w3.org/2000/svg\" height=\"24px\"viewBox=\"0 0 24 24\"\n",
              "     width=\"24px\">\n",
              "    <g>\n",
              "        <path d=\"M19 3H5c-1.1 0-2 .9-2 2v14c0 1.1.9 2 2 2h14c1.1 0 2-.9 2-2V5c0-1.1-.9-2-2-2zM9 17H7v-7h2v7zm4 0h-2V7h2v10zm4 0h-2v-4h2v4z\"/>\n",
              "    </g>\n",
              "</svg>\n",
              "      </button>\n",
              "\n",
              "<style>\n",
              "  .colab-df-quickchart {\n",
              "      --bg-color: #E8F0FE;\n",
              "      --fill-color: #1967D2;\n",
              "      --hover-bg-color: #E2EBFA;\n",
              "      --hover-fill-color: #174EA6;\n",
              "      --disabled-fill-color: #AAA;\n",
              "      --disabled-bg-color: #DDD;\n",
              "  }\n",
              "\n",
              "  [theme=dark] .colab-df-quickchart {\n",
              "      --bg-color: #3B4455;\n",
              "      --fill-color: #D2E3FC;\n",
              "      --hover-bg-color: #434B5C;\n",
              "      --hover-fill-color: #FFFFFF;\n",
              "      --disabled-bg-color: #3B4455;\n",
              "      --disabled-fill-color: #666;\n",
              "  }\n",
              "\n",
              "  .colab-df-quickchart {\n",
              "    background-color: var(--bg-color);\n",
              "    border: none;\n",
              "    border-radius: 50%;\n",
              "    cursor: pointer;\n",
              "    display: none;\n",
              "    fill: var(--fill-color);\n",
              "    height: 32px;\n",
              "    padding: 0;\n",
              "    width: 32px;\n",
              "  }\n",
              "\n",
              "  .colab-df-quickchart:hover {\n",
              "    background-color: var(--hover-bg-color);\n",
              "    box-shadow: 0 1px 2px rgba(60, 64, 67, 0.3), 0 1px 3px 1px rgba(60, 64, 67, 0.15);\n",
              "    fill: var(--button-hover-fill-color);\n",
              "  }\n",
              "\n",
              "  .colab-df-quickchart-complete:disabled,\n",
              "  .colab-df-quickchart-complete:disabled:hover {\n",
              "    background-color: var(--disabled-bg-color);\n",
              "    fill: var(--disabled-fill-color);\n",
              "    box-shadow: none;\n",
              "  }\n",
              "\n",
              "  .colab-df-spinner {\n",
              "    border: 2px solid var(--fill-color);\n",
              "    border-color: transparent;\n",
              "    border-bottom-color: var(--fill-color);\n",
              "    animation:\n",
              "      spin 1s steps(1) infinite;\n",
              "  }\n",
              "\n",
              "  @keyframes spin {\n",
              "    0% {\n",
              "      border-color: transparent;\n",
              "      border-bottom-color: var(--fill-color);\n",
              "      border-left-color: var(--fill-color);\n",
              "    }\n",
              "    20% {\n",
              "      border-color: transparent;\n",
              "      border-left-color: var(--fill-color);\n",
              "      border-top-color: var(--fill-color);\n",
              "    }\n",
              "    30% {\n",
              "      border-color: transparent;\n",
              "      border-left-color: var(--fill-color);\n",
              "      border-top-color: var(--fill-color);\n",
              "      border-right-color: var(--fill-color);\n",
              "    }\n",
              "    40% {\n",
              "      border-color: transparent;\n",
              "      border-right-color: var(--fill-color);\n",
              "      border-top-color: var(--fill-color);\n",
              "    }\n",
              "    60% {\n",
              "      border-color: transparent;\n",
              "      border-right-color: var(--fill-color);\n",
              "    }\n",
              "    80% {\n",
              "      border-color: transparent;\n",
              "      border-right-color: var(--fill-color);\n",
              "      border-bottom-color: var(--fill-color);\n",
              "    }\n",
              "    90% {\n",
              "      border-color: transparent;\n",
              "      border-bottom-color: var(--fill-color);\n",
              "    }\n",
              "  }\n",
              "</style>\n",
              "\n",
              "      <script>\n",
              "        async function quickchart(key) {\n",
              "          const quickchartButtonEl =\n",
              "            document.querySelector('#' + key + ' button');\n",
              "          quickchartButtonEl.disabled = true;  // To prevent multiple clicks.\n",
              "          quickchartButtonEl.classList.add('colab-df-spinner');\n",
              "          try {\n",
              "            const charts = await google.colab.kernel.invokeFunction(\n",
              "                'suggestCharts', [key], {});\n",
              "          } catch (error) {\n",
              "            console.error('Error during call to suggestCharts:', error);\n",
              "          }\n",
              "          quickchartButtonEl.classList.remove('colab-df-spinner');\n",
              "          quickchartButtonEl.classList.add('colab-df-quickchart-complete');\n",
              "        }\n",
              "        (() => {\n",
              "          let quickchartButtonEl =\n",
              "            document.querySelector('#df-3e45b764-b82c-40b6-9601-75b29872cb1f button');\n",
              "          quickchartButtonEl.style.display =\n",
              "            google.colab.kernel.accessAllowed ? 'block' : 'none';\n",
              "        })();\n",
              "      </script>\n",
              "    </div>\n",
              "    </div>\n",
              "  </div>\n"
            ],
            "application/vnd.google.colaboratory.intrinsic+json": {
              "type": "dataframe",
              "repr_error": "Out of range float values are not JSON compliant: nan"
            }
          },
          "metadata": {},
          "execution_count": 8
        }
      ],
      "source": [
        "train_df[train_df['Cabin'].isna()]"
      ]
    },
    {
      "cell_type": "markdown",
      "metadata": {
        "id": "ZQYmNLXaHxQ3"
      },
      "source": [
        "Для пассажиров третьего класса пропуски в признаке Cabin будут заполнены значением \"Unknown\"."
      ]
    },
    {
      "cell_type": "code",
      "execution_count": 9,
      "metadata": {
        "id": "nnpcoBO5E1aK"
      },
      "outputs": [],
      "source": [
        "train_df.loc[(train_df['Pclass'] == 3) & (train_df['Cabin'].isna()), 'Cabin'] = \"Unknown\"\n",
        "test_df.loc[(test_df['Pclass'] == 3) & (test_df['Cabin'].isna()), 'Cabin'] = \"Unknown\""
      ]
    },
    {
      "cell_type": "code",
      "execution_count": 10,
      "metadata": {
        "colab": {
          "base_uri": "https://localhost:8080/"
        },
        "id": "jJ4qDXBSH3fe",
        "outputId": "13edd46a-5120-47f2-d43e-58e6012c12f0"
      },
      "outputs": [
        {
          "output_type": "execute_result",
          "data": {
            "text/plain": [
              "np.int64(208)"
            ]
          },
          "metadata": {},
          "execution_count": 10
        }
      ],
      "source": [
        "train_df['Cabin'].isna().sum()"
      ]
    },
    {
      "cell_type": "code",
      "execution_count": 11,
      "metadata": {
        "colab": {
          "base_uri": "https://localhost:8080/"
        },
        "id": "KEmw6-iqcoBA",
        "outputId": "894e0dc8-002e-457a-b892-c91ab49c4f6e"
      },
      "outputs": [
        {
          "output_type": "execute_result",
          "data": {
            "text/plain": [
              "np.int64(113)"
            ]
          },
          "metadata": {},
          "execution_count": 11
        }
      ],
      "source": [
        "test_df['Cabin'].isna().sum()"
      ]
    },
    {
      "cell_type": "markdown",
      "metadata": {
        "id": "Nmp-8D_LIA4F"
      },
      "source": [
        "На данный момент в данных осталось 208 пропусков. Мы рассмотрим их более подробно немного позже."
      ]
    },
    {
      "cell_type": "markdown",
      "metadata": {
        "id": "kaTVSt8FCFdA"
      },
      "source": [
        "Для пассажиров, у которых отсутствует значение Embarked, можно предположить, что они не сели на корабль, и, следовательно, выжили"
      ]
    },
    {
      "cell_type": "code",
      "execution_count": 12,
      "metadata": {
        "colab": {
          "base_uri": "https://localhost:8080/",
          "height": 112
        },
        "id": "-Ry_dHevBqTJ",
        "outputId": "341153f2-7312-4b5a-ef33-373068243679"
      },
      "outputs": [
        {
          "output_type": "execute_result",
          "data": {
            "text/plain": [
              "     Survived  Pclass     Sex   Age  SibSp  Parch  Ticket  Fare Cabin Embarked\n",
              "61          1       1  female  38.0      0      0  113572  80.0   B28      NaN\n",
              "829         1       1  female  62.0      0      0  113572  80.0   B28      NaN"
            ],
            "text/html": [
              "\n",
              "  <div id=\"df-560af6ec-cf22-4f8f-985a-bbe29276116e\" class=\"colab-df-container\">\n",
              "    <div>\n",
              "<style scoped>\n",
              "    .dataframe tbody tr th:only-of-type {\n",
              "        vertical-align: middle;\n",
              "    }\n",
              "\n",
              "    .dataframe tbody tr th {\n",
              "        vertical-align: top;\n",
              "    }\n",
              "\n",
              "    .dataframe thead th {\n",
              "        text-align: right;\n",
              "    }\n",
              "</style>\n",
              "<table border=\"1\" class=\"dataframe\">\n",
              "  <thead>\n",
              "    <tr style=\"text-align: right;\">\n",
              "      <th></th>\n",
              "      <th>Survived</th>\n",
              "      <th>Pclass</th>\n",
              "      <th>Sex</th>\n",
              "      <th>Age</th>\n",
              "      <th>SibSp</th>\n",
              "      <th>Parch</th>\n",
              "      <th>Ticket</th>\n",
              "      <th>Fare</th>\n",
              "      <th>Cabin</th>\n",
              "      <th>Embarked</th>\n",
              "    </tr>\n",
              "  </thead>\n",
              "  <tbody>\n",
              "    <tr>\n",
              "      <th>61</th>\n",
              "      <td>1</td>\n",
              "      <td>1</td>\n",
              "      <td>female</td>\n",
              "      <td>38.0</td>\n",
              "      <td>0</td>\n",
              "      <td>0</td>\n",
              "      <td>113572</td>\n",
              "      <td>80.0</td>\n",
              "      <td>B28</td>\n",
              "      <td>NaN</td>\n",
              "    </tr>\n",
              "    <tr>\n",
              "      <th>829</th>\n",
              "      <td>1</td>\n",
              "      <td>1</td>\n",
              "      <td>female</td>\n",
              "      <td>62.0</td>\n",
              "      <td>0</td>\n",
              "      <td>0</td>\n",
              "      <td>113572</td>\n",
              "      <td>80.0</td>\n",
              "      <td>B28</td>\n",
              "      <td>NaN</td>\n",
              "    </tr>\n",
              "  </tbody>\n",
              "</table>\n",
              "</div>\n",
              "    <div class=\"colab-df-buttons\">\n",
              "\n",
              "  <div class=\"colab-df-container\">\n",
              "    <button class=\"colab-df-convert\" onclick=\"convertToInteractive('df-560af6ec-cf22-4f8f-985a-bbe29276116e')\"\n",
              "            title=\"Convert this dataframe to an interactive table.\"\n",
              "            style=\"display:none;\">\n",
              "\n",
              "  <svg xmlns=\"http://www.w3.org/2000/svg\" height=\"24px\" viewBox=\"0 -960 960 960\">\n",
              "    <path d=\"M120-120v-720h720v720H120Zm60-500h600v-160H180v160Zm220 220h160v-160H400v160Zm0 220h160v-160H400v160ZM180-400h160v-160H180v160Zm440 0h160v-160H620v160ZM180-180h160v-160H180v160Zm440 0h160v-160H620v160Z\"/>\n",
              "  </svg>\n",
              "    </button>\n",
              "\n",
              "  <style>\n",
              "    .colab-df-container {\n",
              "      display:flex;\n",
              "      gap: 12px;\n",
              "    }\n",
              "\n",
              "    .colab-df-convert {\n",
              "      background-color: #E8F0FE;\n",
              "      border: none;\n",
              "      border-radius: 50%;\n",
              "      cursor: pointer;\n",
              "      display: none;\n",
              "      fill: #1967D2;\n",
              "      height: 32px;\n",
              "      padding: 0 0 0 0;\n",
              "      width: 32px;\n",
              "    }\n",
              "\n",
              "    .colab-df-convert:hover {\n",
              "      background-color: #E2EBFA;\n",
              "      box-shadow: 0px 1px 2px rgba(60, 64, 67, 0.3), 0px 1px 3px 1px rgba(60, 64, 67, 0.15);\n",
              "      fill: #174EA6;\n",
              "    }\n",
              "\n",
              "    .colab-df-buttons div {\n",
              "      margin-bottom: 4px;\n",
              "    }\n",
              "\n",
              "    [theme=dark] .colab-df-convert {\n",
              "      background-color: #3B4455;\n",
              "      fill: #D2E3FC;\n",
              "    }\n",
              "\n",
              "    [theme=dark] .colab-df-convert:hover {\n",
              "      background-color: #434B5C;\n",
              "      box-shadow: 0px 1px 3px 1px rgba(0, 0, 0, 0.15);\n",
              "      filter: drop-shadow(0px 1px 2px rgba(0, 0, 0, 0.3));\n",
              "      fill: #FFFFFF;\n",
              "    }\n",
              "  </style>\n",
              "\n",
              "    <script>\n",
              "      const buttonEl =\n",
              "        document.querySelector('#df-560af6ec-cf22-4f8f-985a-bbe29276116e button.colab-df-convert');\n",
              "      buttonEl.style.display =\n",
              "        google.colab.kernel.accessAllowed ? 'block' : 'none';\n",
              "\n",
              "      async function convertToInteractive(key) {\n",
              "        const element = document.querySelector('#df-560af6ec-cf22-4f8f-985a-bbe29276116e');\n",
              "        const dataTable =\n",
              "          await google.colab.kernel.invokeFunction('convertToInteractive',\n",
              "                                                    [key], {});\n",
              "        if (!dataTable) return;\n",
              "\n",
              "        const docLinkHtml = 'Like what you see? Visit the ' +\n",
              "          '<a target=\"_blank\" href=https://colab.research.google.com/notebooks/data_table.ipynb>data table notebook</a>'\n",
              "          + ' to learn more about interactive tables.';\n",
              "        element.innerHTML = '';\n",
              "        dataTable['output_type'] = 'display_data';\n",
              "        await google.colab.output.renderOutput(dataTable, element);\n",
              "        const docLink = document.createElement('div');\n",
              "        docLink.innerHTML = docLinkHtml;\n",
              "        element.appendChild(docLink);\n",
              "      }\n",
              "    </script>\n",
              "  </div>\n",
              "\n",
              "\n",
              "    <div id=\"df-c24de10f-f643-42c3-909c-9a775b144882\">\n",
              "      <button class=\"colab-df-quickchart\" onclick=\"quickchart('df-c24de10f-f643-42c3-909c-9a775b144882')\"\n",
              "                title=\"Suggest charts\"\n",
              "                style=\"display:none;\">\n",
              "\n",
              "<svg xmlns=\"http://www.w3.org/2000/svg\" height=\"24px\"viewBox=\"0 0 24 24\"\n",
              "     width=\"24px\">\n",
              "    <g>\n",
              "        <path d=\"M19 3H5c-1.1 0-2 .9-2 2v14c0 1.1.9 2 2 2h14c1.1 0 2-.9 2-2V5c0-1.1-.9-2-2-2zM9 17H7v-7h2v7zm4 0h-2V7h2v10zm4 0h-2v-4h2v4z\"/>\n",
              "    </g>\n",
              "</svg>\n",
              "      </button>\n",
              "\n",
              "<style>\n",
              "  .colab-df-quickchart {\n",
              "      --bg-color: #E8F0FE;\n",
              "      --fill-color: #1967D2;\n",
              "      --hover-bg-color: #E2EBFA;\n",
              "      --hover-fill-color: #174EA6;\n",
              "      --disabled-fill-color: #AAA;\n",
              "      --disabled-bg-color: #DDD;\n",
              "  }\n",
              "\n",
              "  [theme=dark] .colab-df-quickchart {\n",
              "      --bg-color: #3B4455;\n",
              "      --fill-color: #D2E3FC;\n",
              "      --hover-bg-color: #434B5C;\n",
              "      --hover-fill-color: #FFFFFF;\n",
              "      --disabled-bg-color: #3B4455;\n",
              "      --disabled-fill-color: #666;\n",
              "  }\n",
              "\n",
              "  .colab-df-quickchart {\n",
              "    background-color: var(--bg-color);\n",
              "    border: none;\n",
              "    border-radius: 50%;\n",
              "    cursor: pointer;\n",
              "    display: none;\n",
              "    fill: var(--fill-color);\n",
              "    height: 32px;\n",
              "    padding: 0;\n",
              "    width: 32px;\n",
              "  }\n",
              "\n",
              "  .colab-df-quickchart:hover {\n",
              "    background-color: var(--hover-bg-color);\n",
              "    box-shadow: 0 1px 2px rgba(60, 64, 67, 0.3), 0 1px 3px 1px rgba(60, 64, 67, 0.15);\n",
              "    fill: var(--button-hover-fill-color);\n",
              "  }\n",
              "\n",
              "  .colab-df-quickchart-complete:disabled,\n",
              "  .colab-df-quickchart-complete:disabled:hover {\n",
              "    background-color: var(--disabled-bg-color);\n",
              "    fill: var(--disabled-fill-color);\n",
              "    box-shadow: none;\n",
              "  }\n",
              "\n",
              "  .colab-df-spinner {\n",
              "    border: 2px solid var(--fill-color);\n",
              "    border-color: transparent;\n",
              "    border-bottom-color: var(--fill-color);\n",
              "    animation:\n",
              "      spin 1s steps(1) infinite;\n",
              "  }\n",
              "\n",
              "  @keyframes spin {\n",
              "    0% {\n",
              "      border-color: transparent;\n",
              "      border-bottom-color: var(--fill-color);\n",
              "      border-left-color: var(--fill-color);\n",
              "    }\n",
              "    20% {\n",
              "      border-color: transparent;\n",
              "      border-left-color: var(--fill-color);\n",
              "      border-top-color: var(--fill-color);\n",
              "    }\n",
              "    30% {\n",
              "      border-color: transparent;\n",
              "      border-left-color: var(--fill-color);\n",
              "      border-top-color: var(--fill-color);\n",
              "      border-right-color: var(--fill-color);\n",
              "    }\n",
              "    40% {\n",
              "      border-color: transparent;\n",
              "      border-right-color: var(--fill-color);\n",
              "      border-top-color: var(--fill-color);\n",
              "    }\n",
              "    60% {\n",
              "      border-color: transparent;\n",
              "      border-right-color: var(--fill-color);\n",
              "    }\n",
              "    80% {\n",
              "      border-color: transparent;\n",
              "      border-right-color: var(--fill-color);\n",
              "      border-bottom-color: var(--fill-color);\n",
              "    }\n",
              "    90% {\n",
              "      border-color: transparent;\n",
              "      border-bottom-color: var(--fill-color);\n",
              "    }\n",
              "  }\n",
              "</style>\n",
              "\n",
              "      <script>\n",
              "        async function quickchart(key) {\n",
              "          const quickchartButtonEl =\n",
              "            document.querySelector('#' + key + ' button');\n",
              "          quickchartButtonEl.disabled = true;  // To prevent multiple clicks.\n",
              "          quickchartButtonEl.classList.add('colab-df-spinner');\n",
              "          try {\n",
              "            const charts = await google.colab.kernel.invokeFunction(\n",
              "                'suggestCharts', [key], {});\n",
              "          } catch (error) {\n",
              "            console.error('Error during call to suggestCharts:', error);\n",
              "          }\n",
              "          quickchartButtonEl.classList.remove('colab-df-spinner');\n",
              "          quickchartButtonEl.classList.add('colab-df-quickchart-complete');\n",
              "        }\n",
              "        (() => {\n",
              "          let quickchartButtonEl =\n",
              "            document.querySelector('#df-c24de10f-f643-42c3-909c-9a775b144882 button');\n",
              "          quickchartButtonEl.style.display =\n",
              "            google.colab.kernel.accessAllowed ? 'block' : 'none';\n",
              "        })();\n",
              "      </script>\n",
              "    </div>\n",
              "    </div>\n",
              "  </div>\n"
            ],
            "application/vnd.google.colaboratory.intrinsic+json": {
              "type": "dataframe",
              "repr_error": "0"
            }
          },
          "metadata": {},
          "execution_count": 12
        }
      ],
      "source": [
        "train_df[train_df['Embarked'].isna()]"
      ]
    },
    {
      "cell_type": "markdown",
      "metadata": {
        "id": "ZlYHF9XaDZ6K"
      },
      "source": [
        "Пропуски в признаке Embarked будут заполнены категорией \"Unknown_port\"."
      ]
    },
    {
      "cell_type": "code",
      "execution_count": 13,
      "metadata": {
        "colab": {
          "base_uri": "https://localhost:8080/"
        },
        "id": "uMxp1Ul9DrBx",
        "outputId": "832dab11-5c35-416b-ef18-939b89836ca0"
      },
      "outputs": [
        {
          "output_type": "stream",
          "name": "stderr",
          "text": [
            "/tmp/ipython-input-3406797101.py:1: FutureWarning: A value is trying to be set on a copy of a DataFrame or Series through chained assignment using an inplace method.\n",
            "The behavior will change in pandas 3.0. This inplace method will never work because the intermediate object on which we are setting values always behaves as a copy.\n",
            "\n",
            "For example, when doing 'df[col].method(value, inplace=True)', try using 'df.method({col: value}, inplace=True)' or df[col] = df[col].method(value) instead, to perform the operation inplace on the original object.\n",
            "\n",
            "\n",
            "  train_df['Embarked'].fillna('No_board',inplace=True)\n",
            "/tmp/ipython-input-3406797101.py:2: FutureWarning: A value is trying to be set on a copy of a DataFrame or Series through chained assignment using an inplace method.\n",
            "The behavior will change in pandas 3.0. This inplace method will never work because the intermediate object on which we are setting values always behaves as a copy.\n",
            "\n",
            "For example, when doing 'df[col].method(value, inplace=True)', try using 'df.method({col: value}, inplace=True)' or df[col] = df[col].method(value) instead, to perform the operation inplace on the original object.\n",
            "\n",
            "\n",
            "  test_df['Embarked'].fillna('No_board',inplace=True)\n"
          ]
        }
      ],
      "source": [
        "train_df['Embarked'].fillna('Unknown_port',inplace=True)\n",
        "test_df['Embarked'].fillna('Unknown_port',inplace=True)"
      ]
    },
    {
      "cell_type": "code",
      "execution_count": 14,
      "metadata": {
        "colab": {
          "base_uri": "https://localhost:8080/",
          "height": 398
        },
        "id": "CIdQ0zz9INQV",
        "outputId": "aa7e0333-95fd-4fb7-ec64-6cdb52498295"
      },
      "outputs": [
        {
          "output_type": "execute_result",
          "data": {
            "text/plain": [
              "Survived      0\n",
              "Pclass        0\n",
              "Sex           0\n",
              "Age         177\n",
              "SibSp         0\n",
              "Parch         0\n",
              "Ticket        0\n",
              "Fare          0\n",
              "Cabin       208\n",
              "Embarked      0\n",
              "dtype: int64"
            ],
            "text/html": [
              "<div>\n",
              "<style scoped>\n",
              "    .dataframe tbody tr th:only-of-type {\n",
              "        vertical-align: middle;\n",
              "    }\n",
              "\n",
              "    .dataframe tbody tr th {\n",
              "        vertical-align: top;\n",
              "    }\n",
              "\n",
              "    .dataframe thead th {\n",
              "        text-align: right;\n",
              "    }\n",
              "</style>\n",
              "<table border=\"1\" class=\"dataframe\">\n",
              "  <thead>\n",
              "    <tr style=\"text-align: right;\">\n",
              "      <th></th>\n",
              "      <th>0</th>\n",
              "    </tr>\n",
              "  </thead>\n",
              "  <tbody>\n",
              "    <tr>\n",
              "      <th>Survived</th>\n",
              "      <td>0</td>\n",
              "    </tr>\n",
              "    <tr>\n",
              "      <th>Pclass</th>\n",
              "      <td>0</td>\n",
              "    </tr>\n",
              "    <tr>\n",
              "      <th>Sex</th>\n",
              "      <td>0</td>\n",
              "    </tr>\n",
              "    <tr>\n",
              "      <th>Age</th>\n",
              "      <td>177</td>\n",
              "    </tr>\n",
              "    <tr>\n",
              "      <th>SibSp</th>\n",
              "      <td>0</td>\n",
              "    </tr>\n",
              "    <tr>\n",
              "      <th>Parch</th>\n",
              "      <td>0</td>\n",
              "    </tr>\n",
              "    <tr>\n",
              "      <th>Ticket</th>\n",
              "      <td>0</td>\n",
              "    </tr>\n",
              "    <tr>\n",
              "      <th>Fare</th>\n",
              "      <td>0</td>\n",
              "    </tr>\n",
              "    <tr>\n",
              "      <th>Cabin</th>\n",
              "      <td>208</td>\n",
              "    </tr>\n",
              "    <tr>\n",
              "      <th>Embarked</th>\n",
              "      <td>0</td>\n",
              "    </tr>\n",
              "  </tbody>\n",
              "</table>\n",
              "</div><br><label><b>dtype:</b> int64</label>"
            ]
          },
          "metadata": {},
          "execution_count": 14
        }
      ],
      "source": [
        "train_df.isna().sum()"
      ]
    },
    {
      "cell_type": "markdown",
      "metadata": {
        "id": "cVpCfxBYD4qt"
      },
      "source": [
        "Необходимо выяснить, почему у пассажиров более высокого класса отсутствуют данные о каютах. Вероятно, у пассажиров среднего и высокого классов каюты были закреплены, а пропуски в этих значениях можно рассматривать как случайные ошибки. Такие пропуски будут заполнены наиболее часто встречающимся значением (модой)."
      ]
    },
    {
      "cell_type": "code",
      "execution_count": 15,
      "metadata": {
        "colab": {
          "base_uri": "https://localhost:8080/",
          "height": 424
        },
        "id": "1IWJcPoKCUIv",
        "outputId": "ee7dc8cb-6988-40b4-f482-10a02e9c92b4"
      },
      "outputs": [
        {
          "output_type": "execute_result",
          "data": {
            "text/plain": [
              "     Survived  Pclass     Sex   Age  SibSp  Parch            Ticket     Fare  \\\n",
              "9           1       2  female  14.0      1      0            237736  30.0708   \n",
              "15          1       2  female  55.0      0      0            248706  16.0000   \n",
              "17          1       2    male   NaN      0      0            244373  13.0000   \n",
              "20          0       2    male  35.0      0      0            239865  26.0000   \n",
              "30          0       1    male  40.0      0      0          PC 17601  27.7208   \n",
              "..        ...     ...     ...   ...    ...    ...               ...      ...   \n",
              "866         1       2  female  27.0      1      0     SC/PARIS 2149  13.8583   \n",
              "874         1       2  female  28.0      1      0         P/PP 3381  24.0000   \n",
              "880         1       2  female  25.0      0      1            230433  26.0000   \n",
              "883         0       2    male  28.0      0      0  C.A./SOTON 34068  10.5000   \n",
              "886         0       2    male  27.0      0      0            211536  13.0000   \n",
              "\n",
              "    Cabin Embarked  \n",
              "9     NaN        C  \n",
              "15    NaN        S  \n",
              "17    NaN        S  \n",
              "20    NaN        S  \n",
              "30    NaN        C  \n",
              "..    ...      ...  \n",
              "866   NaN        C  \n",
              "874   NaN        C  \n",
              "880   NaN        S  \n",
              "883   NaN        S  \n",
              "886   NaN        S  \n",
              "\n",
              "[208 rows x 10 columns]"
            ],
            "text/html": [
              "\n",
              "  <div id=\"df-e644c527-e106-4537-8855-f59265c22a1d\" class=\"colab-df-container\">\n",
              "    <div>\n",
              "<style scoped>\n",
              "    .dataframe tbody tr th:only-of-type {\n",
              "        vertical-align: middle;\n",
              "    }\n",
              "\n",
              "    .dataframe tbody tr th {\n",
              "        vertical-align: top;\n",
              "    }\n",
              "\n",
              "    .dataframe thead th {\n",
              "        text-align: right;\n",
              "    }\n",
              "</style>\n",
              "<table border=\"1\" class=\"dataframe\">\n",
              "  <thead>\n",
              "    <tr style=\"text-align: right;\">\n",
              "      <th></th>\n",
              "      <th>Survived</th>\n",
              "      <th>Pclass</th>\n",
              "      <th>Sex</th>\n",
              "      <th>Age</th>\n",
              "      <th>SibSp</th>\n",
              "      <th>Parch</th>\n",
              "      <th>Ticket</th>\n",
              "      <th>Fare</th>\n",
              "      <th>Cabin</th>\n",
              "      <th>Embarked</th>\n",
              "    </tr>\n",
              "  </thead>\n",
              "  <tbody>\n",
              "    <tr>\n",
              "      <th>9</th>\n",
              "      <td>1</td>\n",
              "      <td>2</td>\n",
              "      <td>female</td>\n",
              "      <td>14.0</td>\n",
              "      <td>1</td>\n",
              "      <td>0</td>\n",
              "      <td>237736</td>\n",
              "      <td>30.0708</td>\n",
              "      <td>NaN</td>\n",
              "      <td>C</td>\n",
              "    </tr>\n",
              "    <tr>\n",
              "      <th>15</th>\n",
              "      <td>1</td>\n",
              "      <td>2</td>\n",
              "      <td>female</td>\n",
              "      <td>55.0</td>\n",
              "      <td>0</td>\n",
              "      <td>0</td>\n",
              "      <td>248706</td>\n",
              "      <td>16.0000</td>\n",
              "      <td>NaN</td>\n",
              "      <td>S</td>\n",
              "    </tr>\n",
              "    <tr>\n",
              "      <th>17</th>\n",
              "      <td>1</td>\n",
              "      <td>2</td>\n",
              "      <td>male</td>\n",
              "      <td>NaN</td>\n",
              "      <td>0</td>\n",
              "      <td>0</td>\n",
              "      <td>244373</td>\n",
              "      <td>13.0000</td>\n",
              "      <td>NaN</td>\n",
              "      <td>S</td>\n",
              "    </tr>\n",
              "    <tr>\n",
              "      <th>20</th>\n",
              "      <td>0</td>\n",
              "      <td>2</td>\n",
              "      <td>male</td>\n",
              "      <td>35.0</td>\n",
              "      <td>0</td>\n",
              "      <td>0</td>\n",
              "      <td>239865</td>\n",
              "      <td>26.0000</td>\n",
              "      <td>NaN</td>\n",
              "      <td>S</td>\n",
              "    </tr>\n",
              "    <tr>\n",
              "      <th>30</th>\n",
              "      <td>0</td>\n",
              "      <td>1</td>\n",
              "      <td>male</td>\n",
              "      <td>40.0</td>\n",
              "      <td>0</td>\n",
              "      <td>0</td>\n",
              "      <td>PC 17601</td>\n",
              "      <td>27.7208</td>\n",
              "      <td>NaN</td>\n",
              "      <td>C</td>\n",
              "    </tr>\n",
              "    <tr>\n",
              "      <th>...</th>\n",
              "      <td>...</td>\n",
              "      <td>...</td>\n",
              "      <td>...</td>\n",
              "      <td>...</td>\n",
              "      <td>...</td>\n",
              "      <td>...</td>\n",
              "      <td>...</td>\n",
              "      <td>...</td>\n",
              "      <td>...</td>\n",
              "      <td>...</td>\n",
              "    </tr>\n",
              "    <tr>\n",
              "      <th>866</th>\n",
              "      <td>1</td>\n",
              "      <td>2</td>\n",
              "      <td>female</td>\n",
              "      <td>27.0</td>\n",
              "      <td>1</td>\n",
              "      <td>0</td>\n",
              "      <td>SC/PARIS 2149</td>\n",
              "      <td>13.8583</td>\n",
              "      <td>NaN</td>\n",
              "      <td>C</td>\n",
              "    </tr>\n",
              "    <tr>\n",
              "      <th>874</th>\n",
              "      <td>1</td>\n",
              "      <td>2</td>\n",
              "      <td>female</td>\n",
              "      <td>28.0</td>\n",
              "      <td>1</td>\n",
              "      <td>0</td>\n",
              "      <td>P/PP 3381</td>\n",
              "      <td>24.0000</td>\n",
              "      <td>NaN</td>\n",
              "      <td>C</td>\n",
              "    </tr>\n",
              "    <tr>\n",
              "      <th>880</th>\n",
              "      <td>1</td>\n",
              "      <td>2</td>\n",
              "      <td>female</td>\n",
              "      <td>25.0</td>\n",
              "      <td>0</td>\n",
              "      <td>1</td>\n",
              "      <td>230433</td>\n",
              "      <td>26.0000</td>\n",
              "      <td>NaN</td>\n",
              "      <td>S</td>\n",
              "    </tr>\n",
              "    <tr>\n",
              "      <th>883</th>\n",
              "      <td>0</td>\n",
              "      <td>2</td>\n",
              "      <td>male</td>\n",
              "      <td>28.0</td>\n",
              "      <td>0</td>\n",
              "      <td>0</td>\n",
              "      <td>C.A./SOTON 34068</td>\n",
              "      <td>10.5000</td>\n",
              "      <td>NaN</td>\n",
              "      <td>S</td>\n",
              "    </tr>\n",
              "    <tr>\n",
              "      <th>886</th>\n",
              "      <td>0</td>\n",
              "      <td>2</td>\n",
              "      <td>male</td>\n",
              "      <td>27.0</td>\n",
              "      <td>0</td>\n",
              "      <td>0</td>\n",
              "      <td>211536</td>\n",
              "      <td>13.0000</td>\n",
              "      <td>NaN</td>\n",
              "      <td>S</td>\n",
              "    </tr>\n",
              "  </tbody>\n",
              "</table>\n",
              "<p>208 rows × 10 columns</p>\n",
              "</div>\n",
              "    <div class=\"colab-df-buttons\">\n",
              "\n",
              "  <div class=\"colab-df-container\">\n",
              "    <button class=\"colab-df-convert\" onclick=\"convertToInteractive('df-e644c527-e106-4537-8855-f59265c22a1d')\"\n",
              "            title=\"Convert this dataframe to an interactive table.\"\n",
              "            style=\"display:none;\">\n",
              "\n",
              "  <svg xmlns=\"http://www.w3.org/2000/svg\" height=\"24px\" viewBox=\"0 -960 960 960\">\n",
              "    <path d=\"M120-120v-720h720v720H120Zm60-500h600v-160H180v160Zm220 220h160v-160H400v160Zm0 220h160v-160H400v160ZM180-400h160v-160H180v160Zm440 0h160v-160H620v160ZM180-180h160v-160H180v160Zm440 0h160v-160H620v160Z\"/>\n",
              "  </svg>\n",
              "    </button>\n",
              "\n",
              "  <style>\n",
              "    .colab-df-container {\n",
              "      display:flex;\n",
              "      gap: 12px;\n",
              "    }\n",
              "\n",
              "    .colab-df-convert {\n",
              "      background-color: #E8F0FE;\n",
              "      border: none;\n",
              "      border-radius: 50%;\n",
              "      cursor: pointer;\n",
              "      display: none;\n",
              "      fill: #1967D2;\n",
              "      height: 32px;\n",
              "      padding: 0 0 0 0;\n",
              "      width: 32px;\n",
              "    }\n",
              "\n",
              "    .colab-df-convert:hover {\n",
              "      background-color: #E2EBFA;\n",
              "      box-shadow: 0px 1px 2px rgba(60, 64, 67, 0.3), 0px 1px 3px 1px rgba(60, 64, 67, 0.15);\n",
              "      fill: #174EA6;\n",
              "    }\n",
              "\n",
              "    .colab-df-buttons div {\n",
              "      margin-bottom: 4px;\n",
              "    }\n",
              "\n",
              "    [theme=dark] .colab-df-convert {\n",
              "      background-color: #3B4455;\n",
              "      fill: #D2E3FC;\n",
              "    }\n",
              "\n",
              "    [theme=dark] .colab-df-convert:hover {\n",
              "      background-color: #434B5C;\n",
              "      box-shadow: 0px 1px 3px 1px rgba(0, 0, 0, 0.15);\n",
              "      filter: drop-shadow(0px 1px 2px rgba(0, 0, 0, 0.3));\n",
              "      fill: #FFFFFF;\n",
              "    }\n",
              "  </style>\n",
              "\n",
              "    <script>\n",
              "      const buttonEl =\n",
              "        document.querySelector('#df-e644c527-e106-4537-8855-f59265c22a1d button.colab-df-convert');\n",
              "      buttonEl.style.display =\n",
              "        google.colab.kernel.accessAllowed ? 'block' : 'none';\n",
              "\n",
              "      async function convertToInteractive(key) {\n",
              "        const element = document.querySelector('#df-e644c527-e106-4537-8855-f59265c22a1d');\n",
              "        const dataTable =\n",
              "          await google.colab.kernel.invokeFunction('convertToInteractive',\n",
              "                                                    [key], {});\n",
              "        if (!dataTable) return;\n",
              "\n",
              "        const docLinkHtml = 'Like what you see? Visit the ' +\n",
              "          '<a target=\"_blank\" href=https://colab.research.google.com/notebooks/data_table.ipynb>data table notebook</a>'\n",
              "          + ' to learn more about interactive tables.';\n",
              "        element.innerHTML = '';\n",
              "        dataTable['output_type'] = 'display_data';\n",
              "        await google.colab.output.renderOutput(dataTable, element);\n",
              "        const docLink = document.createElement('div');\n",
              "        docLink.innerHTML = docLinkHtml;\n",
              "        element.appendChild(docLink);\n",
              "      }\n",
              "    </script>\n",
              "  </div>\n",
              "\n",
              "\n",
              "    <div id=\"df-027be6ad-e087-418e-a7e5-f1fa22ddac8f\">\n",
              "      <button class=\"colab-df-quickchart\" onclick=\"quickchart('df-027be6ad-e087-418e-a7e5-f1fa22ddac8f')\"\n",
              "                title=\"Suggest charts\"\n",
              "                style=\"display:none;\">\n",
              "\n",
              "<svg xmlns=\"http://www.w3.org/2000/svg\" height=\"24px\"viewBox=\"0 0 24 24\"\n",
              "     width=\"24px\">\n",
              "    <g>\n",
              "        <path d=\"M19 3H5c-1.1 0-2 .9-2 2v14c0 1.1.9 2 2 2h14c1.1 0 2-.9 2-2V5c0-1.1-.9-2-2-2zM9 17H7v-7h2v7zm4 0h-2V7h2v10zm4 0h-2v-4h2v4z\"/>\n",
              "    </g>\n",
              "</svg>\n",
              "      </button>\n",
              "\n",
              "<style>\n",
              "  .colab-df-quickchart {\n",
              "      --bg-color: #E8F0FE;\n",
              "      --fill-color: #1967D2;\n",
              "      --hover-bg-color: #E2EBFA;\n",
              "      --hover-fill-color: #174EA6;\n",
              "      --disabled-fill-color: #AAA;\n",
              "      --disabled-bg-color: #DDD;\n",
              "  }\n",
              "\n",
              "  [theme=dark] .colab-df-quickchart {\n",
              "      --bg-color: #3B4455;\n",
              "      --fill-color: #D2E3FC;\n",
              "      --hover-bg-color: #434B5C;\n",
              "      --hover-fill-color: #FFFFFF;\n",
              "      --disabled-bg-color: #3B4455;\n",
              "      --disabled-fill-color: #666;\n",
              "  }\n",
              "\n",
              "  .colab-df-quickchart {\n",
              "    background-color: var(--bg-color);\n",
              "    border: none;\n",
              "    border-radius: 50%;\n",
              "    cursor: pointer;\n",
              "    display: none;\n",
              "    fill: var(--fill-color);\n",
              "    height: 32px;\n",
              "    padding: 0;\n",
              "    width: 32px;\n",
              "  }\n",
              "\n",
              "  .colab-df-quickchart:hover {\n",
              "    background-color: var(--hover-bg-color);\n",
              "    box-shadow: 0 1px 2px rgba(60, 64, 67, 0.3), 0 1px 3px 1px rgba(60, 64, 67, 0.15);\n",
              "    fill: var(--button-hover-fill-color);\n",
              "  }\n",
              "\n",
              "  .colab-df-quickchart-complete:disabled,\n",
              "  .colab-df-quickchart-complete:disabled:hover {\n",
              "    background-color: var(--disabled-bg-color);\n",
              "    fill: var(--disabled-fill-color);\n",
              "    box-shadow: none;\n",
              "  }\n",
              "\n",
              "  .colab-df-spinner {\n",
              "    border: 2px solid var(--fill-color);\n",
              "    border-color: transparent;\n",
              "    border-bottom-color: var(--fill-color);\n",
              "    animation:\n",
              "      spin 1s steps(1) infinite;\n",
              "  }\n",
              "\n",
              "  @keyframes spin {\n",
              "    0% {\n",
              "      border-color: transparent;\n",
              "      border-bottom-color: var(--fill-color);\n",
              "      border-left-color: var(--fill-color);\n",
              "    }\n",
              "    20% {\n",
              "      border-color: transparent;\n",
              "      border-left-color: var(--fill-color);\n",
              "      border-top-color: var(--fill-color);\n",
              "    }\n",
              "    30% {\n",
              "      border-color: transparent;\n",
              "      border-left-color: var(--fill-color);\n",
              "      border-top-color: var(--fill-color);\n",
              "      border-right-color: var(--fill-color);\n",
              "    }\n",
              "    40% {\n",
              "      border-color: transparent;\n",
              "      border-right-color: var(--fill-color);\n",
              "      border-top-color: var(--fill-color);\n",
              "    }\n",
              "    60% {\n",
              "      border-color: transparent;\n",
              "      border-right-color: var(--fill-color);\n",
              "    }\n",
              "    80% {\n",
              "      border-color: transparent;\n",
              "      border-right-color: var(--fill-color);\n",
              "      border-bottom-color: var(--fill-color);\n",
              "    }\n",
              "    90% {\n",
              "      border-color: transparent;\n",
              "      border-bottom-color: var(--fill-color);\n",
              "    }\n",
              "  }\n",
              "</style>\n",
              "\n",
              "      <script>\n",
              "        async function quickchart(key) {\n",
              "          const quickchartButtonEl =\n",
              "            document.querySelector('#' + key + ' button');\n",
              "          quickchartButtonEl.disabled = true;  // To prevent multiple clicks.\n",
              "          quickchartButtonEl.classList.add('colab-df-spinner');\n",
              "          try {\n",
              "            const charts = await google.colab.kernel.invokeFunction(\n",
              "                'suggestCharts', [key], {});\n",
              "          } catch (error) {\n",
              "            console.error('Error during call to suggestCharts:', error);\n",
              "          }\n",
              "          quickchartButtonEl.classList.remove('colab-df-spinner');\n",
              "          quickchartButtonEl.classList.add('colab-df-quickchart-complete');\n",
              "        }\n",
              "        (() => {\n",
              "          let quickchartButtonEl =\n",
              "            document.querySelector('#df-027be6ad-e087-418e-a7e5-f1fa22ddac8f button');\n",
              "          quickchartButtonEl.style.display =\n",
              "            google.colab.kernel.accessAllowed ? 'block' : 'none';\n",
              "        })();\n",
              "      </script>\n",
              "    </div>\n",
              "    </div>\n",
              "  </div>\n"
            ],
            "application/vnd.google.colaboratory.intrinsic+json": {
              "type": "dataframe",
              "repr_error": "0"
            }
          },
          "metadata": {},
          "execution_count": 15
        }
      ],
      "source": [
        "train_df[(train_df['Cabin'].isna()) & (train_df['Pclass']!= 3)]"
      ]
    },
    {
      "cell_type": "code",
      "execution_count": 16,
      "metadata": {
        "id": "I4nhcMisL4Ds"
      },
      "outputs": [],
      "source": [
        "mode_class1 = train_df[train_df['Pclass'] == 1]['Cabin'].mode()[0]\n",
        "\n",
        "mode_class2 = train_df[train_df['Pclass'] == 2]['Cabin'].mode()[0]"
      ]
    },
    {
      "cell_type": "code",
      "execution_count": 17,
      "metadata": {
        "id": "O9jr5T2WJnda"
      },
      "outputs": [],
      "source": [
        "train_df.loc[(train_df['Pclass'] == 1) & (train_df['Cabin'].isna()), 'Cabin'] = mode_class1\n",
        "train_df.loc[(train_df['Pclass'] == 2) & (train_df['Cabin'].isna()), 'Cabin'] = mode_class2\n",
        "test_df.loc[(test_df['Pclass'] == 1) & (test_df['Cabin'].isna()), 'Cabin'] = mode_class1\n",
        "test_df.loc[(test_df['Pclass'] == 2) & (test_df['Cabin'].isna()), 'Cabin'] = mode_class2"
      ]
    },
    {
      "cell_type": "code",
      "execution_count": 18,
      "metadata": {
        "id": "aAt3FKGg8TvY"
      },
      "outputs": [],
      "source": [
        "imp_median = SimpleImputer( strategy='median')\n",
        "s = imp_median.fit(train_df[['Age']])\n",
        "train_df['Age'] = s.transform(train_df[['Age']])\n",
        "test_df['Age'] = s.transform(test_df[['Age']])\n",
        "s = imp_median.fit(train_df[['Fare']])\n",
        "test_df['Fare'] = s.transform(test_df[['Fare']])"
      ]
    },
    {
      "cell_type": "markdown",
      "metadata": {
        "id": "M6YkN_TMMFK-"
      },
      "source": [
        "С пропусками в данных я разобрался. Теоретически столбец Cabin можно было бы удалить из-за его высокой разреженности, однако я решил включить его в предобработку, чтобы попробовать использовать эту информацию в модели."
      ]
    },
    {
      "cell_type": "code",
      "execution_count": 19,
      "metadata": {
        "colab": {
          "base_uri": "https://localhost:8080/",
          "height": 398
        },
        "id": "OEYQjaQE_cWP",
        "outputId": "5cfb2916-c2ba-4649-c67e-281ec9f7bf76"
      },
      "outputs": [
        {
          "output_type": "execute_result",
          "data": {
            "text/plain": [
              "Survived    0\n",
              "Pclass      0\n",
              "Sex         0\n",
              "Age         0\n",
              "SibSp       0\n",
              "Parch       0\n",
              "Ticket      0\n",
              "Fare        0\n",
              "Cabin       0\n",
              "Embarked    0\n",
              "dtype: int64"
            ],
            "text/html": [
              "<div>\n",
              "<style scoped>\n",
              "    .dataframe tbody tr th:only-of-type {\n",
              "        vertical-align: middle;\n",
              "    }\n",
              "\n",
              "    .dataframe tbody tr th {\n",
              "        vertical-align: top;\n",
              "    }\n",
              "\n",
              "    .dataframe thead th {\n",
              "        text-align: right;\n",
              "    }\n",
              "</style>\n",
              "<table border=\"1\" class=\"dataframe\">\n",
              "  <thead>\n",
              "    <tr style=\"text-align: right;\">\n",
              "      <th></th>\n",
              "      <th>0</th>\n",
              "    </tr>\n",
              "  </thead>\n",
              "  <tbody>\n",
              "    <tr>\n",
              "      <th>Survived</th>\n",
              "      <td>0</td>\n",
              "    </tr>\n",
              "    <tr>\n",
              "      <th>Pclass</th>\n",
              "      <td>0</td>\n",
              "    </tr>\n",
              "    <tr>\n",
              "      <th>Sex</th>\n",
              "      <td>0</td>\n",
              "    </tr>\n",
              "    <tr>\n",
              "      <th>Age</th>\n",
              "      <td>0</td>\n",
              "    </tr>\n",
              "    <tr>\n",
              "      <th>SibSp</th>\n",
              "      <td>0</td>\n",
              "    </tr>\n",
              "    <tr>\n",
              "      <th>Parch</th>\n",
              "      <td>0</td>\n",
              "    </tr>\n",
              "    <tr>\n",
              "      <th>Ticket</th>\n",
              "      <td>0</td>\n",
              "    </tr>\n",
              "    <tr>\n",
              "      <th>Fare</th>\n",
              "      <td>0</td>\n",
              "    </tr>\n",
              "    <tr>\n",
              "      <th>Cabin</th>\n",
              "      <td>0</td>\n",
              "    </tr>\n",
              "    <tr>\n",
              "      <th>Embarked</th>\n",
              "      <td>0</td>\n",
              "    </tr>\n",
              "  </tbody>\n",
              "</table>\n",
              "</div><br><label><b>dtype:</b> int64</label>"
            ]
          },
          "metadata": {},
          "execution_count": 19
        }
      ],
      "source": [
        "train_df.isna().sum()"
      ]
    },
    {
      "cell_type": "markdown",
      "metadata": {
        "id": "IhoAD1krMQnq"
      },
      "source": [
        "Преобразую тип данных 'object' в 'category'"
      ]
    },
    {
      "cell_type": "code",
      "execution_count": 20,
      "metadata": {
        "colab": {
          "base_uri": "https://localhost:8080/",
          "height": 398
        },
        "id": "oO7C99mmA2Me",
        "outputId": "677d057c-4ac9-4a3e-ee65-b6021009d31b"
      },
      "outputs": [
        {
          "output_type": "execute_result",
          "data": {
            "text/plain": [
              "Survived      int64\n",
              "Pclass        int64\n",
              "Sex          object\n",
              "Age         float64\n",
              "SibSp         int64\n",
              "Parch         int64\n",
              "Ticket       object\n",
              "Fare        float64\n",
              "Cabin        object\n",
              "Embarked     object\n",
              "dtype: object"
            ],
            "text/html": [
              "<div>\n",
              "<style scoped>\n",
              "    .dataframe tbody tr th:only-of-type {\n",
              "        vertical-align: middle;\n",
              "    }\n",
              "\n",
              "    .dataframe tbody tr th {\n",
              "        vertical-align: top;\n",
              "    }\n",
              "\n",
              "    .dataframe thead th {\n",
              "        text-align: right;\n",
              "    }\n",
              "</style>\n",
              "<table border=\"1\" class=\"dataframe\">\n",
              "  <thead>\n",
              "    <tr style=\"text-align: right;\">\n",
              "      <th></th>\n",
              "      <th>0</th>\n",
              "    </tr>\n",
              "  </thead>\n",
              "  <tbody>\n",
              "    <tr>\n",
              "      <th>Survived</th>\n",
              "      <td>int64</td>\n",
              "    </tr>\n",
              "    <tr>\n",
              "      <th>Pclass</th>\n",
              "      <td>int64</td>\n",
              "    </tr>\n",
              "    <tr>\n",
              "      <th>Sex</th>\n",
              "      <td>object</td>\n",
              "    </tr>\n",
              "    <tr>\n",
              "      <th>Age</th>\n",
              "      <td>float64</td>\n",
              "    </tr>\n",
              "    <tr>\n",
              "      <th>SibSp</th>\n",
              "      <td>int64</td>\n",
              "    </tr>\n",
              "    <tr>\n",
              "      <th>Parch</th>\n",
              "      <td>int64</td>\n",
              "    </tr>\n",
              "    <tr>\n",
              "      <th>Ticket</th>\n",
              "      <td>object</td>\n",
              "    </tr>\n",
              "    <tr>\n",
              "      <th>Fare</th>\n",
              "      <td>float64</td>\n",
              "    </tr>\n",
              "    <tr>\n",
              "      <th>Cabin</th>\n",
              "      <td>object</td>\n",
              "    </tr>\n",
              "    <tr>\n",
              "      <th>Embarked</th>\n",
              "      <td>object</td>\n",
              "    </tr>\n",
              "  </tbody>\n",
              "</table>\n",
              "</div><br><label><b>dtype:</b> object</label>"
            ]
          },
          "metadata": {},
          "execution_count": 20
        }
      ],
      "source": [
        "train_df.dtypes"
      ]
    },
    {
      "cell_type": "code",
      "execution_count": 21,
      "metadata": {
        "id": "Dmdlfes6Mj6B"
      },
      "outputs": [],
      "source": [
        "category_columns = train_df.select_dtypes(include=['object']).columns.tolist()\n",
        "train_df[category_columns] = train_df[category_columns].astype('category')\n",
        "test_df[category_columns] = test_df[category_columns].astype('category')"
      ]
    },
    {
      "cell_type": "code",
      "execution_count": 22,
      "metadata": {
        "colab": {
          "base_uri": "https://localhost:8080/",
          "height": 398
        },
        "id": "ZB2H6d7HNR87",
        "outputId": "c098ff7f-2c82-4058-e2cc-0d82d2935e75"
      },
      "outputs": [
        {
          "output_type": "execute_result",
          "data": {
            "text/plain": [
              "Survived       int64\n",
              "Pclass         int64\n",
              "Sex         category\n",
              "Age          float64\n",
              "SibSp          int64\n",
              "Parch          int64\n",
              "Ticket      category\n",
              "Fare         float64\n",
              "Cabin       category\n",
              "Embarked    category\n",
              "dtype: object"
            ],
            "text/html": [
              "<div>\n",
              "<style scoped>\n",
              "    .dataframe tbody tr th:only-of-type {\n",
              "        vertical-align: middle;\n",
              "    }\n",
              "\n",
              "    .dataframe tbody tr th {\n",
              "        vertical-align: top;\n",
              "    }\n",
              "\n",
              "    .dataframe thead th {\n",
              "        text-align: right;\n",
              "    }\n",
              "</style>\n",
              "<table border=\"1\" class=\"dataframe\">\n",
              "  <thead>\n",
              "    <tr style=\"text-align: right;\">\n",
              "      <th></th>\n",
              "      <th>0</th>\n",
              "    </tr>\n",
              "  </thead>\n",
              "  <tbody>\n",
              "    <tr>\n",
              "      <th>Survived</th>\n",
              "      <td>int64</td>\n",
              "    </tr>\n",
              "    <tr>\n",
              "      <th>Pclass</th>\n",
              "      <td>int64</td>\n",
              "    </tr>\n",
              "    <tr>\n",
              "      <th>Sex</th>\n",
              "      <td>category</td>\n",
              "    </tr>\n",
              "    <tr>\n",
              "      <th>Age</th>\n",
              "      <td>float64</td>\n",
              "    </tr>\n",
              "    <tr>\n",
              "      <th>SibSp</th>\n",
              "      <td>int64</td>\n",
              "    </tr>\n",
              "    <tr>\n",
              "      <th>Parch</th>\n",
              "      <td>int64</td>\n",
              "    </tr>\n",
              "    <tr>\n",
              "      <th>Ticket</th>\n",
              "      <td>category</td>\n",
              "    </tr>\n",
              "    <tr>\n",
              "      <th>Fare</th>\n",
              "      <td>float64</td>\n",
              "    </tr>\n",
              "    <tr>\n",
              "      <th>Cabin</th>\n",
              "      <td>category</td>\n",
              "    </tr>\n",
              "    <tr>\n",
              "      <th>Embarked</th>\n",
              "      <td>category</td>\n",
              "    </tr>\n",
              "  </tbody>\n",
              "</table>\n",
              "</div><br><label><b>dtype:</b> object</label>"
            ]
          },
          "metadata": {},
          "execution_count": 22
        }
      ],
      "source": [
        "train_df.dtypes"
      ]
    },
    {
      "cell_type": "markdown",
      "metadata": {
        "id": "aLk2ZapqNUKZ"
      },
      "source": [
        "После преобразования признаков типа 'object' в 'category' посмотрим, имеются ли дубликаты в данных."
      ]
    },
    {
      "cell_type": "code",
      "execution_count": 23,
      "metadata": {
        "colab": {
          "base_uri": "https://localhost:8080/"
        },
        "id": "6OSrnB9sNcKx",
        "outputId": "48a356c1-7a5d-4daa-bff8-a0d870886bf0"
      },
      "outputs": [
        {
          "output_type": "execute_result",
          "data": {
            "text/plain": [
              "np.int64(16)"
            ]
          },
          "metadata": {},
          "execution_count": 23
        }
      ],
      "source": [
        "train_df.duplicated().sum()"
      ]
    },
    {
      "cell_type": "markdown",
      "metadata": {
        "id": "iJG8zkcYO-NA"
      },
      "source": [
        "Рассмотрим распределение основных признаков. На мой взгляд, наиболее значимыми окажутся следующие:\n",
        "\n",
        "1.  Возраст — младенцы и пожилые пассажиры имеют явно меньшие шансы на выживание по сравнению с людьми среднего возраста.\n",
        "\n",
        "2.  Пол — учитывая историческую практику спасения женщин и детей в первую очередь, предполагается, что женщины будут выживать чаще.\n",
        "\n",
        "3.  Класс билета — вероятно, пассажирам с более высоким классом оказывалась большая помощь при эвакуации.\n"
      ]
    },
    {
      "cell_type": "markdown",
      "metadata": {
        "id": "_0r3SkiHPqLo"
      },
      "source": [
        "Средний возраст пассажиров составляет около 30 лет - распределение данных логично"
      ]
    },
    {
      "cell_type": "code",
      "execution_count": 24,
      "metadata": {
        "colab": {
          "base_uri": "https://localhost:8080/",
          "height": 449
        },
        "id": "xYEc-_yYOn9p",
        "outputId": "f2814c62-1228-4334-b4e3-321cb21a0b67"
      },
      "outputs": [
        {
          "output_type": "display_data",
          "data": {
            "text/plain": [
              "<Figure size 800x500 with 1 Axes>"
            ],
            "image/png": "[encoded data removed]"
          },
          "metadata": {}
        }
      ],
      "source": [
        "plt.figure(figsize=(8, 5))\n",
        "sns.boxplot(train_df['Age'])\n",
        "\n",
        "plt.title('Age')\n",
        "\n",
        "plt.show()"
      ]
    },
    {
      "cell_type": "markdown",
      "metadata": {
        "id": "JShptzkkP7hU"
      },
      "source": [
        "Мужчин значительно больше"
      ]
    },
    {
      "cell_type": "code",
      "execution_count": 25,
      "metadata": {
        "colab": {
          "base_uri": "https://localhost:8080/",
          "height": 487
        },
        "id": "hwAF2GjcPwhg",
        "outputId": "102f2c05-c380-4339-d52e-3dc6d37588bf"
      },
      "outputs": [
        {
          "output_type": "display_data",
          "data": {
            "text/plain": [
              "<Figure size 800x500 with 1 Axes>"
            ],
            "image/png": "[encoded data removed]"
          },
          "metadata": {}
        }
      ],
      "source": [
        "plt.figure(figsize=(8, 5))\n",
        "sns.histplot(train_df['Sex'])\n",
        "\n",
        "plt.title('Sex')\n",
        "\n",
        "plt.show()"
      ]
    },
    {
      "cell_type": "markdown",
      "metadata": {
        "id": "21IMr0wGQJOq"
      },
      "source": [
        "Больше всего пассажиров 3 класса"
      ]
    },
    {
      "cell_type": "code",
      "execution_count": 26,
      "metadata": {
        "colab": {
          "base_uri": "https://localhost:8080/",
          "height": 487
        },
        "id": "NKiLEhAOQDSV",
        "outputId": "3de45335-4ff2-4bee-db7d-470eba946357"
      },
      "outputs": [
        {
          "output_type": "display_data",
          "data": {
            "text/plain": [
              "<Figure size 800x500 with 1 Axes>"
            ],
            "image/png": "[encoded data removed]"
          },
          "metadata": {}
        }
      ],
      "source": [
        "plt.figure(figsize=(8, 5))\n",
        "sns.histplot(train_df['Pclass'])\n",
        "\n",
        "plt.title('Pclass')\n",
        "\n",
        "plt.show()"
      ]
    },
    {
      "cell_type": "markdown",
      "metadata": {
        "id": "w1ZVa8HNQOEl"
      },
      "source": [
        "По рассмотренным признакам можно сделать следующие предположения:\n",
        "\n",
        "1.  Пол: хотя женщин меньше половины от всех пассажиров, ожидается, что их вероятность выживания будет выше, поэтому среди выживших должно быть больше женщин, чем мужчин, несмотря на то, что мужчин примерно вдвое больше.\n",
        "\n",
        "2.  Класс билета: большинство пассажиров относится к третьему классу, поэтому предполагается, что наибольшая смертность будет среди пассажиров с самыми дешевыми билетами.\n",
        "\n",
        "3.  Возраст: средний возраст составляет около 30 лет; вероятно, возраст не окажет решающего влияния на выживание, но всё же внесёт определённый вклад."
      ]
    },
    {
      "cell_type": "markdown",
      "metadata": {
        "id": "w3hMi6e9TbgL"
      },
      "source": [
        "Выделим целевую переменную из датасета для дальнейшего моделирования."
      ]
    },
    {
      "cell_type": "code",
      "execution_count": 27,
      "metadata": {
        "id": "ZkPxIDd7TQY6"
      },
      "outputs": [],
      "source": [
        "y_train = train_df['Survived']\n",
        "X_train = train_df.drop('Survived', axis=1)"
      ]
    },
    {
      "cell_type": "markdown",
      "metadata": {
        "id": "jbqQmR53T267"
      },
      "source": [
        "Категориальные признаки оставим для автоматической обработки моделью CatBoost, а числовые признаки подвергнем масштабированию."
      ]
    },
    {
      "cell_type": "code",
      "execution_count": 28,
      "metadata": {
        "id": "kOIRgvs5UbKj"
      },
      "outputs": [],
      "source": [
        "numeric_cols = X_train.select_dtypes(include=['int64', 'float64']).columns.tolist()"
      ]
    },
    {
      "cell_type": "code",
      "execution_count": 29,
      "metadata": {
        "id": "sXV5UEngUPcS"
      },
      "outputs": [],
      "source": [
        "scaler = StandardScaler()\n",
        "data_scaler = scaler.fit(X_train[numeric_cols])\n",
        "X_train[numeric_cols] = data_scaler.transform(X_train[numeric_cols])\n",
        "test_df[numeric_cols] = data_scaler.transform(test_df[numeric_cols])"
      ]
    },
    {
      "cell_type": "markdown",
      "metadata": {
        "id": "bUvK2IpwU5D9"
      },
      "source": [
        "Дисбаланс классов в данных не является значительным."
      ]
    },
    {
      "cell_type": "code",
      "execution_count": 30,
      "metadata": {
        "colab": {
          "base_uri": "https://localhost:8080/",
          "height": 178
        },
        "id": "J8kOREyuU5Uj",
        "outputId": "5e14530b-81d6-4185-ed74-9173674d2507"
      },
      "outputs": [
        {
          "output_type": "execute_result",
          "data": {
            "text/plain": [
              "Survived\n",
              "0    549\n",
              "1    342\n",
              "Name: count, dtype: int64"
            ],
            "text/html": [
              "<div>\n",
              "<style scoped>\n",
              "    .dataframe tbody tr th:only-of-type {\n",
              "        vertical-align: middle;\n",
              "    }\n",
              "\n",
              "    .dataframe tbody tr th {\n",
              "        vertical-align: top;\n",
              "    }\n",
              "\n",
              "    .dataframe thead th {\n",
              "        text-align: right;\n",
              "    }\n",
              "</style>\n",
              "<table border=\"1\" class=\"dataframe\">\n",
              "  <thead>\n",
              "    <tr style=\"text-align: right;\">\n",
              "      <th></th>\n",
              "      <th>count</th>\n",
              "    </tr>\n",
              "    <tr>\n",
              "      <th>Survived</th>\n",
              "      <th></th>\n",
              "    </tr>\n",
              "  </thead>\n",
              "  <tbody>\n",
              "    <tr>\n",
              "      <th>0</th>\n",
              "      <td>549</td>\n",
              "    </tr>\n",
              "    <tr>\n",
              "      <th>1</th>\n",
              "      <td>342</td>\n",
              "    </tr>\n",
              "  </tbody>\n",
              "</table>\n",
              "</div><br><label><b>dtype:</b> int64</label>"
            ]
          },
          "metadata": {},
          "execution_count": 30
        }
      ],
      "source": [
        "y_train.value_counts()"
      ]
    },
    {
      "cell_type": "markdown",
      "metadata": {
        "id": "ePjNYbsSXS_7"
      },
      "source": [
        "2.Анализ и построение модели"
      ]
    },
    {
      "cell_type": "markdown",
      "metadata": {
        "id": "VXq_XuFFVCPD"
      },
      "source": [
        "Объём данных небольшой, и CatBoost хорошо справляется даже без настройки гиперпараметров, поэтому я не буду выделять отдельный валидационный набор. Модель CatBoost выбрана, поскольку она эффективно работает с категориальными признаками."
      ]
    },
    {
      "cell_type": "code",
      "execution_count": 31,
      "metadata": {
        "colab": {
          "base_uri": "https://localhost:8080/",
          "height": 1000,
          "referenced_widgets": [
            "7306f355c7d7479ab59dd6143b8e94be"
          ]
        },
        "id": "g-GeKXDlX8wl",
        "outputId": "d9708249-2d05-4990-a3a6-3fa3b4e26917"
      },
      "outputs": [
        {
          "output_type": "display_data",
          "data": {
            "text/plain": [
              "MetricVisualizer(layout=Layout(align_self='stretch', height='500px'))"
            ],
            "application/vnd.jupyter.widget-view+json": {
              "version_major": 2,
              "version_minor": 0,
              "model_id": "7306f355c7d7479ab59dd6143b8e94be"
            }
          },
          "metadata": {}
        },
        {
          "output_type": "stream",
          "name": "stdout",
          "text": [
            "Learning rate set to 0.030798\n",
            "0:\tlearn: 0.6740783\ttest: 0.6751030\tbest: 0.6751030 (0)\ttotal: 53.8ms\tremaining: 53.7s\n",
            "1:\tlearn: 0.6632958\ttest: 0.6643180\tbest: 0.6643180 (1)\ttotal: 56.5ms\tremaining: 28.2s\n",
            "2:\tlearn: 0.6439020\ttest: 0.6448807\tbest: 0.6448807 (2)\ttotal: 60.8ms\tremaining: 20.2s\n",
            "3:\tlearn: 0.6309660\ttest: 0.6321661\tbest: 0.6321661 (3)\ttotal: 65.5ms\tremaining: 16.3s\n",
            "4:\tlearn: 0.6180129\ttest: 0.6193504\tbest: 0.6193504 (4)\ttotal: 70.8ms\tremaining: 14.1s\n",
            "5:\tlearn: 0.6052228\ttest: 0.6060130\tbest: 0.6060130 (5)\ttotal: 75.2ms\tremaining: 12.5s\n",
            "6:\tlearn: 0.5921717\ttest: 0.5929005\tbest: 0.5929005 (6)\ttotal: 77.8ms\tremaining: 11s\n",
            "7:\tlearn: 0.5779192\ttest: 0.5785935\tbest: 0.5785935 (7)\ttotal: 83.1ms\tremaining: 10.3s\n",
            "8:\tlearn: 0.5659270\ttest: 0.5655320\tbest: 0.5655320 (8)\ttotal: 89.1ms\tremaining: 9.81s\n",
            "9:\tlearn: 0.5544542\ttest: 0.5533436\tbest: 0.5533436 (9)\ttotal: 94.1ms\tremaining: 9.32s\n",
            "10:\tlearn: 0.5446867\ttest: 0.5435459\tbest: 0.5435459 (10)\ttotal: 97.8ms\tremaining: 8.79s\n",
            "11:\tlearn: 0.5348986\ttest: 0.5333520\tbest: 0.5333520 (11)\ttotal: 102ms\tremaining: 8.39s\n",
            "12:\tlearn: 0.5279680\ttest: 0.5263377\tbest: 0.5263377 (12)\ttotal: 105ms\tremaining: 7.93s\n",
            "13:\tlearn: 0.5208852\ttest: 0.5192352\tbest: 0.5192352 (13)\ttotal: 108ms\tremaining: 7.63s\n",
            "14:\tlearn: 0.5140181\ttest: 0.5123337\tbest: 0.5123337 (14)\ttotal: 112ms\tremaining: 7.35s\n",
            "15:\tlearn: 0.5074223\ttest: 0.5050064\tbest: 0.5050064 (15)\ttotal: 116ms\tremaining: 7.11s\n",
            "16:\tlearn: 0.5002209\ttest: 0.4974383\tbest: 0.4974383 (16)\ttotal: 120ms\tremaining: 6.91s\n",
            "17:\tlearn: 0.4934869\ttest: 0.4896340\tbest: 0.4896340 (17)\ttotal: 124ms\tremaining: 6.79s\n",
            "18:\tlearn: 0.4880683\ttest: 0.4835820\tbest: 0.4835820 (18)\ttotal: 128ms\tremaining: 6.59s\n",
            "19:\tlearn: 0.4806170\ttest: 0.4761134\tbest: 0.4761134 (19)\ttotal: 131ms\tremaining: 6.43s\n",
            "20:\tlearn: 0.4749920\ttest: 0.4709961\tbest: 0.4709961 (20)\ttotal: 135ms\tremaining: 6.29s\n",
            "21:\tlearn: 0.4696964\ttest: 0.4653289\tbest: 0.4653289 (21)\ttotal: 139ms\tremaining: 6.17s\n",
            "22:\tlearn: 0.4666439\ttest: 0.4604500\tbest: 0.4604500 (22)\ttotal: 141ms\tremaining: 6s\n",
            "23:\tlearn: 0.4615238\ttest: 0.4550608\tbest: 0.4550608 (23)\ttotal: 145ms\tremaining: 5.91s\n",
            "24:\tlearn: 0.4571696\ttest: 0.4505234\tbest: 0.4505234 (24)\ttotal: 150ms\tremaining: 5.86s\n",
            "25:\tlearn: 0.4555362\ttest: 0.4489318\tbest: 0.4489318 (25)\ttotal: 152ms\tremaining: 5.7s\n",
            "26:\tlearn: 0.4540082\ttest: 0.4474441\tbest: 0.4474441 (26)\ttotal: 155ms\tremaining: 5.58s\n",
            "27:\tlearn: 0.4525788\ttest: 0.4460536\tbest: 0.4460536 (27)\ttotal: 158ms\tremaining: 5.48s\n",
            "28:\tlearn: 0.4487419\ttest: 0.4421622\tbest: 0.4421622 (28)\ttotal: 162ms\tremaining: 5.43s\n",
            "29:\tlearn: 0.4464583\ttest: 0.4392490\tbest: 0.4392490 (29)\ttotal: 166ms\tremaining: 5.37s\n",
            "30:\tlearn: 0.4444135\ttest: 0.4366379\tbest: 0.4366379 (30)\ttotal: 169ms\tremaining: 5.28s\n",
            "31:\tlearn: 0.4409647\ttest: 0.4325172\tbest: 0.4325172 (31)\ttotal: 172ms\tremaining: 5.22s\n",
            "32:\tlearn: 0.4370435\ttest: 0.4289507\tbest: 0.4289507 (32)\ttotal: 176ms\tremaining: 5.17s\n",
            "33:\tlearn: 0.4342343\ttest: 0.4203842\tbest: 0.4203842 (33)\ttotal: 180ms\tremaining: 5.1s\n",
            "34:\tlearn: 0.4336765\ttest: 0.4166508\tbest: 0.4166508 (34)\ttotal: 182ms\tremaining: 5.01s\n",
            "35:\tlearn: 0.4301704\ttest: 0.4071906\tbest: 0.4071906 (35)\ttotal: 185ms\tremaining: 4.95s\n",
            "36:\tlearn: 0.4279524\ttest: 0.3990138\tbest: 0.3990138 (36)\ttotal: 188ms\tremaining: 4.89s\n",
            "37:\tlearn: 0.4251256\ttest: 0.3912703\tbest: 0.3912703 (37)\ttotal: 194ms\tremaining: 4.92s\n",
            "38:\tlearn: 0.4227136\ttest: 0.3842785\tbest: 0.3842785 (38)\ttotal: 199ms\tremaining: 4.9s\n",
            "39:\tlearn: 0.4196499\ttest: 0.3812946\tbest: 0.3812946 (39)\ttotal: 202ms\tremaining: 4.85s\n",
            "40:\tlearn: 0.4169522\ttest: 0.3747428\tbest: 0.3747428 (40)\ttotal: 206ms\tremaining: 4.81s\n",
            "41:\tlearn: 0.4137518\ttest: 0.3685010\tbest: 0.3685010 (41)\ttotal: 209ms\tremaining: 4.78s\n",
            "42:\tlearn: 0.4126580\ttest: 0.3635456\tbest: 0.3635456 (42)\ttotal: 211ms\tremaining: 4.7s\n",
            "43:\tlearn: 0.4111359\ttest: 0.3597750\tbest: 0.3597750 (43)\ttotal: 215ms\tremaining: 4.66s\n",
            "44:\tlearn: 0.4088602\ttest: 0.3553247\tbest: 0.3553247 (44)\ttotal: 219ms\tremaining: 4.64s\n",
            "45:\tlearn: 0.4074191\ttest: 0.3495188\tbest: 0.3495188 (45)\ttotal: 222ms\tremaining: 4.6s\n",
            "46:\tlearn: 0.4059673\ttest: 0.3476597\tbest: 0.3476597 (46)\ttotal: 226ms\tremaining: 4.58s\n",
            "47:\tlearn: 0.4052946\ttest: 0.3449672\tbest: 0.3449672 (47)\ttotal: 228ms\tremaining: 4.52s\n",
            "48:\tlearn: 0.4037669\ttest: 0.3412629\tbest: 0.3412629 (48)\ttotal: 231ms\tremaining: 4.49s\n",
            "49:\tlearn: 0.4021671\ttest: 0.3385580\tbest: 0.3385580 (49)\ttotal: 235ms\tremaining: 4.46s\n",
            "50:\tlearn: 0.4005789\ttest: 0.3353604\tbest: 0.3353604 (50)\ttotal: 239ms\tremaining: 4.45s\n",
            "51:\tlearn: 0.3988904\ttest: 0.3329550\tbest: 0.3329550 (51)\ttotal: 243ms\tremaining: 4.42s\n",
            "52:\tlearn: 0.3976987\ttest: 0.3313701\tbest: 0.3313701 (52)\ttotal: 246ms\tremaining: 4.39s\n",
            "53:\tlearn: 0.3974083\ttest: 0.3311167\tbest: 0.3311167 (53)\ttotal: 249ms\tremaining: 4.36s\n",
            "54:\tlearn: 0.3957513\ttest: 0.3294880\tbest: 0.3294880 (54)\ttotal: 252ms\tremaining: 4.34s\n",
            "55:\tlearn: 0.3937330\ttest: 0.3245623\tbest: 0.3245623 (55)\ttotal: 257ms\tremaining: 4.33s\n",
            "56:\tlearn: 0.3929439\ttest: 0.3240214\tbest: 0.3240214 (56)\ttotal: 259ms\tremaining: 4.29s\n",
            "57:\tlearn: 0.3915638\ttest: 0.3212710\tbest: 0.3212710 (57)\ttotal: 263ms\tremaining: 4.27s\n",
            "58:\tlearn: 0.3897471\ttest: 0.3179778\tbest: 0.3179778 (58)\ttotal: 267ms\tremaining: 4.25s\n",
            "59:\tlearn: 0.3882470\ttest: 0.3144250\tbest: 0.3144250 (59)\ttotal: 271ms\tremaining: 4.24s\n",
            "60:\tlearn: 0.3873303\ttest: 0.3134894\tbest: 0.3134894 (60)\ttotal: 275ms\tremaining: 4.22s\n",
            "61:\tlearn: 0.3863710\ttest: 0.3129680\tbest: 0.3129680 (61)\ttotal: 278ms\tremaining: 4.21s\n",
            "62:\tlearn: 0.3852794\ttest: 0.3095472\tbest: 0.3095472 (62)\ttotal: 282ms\tremaining: 4.19s\n",
            "63:\tlearn: 0.3842269\ttest: 0.3063618\tbest: 0.3063618 (63)\ttotal: 286ms\tremaining: 4.18s\n",
            "64:\tlearn: 0.3828597\ttest: 0.3037319\tbest: 0.3037319 (64)\ttotal: 290ms\tremaining: 4.17s\n",
            "65:\tlearn: 0.3819550\ttest: 0.3029261\tbest: 0.3029261 (65)\ttotal: 294ms\tremaining: 4.16s\n",
            "66:\tlearn: 0.3803130\ttest: 0.2993480\tbest: 0.2993480 (66)\ttotal: 298ms\tremaining: 4.16s\n",
            "67:\tlearn: 0.3799861\ttest: 0.2991551\tbest: 0.2991551 (67)\ttotal: 301ms\tremaining: 4.12s\n",
            "68:\tlearn: 0.3790324\ttest: 0.2971427\tbest: 0.2971427 (68)\ttotal: 304ms\tremaining: 4.11s\n",
            "69:\tlearn: 0.3779466\ttest: 0.2960399\tbest: 0.2960399 (69)\ttotal: 308ms\tremaining: 4.1s\n",
            "70:\tlearn: 0.3771151\ttest: 0.2932769\tbest: 0.2932769 (70)\ttotal: 311ms\tremaining: 4.08s\n",
            "71:\tlearn: 0.3762591\ttest: 0.2913702\tbest: 0.2913702 (71)\ttotal: 316ms\tremaining: 4.07s\n",
            "72:\tlearn: 0.3760071\ttest: 0.2895782\tbest: 0.2895782 (72)\ttotal: 318ms\tremaining: 4.04s\n",
            "73:\tlearn: 0.3751870\ttest: 0.2876823\tbest: 0.2876823 (73)\ttotal: 322ms\tremaining: 4.03s\n",
            "74:\tlearn: 0.3745176\ttest: 0.2852353\tbest: 0.2852353 (74)\ttotal: 325ms\tremaining: 4.01s\n",
            "75:\tlearn: 0.3738780\ttest: 0.2838144\tbest: 0.2838144 (75)\ttotal: 329ms\tremaining: 4s\n",
            "76:\tlearn: 0.3729657\ttest: 0.2811954\tbest: 0.2811954 (76)\ttotal: 333ms\tremaining: 3.99s\n",
            "77:\tlearn: 0.3719118\ttest: 0.2800167\tbest: 0.2800167 (77)\ttotal: 337ms\tremaining: 3.98s\n",
            "78:\tlearn: 0.3711534\ttest: 0.2774691\tbest: 0.2774691 (78)\ttotal: 341ms\tremaining: 3.97s\n",
            "79:\tlearn: 0.3704177\ttest: 0.2769264\tbest: 0.2769264 (79)\ttotal: 344ms\tremaining: 3.95s\n",
            "80:\tlearn: 0.3695285\ttest: 0.2770818\tbest: 0.2769264 (79)\ttotal: 348ms\tremaining: 3.95s\n",
            "81:\tlearn: 0.3686505\ttest: 0.2761171\tbest: 0.2761171 (81)\ttotal: 352ms\tremaining: 3.94s\n",
            "82:\tlearn: 0.3680057\ttest: 0.2759773\tbest: 0.2759773 (82)\ttotal: 356ms\tremaining: 3.93s\n",
            "83:\tlearn: 0.3674375\ttest: 0.2755940\tbest: 0.2755940 (83)\ttotal: 360ms\tremaining: 3.93s\n",
            "84:\tlearn: 0.3670882\ttest: 0.2731713\tbest: 0.2731713 (84)\ttotal: 362ms\tremaining: 3.9s\n",
            "85:\tlearn: 0.3663229\ttest: 0.2729305\tbest: 0.2729305 (85)\ttotal: 366ms\tremaining: 3.89s\n",
            "86:\tlearn: 0.3654940\ttest: 0.2709729\tbest: 0.2709729 (86)\ttotal: 370ms\tremaining: 3.88s\n",
            "87:\tlearn: 0.3644028\ttest: 0.2696410\tbest: 0.2696410 (87)\ttotal: 373ms\tremaining: 3.87s\n",
            "88:\tlearn: 0.3636672\ttest: 0.2666420\tbest: 0.2666420 (88)\ttotal: 377ms\tremaining: 3.86s\n",
            "89:\tlearn: 0.3635460\ttest: 0.2665452\tbest: 0.2665452 (89)\ttotal: 380ms\tremaining: 3.84s\n",
            "90:\tlearn: 0.3631929\ttest: 0.2663866\tbest: 0.2663866 (90)\ttotal: 383ms\tremaining: 3.83s\n",
            "91:\tlearn: 0.3626670\ttest: 0.2660988\tbest: 0.2660988 (91)\ttotal: 389ms\tremaining: 3.84s\n",
            "92:\tlearn: 0.3615981\ttest: 0.2637462\tbest: 0.2637462 (92)\ttotal: 394ms\tremaining: 3.84s\n",
            "93:\tlearn: 0.3611644\ttest: 0.2635172\tbest: 0.2635172 (93)\ttotal: 397ms\tremaining: 3.83s\n",
            "94:\tlearn: 0.3607754\ttest: 0.2630374\tbest: 0.2630374 (94)\ttotal: 400ms\tremaining: 3.81s\n",
            "95:\tlearn: 0.3603414\ttest: 0.2610457\tbest: 0.2610457 (95)\ttotal: 404ms\tremaining: 3.81s\n",
            "96:\tlearn: 0.3600504\ttest: 0.2595800\tbest: 0.2595800 (96)\ttotal: 409ms\tremaining: 3.8s\n",
            "97:\tlearn: 0.3594053\ttest: 0.2592059\tbest: 0.2592059 (97)\ttotal: 412ms\tremaining: 3.79s\n",
            "98:\tlearn: 0.3590452\ttest: 0.2591974\tbest: 0.2591974 (98)\ttotal: 416ms\tremaining: 3.79s\n",
            "99:\tlearn: 0.3582691\ttest: 0.2587130\tbest: 0.2587130 (99)\ttotal: 420ms\tremaining: 3.78s\n",
            "100:\tlearn: 0.3574144\ttest: 0.2568052\tbest: 0.2568052 (100)\ttotal: 425ms\tremaining: 3.78s\n",
            "101:\tlearn: 0.3569718\ttest: 0.2558958\tbest: 0.2558958 (101)\ttotal: 428ms\tremaining: 3.77s\n",
            "102:\tlearn: 0.3565546\ttest: 0.2558497\tbest: 0.2558497 (102)\ttotal: 432ms\tremaining: 3.77s\n",
            "103:\tlearn: 0.3559710\ttest: 0.2557724\tbest: 0.2557724 (103)\ttotal: 435ms\tremaining: 3.75s\n",
            "104:\tlearn: 0.3552258\ttest: 0.2553528\tbest: 0.2553528 (104)\ttotal: 439ms\tremaining: 3.74s\n",
            "105:\tlearn: 0.3545027\ttest: 0.2549426\tbest: 0.2549426 (105)\ttotal: 441ms\tremaining: 3.72s\n",
            "106:\tlearn: 0.3544884\ttest: 0.2549158\tbest: 0.2549158 (106)\ttotal: 444ms\tremaining: 3.7s\n",
            "107:\tlearn: 0.3537757\ttest: 0.2529850\tbest: 0.2529850 (107)\ttotal: 447ms\tremaining: 3.69s\n",
            "108:\tlearn: 0.3537443\ttest: 0.2528697\tbest: 0.2528697 (108)\ttotal: 450ms\tremaining: 3.67s\n",
            "109:\tlearn: 0.3527375\ttest: 0.2523641\tbest: 0.2523641 (109)\ttotal: 453ms\tremaining: 3.67s\n",
            "110:\tlearn: 0.3520427\ttest: 0.2505105\tbest: 0.2505105 (110)\ttotal: 457ms\tremaining: 3.66s\n",
            "111:\tlearn: 0.3514746\ttest: 0.2502754\tbest: 0.2502754 (111)\ttotal: 462ms\tremaining: 3.66s\n",
            "112:\tlearn: 0.3508291\ttest: 0.2500643\tbest: 0.2500643 (112)\ttotal: 465ms\tremaining: 3.65s\n",
            "113:\tlearn: 0.3499928\ttest: 0.2484153\tbest: 0.2484153 (113)\ttotal: 469ms\tremaining: 3.64s\n",
            "114:\tlearn: 0.3496699\ttest: 0.2481152\tbest: 0.2481152 (114)\ttotal: 473ms\tremaining: 3.64s\n",
            "115:\tlearn: 0.3492699\ttest: 0.2473844\tbest: 0.2473844 (115)\ttotal: 477ms\tremaining: 3.63s\n",
            "116:\tlearn: 0.3490987\ttest: 0.2472544\tbest: 0.2472544 (116)\ttotal: 479ms\tremaining: 3.62s\n",
            "117:\tlearn: 0.3488155\ttest: 0.2471860\tbest: 0.2471860 (117)\ttotal: 483ms\tremaining: 3.61s\n",
            "118:\tlearn: 0.3480922\ttest: 0.2465499\tbest: 0.2465499 (118)\ttotal: 487ms\tremaining: 3.6s\n",
            "119:\tlearn: 0.3472776\ttest: 0.2461108\tbest: 0.2461108 (119)\ttotal: 491ms\tremaining: 3.6s\n",
            "120:\tlearn: 0.3466199\ttest: 0.2454248\tbest: 0.2454248 (120)\ttotal: 494ms\tremaining: 3.59s\n",
            "121:\tlearn: 0.3463349\ttest: 0.2451075\tbest: 0.2451075 (121)\ttotal: 498ms\tremaining: 3.58s\n",
            "122:\tlearn: 0.3455184\ttest: 0.2437831\tbest: 0.2437831 (122)\ttotal: 502ms\tremaining: 3.58s\n",
            "123:\tlearn: 0.3449625\ttest: 0.2434701\tbest: 0.2434701 (123)\ttotal: 506ms\tremaining: 3.58s\n",
            "124:\tlearn: 0.3445736\ttest: 0.2432741\tbest: 0.2432741 (124)\ttotal: 509ms\tremaining: 3.56s\n",
            "125:\tlearn: 0.3443410\ttest: 0.2431818\tbest: 0.2431818 (125)\ttotal: 513ms\tremaining: 3.56s\n",
            "126:\tlearn: 0.3440474\ttest: 0.2430558\tbest: 0.2430558 (126)\ttotal: 516ms\tremaining: 3.55s\n",
            "127:\tlearn: 0.3438164\ttest: 0.2429155\tbest: 0.2429155 (127)\ttotal: 520ms\tremaining: 3.54s\n",
            "128:\tlearn: 0.3437770\ttest: 0.2429352\tbest: 0.2429155 (127)\ttotal: 523ms\tremaining: 3.53s\n",
            "129:\tlearn: 0.3437766\ttest: 0.2429345\tbest: 0.2429155 (127)\ttotal: 524ms\tremaining: 3.51s\n",
            "130:\tlearn: 0.3436900\ttest: 0.2428838\tbest: 0.2428838 (130)\ttotal: 527ms\tremaining: 3.5s\n",
            "131:\tlearn: 0.3432866\ttest: 0.2428968\tbest: 0.2428838 (130)\ttotal: 531ms\tremaining: 3.49s\n",
            "132:\tlearn: 0.3426466\ttest: 0.2425207\tbest: 0.2425207 (132)\ttotal: 535ms\tremaining: 3.49s\n",
            "133:\tlearn: 0.3422366\ttest: 0.2423462\tbest: 0.2423462 (133)\ttotal: 539ms\tremaining: 3.48s\n",
            "134:\tlearn: 0.3419821\ttest: 0.2422859\tbest: 0.2422859 (134)\ttotal: 542ms\tremaining: 3.48s\n",
            "135:\tlearn: 0.3417214\ttest: 0.2421941\tbest: 0.2421941 (135)\ttotal: 547ms\tremaining: 3.48s\n",
            "136:\tlearn: 0.3412051\ttest: 0.2421592\tbest: 0.2421592 (136)\ttotal: 552ms\tremaining: 3.48s\n",
            "137:\tlearn: 0.3411689\ttest: 0.2421086\tbest: 0.2421086 (137)\ttotal: 554ms\tremaining: 3.46s\n",
            "138:\tlearn: 0.3406957\ttest: 0.2411603\tbest: 0.2411603 (138)\ttotal: 558ms\tremaining: 3.46s\n",
            "139:\tlearn: 0.3405437\ttest: 0.2411251\tbest: 0.2411251 (139)\ttotal: 561ms\tremaining: 3.45s\n",
            "140:\tlearn: 0.3402057\ttest: 0.2402520\tbest: 0.2402520 (140)\ttotal: 569ms\tremaining: 3.47s\n",
            "141:\tlearn: 0.3397075\ttest: 0.2400079\tbest: 0.2400079 (141)\ttotal: 575ms\tremaining: 3.47s\n",
            "142:\tlearn: 0.3396992\ttest: 0.2399999\tbest: 0.2399999 (142)\ttotal: 577ms\tremaining: 3.46s\n",
            "143:\tlearn: 0.3395522\ttest: 0.2398185\tbest: 0.2398185 (143)\ttotal: 581ms\tremaining: 3.46s\n",
            "144:\tlearn: 0.3389325\ttest: 0.2395898\tbest: 0.2395898 (144)\ttotal: 588ms\tremaining: 3.47s\n",
            "145:\tlearn: 0.3388167\ttest: 0.2394930\tbest: 0.2394930 (145)\ttotal: 598ms\tremaining: 3.5s\n",
            "146:\tlearn: 0.3379645\ttest: 0.2390189\tbest: 0.2390189 (146)\ttotal: 610ms\tremaining: 3.54s\n",
            "147:\tlearn: 0.3378708\ttest: 0.2389165\tbest: 0.2389165 (147)\ttotal: 617ms\tremaining: 3.55s\n",
            "148:\tlearn: 0.3373722\ttest: 0.2389430\tbest: 0.2389165 (147)\ttotal: 621ms\tremaining: 3.55s\n",
            "149:\tlearn: 0.3373542\ttest: 0.2384347\tbest: 0.2384347 (149)\ttotal: 623ms\tremaining: 3.53s\n",
            "150:\tlearn: 0.3370692\ttest: 0.2374637\tbest: 0.2374637 (150)\ttotal: 627ms\tremaining: 3.52s\n",
            "151:\tlearn: 0.3370311\ttest: 0.2374770\tbest: 0.2374637 (150)\ttotal: 629ms\tremaining: 3.51s\n",
            "152:\tlearn: 0.3364855\ttest: 0.2361858\tbest: 0.2361858 (152)\ttotal: 633ms\tremaining: 3.5s\n",
            "153:\tlearn: 0.3359102\ttest: 0.2360714\tbest: 0.2360714 (153)\ttotal: 637ms\tremaining: 3.5s\n",
            "154:\tlearn: 0.3355018\ttest: 0.2348008\tbest: 0.2348008 (154)\ttotal: 640ms\tremaining: 3.49s\n",
            "155:\tlearn: 0.3352396\ttest: 0.2347210\tbest: 0.2347210 (155)\ttotal: 644ms\tremaining: 3.48s\n",
            "156:\tlearn: 0.3352094\ttest: 0.2347499\tbest: 0.2347210 (155)\ttotal: 646ms\tremaining: 3.47s\n",
            "157:\tlearn: 0.3346353\ttest: 0.2344595\tbest: 0.2344595 (157)\ttotal: 649ms\tremaining: 3.46s\n",
            "158:\tlearn: 0.3345710\ttest: 0.2342334\tbest: 0.2342334 (158)\ttotal: 653ms\tremaining: 3.46s\n",
            "159:\tlearn: 0.3338676\ttest: 0.2340861\tbest: 0.2340861 (159)\ttotal: 659ms\tremaining: 3.46s\n",
            "160:\tlearn: 0.3338676\ttest: 0.2340860\tbest: 0.2340860 (160)\ttotal: 660ms\tremaining: 3.44s\n",
            "161:\tlearn: 0.3334738\ttest: 0.2338574\tbest: 0.2338574 (161)\ttotal: 664ms\tremaining: 3.43s\n",
            "162:\tlearn: 0.3331458\ttest: 0.2335339\tbest: 0.2335339 (162)\ttotal: 667ms\tremaining: 3.43s\n",
            "163:\tlearn: 0.3327148\ttest: 0.2332657\tbest: 0.2332657 (163)\ttotal: 672ms\tremaining: 3.42s\n",
            "164:\tlearn: 0.3325777\ttest: 0.2332138\tbest: 0.2332138 (164)\ttotal: 675ms\tremaining: 3.42s\n",
            "165:\tlearn: 0.3325625\ttest: 0.2332166\tbest: 0.2332138 (164)\ttotal: 677ms\tremaining: 3.4s\n",
            "166:\tlearn: 0.3322456\ttest: 0.2330858\tbest: 0.2330858 (166)\ttotal: 681ms\tremaining: 3.4s\n",
            "167:\tlearn: 0.3320096\ttest: 0.2331303\tbest: 0.2330858 (166)\ttotal: 685ms\tremaining: 3.39s\n",
            "168:\tlearn: 0.3317836\ttest: 0.2330546\tbest: 0.2330546 (168)\ttotal: 688ms\tremaining: 3.38s\n",
            "169:\tlearn: 0.3311422\ttest: 0.2329422\tbest: 0.2329422 (169)\ttotal: 692ms\tremaining: 3.38s\n",
            "170:\tlearn: 0.3306397\ttest: 0.2324044\tbest: 0.2324044 (170)\ttotal: 696ms\tremaining: 3.37s\n",
            "171:\tlearn: 0.3300885\ttest: 0.2321350\tbest: 0.2321350 (171)\ttotal: 699ms\tremaining: 3.37s\n",
            "172:\tlearn: 0.3299237\ttest: 0.2323077\tbest: 0.2321350 (171)\ttotal: 703ms\tremaining: 3.36s\n",
            "173:\tlearn: 0.3297692\ttest: 0.2322015\tbest: 0.2321350 (171)\ttotal: 706ms\tremaining: 3.35s\n",
            "174:\tlearn: 0.3293572\ttest: 0.2320621\tbest: 0.2320621 (174)\ttotal: 710ms\tremaining: 3.35s\n",
            "175:\tlearn: 0.3291330\ttest: 0.2318026\tbest: 0.2318026 (175)\ttotal: 715ms\tremaining: 3.35s\n",
            "176:\tlearn: 0.3286980\ttest: 0.2316191\tbest: 0.2316191 (176)\ttotal: 719ms\tremaining: 3.34s\n",
            "177:\tlearn: 0.3284821\ttest: 0.2312619\tbest: 0.2312619 (177)\ttotal: 722ms\tremaining: 3.33s\n",
            "178:\tlearn: 0.3279733\ttest: 0.2310821\tbest: 0.2310821 (178)\ttotal: 726ms\tremaining: 3.33s\n",
            "179:\tlearn: 0.3278007\ttest: 0.2306159\tbest: 0.2306159 (179)\ttotal: 729ms\tremaining: 3.32s\n",
            "180:\tlearn: 0.3274828\ttest: 0.2304231\tbest: 0.2304231 (180)\ttotal: 733ms\tremaining: 3.32s\n",
            "181:\tlearn: 0.3272162\ttest: 0.2302986\tbest: 0.2302986 (181)\ttotal: 738ms\tremaining: 3.31s\n",
            "182:\tlearn: 0.3270313\ttest: 0.2300972\tbest: 0.2300972 (182)\ttotal: 742ms\tremaining: 3.31s\n",
            "183:\tlearn: 0.3268636\ttest: 0.2301496\tbest: 0.2300972 (182)\ttotal: 746ms\tremaining: 3.31s\n",
            "184:\tlearn: 0.3268636\ttest: 0.2301496\tbest: 0.2300972 (182)\ttotal: 747ms\tremaining: 3.29s\n",
            "185:\tlearn: 0.3268308\ttest: 0.2301200\tbest: 0.2300972 (182)\ttotal: 749ms\tremaining: 3.28s\n",
            "186:\tlearn: 0.3267389\ttest: 0.2299876\tbest: 0.2299876 (186)\ttotal: 752ms\tremaining: 3.27s\n",
            "187:\tlearn: 0.3267070\ttest: 0.2299588\tbest: 0.2299588 (187)\ttotal: 755ms\tremaining: 3.26s\n",
            "188:\tlearn: 0.3266611\ttest: 0.2299227\tbest: 0.2299227 (188)\ttotal: 757ms\tremaining: 3.25s\n",
            "189:\tlearn: 0.3261489\ttest: 0.2294533\tbest: 0.2294533 (189)\ttotal: 761ms\tremaining: 3.24s\n",
            "190:\tlearn: 0.3261022\ttest: 0.2294443\tbest: 0.2294443 (190)\ttotal: 763ms\tremaining: 3.23s\n",
            "191:\tlearn: 0.3260048\ttest: 0.2294241\tbest: 0.2294241 (191)\ttotal: 765ms\tremaining: 3.22s\n",
            "192:\tlearn: 0.3257493\ttest: 0.2289694\tbest: 0.2289694 (192)\ttotal: 769ms\tremaining: 3.22s\n",
            "193:\tlearn: 0.3250568\ttest: 0.2283302\tbest: 0.2283302 (193)\ttotal: 774ms\tremaining: 3.21s\n",
            "194:\tlearn: 0.3248607\ttest: 0.2281402\tbest: 0.2281402 (194)\ttotal: 779ms\tremaining: 3.21s\n",
            "195:\tlearn: 0.3246809\ttest: 0.2281253\tbest: 0.2281253 (195)\ttotal: 787ms\tremaining: 3.23s\n",
            "196:\tlearn: 0.3245661\ttest: 0.2281017\tbest: 0.2281017 (196)\ttotal: 791ms\tremaining: 3.22s\n",
            "197:\tlearn: 0.3245517\ttest: 0.2281199\tbest: 0.2281017 (196)\ttotal: 795ms\tremaining: 3.22s\n",
            "198:\tlearn: 0.3240324\ttest: 0.2280056\tbest: 0.2280056 (198)\ttotal: 800ms\tremaining: 3.22s\n",
            "199:\tlearn: 0.3234321\ttest: 0.2276758\tbest: 0.2276758 (199)\ttotal: 808ms\tremaining: 3.23s\n",
            "200:\tlearn: 0.3229004\ttest: 0.2269407\tbest: 0.2269407 (200)\ttotal: 812ms\tremaining: 3.23s\n",
            "201:\tlearn: 0.3225371\ttest: 0.2267580\tbest: 0.2267580 (201)\ttotal: 816ms\tremaining: 3.22s\n",
            "202:\tlearn: 0.3221561\ttest: 0.2266351\tbest: 0.2266351 (202)\ttotal: 820ms\tremaining: 3.22s\n",
            "203:\tlearn: 0.3220839\ttest: 0.2265796\tbest: 0.2265796 (203)\ttotal: 823ms\tremaining: 3.21s\n",
            "204:\tlearn: 0.3217557\ttest: 0.2264499\tbest: 0.2264499 (204)\ttotal: 828ms\tremaining: 3.21s\n",
            "205:\tlearn: 0.3215782\ttest: 0.2262198\tbest: 0.2262198 (205)\ttotal: 831ms\tremaining: 3.2s\n",
            "206:\tlearn: 0.3212201\ttest: 0.2262118\tbest: 0.2262118 (206)\ttotal: 836ms\tremaining: 3.2s\n",
            "207:\tlearn: 0.3209079\ttest: 0.2267413\tbest: 0.2262118 (206)\ttotal: 839ms\tremaining: 3.2s\n",
            "208:\tlearn: 0.3206963\ttest: 0.2264502\tbest: 0.2262118 (206)\ttotal: 844ms\tremaining: 3.19s\n",
            "209:\tlearn: 0.3205866\ttest: 0.2265816\tbest: 0.2262118 (206)\ttotal: 847ms\tremaining: 3.19s\n",
            "210:\tlearn: 0.3205430\ttest: 0.2265455\tbest: 0.2262118 (206)\ttotal: 849ms\tremaining: 3.17s\n",
            "211:\tlearn: 0.3203902\ttest: 0.2267319\tbest: 0.2262118 (206)\ttotal: 853ms\tremaining: 3.17s\n",
            "212:\tlearn: 0.3195976\ttest: 0.2264174\tbest: 0.2262118 (206)\ttotal: 857ms\tremaining: 3.17s\n",
            "213:\tlearn: 0.3188509\ttest: 0.2262079\tbest: 0.2262079 (213)\ttotal: 861ms\tremaining: 3.16s\n",
            "214:\tlearn: 0.3185361\ttest: 0.2236662\tbest: 0.2236662 (214)\ttotal: 865ms\tremaining: 3.16s\n",
            "215:\tlearn: 0.3184831\ttest: 0.2236599\tbest: 0.2236599 (215)\ttotal: 868ms\tremaining: 3.15s\n",
            "216:\tlearn: 0.3178963\ttest: 0.2235268\tbest: 0.2235268 (216)\ttotal: 872ms\tremaining: 3.15s\n",
            "217:\tlearn: 0.3178721\ttest: 0.2235181\tbest: 0.2235181 (217)\ttotal: 874ms\tremaining: 3.14s\n",
            "218:\tlearn: 0.3174895\ttest: 0.2225235\tbest: 0.2225235 (218)\ttotal: 878ms\tremaining: 3.13s\n",
            "219:\tlearn: 0.3167015\ttest: 0.2224241\tbest: 0.2224241 (219)\ttotal: 882ms\tremaining: 3.13s\n",
            "220:\tlearn: 0.3166659\ttest: 0.2224207\tbest: 0.2224207 (220)\ttotal: 883ms\tremaining: 3.11s\n",
            "221:\tlearn: 0.3165398\ttest: 0.2222759\tbest: 0.2222759 (221)\ttotal: 886ms\tremaining: 3.1s\n",
            "222:\tlearn: 0.3162579\ttest: 0.2217894\tbest: 0.2217894 (222)\ttotal: 889ms\tremaining: 3.1s\n",
            "223:\tlearn: 0.3158508\ttest: 0.2216621\tbest: 0.2216621 (223)\ttotal: 893ms\tremaining: 3.09s\n",
            "224:\tlearn: 0.3158254\ttest: 0.2216612\tbest: 0.2216612 (224)\ttotal: 896ms\tremaining: 3.08s\n",
            "225:\tlearn: 0.3153280\ttest: 0.2215037\tbest: 0.2215037 (225)\ttotal: 900ms\tremaining: 3.08s\n",
            "226:\tlearn: 0.3151036\ttest: 0.2215635\tbest: 0.2215037 (225)\ttotal: 904ms\tremaining: 3.08s\n",
            "227:\tlearn: 0.3150435\ttest: 0.2214303\tbest: 0.2214303 (227)\ttotal: 908ms\tremaining: 3.07s\n",
            "228:\tlearn: 0.3149221\ttest: 0.2209831\tbest: 0.2209831 (228)\ttotal: 911ms\tremaining: 3.07s\n",
            "229:\tlearn: 0.3147781\ttest: 0.2209234\tbest: 0.2209234 (229)\ttotal: 915ms\tremaining: 3.06s\n",
            "230:\tlearn: 0.3147241\ttest: 0.2208596\tbest: 0.2208596 (230)\ttotal: 919ms\tremaining: 3.06s\n",
            "231:\tlearn: 0.3147240\ttest: 0.2208445\tbest: 0.2208445 (231)\ttotal: 921ms\tremaining: 3.05s\n",
            "232:\tlearn: 0.3144460\ttest: 0.2205698\tbest: 0.2205698 (232)\ttotal: 925ms\tremaining: 3.04s\n",
            "233:\tlearn: 0.3143871\ttest: 0.2205133\tbest: 0.2205133 (233)\ttotal: 928ms\tremaining: 3.04s\n",
            "234:\tlearn: 0.3139474\ttest: 0.2202123\tbest: 0.2202123 (234)\ttotal: 932ms\tremaining: 3.03s\n",
            "235:\tlearn: 0.3135073\ttest: 0.2199523\tbest: 0.2199523 (235)\ttotal: 936ms\tremaining: 3.03s\n",
            "236:\tlearn: 0.3132013\ttest: 0.2200015\tbest: 0.2199523 (235)\ttotal: 940ms\tremaining: 3.02s\n",
            "237:\tlearn: 0.3131764\ttest: 0.2199790\tbest: 0.2199523 (235)\ttotal: 942ms\tremaining: 3.01s\n",
            "238:\tlearn: 0.3128875\ttest: 0.2199104\tbest: 0.2199104 (238)\ttotal: 945ms\tremaining: 3.01s\n",
            "239:\tlearn: 0.3127023\ttest: 0.2198768\tbest: 0.2198768 (239)\ttotal: 950ms\tremaining: 3.01s\n",
            "240:\tlearn: 0.3121159\ttest: 0.2194663\tbest: 0.2194663 (240)\ttotal: 961ms\tremaining: 3.02s\n",
            "241:\tlearn: 0.3119032\ttest: 0.2195303\tbest: 0.2194663 (240)\ttotal: 968ms\tremaining: 3.03s\n",
            "242:\tlearn: 0.3118220\ttest: 0.2191274\tbest: 0.2191274 (242)\ttotal: 972ms\tremaining: 3.03s\n",
            "243:\tlearn: 0.3117890\ttest: 0.2191104\tbest: 0.2191104 (243)\ttotal: 974ms\tremaining: 3.02s\n",
            "244:\tlearn: 0.3116507\ttest: 0.2190370\tbest: 0.2190370 (244)\ttotal: 978ms\tremaining: 3.01s\n",
            "245:\tlearn: 0.3112858\ttest: 0.2181540\tbest: 0.2181540 (245)\ttotal: 985ms\tremaining: 3.02s\n",
            "246:\tlearn: 0.3108581\ttest: 0.2179388\tbest: 0.2179388 (246)\ttotal: 989ms\tremaining: 3.02s\n",
            "247:\tlearn: 0.3106546\ttest: 0.2174806\tbest: 0.2174806 (247)\ttotal: 993ms\tremaining: 3.01s\n",
            "248:\tlearn: 0.3103791\ttest: 0.2172667\tbest: 0.2172667 (248)\ttotal: 998ms\tremaining: 3.01s\n",
            "249:\tlearn: 0.3101892\ttest: 0.2172656\tbest: 0.2172656 (249)\ttotal: 1s\tremaining: 3s\n",
            "250:\tlearn: 0.3100518\ttest: 0.2167417\tbest: 0.2167417 (250)\ttotal: 1s\tremaining: 3s\n",
            "251:\tlearn: 0.3093073\ttest: 0.2164659\tbest: 0.2164659 (251)\ttotal: 1.01s\tremaining: 3s\n",
            "252:\tlearn: 0.3086787\ttest: 0.2158683\tbest: 0.2158683 (252)\ttotal: 1.01s\tremaining: 2.99s\n",
            "253:\tlearn: 0.3086470\ttest: 0.2158005\tbest: 0.2158005 (253)\ttotal: 1.02s\tremaining: 2.99s\n",
            "254:\tlearn: 0.3083985\ttest: 0.2155643\tbest: 0.2155643 (254)\ttotal: 1.02s\tremaining: 2.98s\n",
            "255:\tlearn: 0.3083786\ttest: 0.2155467\tbest: 0.2155467 (255)\ttotal: 1.02s\tremaining: 2.97s\n",
            "256:\tlearn: 0.3081413\ttest: 0.2154595\tbest: 0.2154595 (256)\ttotal: 1.03s\tremaining: 2.97s\n",
            "257:\tlearn: 0.3079144\ttest: 0.2153415\tbest: 0.2153415 (257)\ttotal: 1.03s\tremaining: 2.96s\n",
            "258:\tlearn: 0.3076713\ttest: 0.2153515\tbest: 0.2153415 (257)\ttotal: 1.03s\tremaining: 2.96s\n",
            "259:\tlearn: 0.3074502\ttest: 0.2152224\tbest: 0.2152224 (259)\ttotal: 1.04s\tremaining: 2.96s\n",
            "260:\tlearn: 0.3070127\ttest: 0.2147594\tbest: 0.2147594 (260)\ttotal: 1.04s\tremaining: 2.95s\n",
            "261:\tlearn: 0.3067700\ttest: 0.2145758\tbest: 0.2145758 (261)\ttotal: 1.05s\tremaining: 2.96s\n",
            "262:\tlearn: 0.3065937\ttest: 0.2144969\tbest: 0.2144969 (262)\ttotal: 1.05s\tremaining: 2.95s\n",
            "263:\tlearn: 0.3062768\ttest: 0.2143300\tbest: 0.2143300 (263)\ttotal: 1.06s\tremaining: 2.95s\n",
            "264:\tlearn: 0.3061895\ttest: 0.2142423\tbest: 0.2142423 (264)\ttotal: 1.06s\tremaining: 2.94s\n",
            "265:\tlearn: 0.3056126\ttest: 0.2141729\tbest: 0.2141729 (265)\ttotal: 1.06s\tremaining: 2.94s\n",
            "266:\tlearn: 0.3054893\ttest: 0.2140866\tbest: 0.2140866 (266)\ttotal: 1.07s\tremaining: 2.94s\n",
            "267:\tlearn: 0.3054717\ttest: 0.2140512\tbest: 0.2140512 (267)\ttotal: 1.07s\tremaining: 2.93s\n",
            "268:\tlearn: 0.3053303\ttest: 0.2139840\tbest: 0.2139840 (268)\ttotal: 1.07s\tremaining: 2.92s\n",
            "269:\tlearn: 0.3051902\ttest: 0.2137495\tbest: 0.2137495 (269)\ttotal: 1.08s\tremaining: 2.92s\n",
            "270:\tlearn: 0.3051748\ttest: 0.2137354\tbest: 0.2137354 (270)\ttotal: 1.08s\tremaining: 2.91s\n",
            "271:\tlearn: 0.3045820\ttest: 0.2134529\tbest: 0.2134529 (271)\ttotal: 1.08s\tremaining: 2.9s\n",
            "272:\tlearn: 0.3042414\ttest: 0.2130643\tbest: 0.2130643 (272)\ttotal: 1.09s\tremaining: 2.9s\n",
            "273:\tlearn: 0.3038718\ttest: 0.2127620\tbest: 0.2127620 (273)\ttotal: 1.09s\tremaining: 2.89s\n",
            "274:\tlearn: 0.3030724\ttest: 0.2121775\tbest: 0.2121775 (274)\ttotal: 1.1s\tremaining: 2.89s\n",
            "275:\tlearn: 0.3025838\ttest: 0.2120560\tbest: 0.2120560 (275)\ttotal: 1.1s\tremaining: 2.89s\n",
            "276:\tlearn: 0.3018834\ttest: 0.2116369\tbest: 0.2116369 (276)\ttotal: 1.1s\tremaining: 2.88s\n",
            "277:\tlearn: 0.3016604\ttest: 0.2114641\tbest: 0.2114641 (277)\ttotal: 1.11s\tremaining: 2.88s\n",
            "278:\tlearn: 0.3010935\ttest: 0.2112432\tbest: 0.2112432 (278)\ttotal: 1.11s\tremaining: 2.88s\n",
            "279:\tlearn: 0.3010207\ttest: 0.2112113\tbest: 0.2112113 (279)\ttotal: 1.12s\tremaining: 2.87s\n",
            "280:\tlearn: 0.3009416\ttest: 0.2111949\tbest: 0.2111949 (280)\ttotal: 1.12s\tremaining: 2.87s\n",
            "281:\tlearn: 0.3008999\ttest: 0.2111579\tbest: 0.2111579 (281)\ttotal: 1.12s\tremaining: 2.86s\n",
            "282:\tlearn: 0.3004965\ttest: 0.2113192\tbest: 0.2111579 (281)\ttotal: 1.13s\tremaining: 2.86s\n",
            "283:\tlearn: 0.3004388\ttest: 0.2112665\tbest: 0.2111579 (281)\ttotal: 1.13s\tremaining: 2.85s\n",
            "284:\tlearn: 0.3002989\ttest: 0.2112326\tbest: 0.2111579 (281)\ttotal: 1.14s\tremaining: 2.85s\n",
            "285:\tlearn: 0.3000183\ttest: 0.2110122\tbest: 0.2110122 (285)\ttotal: 1.14s\tremaining: 2.84s\n",
            "286:\tlearn: 0.2998398\ttest: 0.2109651\tbest: 0.2109651 (286)\ttotal: 1.14s\tremaining: 2.84s\n",
            "287:\tlearn: 0.2994080\ttest: 0.2109661\tbest: 0.2109651 (286)\ttotal: 1.15s\tremaining: 2.84s\n",
            "288:\tlearn: 0.2992912\ttest: 0.2108307\tbest: 0.2108307 (288)\ttotal: 1.15s\tremaining: 2.83s\n",
            "289:\tlearn: 0.2987371\ttest: 0.2107537\tbest: 0.2107537 (289)\ttotal: 1.16s\tremaining: 2.83s\n",
            "290:\tlearn: 0.2984867\ttest: 0.2106616\tbest: 0.2106616 (290)\ttotal: 1.16s\tremaining: 2.82s\n",
            "291:\tlearn: 0.2983323\ttest: 0.2105458\tbest: 0.2105458 (291)\ttotal: 1.16s\tremaining: 2.82s\n",
            "292:\tlearn: 0.2983054\ttest: 0.2105015\tbest: 0.2105015 (292)\ttotal: 1.17s\tremaining: 2.81s\n",
            "293:\tlearn: 0.2982277\ttest: 0.2104970\tbest: 0.2104970 (293)\ttotal: 1.17s\tremaining: 2.81s\n",
            "294:\tlearn: 0.2979708\ttest: 0.2102331\tbest: 0.2102331 (294)\ttotal: 1.17s\tremaining: 2.8s\n",
            "295:\tlearn: 0.2979425\ttest: 0.2101915\tbest: 0.2101915 (295)\ttotal: 1.18s\tremaining: 2.8s\n",
            "296:\tlearn: 0.2974514\ttest: 0.2100200\tbest: 0.2100200 (296)\ttotal: 1.19s\tremaining: 2.81s\n",
            "297:\tlearn: 0.2970323\ttest: 0.2098522\tbest: 0.2098522 (297)\ttotal: 1.19s\tremaining: 2.81s\n",
            "298:\tlearn: 0.2967239\ttest: 0.2094664\tbest: 0.2094664 (298)\ttotal: 1.19s\tremaining: 2.8s\n",
            "299:\tlearn: 0.2964505\ttest: 0.2091917\tbest: 0.2091917 (299)\ttotal: 1.2s\tremaining: 2.8s\n",
            "300:\tlearn: 0.2960022\ttest: 0.2088667\tbest: 0.2088667 (300)\ttotal: 1.2s\tremaining: 2.79s\n",
            "301:\tlearn: 0.2956681\ttest: 0.2087539\tbest: 0.2087539 (301)\ttotal: 1.21s\tremaining: 2.79s\n",
            "302:\tlearn: 0.2956045\ttest: 0.2086597\tbest: 0.2086597 (302)\ttotal: 1.21s\tremaining: 2.78s\n",
            "303:\tlearn: 0.2955282\ttest: 0.2086408\tbest: 0.2086408 (303)\ttotal: 1.21s\tremaining: 2.78s\n",
            "304:\tlearn: 0.2951005\ttest: 0.2086337\tbest: 0.2086337 (304)\ttotal: 1.22s\tremaining: 2.78s\n",
            "305:\tlearn: 0.2947667\ttest: 0.2084225\tbest: 0.2084225 (305)\ttotal: 1.22s\tremaining: 2.77s\n",
            "306:\tlearn: 0.2947297\ttest: 0.2083558\tbest: 0.2083558 (306)\ttotal: 1.23s\tremaining: 2.77s\n",
            "307:\tlearn: 0.2946970\ttest: 0.2083519\tbest: 0.2083519 (307)\ttotal: 1.23s\tremaining: 2.76s\n",
            "308:\tlearn: 0.2941378\ttest: 0.2083386\tbest: 0.2083386 (308)\ttotal: 1.23s\tremaining: 2.76s\n",
            "309:\tlearn: 0.2938839\ttest: 0.2083577\tbest: 0.2083386 (308)\ttotal: 1.24s\tremaining: 2.75s\n",
            "310:\tlearn: 0.2937508\ttest: 0.2082822\tbest: 0.2082822 (310)\ttotal: 1.24s\tremaining: 2.75s\n",
            "311:\tlearn: 0.2936336\ttest: 0.2081955\tbest: 0.2081955 (311)\ttotal: 1.24s\tremaining: 2.74s\n",
            "312:\tlearn: 0.2936045\ttest: 0.2081712\tbest: 0.2081712 (312)\ttotal: 1.25s\tremaining: 2.74s\n",
            "313:\tlearn: 0.2933858\ttest: 0.2083289\tbest: 0.2081712 (312)\ttotal: 1.25s\tremaining: 2.73s\n",
            "314:\tlearn: 0.2928966\ttest: 0.2082490\tbest: 0.2081712 (312)\ttotal: 1.26s\tremaining: 2.73s\n",
            "315:\tlearn: 0.2925417\ttest: 0.2084190\tbest: 0.2081712 (312)\ttotal: 1.26s\tremaining: 2.73s\n",
            "316:\tlearn: 0.2924269\ttest: 0.2083705\tbest: 0.2081712 (312)\ttotal: 1.26s\tremaining: 2.72s\n",
            "317:\tlearn: 0.2922180\ttest: 0.2085387\tbest: 0.2081712 (312)\ttotal: 1.27s\tremaining: 2.72s\n",
            "318:\tlearn: 0.2919807\ttest: 0.2083807\tbest: 0.2081712 (312)\ttotal: 1.27s\tremaining: 2.71s\n",
            "319:\tlearn: 0.2910399\ttest: 0.2076417\tbest: 0.2076417 (319)\ttotal: 1.27s\tremaining: 2.71s\n",
            "320:\tlearn: 0.2906360\ttest: 0.2068419\tbest: 0.2068419 (320)\ttotal: 1.28s\tremaining: 2.71s\n",
            "321:\tlearn: 0.2904300\ttest: 0.2067368\tbest: 0.2067368 (321)\ttotal: 1.28s\tremaining: 2.7s\n",
            "322:\tlearn: 0.2899613\ttest: 0.2065395\tbest: 0.2065395 (322)\ttotal: 1.29s\tremaining: 2.7s\n",
            "323:\tlearn: 0.2899344\ttest: 0.2065184\tbest: 0.2065184 (323)\ttotal: 1.29s\tremaining: 2.69s\n",
            "324:\tlearn: 0.2896576\ttest: 0.2064068\tbest: 0.2064068 (324)\ttotal: 1.29s\tremaining: 2.69s\n",
            "325:\tlearn: 0.2893290\ttest: 0.2062527\tbest: 0.2062527 (325)\ttotal: 1.3s\tremaining: 2.69s\n",
            "326:\tlearn: 0.2891199\ttest: 0.2059336\tbest: 0.2059336 (326)\ttotal: 1.3s\tremaining: 2.68s\n",
            "327:\tlearn: 0.2889496\ttest: 0.2059160\tbest: 0.2059160 (327)\ttotal: 1.31s\tremaining: 2.68s\n",
            "328:\tlearn: 0.2889186\ttest: 0.2059187\tbest: 0.2059160 (327)\ttotal: 1.31s\tremaining: 2.67s\n",
            "329:\tlearn: 0.2888994\ttest: 0.2059347\tbest: 0.2059160 (327)\ttotal: 1.31s\tremaining: 2.67s\n",
            "330:\tlearn: 0.2885147\ttest: 0.2053575\tbest: 0.2053575 (330)\ttotal: 1.32s\tremaining: 2.66s\n",
            "331:\tlearn: 0.2879316\ttest: 0.2049534\tbest: 0.2049534 (331)\ttotal: 1.32s\tremaining: 2.66s\n",
            "332:\tlearn: 0.2877680\ttest: 0.2047947\tbest: 0.2047947 (332)\ttotal: 1.32s\tremaining: 2.65s\n",
            "333:\tlearn: 0.2870273\ttest: 0.2046725\tbest: 0.2046725 (333)\ttotal: 1.33s\tremaining: 2.65s\n",
            "334:\tlearn: 0.2868523\ttest: 0.2045949\tbest: 0.2045949 (334)\ttotal: 1.33s\tremaining: 2.65s\n",
            "335:\tlearn: 0.2867164\ttest: 0.2046852\tbest: 0.2045949 (334)\ttotal: 1.34s\tremaining: 2.64s\n",
            "336:\tlearn: 0.2866428\ttest: 0.2046287\tbest: 0.2045949 (334)\ttotal: 1.34s\tremaining: 2.64s\n",
            "337:\tlearn: 0.2859241\ttest: 0.2043073\tbest: 0.2043073 (337)\ttotal: 1.34s\tremaining: 2.63s\n",
            "338:\tlearn: 0.2856284\ttest: 0.2043239\tbest: 0.2043073 (337)\ttotal: 1.35s\tremaining: 2.63s\n",
            "339:\tlearn: 0.2848331\ttest: 0.2039684\tbest: 0.2039684 (339)\ttotal: 1.35s\tremaining: 2.63s\n",
            "340:\tlearn: 0.2846185\ttest: 0.2037335\tbest: 0.2037335 (340)\ttotal: 1.36s\tremaining: 2.62s\n",
            "341:\tlearn: 0.2841917\ttest: 0.2036082\tbest: 0.2036082 (341)\ttotal: 1.36s\tremaining: 2.62s\n",
            "342:\tlearn: 0.2838185\ttest: 0.2035136\tbest: 0.2035136 (342)\ttotal: 1.37s\tremaining: 2.62s\n",
            "343:\tlearn: 0.2836152\ttest: 0.2033495\tbest: 0.2033495 (343)\ttotal: 1.37s\tremaining: 2.61s\n",
            "344:\tlearn: 0.2832592\ttest: 0.2031539\tbest: 0.2031539 (344)\ttotal: 1.38s\tremaining: 2.62s\n",
            "345:\tlearn: 0.2830826\ttest: 0.2030196\tbest: 0.2030196 (345)\ttotal: 1.38s\tremaining: 2.62s\n",
            "346:\tlearn: 0.2828403\ttest: 0.2028509\tbest: 0.2028509 (346)\ttotal: 1.39s\tremaining: 2.61s\n",
            "347:\tlearn: 0.2826940\ttest: 0.2028781\tbest: 0.2028509 (346)\ttotal: 1.39s\tremaining: 2.61s\n",
            "348:\tlearn: 0.2823189\ttest: 0.2027380\tbest: 0.2027380 (348)\ttotal: 1.4s\tremaining: 2.6s\n",
            "349:\tlearn: 0.2822773\ttest: 0.2026860\tbest: 0.2026860 (349)\ttotal: 1.4s\tremaining: 2.6s\n",
            "350:\tlearn: 0.2821010\ttest: 0.2026878\tbest: 0.2026860 (349)\ttotal: 1.4s\tremaining: 2.6s\n",
            "351:\tlearn: 0.2818939\ttest: 0.2025461\tbest: 0.2025461 (351)\ttotal: 1.41s\tremaining: 2.59s\n",
            "352:\tlearn: 0.2818708\ttest: 0.2024964\tbest: 0.2024964 (352)\ttotal: 1.41s\tremaining: 2.59s\n",
            "353:\tlearn: 0.2815859\ttest: 0.2024161\tbest: 0.2024161 (353)\ttotal: 1.42s\tremaining: 2.58s\n",
            "354:\tlearn: 0.2814624\ttest: 0.2026938\tbest: 0.2024161 (353)\ttotal: 1.42s\tremaining: 2.58s\n",
            "355:\tlearn: 0.2813574\ttest: 0.2025706\tbest: 0.2024161 (353)\ttotal: 1.42s\tremaining: 2.58s\n",
            "356:\tlearn: 0.2810617\ttest: 0.2023745\tbest: 0.2023745 (356)\ttotal: 1.43s\tremaining: 2.57s\n",
            "357:\tlearn: 0.2807990\ttest: 0.2022323\tbest: 0.2022323 (357)\ttotal: 1.43s\tremaining: 2.57s\n",
            "358:\tlearn: 0.2807150\ttest: 0.2022391\tbest: 0.2022323 (357)\ttotal: 1.44s\tremaining: 2.56s\n",
            "359:\tlearn: 0.2804397\ttest: 0.2020371\tbest: 0.2020371 (359)\ttotal: 1.44s\tremaining: 2.56s\n",
            "360:\tlearn: 0.2801431\ttest: 0.2020283\tbest: 0.2020283 (360)\ttotal: 1.44s\tremaining: 2.55s\n",
            "361:\tlearn: 0.2798996\ttest: 0.2018717\tbest: 0.2018717 (361)\ttotal: 1.45s\tremaining: 2.55s\n",
            "362:\tlearn: 0.2793937\ttest: 0.2015199\tbest: 0.2015199 (362)\ttotal: 1.45s\tremaining: 2.55s\n",
            "363:\tlearn: 0.2793335\ttest: 0.2014247\tbest: 0.2014247 (363)\ttotal: 1.46s\tremaining: 2.54s\n",
            "364:\tlearn: 0.2787329\ttest: 0.2008886\tbest: 0.2008886 (364)\ttotal: 1.46s\tremaining: 2.54s\n",
            "365:\tlearn: 0.2786248\ttest: 0.2008283\tbest: 0.2008283 (365)\ttotal: 1.46s\tremaining: 2.53s\n",
            "366:\tlearn: 0.2784252\ttest: 0.2007242\tbest: 0.2007242 (366)\ttotal: 1.47s\tremaining: 2.53s\n",
            "367:\tlearn: 0.2782994\ttest: 0.2006034\tbest: 0.2006034 (367)\ttotal: 1.47s\tremaining: 2.53s\n",
            "368:\tlearn: 0.2779593\ttest: 0.2003945\tbest: 0.2003945 (368)\ttotal: 1.48s\tremaining: 2.52s\n",
            "369:\tlearn: 0.2776358\ttest: 0.2003906\tbest: 0.2003906 (369)\ttotal: 1.48s\tremaining: 2.52s\n",
            "370:\tlearn: 0.2772228\ttest: 0.2001836\tbest: 0.2001836 (370)\ttotal: 1.48s\tremaining: 2.52s\n",
            "371:\tlearn: 0.2772010\ttest: 0.2001897\tbest: 0.2001836 (370)\ttotal: 1.49s\tremaining: 2.51s\n",
            "372:\tlearn: 0.2771576\ttest: 0.2002074\tbest: 0.2001836 (370)\ttotal: 1.49s\tremaining: 2.51s\n",
            "373:\tlearn: 0.2770015\ttest: 0.2001126\tbest: 0.2001126 (373)\ttotal: 1.5s\tremaining: 2.5s\n",
            "374:\tlearn: 0.2764330\ttest: 0.1998358\tbest: 0.1998358 (374)\ttotal: 1.5s\tremaining: 2.5s\n",
            "375:\tlearn: 0.2764055\ttest: 0.1998180\tbest: 0.1998180 (375)\ttotal: 1.5s\tremaining: 2.49s\n",
            "376:\tlearn: 0.2763791\ttest: 0.1998008\tbest: 0.1998008 (376)\ttotal: 1.51s\tremaining: 2.49s\n",
            "377:\tlearn: 0.2760745\ttest: 0.1996171\tbest: 0.1996171 (377)\ttotal: 1.51s\tremaining: 2.48s\n",
            "378:\tlearn: 0.2759518\ttest: 0.1996576\tbest: 0.1996171 (377)\ttotal: 1.51s\tremaining: 2.48s\n",
            "379:\tlearn: 0.2757392\ttest: 0.1996916\tbest: 0.1996171 (377)\ttotal: 1.52s\tremaining: 2.48s\n",
            "380:\tlearn: 0.2752979\ttest: 0.1993091\tbest: 0.1993091 (380)\ttotal: 1.52s\tremaining: 2.47s\n",
            "381:\tlearn: 0.2752556\ttest: 0.1993066\tbest: 0.1993066 (381)\ttotal: 1.52s\tremaining: 2.47s\n",
            "382:\tlearn: 0.2750921\ttest: 0.1992001\tbest: 0.1992001 (382)\ttotal: 1.53s\tremaining: 2.46s\n",
            "383:\tlearn: 0.2750025\ttest: 0.1990944\tbest: 0.1990944 (383)\ttotal: 1.53s\tremaining: 2.46s\n",
            "384:\tlearn: 0.2748665\ttest: 0.1989775\tbest: 0.1989775 (384)\ttotal: 1.54s\tremaining: 2.45s\n",
            "385:\tlearn: 0.2744966\ttest: 0.1987582\tbest: 0.1987582 (385)\ttotal: 1.54s\tremaining: 2.45s\n",
            "386:\tlearn: 0.2743650\ttest: 0.1985468\tbest: 0.1985468 (386)\ttotal: 1.54s\tremaining: 2.45s\n",
            "387:\tlearn: 0.2739313\ttest: 0.1982250\tbest: 0.1982250 (387)\ttotal: 1.55s\tremaining: 2.44s\n",
            "388:\tlearn: 0.2738838\ttest: 0.1982090\tbest: 0.1982090 (388)\ttotal: 1.55s\tremaining: 2.44s\n",
            "389:\tlearn: 0.2737098\ttest: 0.1981677\tbest: 0.1981677 (389)\ttotal: 1.56s\tremaining: 2.44s\n",
            "390:\tlearn: 0.2735840\ttest: 0.1982375\tbest: 0.1981677 (389)\ttotal: 1.56s\tremaining: 2.43s\n",
            "391:\tlearn: 0.2734396\ttest: 0.1981246\tbest: 0.1981246 (391)\ttotal: 1.56s\tremaining: 2.43s\n",
            "392:\tlearn: 0.2734183\ttest: 0.1981003\tbest: 0.1981003 (392)\ttotal: 1.57s\tremaining: 2.42s\n",
            "393:\tlearn: 0.2730403\ttest: 0.1978632\tbest: 0.1978632 (393)\ttotal: 1.58s\tremaining: 2.44s\n",
            "394:\tlearn: 0.2726528\ttest: 0.1977026\tbest: 0.1977026 (394)\ttotal: 1.59s\tremaining: 2.44s\n",
            "395:\tlearn: 0.2722968\ttest: 0.1974804\tbest: 0.1974804 (395)\ttotal: 1.6s\tremaining: 2.44s\n",
            "396:\tlearn: 0.2721850\ttest: 0.1974470\tbest: 0.1974470 (396)\ttotal: 1.61s\tremaining: 2.44s\n",
            "397:\tlearn: 0.2720887\ttest: 0.1974164\tbest: 0.1974164 (397)\ttotal: 1.61s\tremaining: 2.44s\n",
            "398:\tlearn: 0.2719067\ttest: 0.1972802\tbest: 0.1972802 (398)\ttotal: 1.62s\tremaining: 2.44s\n",
            "399:\tlearn: 0.2718466\ttest: 0.1972182\tbest: 0.1972182 (399)\ttotal: 1.62s\tremaining: 2.44s\n",
            "400:\tlearn: 0.2717159\ttest: 0.1971674\tbest: 0.1971674 (400)\ttotal: 1.63s\tremaining: 2.44s\n",
            "401:\tlearn: 0.2711618\ttest: 0.1969946\tbest: 0.1969946 (401)\ttotal: 1.65s\tremaining: 2.45s\n",
            "402:\tlearn: 0.2709447\ttest: 0.1969586\tbest: 0.1969586 (402)\ttotal: 1.66s\tremaining: 2.45s\n",
            "403:\tlearn: 0.2704767\ttest: 0.1967956\tbest: 0.1967956 (403)\ttotal: 1.66s\tremaining: 2.45s\n",
            "404:\tlearn: 0.2704197\ttest: 0.1967514\tbest: 0.1967514 (404)\ttotal: 1.67s\tremaining: 2.45s\n",
            "405:\tlearn: 0.2701692\ttest: 0.1961081\tbest: 0.1961081 (405)\ttotal: 1.67s\tremaining: 2.45s\n",
            "406:\tlearn: 0.2700037\ttest: 0.1959777\tbest: 0.1959777 (406)\ttotal: 1.68s\tremaining: 2.45s\n",
            "407:\tlearn: 0.2698098\ttest: 0.1958719\tbest: 0.1958719 (407)\ttotal: 1.68s\tremaining: 2.44s\n",
            "408:\tlearn: 0.2697544\ttest: 0.1958104\tbest: 0.1958104 (408)\ttotal: 1.69s\tremaining: 2.44s\n",
            "409:\tlearn: 0.2696099\ttest: 0.1956679\tbest: 0.1956679 (409)\ttotal: 1.69s\tremaining: 2.44s\n",
            "410:\tlearn: 0.2695389\ttest: 0.1956159\tbest: 0.1956159 (410)\ttotal: 1.7s\tremaining: 2.44s\n",
            "411:\tlearn: 0.2694185\ttest: 0.1954169\tbest: 0.1954169 (411)\ttotal: 1.71s\tremaining: 2.44s\n",
            "412:\tlearn: 0.2692788\ttest: 0.1953232\tbest: 0.1953232 (412)\ttotal: 1.72s\tremaining: 2.45s\n",
            "413:\tlearn: 0.2688754\ttest: 0.1950858\tbest: 0.1950858 (413)\ttotal: 1.73s\tremaining: 2.45s\n",
            "414:\tlearn: 0.2687057\ttest: 0.1949537\tbest: 0.1949537 (414)\ttotal: 1.74s\tremaining: 2.45s\n",
            "415:\tlearn: 0.2683797\ttest: 0.1947825\tbest: 0.1947825 (415)\ttotal: 1.74s\tremaining: 2.44s\n",
            "416:\tlearn: 0.2681711\ttest: 0.1944789\tbest: 0.1944789 (416)\ttotal: 1.75s\tremaining: 2.44s\n",
            "417:\tlearn: 0.2680356\ttest: 0.1943660\tbest: 0.1943660 (417)\ttotal: 1.76s\tremaining: 2.45s\n",
            "418:\tlearn: 0.2676590\ttest: 0.1941115\tbest: 0.1941115 (418)\ttotal: 1.77s\tremaining: 2.46s\n",
            "419:\tlearn: 0.2675558\ttest: 0.1940896\tbest: 0.1940896 (419)\ttotal: 1.78s\tremaining: 2.45s\n",
            "420:\tlearn: 0.2671545\ttest: 0.1938434\tbest: 0.1938434 (420)\ttotal: 1.78s\tremaining: 2.45s\n",
            "421:\tlearn: 0.2671403\ttest: 0.1938044\tbest: 0.1938044 (421)\ttotal: 1.79s\tremaining: 2.46s\n",
            "422:\tlearn: 0.2667032\ttest: 0.1935871\tbest: 0.1935871 (422)\ttotal: 1.8s\tremaining: 2.46s\n",
            "423:\tlearn: 0.2657262\ttest: 0.1933788\tbest: 0.1933788 (423)\ttotal: 1.81s\tremaining: 2.46s\n",
            "424:\tlearn: 0.2653380\ttest: 0.1933262\tbest: 0.1933262 (424)\ttotal: 1.82s\tremaining: 2.47s\n",
            "425:\tlearn: 0.2649666\ttest: 0.1929389\tbest: 0.1929389 (425)\ttotal: 1.83s\tremaining: 2.47s\n",
            "426:\tlearn: 0.2645970\ttest: 0.1917821\tbest: 0.1917821 (426)\ttotal: 1.84s\tremaining: 2.47s\n",
            "427:\tlearn: 0.2645551\ttest: 0.1917404\tbest: 0.1917404 (427)\ttotal: 1.85s\tremaining: 2.47s\n",
            "428:\tlearn: 0.2642653\ttest: 0.1916106\tbest: 0.1916106 (428)\ttotal: 1.86s\tremaining: 2.48s\n",
            "429:\tlearn: 0.2641090\ttest: 0.1915107\tbest: 0.1915107 (429)\ttotal: 1.87s\tremaining: 2.48s\n",
            "430:\tlearn: 0.2637592\ttest: 0.1915670\tbest: 0.1915107 (429)\ttotal: 1.89s\tremaining: 2.49s\n",
            "431:\tlearn: 0.2635775\ttest: 0.1915298\tbest: 0.1915107 (429)\ttotal: 1.89s\tremaining: 2.49s\n",
            "432:\tlearn: 0.2632383\ttest: 0.1914597\tbest: 0.1914597 (432)\ttotal: 1.9s\tremaining: 2.49s\n",
            "433:\tlearn: 0.2632018\ttest: 0.1914833\tbest: 0.1914597 (432)\ttotal: 1.9s\tremaining: 2.48s\n",
            "434:\tlearn: 0.2631167\ttest: 0.1914990\tbest: 0.1914597 (432)\ttotal: 1.91s\tremaining: 2.48s\n",
            "435:\tlearn: 0.2630057\ttest: 0.1913616\tbest: 0.1913616 (435)\ttotal: 1.91s\tremaining: 2.47s\n",
            "436:\tlearn: 0.2628223\ttest: 0.1913123\tbest: 0.1913123 (436)\ttotal: 1.93s\tremaining: 2.48s\n",
            "437:\tlearn: 0.2625214\ttest: 0.1911584\tbest: 0.1911584 (437)\ttotal: 1.94s\tremaining: 2.48s\n",
            "438:\tlearn: 0.2623603\ttest: 0.1909472\tbest: 0.1909472 (438)\ttotal: 1.95s\tremaining: 2.48s\n",
            "439:\tlearn: 0.2622027\ttest: 0.1908037\tbest: 0.1908037 (439)\ttotal: 1.96s\tremaining: 2.49s\n",
            "440:\tlearn: 0.2621733\ttest: 0.1908191\tbest: 0.1908037 (439)\ttotal: 1.97s\tremaining: 2.5s\n",
            "441:\tlearn: 0.2618579\ttest: 0.1906559\tbest: 0.1906559 (441)\ttotal: 1.98s\tremaining: 2.5s\n",
            "442:\tlearn: 0.2615053\ttest: 0.1904728\tbest: 0.1904728 (442)\ttotal: 1.99s\tremaining: 2.5s\n",
            "443:\tlearn: 0.2612879\ttest: 0.1903178\tbest: 0.1903178 (443)\ttotal: 2s\tremaining: 2.5s\n",
            "444:\tlearn: 0.2611482\ttest: 0.1901824\tbest: 0.1901824 (444)\ttotal: 2.01s\tremaining: 2.51s\n",
            "445:\tlearn: 0.2606617\ttest: 0.1898358\tbest: 0.1898358 (445)\ttotal: 2.03s\tremaining: 2.52s\n",
            "446:\tlearn: 0.2605002\ttest: 0.1897881\tbest: 0.1897881 (446)\ttotal: 2.04s\tremaining: 2.52s\n",
            "447:\tlearn: 0.2602722\ttest: 0.1897089\tbest: 0.1897089 (447)\ttotal: 2.05s\tremaining: 2.53s\n",
            "448:\tlearn: 0.2602316\ttest: 0.1896393\tbest: 0.1896393 (448)\ttotal: 2.06s\tremaining: 2.53s\n",
            "449:\tlearn: 0.2601122\ttest: 0.1895508\tbest: 0.1895508 (449)\ttotal: 2.07s\tremaining: 2.53s\n",
            "450:\tlearn: 0.2599266\ttest: 0.1894417\tbest: 0.1894417 (450)\ttotal: 2.08s\tremaining: 2.53s\n",
            "451:\tlearn: 0.2596955\ttest: 0.1893775\tbest: 0.1893775 (451)\ttotal: 2.08s\tremaining: 2.52s\n",
            "452:\tlearn: 0.2595307\ttest: 0.1894851\tbest: 0.1893775 (451)\ttotal: 2.08s\tremaining: 2.52s\n",
            "453:\tlearn: 0.2591861\ttest: 0.1884035\tbest: 0.1884035 (453)\ttotal: 2.09s\tremaining: 2.51s\n",
            "454:\tlearn: 0.2587977\ttest: 0.1881182\tbest: 0.1881182 (454)\ttotal: 2.1s\tremaining: 2.51s\n",
            "455:\tlearn: 0.2585169\ttest: 0.1879696\tbest: 0.1879696 (455)\ttotal: 2.1s\tremaining: 2.5s\n",
            "456:\tlearn: 0.2584442\ttest: 0.1880156\tbest: 0.1879696 (455)\ttotal: 2.1s\tremaining: 2.5s\n",
            "457:\tlearn: 0.2583102\ttest: 0.1878729\tbest: 0.1878729 (457)\ttotal: 2.11s\tremaining: 2.5s\n",
            "458:\tlearn: 0.2581748\ttest: 0.1877872\tbest: 0.1877872 (458)\ttotal: 2.12s\tremaining: 2.49s\n",
            "459:\tlearn: 0.2577826\ttest: 0.1877077\tbest: 0.1877077 (459)\ttotal: 2.12s\tremaining: 2.49s\n",
            "460:\tlearn: 0.2573377\ttest: 0.1877311\tbest: 0.1877077 (459)\ttotal: 2.13s\tremaining: 2.48s\n",
            "461:\tlearn: 0.2569165\ttest: 0.1877648\tbest: 0.1877077 (459)\ttotal: 2.13s\tremaining: 2.48s\n",
            "462:\tlearn: 0.2566576\ttest: 0.1877797\tbest: 0.1877077 (459)\ttotal: 2.13s\tremaining: 2.48s\n",
            "463:\tlearn: 0.2566216\ttest: 0.1877602\tbest: 0.1877077 (459)\ttotal: 2.14s\tremaining: 2.47s\n",
            "464:\tlearn: 0.2565260\ttest: 0.1877313\tbest: 0.1877077 (459)\ttotal: 2.15s\tremaining: 2.47s\n",
            "465:\tlearn: 0.2558155\ttest: 0.1874891\tbest: 0.1874891 (465)\ttotal: 2.16s\tremaining: 2.47s\n",
            "466:\tlearn: 0.2555987\ttest: 0.1874805\tbest: 0.1874805 (466)\ttotal: 2.17s\tremaining: 2.48s\n",
            "467:\tlearn: 0.2554892\ttest: 0.1872486\tbest: 0.1872486 (467)\ttotal: 2.18s\tremaining: 2.48s\n",
            "468:\tlearn: 0.2554307\ttest: 0.1871722\tbest: 0.1871722 (468)\ttotal: 2.19s\tremaining: 2.48s\n",
            "469:\tlearn: 0.2553686\ttest: 0.1870864\tbest: 0.1870864 (469)\ttotal: 2.2s\tremaining: 2.48s\n",
            "470:\tlearn: 0.2552261\ttest: 0.1870353\tbest: 0.1870353 (470)\ttotal: 2.21s\tremaining: 2.48s\n",
            "471:\tlearn: 0.2547993\ttest: 0.1869415\tbest: 0.1869415 (471)\ttotal: 2.22s\tremaining: 2.48s\n",
            "472:\tlearn: 0.2547063\ttest: 0.1868825\tbest: 0.1868825 (472)\ttotal: 2.23s\tremaining: 2.49s\n",
            "473:\tlearn: 0.2545306\ttest: 0.1868215\tbest: 0.1868215 (473)\ttotal: 2.24s\tremaining: 2.49s\n",
            "474:\tlearn: 0.2541973\ttest: 0.1865187\tbest: 0.1865187 (474)\ttotal: 2.25s\tremaining: 2.49s\n",
            "475:\tlearn: 0.2539375\ttest: 0.1863852\tbest: 0.1863852 (475)\ttotal: 2.26s\tremaining: 2.49s\n",
            "476:\tlearn: 0.2537445\ttest: 0.1863235\tbest: 0.1863235 (476)\ttotal: 2.27s\tremaining: 2.49s\n",
            "477:\tlearn: 0.2531303\ttest: 0.1863015\tbest: 0.1863015 (477)\ttotal: 2.28s\tremaining: 2.49s\n",
            "478:\tlearn: 0.2530926\ttest: 0.1862266\tbest: 0.1862266 (478)\ttotal: 2.29s\tremaining: 2.5s\n",
            "479:\tlearn: 0.2527619\ttest: 0.1860281\tbest: 0.1860281 (479)\ttotal: 2.31s\tremaining: 2.5s\n",
            "480:\tlearn: 0.2526270\ttest: 0.1859304\tbest: 0.1859304 (480)\ttotal: 2.32s\tremaining: 2.5s\n",
            "481:\tlearn: 0.2521962\ttest: 0.1857895\tbest: 0.1857895 (481)\ttotal: 2.33s\tremaining: 2.5s\n",
            "482:\tlearn: 0.2517379\ttest: 0.1855593\tbest: 0.1855593 (482)\ttotal: 2.34s\tremaining: 2.5s\n",
            "483:\tlearn: 0.2515510\ttest: 0.1854460\tbest: 0.1854460 (483)\ttotal: 2.35s\tremaining: 2.51s\n",
            "484:\tlearn: 0.2514225\ttest: 0.1852073\tbest: 0.1852073 (484)\ttotal: 2.36s\tremaining: 2.51s\n",
            "485:\tlearn: 0.2511616\ttest: 0.1850629\tbest: 0.1850629 (485)\ttotal: 2.37s\tremaining: 2.5s\n",
            "486:\tlearn: 0.2510503\ttest: 0.1849824\tbest: 0.1849824 (486)\ttotal: 2.38s\tremaining: 2.51s\n",
            "487:\tlearn: 0.2509320\ttest: 0.1848538\tbest: 0.1848538 (487)\ttotal: 2.39s\tremaining: 2.5s\n",
            "488:\tlearn: 0.2507051\ttest: 0.1842295\tbest: 0.1842295 (488)\ttotal: 2.4s\tremaining: 2.51s\n",
            "489:\tlearn: 0.2505656\ttest: 0.1841202\tbest: 0.1841202 (489)\ttotal: 2.41s\tremaining: 2.51s\n",
            "490:\tlearn: 0.2501239\ttest: 0.1838059\tbest: 0.1838059 (490)\ttotal: 2.42s\tremaining: 2.51s\n",
            "491:\tlearn: 0.2496443\ttest: 0.1836776\tbest: 0.1836776 (491)\ttotal: 2.43s\tremaining: 2.51s\n",
            "492:\tlearn: 0.2493935\ttest: 0.1835375\tbest: 0.1835375 (492)\ttotal: 2.43s\tremaining: 2.5s\n",
            "493:\tlearn: 0.2493045\ttest: 0.1834852\tbest: 0.1834852 (493)\ttotal: 2.44s\tremaining: 2.5s\n",
            "494:\tlearn: 0.2492150\ttest: 0.1833963\tbest: 0.1833963 (494)\ttotal: 2.44s\tremaining: 2.49s\n",
            "495:\tlearn: 0.2490993\ttest: 0.1832829\tbest: 0.1832829 (495)\ttotal: 2.45s\tremaining: 2.49s\n",
            "496:\tlearn: 0.2490097\ttest: 0.1832286\tbest: 0.1832286 (496)\ttotal: 2.46s\tremaining: 2.48s\n",
            "497:\tlearn: 0.2486151\ttest: 0.1830925\tbest: 0.1830925 (497)\ttotal: 2.46s\tremaining: 2.48s\n",
            "498:\tlearn: 0.2484746\ttest: 0.1830590\tbest: 0.1830590 (498)\ttotal: 2.47s\tremaining: 2.48s\n",
            "499:\tlearn: 0.2482363\ttest: 0.1830223\tbest: 0.1830223 (499)\ttotal: 2.48s\tremaining: 2.48s\n",
            "500:\tlearn: 0.2479551\ttest: 0.1829492\tbest: 0.1829492 (500)\ttotal: 2.5s\tremaining: 2.49s\n",
            "501:\tlearn: 0.2478613\ttest: 0.1829461\tbest: 0.1829461 (501)\ttotal: 2.5s\tremaining: 2.48s\n",
            "502:\tlearn: 0.2477361\ttest: 0.1830793\tbest: 0.1829461 (501)\ttotal: 2.52s\tremaining: 2.49s\n",
            "503:\tlearn: 0.2472525\ttest: 0.1827601\tbest: 0.1827601 (503)\ttotal: 2.53s\tremaining: 2.49s\n",
            "504:\tlearn: 0.2471995\ttest: 0.1826821\tbest: 0.1826821 (504)\ttotal: 2.54s\tremaining: 2.49s\n",
            "505:\tlearn: 0.2470747\ttest: 0.1823077\tbest: 0.1823077 (505)\ttotal: 2.55s\tremaining: 2.49s\n",
            "506:\tlearn: 0.2467413\ttest: 0.1819621\tbest: 0.1819621 (506)\ttotal: 2.56s\tremaining: 2.49s\n",
            "507:\tlearn: 0.2464427\ttest: 0.1818530\tbest: 0.1818530 (507)\ttotal: 2.57s\tremaining: 2.49s\n",
            "508:\tlearn: 0.2460819\ttest: 0.1817889\tbest: 0.1817889 (508)\ttotal: 2.58s\tremaining: 2.49s\n",
            "509:\tlearn: 0.2460179\ttest: 0.1817722\tbest: 0.1817722 (509)\ttotal: 2.59s\tremaining: 2.49s\n",
            "510:\tlearn: 0.2459528\ttest: 0.1818346\tbest: 0.1817722 (509)\ttotal: 2.6s\tremaining: 2.49s\n",
            "511:\tlearn: 0.2456361\ttest: 0.1816543\tbest: 0.1816543 (511)\ttotal: 2.62s\tremaining: 2.5s\n",
            "512:\tlearn: 0.2451791\ttest: 0.1815317\tbest: 0.1815317 (512)\ttotal: 2.63s\tremaining: 2.5s\n",
            "513:\tlearn: 0.2449466\ttest: 0.1814558\tbest: 0.1814558 (513)\ttotal: 2.64s\tremaining: 2.5s\n",
            "514:\tlearn: 0.2447656\ttest: 0.1813822\tbest: 0.1813822 (514)\ttotal: 2.65s\tremaining: 2.5s\n",
            "515:\tlearn: 0.2447307\ttest: 0.1813680\tbest: 0.1813680 (515)\ttotal: 2.67s\tremaining: 2.5s\n",
            "516:\tlearn: 0.2446902\ttest: 0.1811738\tbest: 0.1811738 (516)\ttotal: 2.68s\tremaining: 2.5s\n",
            "517:\tlearn: 0.2444023\ttest: 0.1811319\tbest: 0.1811319 (517)\ttotal: 2.69s\tremaining: 2.5s\n",
            "518:\tlearn: 0.2442262\ttest: 0.1810630\tbest: 0.1810630 (518)\ttotal: 2.71s\tremaining: 2.51s\n",
            "519:\tlearn: 0.2441915\ttest: 0.1810412\tbest: 0.1810412 (519)\ttotal: 2.71s\tremaining: 2.51s\n",
            "520:\tlearn: 0.2441347\ttest: 0.1809965\tbest: 0.1809965 (520)\ttotal: 2.72s\tremaining: 2.5s\n",
            "521:\tlearn: 0.2437622\ttest: 0.1807416\tbest: 0.1807416 (521)\ttotal: 2.74s\tremaining: 2.5s\n",
            "522:\tlearn: 0.2434855\ttest: 0.1806610\tbest: 0.1806610 (522)\ttotal: 2.75s\tremaining: 2.51s\n",
            "523:\tlearn: 0.2434323\ttest: 0.1805830\tbest: 0.1805830 (523)\ttotal: 2.76s\tremaining: 2.51s\n",
            "524:\tlearn: 0.2432141\ttest: 0.1805359\tbest: 0.1805359 (524)\ttotal: 2.77s\tremaining: 2.51s\n",
            "525:\tlearn: 0.2431937\ttest: 0.1805166\tbest: 0.1805166 (525)\ttotal: 2.78s\tremaining: 2.51s\n",
            "526:\tlearn: 0.2425941\ttest: 0.1805733\tbest: 0.1805166 (525)\ttotal: 2.79s\tremaining: 2.5s\n",
            "527:\tlearn: 0.2422982\ttest: 0.1804254\tbest: 0.1804254 (527)\ttotal: 2.81s\tremaining: 2.51s\n",
            "528:\tlearn: 0.2421513\ttest: 0.1803710\tbest: 0.1803710 (528)\ttotal: 2.82s\tremaining: 2.51s\n",
            "529:\tlearn: 0.2418375\ttest: 0.1802612\tbest: 0.1802612 (529)\ttotal: 2.83s\tremaining: 2.51s\n",
            "530:\tlearn: 0.2417099\ttest: 0.1802121\tbest: 0.1802121 (530)\ttotal: 2.84s\tremaining: 2.51s\n",
            "531:\tlearn: 0.2415446\ttest: 0.1802993\tbest: 0.1802121 (530)\ttotal: 2.85s\tremaining: 2.51s\n",
            "532:\tlearn: 0.2414544\ttest: 0.1802600\tbest: 0.1802121 (530)\ttotal: 2.87s\tremaining: 2.51s\n",
            "533:\tlearn: 0.2413040\ttest: 0.1802854\tbest: 0.1802121 (530)\ttotal: 2.88s\tremaining: 2.51s\n",
            "534:\tlearn: 0.2411772\ttest: 0.1802013\tbest: 0.1802013 (534)\ttotal: 2.89s\tremaining: 2.51s\n",
            "535:\tlearn: 0.2410563\ttest: 0.1801067\tbest: 0.1801067 (535)\ttotal: 2.9s\tremaining: 2.51s\n",
            "536:\tlearn: 0.2409674\ttest: 0.1804951\tbest: 0.1801067 (535)\ttotal: 2.92s\tremaining: 2.52s\n",
            "537:\tlearn: 0.2409639\ttest: 0.1804924\tbest: 0.1801067 (535)\ttotal: 2.94s\tremaining: 2.52s\n",
            "538:\tlearn: 0.2409544\ttest: 0.1804710\tbest: 0.1801067 (535)\ttotal: 2.95s\tremaining: 2.53s\n",
            "539:\tlearn: 0.2407488\ttest: 0.1803489\tbest: 0.1801067 (535)\ttotal: 2.97s\tremaining: 2.53s\n",
            "540:\tlearn: 0.2406156\ttest: 0.1802408\tbest: 0.1801067 (535)\ttotal: 2.98s\tremaining: 2.52s\n",
            "541:\tlearn: 0.2404971\ttest: 0.1801467\tbest: 0.1801067 (535)\ttotal: 2.98s\tremaining: 2.52s\n",
            "542:\tlearn: 0.2401329\ttest: 0.1798522\tbest: 0.1798522 (542)\ttotal: 2.99s\tremaining: 2.52s\n",
            "543:\tlearn: 0.2396884\ttest: 0.1797136\tbest: 0.1797136 (543)\ttotal: 3s\tremaining: 2.52s\n",
            "544:\tlearn: 0.2395991\ttest: 0.1793556\tbest: 0.1793556 (544)\ttotal: 3.01s\tremaining: 2.52s\n",
            "545:\tlearn: 0.2394564\ttest: 0.1792666\tbest: 0.1792666 (545)\ttotal: 3.03s\tremaining: 2.52s\n",
            "546:\tlearn: 0.2389723\ttest: 0.1790760\tbest: 0.1790760 (546)\ttotal: 3.04s\tremaining: 2.52s\n",
            "547:\tlearn: 0.2389269\ttest: 0.1790901\tbest: 0.1790760 (546)\ttotal: 3.05s\tremaining: 2.52s\n",
            "548:\tlearn: 0.2382728\ttest: 0.1787776\tbest: 0.1787776 (548)\ttotal: 3.07s\tremaining: 2.52s\n",
            "549:\tlearn: 0.2381848\ttest: 0.1786844\tbest: 0.1786844 (549)\ttotal: 3.07s\tremaining: 2.52s\n",
            "550:\tlearn: 0.2381016\ttest: 0.1786689\tbest: 0.1786689 (550)\ttotal: 3.08s\tremaining: 2.51s\n",
            "551:\tlearn: 0.2377459\ttest: 0.1784506\tbest: 0.1784506 (551)\ttotal: 3.09s\tremaining: 2.51s\n",
            "552:\tlearn: 0.2375929\ttest: 0.1782965\tbest: 0.1782965 (552)\ttotal: 3.1s\tremaining: 2.51s\n",
            "553:\tlearn: 0.2375262\ttest: 0.1782564\tbest: 0.1782564 (553)\ttotal: 3.12s\tremaining: 2.51s\n",
            "554:\tlearn: 0.2374178\ttest: 0.1782381\tbest: 0.1782381 (554)\ttotal: 3.13s\tremaining: 2.51s\n",
            "555:\tlearn: 0.2373825\ttest: 0.1781917\tbest: 0.1781917 (555)\ttotal: 3.14s\tremaining: 2.51s\n",
            "556:\tlearn: 0.2373587\ttest: 0.1781563\tbest: 0.1781563 (556)\ttotal: 3.15s\tremaining: 2.5s\n",
            "557:\tlearn: 0.2373425\ttest: 0.1781138\tbest: 0.1781138 (557)\ttotal: 3.15s\tremaining: 2.5s\n",
            "558:\tlearn: 0.2370056\ttest: 0.1778372\tbest: 0.1778372 (558)\ttotal: 3.16s\tremaining: 2.49s\n",
            "559:\tlearn: 0.2369961\ttest: 0.1778323\tbest: 0.1778323 (559)\ttotal: 3.17s\tremaining: 2.49s\n",
            "560:\tlearn: 0.2363764\ttest: 0.1775399\tbest: 0.1775399 (560)\ttotal: 3.19s\tremaining: 2.49s\n",
            "561:\tlearn: 0.2361968\ttest: 0.1769823\tbest: 0.1769823 (561)\ttotal: 3.2s\tremaining: 2.49s\n",
            "562:\tlearn: 0.2361209\ttest: 0.1769704\tbest: 0.1769704 (562)\ttotal: 3.21s\tremaining: 2.5s\n",
            "563:\tlearn: 0.2360074\ttest: 0.1768912\tbest: 0.1768912 (563)\ttotal: 3.23s\tremaining: 2.5s\n",
            "564:\tlearn: 0.2357611\ttest: 0.1767054\tbest: 0.1767054 (564)\ttotal: 3.24s\tremaining: 2.49s\n",
            "565:\tlearn: 0.2355182\ttest: 0.1767223\tbest: 0.1767054 (564)\ttotal: 3.25s\tremaining: 2.49s\n",
            "566:\tlearn: 0.2354926\ttest: 0.1767034\tbest: 0.1767034 (566)\ttotal: 3.25s\tremaining: 2.49s\n",
            "567:\tlearn: 0.2351769\ttest: 0.1766393\tbest: 0.1766393 (567)\ttotal: 3.26s\tremaining: 2.48s\n",
            "568:\tlearn: 0.2349508\ttest: 0.1759596\tbest: 0.1759596 (568)\ttotal: 3.27s\tremaining: 2.48s\n",
            "569:\tlearn: 0.2348025\ttest: 0.1758129\tbest: 0.1758129 (569)\ttotal: 3.29s\tremaining: 2.48s\n",
            "570:\tlearn: 0.2344611\ttest: 0.1755952\tbest: 0.1755952 (570)\ttotal: 3.3s\tremaining: 2.48s\n",
            "571:\tlearn: 0.2344534\ttest: 0.1755939\tbest: 0.1755939 (571)\ttotal: 3.31s\tremaining: 2.48s\n",
            "572:\tlearn: 0.2341656\ttest: 0.1754537\tbest: 0.1754537 (572)\ttotal: 3.33s\tremaining: 2.48s\n",
            "573:\tlearn: 0.2340609\ttest: 0.1752856\tbest: 0.1752856 (573)\ttotal: 3.34s\tremaining: 2.48s\n",
            "574:\tlearn: 0.2337375\ttest: 0.1747891\tbest: 0.1747891 (574)\ttotal: 3.35s\tremaining: 2.47s\n",
            "575:\tlearn: 0.2337310\ttest: 0.1747840\tbest: 0.1747840 (575)\ttotal: 3.36s\tremaining: 2.47s\n",
            "576:\tlearn: 0.2336388\ttest: 0.1748042\tbest: 0.1747840 (575)\ttotal: 3.37s\tremaining: 2.47s\n",
            "577:\tlearn: 0.2335657\ttest: 0.1751398\tbest: 0.1747840 (575)\ttotal: 3.38s\tremaining: 2.47s\n",
            "578:\tlearn: 0.2335636\ttest: 0.1751500\tbest: 0.1747840 (575)\ttotal: 3.39s\tremaining: 2.47s\n",
            "579:\tlearn: 0.2332903\ttest: 0.1750570\tbest: 0.1747840 (575)\ttotal: 3.41s\tremaining: 2.47s\n",
            "580:\tlearn: 0.2327875\ttest: 0.1751220\tbest: 0.1747840 (575)\ttotal: 3.42s\tremaining: 2.47s\n",
            "581:\tlearn: 0.2326265\ttest: 0.1750271\tbest: 0.1747840 (575)\ttotal: 3.43s\tremaining: 2.46s\n",
            "582:\tlearn: 0.2323309\ttest: 0.1750977\tbest: 0.1747840 (575)\ttotal: 3.44s\tremaining: 2.46s\n",
            "583:\tlearn: 0.2321563\ttest: 0.1750962\tbest: 0.1747840 (575)\ttotal: 3.45s\tremaining: 2.46s\n",
            "584:\tlearn: 0.2318193\ttest: 0.1750106\tbest: 0.1747840 (575)\ttotal: 3.46s\tremaining: 2.46s\n",
            "585:\tlearn: 0.2316200\ttest: 0.1749097\tbest: 0.1747840 (575)\ttotal: 3.47s\tremaining: 2.45s\n",
            "586:\tlearn: 0.2315092\ttest: 0.1748993\tbest: 0.1747840 (575)\ttotal: 3.48s\tremaining: 2.45s\n",
            "587:\tlearn: 0.2314894\ttest: 0.1748851\tbest: 0.1747840 (575)\ttotal: 3.49s\tremaining: 2.44s\n",
            "588:\tlearn: 0.2312034\ttest: 0.1746504\tbest: 0.1746504 (588)\ttotal: 3.5s\tremaining: 2.44s\n",
            "589:\tlearn: 0.2310766\ttest: 0.1745739\tbest: 0.1745739 (589)\ttotal: 3.51s\tremaining: 2.44s\n",
            "590:\tlearn: 0.2309486\ttest: 0.1744838\tbest: 0.1744838 (590)\ttotal: 3.52s\tremaining: 2.44s\n",
            "591:\tlearn: 0.2308836\ttest: 0.1744344\tbest: 0.1744344 (591)\ttotal: 3.53s\tremaining: 2.43s\n",
            "592:\tlearn: 0.2307695\ttest: 0.1745360\tbest: 0.1744344 (591)\ttotal: 3.55s\tremaining: 2.44s\n",
            "593:\tlearn: 0.2304432\ttest: 0.1743423\tbest: 0.1743423 (593)\ttotal: 3.56s\tremaining: 2.43s\n",
            "594:\tlearn: 0.2301342\ttest: 0.1741656\tbest: 0.1741656 (594)\ttotal: 3.57s\tremaining: 2.43s\n",
            "595:\tlearn: 0.2297598\ttest: 0.1740564\tbest: 0.1740564 (595)\ttotal: 3.58s\tremaining: 2.43s\n",
            "596:\tlearn: 0.2291268\ttest: 0.1735678\tbest: 0.1735678 (596)\ttotal: 3.6s\tremaining: 2.43s\n",
            "597:\tlearn: 0.2288536\ttest: 0.1735693\tbest: 0.1735678 (596)\ttotal: 3.61s\tremaining: 2.42s\n",
            "598:\tlearn: 0.2286255\ttest: 0.1734032\tbest: 0.1734032 (598)\ttotal: 3.62s\tremaining: 2.42s\n",
            "599:\tlearn: 0.2285251\ttest: 0.1732882\tbest: 0.1732882 (599)\ttotal: 3.63s\tremaining: 2.42s\n",
            "600:\tlearn: 0.2283874\ttest: 0.1732264\tbest: 0.1732264 (600)\ttotal: 3.64s\tremaining: 2.42s\n",
            "601:\tlearn: 0.2283628\ttest: 0.1732450\tbest: 0.1732264 (600)\ttotal: 3.65s\tremaining: 2.41s\n",
            "602:\tlearn: 0.2281210\ttest: 0.1731133\tbest: 0.1731133 (602)\ttotal: 3.66s\tremaining: 2.41s\n",
            "603:\tlearn: 0.2279917\ttest: 0.1731454\tbest: 0.1731133 (602)\ttotal: 3.67s\tremaining: 2.4s\n",
            "604:\tlearn: 0.2279754\ttest: 0.1731288\tbest: 0.1731133 (602)\ttotal: 3.69s\tremaining: 2.41s\n",
            "605:\tlearn: 0.2278041\ttest: 0.1730121\tbest: 0.1730121 (605)\ttotal: 3.7s\tremaining: 2.4s\n",
            "606:\tlearn: 0.2278012\ttest: 0.1730212\tbest: 0.1730121 (605)\ttotal: 3.71s\tremaining: 2.4s\n",
            "607:\tlearn: 0.2276191\ttest: 0.1728134\tbest: 0.1728134 (607)\ttotal: 3.72s\tremaining: 2.4s\n",
            "608:\tlearn: 0.2275105\ttest: 0.1727199\tbest: 0.1727199 (608)\ttotal: 3.73s\tremaining: 2.4s\n",
            "609:\tlearn: 0.2272664\ttest: 0.1725763\tbest: 0.1725763 (609)\ttotal: 3.74s\tremaining: 2.39s\n",
            "610:\tlearn: 0.2269193\ttest: 0.1725761\tbest: 0.1725761 (610)\ttotal: 3.75s\tremaining: 2.39s\n",
            "611:\tlearn: 0.2268094\ttest: 0.1725204\tbest: 0.1725204 (611)\ttotal: 3.77s\tremaining: 2.39s\n",
            "612:\tlearn: 0.2267331\ttest: 0.1725131\tbest: 0.1725131 (612)\ttotal: 3.78s\tremaining: 2.39s\n",
            "613:\tlearn: 0.2266127\ttest: 0.1724320\tbest: 0.1724320 (613)\ttotal: 3.79s\tremaining: 2.38s\n",
            "614:\tlearn: 0.2265141\ttest: 0.1723984\tbest: 0.1723984 (614)\ttotal: 3.81s\tremaining: 2.38s\n",
            "615:\tlearn: 0.2264765\ttest: 0.1722117\tbest: 0.1722117 (615)\ttotal: 3.82s\tremaining: 2.38s\n",
            "616:\tlearn: 0.2261724\ttest: 0.1720066\tbest: 0.1720066 (616)\ttotal: 3.83s\tremaining: 2.38s\n",
            "617:\tlearn: 0.2258238\ttest: 0.1718774\tbest: 0.1718774 (617)\ttotal: 3.83s\tremaining: 2.37s\n",
            "618:\tlearn: 0.2256408\ttest: 0.1718260\tbest: 0.1718260 (618)\ttotal: 3.84s\tremaining: 2.36s\n",
            "619:\tlearn: 0.2252522\ttest: 0.1715756\tbest: 0.1715756 (619)\ttotal: 3.84s\tremaining: 2.35s\n",
            "620:\tlearn: 0.2250230\ttest: 0.1713149\tbest: 0.1713149 (620)\ttotal: 3.85s\tremaining: 2.35s\n",
            "621:\tlearn: 0.2247598\ttest: 0.1712663\tbest: 0.1712663 (621)\ttotal: 3.85s\tremaining: 2.34s\n",
            "622:\tlearn: 0.2246925\ttest: 0.1712024\tbest: 0.1712024 (622)\ttotal: 3.86s\tremaining: 2.34s\n",
            "623:\tlearn: 0.2245663\ttest: 0.1710998\tbest: 0.1710998 (623)\ttotal: 3.87s\tremaining: 2.33s\n",
            "624:\tlearn: 0.2242877\ttest: 0.1709847\tbest: 0.1709847 (624)\ttotal: 3.88s\tremaining: 2.33s\n",
            "625:\tlearn: 0.2242833\ttest: 0.1709838\tbest: 0.1709838 (625)\ttotal: 3.89s\tremaining: 2.32s\n",
            "626:\tlearn: 0.2240731\ttest: 0.1709293\tbest: 0.1709293 (626)\ttotal: 3.9s\tremaining: 2.32s\n",
            "627:\tlearn: 0.2237014\ttest: 0.1706796\tbest: 0.1706796 (627)\ttotal: 3.93s\tremaining: 2.33s\n",
            "628:\tlearn: 0.2236082\ttest: 0.1706091\tbest: 0.1706091 (628)\ttotal: 3.95s\tremaining: 2.33s\n",
            "629:\tlearn: 0.2235460\ttest: 0.1705888\tbest: 0.1705888 (629)\ttotal: 3.97s\tremaining: 2.33s\n",
            "630:\tlearn: 0.2233818\ttest: 0.1700404\tbest: 0.1700404 (630)\ttotal: 3.98s\tremaining: 2.33s\n",
            "631:\tlearn: 0.2232774\ttest: 0.1700796\tbest: 0.1700404 (630)\ttotal: 4s\tremaining: 2.33s\n",
            "632:\tlearn: 0.2229799\ttest: 0.1701267\tbest: 0.1700404 (630)\ttotal: 4.01s\tremaining: 2.33s\n",
            "633:\tlearn: 0.2226083\ttest: 0.1702183\tbest: 0.1700404 (630)\ttotal: 4.02s\tremaining: 2.32s\n",
            "634:\tlearn: 0.2226006\ttest: 0.1702093\tbest: 0.1700404 (630)\ttotal: 4.03s\tremaining: 2.32s\n",
            "635:\tlearn: 0.2223433\ttest: 0.1701816\tbest: 0.1700404 (630)\ttotal: 4.04s\tremaining: 2.31s\n",
            "636:\tlearn: 0.2220759\ttest: 0.1702215\tbest: 0.1700404 (630)\ttotal: 4.05s\tremaining: 2.31s\n",
            "637:\tlearn: 0.2217839\ttest: 0.1699609\tbest: 0.1699609 (637)\ttotal: 4.06s\tremaining: 2.31s\n",
            "638:\tlearn: 0.2213566\ttest: 0.1699433\tbest: 0.1699433 (638)\ttotal: 4.07s\tremaining: 2.3s\n",
            "639:\tlearn: 0.2211912\ttest: 0.1699057\tbest: 0.1699057 (639)\ttotal: 4.08s\tremaining: 2.3s\n",
            "640:\tlearn: 0.2209176\ttest: 0.1698208\tbest: 0.1698208 (640)\ttotal: 4.09s\tremaining: 2.29s\n",
            "641:\tlearn: 0.2208509\ttest: 0.1698298\tbest: 0.1698208 (640)\ttotal: 4.11s\tremaining: 2.29s\n",
            "642:\tlearn: 0.2204720\ttest: 0.1696129\tbest: 0.1696129 (642)\ttotal: 4.12s\tremaining: 2.29s\n",
            "643:\tlearn: 0.2204068\ttest: 0.1695689\tbest: 0.1695689 (643)\ttotal: 4.13s\tremaining: 2.28s\n",
            "644:\tlearn: 0.2201066\ttest: 0.1695392\tbest: 0.1695392 (644)\ttotal: 4.13s\tremaining: 2.28s\n",
            "645:\tlearn: 0.2199148\ttest: 0.1694437\tbest: 0.1694437 (645)\ttotal: 4.14s\tremaining: 2.27s\n",
            "646:\tlearn: 0.2195669\ttest: 0.1692017\tbest: 0.1692017 (646)\ttotal: 4.16s\tremaining: 2.27s\n",
            "647:\tlearn: 0.2193688\ttest: 0.1689814\tbest: 0.1689814 (647)\ttotal: 4.17s\tremaining: 2.26s\n",
            "648:\tlearn: 0.2191916\ttest: 0.1690368\tbest: 0.1689814 (647)\ttotal: 4.18s\tremaining: 2.26s\n",
            "649:\tlearn: 0.2190676\ttest: 0.1688984\tbest: 0.1688984 (649)\ttotal: 4.19s\tremaining: 2.26s\n",
            "650:\tlearn: 0.2186344\ttest: 0.1686148\tbest: 0.1686148 (650)\ttotal: 4.2s\tremaining: 2.25s\n",
            "651:\tlearn: 0.2186146\ttest: 0.1685665\tbest: 0.1685665 (651)\ttotal: 4.21s\tremaining: 2.25s\n",
            "652:\tlearn: 0.2182936\ttest: 0.1683338\tbest: 0.1683338 (652)\ttotal: 4.21s\tremaining: 2.24s\n",
            "653:\tlearn: 0.2181476\ttest: 0.1682656\tbest: 0.1682656 (653)\ttotal: 4.22s\tremaining: 2.23s\n",
            "654:\tlearn: 0.2177365\ttest: 0.1680921\tbest: 0.1680921 (654)\ttotal: 4.23s\tremaining: 2.23s\n",
            "655:\tlearn: 0.2176826\ttest: 0.1680521\tbest: 0.1680521 (655)\ttotal: 4.24s\tremaining: 2.22s\n",
            "656:\tlearn: 0.2175528\ttest: 0.1680672\tbest: 0.1680521 (655)\ttotal: 4.25s\tremaining: 2.22s\n",
            "657:\tlearn: 0.2174573\ttest: 0.1679839\tbest: 0.1679839 (657)\ttotal: 4.26s\tremaining: 2.22s\n",
            "658:\tlearn: 0.2171027\ttest: 0.1678437\tbest: 0.1678437 (658)\ttotal: 4.28s\tremaining: 2.21s\n",
            "659:\tlearn: 0.2169018\ttest: 0.1677305\tbest: 0.1677305 (659)\ttotal: 4.29s\tremaining: 2.21s\n",
            "660:\tlearn: 0.2165844\ttest: 0.1676631\tbest: 0.1676631 (660)\ttotal: 4.3s\tremaining: 2.2s\n",
            "661:\tlearn: 0.2163748\ttest: 0.1674307\tbest: 0.1674307 (661)\ttotal: 4.31s\tremaining: 2.2s\n",
            "662:\tlearn: 0.2162644\ttest: 0.1673405\tbest: 0.1673405 (662)\ttotal: 4.32s\tremaining: 2.19s\n",
            "663:\tlearn: 0.2159391\ttest: 0.1673419\tbest: 0.1673405 (662)\ttotal: 4.33s\tremaining: 2.19s\n",
            "664:\tlearn: 0.2153681\ttest: 0.1671817\tbest: 0.1671817 (664)\ttotal: 4.34s\tremaining: 2.19s\n",
            "665:\tlearn: 0.2151537\ttest: 0.1670640\tbest: 0.1670640 (665)\ttotal: 4.35s\tremaining: 2.18s\n",
            "666:\tlearn: 0.2151248\ttest: 0.1670772\tbest: 0.1670640 (665)\ttotal: 4.36s\tremaining: 2.18s\n",
            "667:\tlearn: 0.2146867\ttest: 0.1669627\tbest: 0.1669627 (667)\ttotal: 4.37s\tremaining: 2.17s\n",
            "668:\tlearn: 0.2145961\ttest: 0.1669169\tbest: 0.1669169 (668)\ttotal: 4.38s\tremaining: 2.17s\n",
            "669:\tlearn: 0.2145546\ttest: 0.1669071\tbest: 0.1669071 (669)\ttotal: 4.39s\tremaining: 2.16s\n",
            "670:\tlearn: 0.2144411\ttest: 0.1668656\tbest: 0.1668656 (670)\ttotal: 4.41s\tremaining: 2.16s\n",
            "671:\tlearn: 0.2143397\ttest: 0.1667689\tbest: 0.1667689 (671)\ttotal: 4.42s\tremaining: 2.15s\n",
            "672:\tlearn: 0.2142722\ttest: 0.1667328\tbest: 0.1667328 (672)\ttotal: 4.43s\tremaining: 2.15s\n",
            "673:\tlearn: 0.2137877\ttest: 0.1665325\tbest: 0.1665325 (673)\ttotal: 4.44s\tremaining: 2.15s\n",
            "674:\tlearn: 0.2136136\ttest: 0.1665210\tbest: 0.1665210 (674)\ttotal: 4.45s\tremaining: 2.14s\n",
            "675:\tlearn: 0.2134662\ttest: 0.1665485\tbest: 0.1665210 (674)\ttotal: 4.46s\tremaining: 2.14s\n",
            "676:\tlearn: 0.2133240\ttest: 0.1665769\tbest: 0.1665210 (674)\ttotal: 4.47s\tremaining: 2.13s\n",
            "677:\tlearn: 0.2132381\ttest: 0.1665631\tbest: 0.1665210 (674)\ttotal: 4.48s\tremaining: 2.13s\n",
            "678:\tlearn: 0.2131044\ttest: 0.1665168\tbest: 0.1665168 (678)\ttotal: 4.49s\tremaining: 2.12s\n",
            "679:\tlearn: 0.2127663\ttest: 0.1667377\tbest: 0.1665168 (678)\ttotal: 4.5s\tremaining: 2.12s\n",
            "680:\tlearn: 0.2126072\ttest: 0.1666396\tbest: 0.1665168 (678)\ttotal: 4.51s\tremaining: 2.11s\n",
            "681:\tlearn: 0.2124962\ttest: 0.1666741\tbest: 0.1665168 (678)\ttotal: 4.53s\tremaining: 2.11s\n",
            "682:\tlearn: 0.2124157\ttest: 0.1665958\tbest: 0.1665168 (678)\ttotal: 4.54s\tremaining: 2.11s\n",
            "683:\tlearn: 0.2119249\ttest: 0.1662895\tbest: 0.1662895 (683)\ttotal: 4.55s\tremaining: 2.1s\n",
            "684:\tlearn: 0.2117751\ttest: 0.1661753\tbest: 0.1661753 (684)\ttotal: 4.56s\tremaining: 2.1s\n",
            "685:\tlearn: 0.2116550\ttest: 0.1661638\tbest: 0.1661638 (685)\ttotal: 4.57s\tremaining: 2.09s\n",
            "686:\tlearn: 0.2109301\ttest: 0.1656227\tbest: 0.1656227 (686)\ttotal: 4.58s\tremaining: 2.09s\n",
            "687:\tlearn: 0.2108267\ttest: 0.1654574\tbest: 0.1654574 (687)\ttotal: 4.59s\tremaining: 2.08s\n",
            "688:\tlearn: 0.2105992\ttest: 0.1654473\tbest: 0.1654473 (688)\ttotal: 4.6s\tremaining: 2.08s\n",
            "689:\tlearn: 0.2104910\ttest: 0.1654364\tbest: 0.1654364 (689)\ttotal: 4.61s\tremaining: 2.07s\n",
            "690:\tlearn: 0.2102312\ttest: 0.1653017\tbest: 0.1653017 (690)\ttotal: 4.62s\tremaining: 2.07s\n",
            "691:\tlearn: 0.2101849\ttest: 0.1653242\tbest: 0.1653017 (690)\ttotal: 4.63s\tremaining: 2.06s\n",
            "692:\tlearn: 0.2097730\ttest: 0.1651469\tbest: 0.1651469 (692)\ttotal: 4.64s\tremaining: 2.06s\n",
            "693:\tlearn: 0.2096753\ttest: 0.1651196\tbest: 0.1651196 (693)\ttotal: 4.65s\tremaining: 2.05s\n",
            "694:\tlearn: 0.2095800\ttest: 0.1650781\tbest: 0.1650781 (694)\ttotal: 4.66s\tremaining: 2.04s\n",
            "695:\tlearn: 0.2094728\ttest: 0.1652602\tbest: 0.1650781 (694)\ttotal: 4.67s\tremaining: 2.04s\n",
            "696:\tlearn: 0.2093452\ttest: 0.1649403\tbest: 0.1649403 (696)\ttotal: 4.68s\tremaining: 2.04s\n",
            "697:\tlearn: 0.2091218\ttest: 0.1648822\tbest: 0.1648822 (697)\ttotal: 4.69s\tremaining: 2.03s\n",
            "698:\tlearn: 0.2090486\ttest: 0.1648036\tbest: 0.1648036 (698)\ttotal: 4.7s\tremaining: 2.02s\n",
            "699:\tlearn: 0.2089199\ttest: 0.1647381\tbest: 0.1647381 (699)\ttotal: 4.71s\tremaining: 2.02s\n",
            "700:\tlearn: 0.2088266\ttest: 0.1646673\tbest: 0.1646673 (700)\ttotal: 4.72s\tremaining: 2.02s\n",
            "701:\tlearn: 0.2087029\ttest: 0.1645570\tbest: 0.1645570 (701)\ttotal: 4.74s\tremaining: 2.01s\n",
            "702:\tlearn: 0.2083857\ttest: 0.1644248\tbest: 0.1644248 (702)\ttotal: 4.75s\tremaining: 2s\n",
            "703:\tlearn: 0.2082956\ttest: 0.1643574\tbest: 0.1643574 (703)\ttotal: 4.76s\tremaining: 2s\n",
            "704:\tlearn: 0.2081583\ttest: 0.1642843\tbest: 0.1642843 (704)\ttotal: 4.77s\tremaining: 2s\n",
            "705:\tlearn: 0.2081094\ttest: 0.1642709\tbest: 0.1642709 (705)\ttotal: 4.79s\tremaining: 1.99s\n",
            "706:\tlearn: 0.2080726\ttest: 0.1642335\tbest: 0.1642335 (706)\ttotal: 4.8s\tremaining: 1.99s\n",
            "707:\tlearn: 0.2078444\ttest: 0.1640001\tbest: 0.1640001 (707)\ttotal: 4.81s\tremaining: 1.98s\n",
            "708:\tlearn: 0.2077657\ttest: 0.1634801\tbest: 0.1634801 (708)\ttotal: 4.82s\tremaining: 1.98s\n",
            "709:\tlearn: 0.2076643\ttest: 0.1634704\tbest: 0.1634704 (709)\ttotal: 4.83s\tremaining: 1.97s\n",
            "710:\tlearn: 0.2074594\ttest: 0.1633024\tbest: 0.1633024 (710)\ttotal: 4.84s\tremaining: 1.97s\n",
            "711:\tlearn: 0.2074115\ttest: 0.1633184\tbest: 0.1633024 (710)\ttotal: 4.85s\tremaining: 1.96s\n",
            "712:\tlearn: 0.2071226\ttest: 0.1633809\tbest: 0.1633024 (710)\ttotal: 4.87s\tremaining: 1.96s\n",
            "713:\tlearn: 0.2070088\ttest: 0.1633435\tbest: 0.1633024 (710)\ttotal: 4.88s\tremaining: 1.96s\n",
            "714:\tlearn: 0.2068122\ttest: 0.1636005\tbest: 0.1633024 (710)\ttotal: 4.89s\tremaining: 1.95s\n",
            "715:\tlearn: 0.2064569\ttest: 0.1634795\tbest: 0.1633024 (710)\ttotal: 4.89s\tremaining: 1.94s\n",
            "716:\tlearn: 0.2064033\ttest: 0.1635151\tbest: 0.1633024 (710)\ttotal: 4.92s\tremaining: 1.94s\n",
            "717:\tlearn: 0.2060988\ttest: 0.1634039\tbest: 0.1633024 (710)\ttotal: 4.93s\tremaining: 1.94s\n",
            "718:\tlearn: 0.2059778\ttest: 0.1633637\tbest: 0.1633024 (710)\ttotal: 4.94s\tremaining: 1.93s\n",
            "719:\tlearn: 0.2059646\ttest: 0.1633155\tbest: 0.1633024 (710)\ttotal: 4.95s\tremaining: 1.93s\n",
            "720:\tlearn: 0.2059531\ttest: 0.1633158\tbest: 0.1633024 (710)\ttotal: 4.96s\tremaining: 1.92s\n",
            "721:\tlearn: 0.2058342\ttest: 0.1632445\tbest: 0.1632445 (721)\ttotal: 4.97s\tremaining: 1.92s\n",
            "722:\tlearn: 0.2057499\ttest: 0.1634576\tbest: 0.1632445 (721)\ttotal: 4.99s\tremaining: 1.91s\n",
            "723:\tlearn: 0.2056157\ttest: 0.1634268\tbest: 0.1632445 (721)\ttotal: 5s\tremaining: 1.91s\n",
            "724:\tlearn: 0.2052314\ttest: 0.1631948\tbest: 0.1631948 (724)\ttotal: 5.01s\tremaining: 1.9s\n",
            "725:\tlearn: 0.2049997\ttest: 0.1624900\tbest: 0.1624900 (725)\ttotal: 5.03s\tremaining: 1.9s\n",
            "726:\tlearn: 0.2048833\ttest: 0.1623849\tbest: 0.1623849 (726)\ttotal: 5.04s\tremaining: 1.89s\n",
            "727:\tlearn: 0.2047361\ttest: 0.1624646\tbest: 0.1623849 (726)\ttotal: 5.05s\tremaining: 1.89s\n",
            "728:\tlearn: 0.2046575\ttest: 0.1623964\tbest: 0.1623849 (726)\ttotal: 5.07s\tremaining: 1.88s\n",
            "729:\tlearn: 0.2043855\ttest: 0.1623724\tbest: 0.1623724 (729)\ttotal: 5.08s\tremaining: 1.88s\n",
            "730:\tlearn: 0.2043678\ttest: 0.1623473\tbest: 0.1623473 (730)\ttotal: 5.09s\tremaining: 1.87s\n",
            "731:\tlearn: 0.2041673\ttest: 0.1622623\tbest: 0.1622623 (731)\ttotal: 5.1s\tremaining: 1.87s\n",
            "732:\tlearn: 0.2040582\ttest: 0.1622565\tbest: 0.1622565 (732)\ttotal: 5.11s\tremaining: 1.86s\n",
            "733:\tlearn: 0.2037929\ttest: 0.1620845\tbest: 0.1620845 (733)\ttotal: 5.13s\tremaining: 1.86s\n",
            "734:\tlearn: 0.2036598\ttest: 0.1617530\tbest: 0.1617530 (734)\ttotal: 5.13s\tremaining: 1.85s\n",
            "735:\tlearn: 0.2035842\ttest: 0.1617364\tbest: 0.1617364 (735)\ttotal: 5.14s\tremaining: 1.84s\n",
            "736:\tlearn: 0.2030320\ttest: 0.1617359\tbest: 0.1617359 (736)\ttotal: 5.14s\tremaining: 1.83s\n",
            "737:\tlearn: 0.2030171\ttest: 0.1616973\tbest: 0.1616973 (737)\ttotal: 5.15s\tremaining: 1.83s\n",
            "738:\tlearn: 0.2029800\ttest: 0.1615880\tbest: 0.1615880 (738)\ttotal: 5.15s\tremaining: 1.82s\n",
            "739:\tlearn: 0.2028881\ttest: 0.1615749\tbest: 0.1615749 (739)\ttotal: 5.16s\tremaining: 1.81s\n",
            "740:\tlearn: 0.2028534\ttest: 0.1615967\tbest: 0.1615749 (739)\ttotal: 5.16s\tremaining: 1.8s\n",
            "741:\tlearn: 0.2025558\ttest: 0.1614046\tbest: 0.1614046 (741)\ttotal: 5.17s\tremaining: 1.8s\n",
            "742:\tlearn: 0.2024814\ttest: 0.1615800\tbest: 0.1614046 (741)\ttotal: 5.17s\tremaining: 1.79s\n",
            "743:\tlearn: 0.2024514\ttest: 0.1615829\tbest: 0.1614046 (741)\ttotal: 5.18s\tremaining: 1.78s\n",
            "744:\tlearn: 0.2023854\ttest: 0.1614336\tbest: 0.1614046 (741)\ttotal: 5.18s\tremaining: 1.77s\n",
            "745:\tlearn: 0.2022558\ttest: 0.1613659\tbest: 0.1613659 (745)\ttotal: 5.19s\tremaining: 1.77s\n",
            "746:\tlearn: 0.2019101\ttest: 0.1612231\tbest: 0.1612231 (746)\ttotal: 5.19s\tremaining: 1.76s\n",
            "747:\tlearn: 0.2015284\ttest: 0.1611553\tbest: 0.1611553 (747)\ttotal: 5.2s\tremaining: 1.75s\n",
            "748:\tlearn: 0.2013459\ttest: 0.1611024\tbest: 0.1611024 (748)\ttotal: 5.2s\tremaining: 1.74s\n",
            "749:\tlearn: 0.2013252\ttest: 0.1610816\tbest: 0.1610816 (749)\ttotal: 5.21s\tremaining: 1.74s\n",
            "750:\tlearn: 0.2009675\ttest: 0.1610219\tbest: 0.1610219 (750)\ttotal: 5.21s\tremaining: 1.73s\n",
            "751:\tlearn: 0.2009055\ttest: 0.1609870\tbest: 0.1609870 (751)\ttotal: 5.22s\tremaining: 1.72s\n",
            "752:\tlearn: 0.2005224\ttest: 0.1609863\tbest: 0.1609863 (752)\ttotal: 5.22s\tremaining: 1.71s\n",
            "753:\tlearn: 0.2004961\ttest: 0.1609767\tbest: 0.1609767 (753)\ttotal: 5.23s\tremaining: 1.71s\n",
            "754:\tlearn: 0.2002218\ttest: 0.1608139\tbest: 0.1608139 (754)\ttotal: 5.24s\tremaining: 1.7s\n",
            "755:\tlearn: 0.2001892\ttest: 0.1607558\tbest: 0.1607558 (755)\ttotal: 5.25s\tremaining: 1.7s\n",
            "756:\tlearn: 0.1998795\ttest: 0.1606517\tbest: 0.1606517 (756)\ttotal: 5.27s\tremaining: 1.69s\n",
            "757:\tlearn: 0.1997512\ttest: 0.1606446\tbest: 0.1606446 (757)\ttotal: 5.28s\tremaining: 1.69s\n",
            "758:\tlearn: 0.1996138\ttest: 0.1605639\tbest: 0.1605639 (758)\ttotal: 5.29s\tremaining: 1.68s\n",
            "759:\tlearn: 0.1992423\ttest: 0.1604397\tbest: 0.1604397 (759)\ttotal: 5.3s\tremaining: 1.68s\n",
            "760:\tlearn: 0.1989644\ttest: 0.1602618\tbest: 0.1602618 (760)\ttotal: 5.32s\tremaining: 1.67s\n",
            "761:\tlearn: 0.1986790\ttest: 0.1602430\tbest: 0.1602430 (761)\ttotal: 5.33s\tremaining: 1.66s\n",
            "762:\tlearn: 0.1982590\ttest: 0.1599350\tbest: 0.1599350 (762)\ttotal: 5.34s\tremaining: 1.66s\n",
            "763:\tlearn: 0.1979103\ttest: 0.1596632\tbest: 0.1596632 (763)\ttotal: 5.35s\tremaining: 1.65s\n",
            "764:\tlearn: 0.1977460\ttest: 0.1595845\tbest: 0.1595845 (764)\ttotal: 5.37s\tremaining: 1.65s\n",
            "765:\tlearn: 0.1977016\ttest: 0.1595577\tbest: 0.1595577 (765)\ttotal: 5.38s\tremaining: 1.64s\n",
            "766:\tlearn: 0.1975193\ttest: 0.1594567\tbest: 0.1594567 (766)\ttotal: 5.39s\tremaining: 1.64s\n",
            "767:\tlearn: 0.1973505\ttest: 0.1594570\tbest: 0.1594567 (766)\ttotal: 5.41s\tremaining: 1.63s\n",
            "768:\tlearn: 0.1971368\ttest: 0.1594022\tbest: 0.1594022 (768)\ttotal: 5.42s\tremaining: 1.63s\n",
            "769:\tlearn: 0.1969296\ttest: 0.1592745\tbest: 0.1592745 (769)\ttotal: 5.42s\tremaining: 1.62s\n",
            "770:\tlearn: 0.1965896\ttest: 0.1592592\tbest: 0.1592592 (770)\ttotal: 5.43s\tremaining: 1.61s\n",
            "771:\tlearn: 0.1963811\ttest: 0.1591713\tbest: 0.1591713 (771)\ttotal: 5.44s\tremaining: 1.61s\n",
            "772:\tlearn: 0.1960718\ttest: 0.1589808\tbest: 0.1589808 (772)\ttotal: 5.46s\tremaining: 1.6s\n",
            "773:\tlearn: 0.1958644\ttest: 0.1588888\tbest: 0.1588888 (773)\ttotal: 5.47s\tremaining: 1.6s\n",
            "774:\tlearn: 0.1956875\ttest: 0.1588553\tbest: 0.1588553 (774)\ttotal: 5.48s\tremaining: 1.59s\n",
            "775:\tlearn: 0.1952993\ttest: 0.1587805\tbest: 0.1587805 (775)\ttotal: 5.49s\tremaining: 1.58s\n",
            "776:\tlearn: 0.1952133\ttest: 0.1586757\tbest: 0.1586757 (776)\ttotal: 5.5s\tremaining: 1.58s\n",
            "777:\tlearn: 0.1950948\ttest: 0.1586722\tbest: 0.1586722 (777)\ttotal: 5.51s\tremaining: 1.57s\n",
            "778:\tlearn: 0.1950816\ttest: 0.1586304\tbest: 0.1586304 (778)\ttotal: 5.51s\tremaining: 1.56s\n",
            "779:\tlearn: 0.1948511\ttest: 0.1586304\tbest: 0.1586304 (778)\ttotal: 5.52s\tremaining: 1.56s\n",
            "780:\tlearn: 0.1945158\ttest: 0.1583709\tbest: 0.1583709 (780)\ttotal: 5.53s\tremaining: 1.55s\n",
            "781:\tlearn: 0.1942938\ttest: 0.1582238\tbest: 0.1582238 (781)\ttotal: 5.54s\tremaining: 1.54s\n",
            "782:\tlearn: 0.1938503\ttest: 0.1579722\tbest: 0.1579722 (782)\ttotal: 5.55s\tremaining: 1.54s\n",
            "783:\tlearn: 0.1938386\ttest: 0.1579426\tbest: 0.1579426 (783)\ttotal: 5.57s\tremaining: 1.53s\n",
            "784:\tlearn: 0.1935186\ttest: 0.1577655\tbest: 0.1577655 (784)\ttotal: 5.58s\tremaining: 1.53s\n",
            "785:\tlearn: 0.1932842\ttest: 0.1577138\tbest: 0.1577138 (785)\ttotal: 5.59s\tremaining: 1.52s\n",
            "786:\tlearn: 0.1930670\ttest: 0.1576041\tbest: 0.1576041 (786)\ttotal: 5.6s\tremaining: 1.52s\n",
            "787:\tlearn: 0.1930074\ttest: 0.1575581\tbest: 0.1575581 (787)\ttotal: 5.62s\tremaining: 1.51s\n",
            "788:\tlearn: 0.1929885\ttest: 0.1575408\tbest: 0.1575408 (788)\ttotal: 5.63s\tremaining: 1.5s\n",
            "789:\tlearn: 0.1928207\ttest: 0.1573950\tbest: 0.1573950 (789)\ttotal: 5.64s\tremaining: 1.5s\n",
            "790:\tlearn: 0.1927258\ttest: 0.1573714\tbest: 0.1573714 (790)\ttotal: 5.65s\tremaining: 1.49s\n",
            "791:\tlearn: 0.1926557\ttest: 0.1573234\tbest: 0.1573234 (791)\ttotal: 5.66s\tremaining: 1.49s\n",
            "792:\tlearn: 0.1924707\ttest: 0.1572569\tbest: 0.1572569 (792)\ttotal: 5.67s\tremaining: 1.48s\n",
            "793:\tlearn: 0.1922507\ttest: 0.1571630\tbest: 0.1571630 (793)\ttotal: 5.68s\tremaining: 1.47s\n",
            "794:\tlearn: 0.1922231\ttest: 0.1571304\tbest: 0.1571304 (794)\ttotal: 5.69s\tremaining: 1.47s\n",
            "795:\tlearn: 0.1921538\ttest: 0.1571080\tbest: 0.1571080 (795)\ttotal: 5.71s\tremaining: 1.46s\n",
            "796:\tlearn: 0.1919305\ttest: 0.1569931\tbest: 0.1569931 (796)\ttotal: 5.72s\tremaining: 1.46s\n",
            "797:\tlearn: 0.1917407\ttest: 0.1569687\tbest: 0.1569687 (797)\ttotal: 5.73s\tremaining: 1.45s\n",
            "798:\tlearn: 0.1917118\ttest: 0.1569490\tbest: 0.1569490 (798)\ttotal: 5.75s\tremaining: 1.45s\n",
            "799:\tlearn: 0.1916056\ttest: 0.1568965\tbest: 0.1568965 (799)\ttotal: 5.76s\tremaining: 1.44s\n",
            "800:\tlearn: 0.1913662\ttest: 0.1567600\tbest: 0.1567600 (800)\ttotal: 5.77s\tremaining: 1.43s\n",
            "801:\tlearn: 0.1911415\ttest: 0.1566463\tbest: 0.1566463 (801)\ttotal: 5.78s\tremaining: 1.43s\n",
            "802:\tlearn: 0.1909234\ttest: 0.1564128\tbest: 0.1564128 (802)\ttotal: 5.79s\tremaining: 1.42s\n",
            "803:\tlearn: 0.1907530\ttest: 0.1563012\tbest: 0.1563012 (803)\ttotal: 5.8s\tremaining: 1.41s\n",
            "804:\tlearn: 0.1904743\ttest: 0.1563833\tbest: 0.1563012 (803)\ttotal: 5.8s\tremaining: 1.41s\n",
            "805:\tlearn: 0.1904049\ttest: 0.1564381\tbest: 0.1563012 (803)\ttotal: 5.8s\tremaining: 1.4s\n",
            "806:\tlearn: 0.1902288\ttest: 0.1563369\tbest: 0.1563012 (803)\ttotal: 5.81s\tremaining: 1.39s\n",
            "807:\tlearn: 0.1900555\ttest: 0.1562817\tbest: 0.1562817 (807)\ttotal: 5.81s\tremaining: 1.38s\n",
            "808:\tlearn: 0.1899545\ttest: 0.1562512\tbest: 0.1562512 (808)\ttotal: 5.82s\tremaining: 1.37s\n",
            "809:\tlearn: 0.1897133\ttest: 0.1561101\tbest: 0.1561101 (809)\ttotal: 5.82s\tremaining: 1.36s\n",
            "810:\tlearn: 0.1895620\ttest: 0.1560591\tbest: 0.1560591 (810)\ttotal: 5.83s\tremaining: 1.36s\n",
            "811:\tlearn: 0.1894950\ttest: 0.1560489\tbest: 0.1560489 (811)\ttotal: 5.83s\tremaining: 1.35s\n",
            "812:\tlearn: 0.1889946\ttest: 0.1558622\tbest: 0.1558622 (812)\ttotal: 5.83s\tremaining: 1.34s\n",
            "813:\tlearn: 0.1888325\ttest: 0.1557361\tbest: 0.1557361 (813)\ttotal: 5.84s\tremaining: 1.33s\n",
            "814:\tlearn: 0.1886230\ttest: 0.1558425\tbest: 0.1557361 (813)\ttotal: 5.84s\tremaining: 1.33s\n",
            "815:\tlearn: 0.1885505\ttest: 0.1558233\tbest: 0.1557361 (813)\ttotal: 5.85s\tremaining: 1.32s\n",
            "816:\tlearn: 0.1882745\ttest: 0.1556116\tbest: 0.1556116 (816)\ttotal: 5.85s\tremaining: 1.31s\n",
            "817:\tlearn: 0.1881349\ttest: 0.1555587\tbest: 0.1555587 (817)\ttotal: 5.86s\tremaining: 1.3s\n",
            "818:\tlearn: 0.1878959\ttest: 0.1547576\tbest: 0.1547576 (818)\ttotal: 5.87s\tremaining: 1.3s\n",
            "819:\tlearn: 0.1878688\ttest: 0.1547656\tbest: 0.1547576 (818)\ttotal: 5.88s\tremaining: 1.29s\n",
            "820:\tlearn: 0.1875985\ttest: 0.1546071\tbest: 0.1546071 (820)\ttotal: 5.89s\tremaining: 1.28s\n",
            "821:\tlearn: 0.1875415\ttest: 0.1545377\tbest: 0.1545377 (821)\ttotal: 5.91s\tremaining: 1.28s\n",
            "822:\tlearn: 0.1872651\ttest: 0.1545535\tbest: 0.1545377 (821)\ttotal: 5.92s\tremaining: 1.27s\n",
            "823:\tlearn: 0.1872260\ttest: 0.1545906\tbest: 0.1545377 (821)\ttotal: 5.93s\tremaining: 1.27s\n",
            "824:\tlearn: 0.1872002\ttest: 0.1545416\tbest: 0.1545377 (821)\ttotal: 5.94s\tremaining: 1.26s\n",
            "825:\tlearn: 0.1869667\ttest: 0.1544560\tbest: 0.1544560 (825)\ttotal: 5.94s\tremaining: 1.25s\n",
            "826:\tlearn: 0.1867737\ttest: 0.1547436\tbest: 0.1544560 (825)\ttotal: 5.95s\tremaining: 1.24s\n",
            "827:\tlearn: 0.1864441\ttest: 0.1545540\tbest: 0.1544560 (825)\ttotal: 5.95s\tremaining: 1.24s\n",
            "828:\tlearn: 0.1863332\ttest: 0.1544629\tbest: 0.1544560 (825)\ttotal: 5.96s\tremaining: 1.23s\n",
            "829:\tlearn: 0.1862618\ttest: 0.1544103\tbest: 0.1544103 (829)\ttotal: 5.97s\tremaining: 1.22s\n",
            "830:\tlearn: 0.1861531\ttest: 0.1544116\tbest: 0.1544103 (829)\ttotal: 5.98s\tremaining: 1.22s\n",
            "831:\tlearn: 0.1858703\ttest: 0.1543183\tbest: 0.1543183 (831)\ttotal: 5.98s\tremaining: 1.21s\n",
            "832:\tlearn: 0.1857439\ttest: 0.1542640\tbest: 0.1542640 (832)\ttotal: 5.99s\tremaining: 1.2s\n",
            "833:\tlearn: 0.1855472\ttest: 0.1540904\tbest: 0.1540904 (833)\ttotal: 5.99s\tremaining: 1.19s\n",
            "834:\tlearn: 0.1852997\ttest: 0.1538822\tbest: 0.1538822 (834)\ttotal: 6s\tremaining: 1.18s\n",
            "835:\tlearn: 0.1850362\ttest: 0.1537954\tbest: 0.1537954 (835)\ttotal: 6s\tremaining: 1.18s\n",
            "836:\tlearn: 0.1849908\ttest: 0.1537866\tbest: 0.1537866 (836)\ttotal: 6s\tremaining: 1.17s\n",
            "837:\tlearn: 0.1847368\ttest: 0.1535943\tbest: 0.1535943 (837)\ttotal: 6.01s\tremaining: 1.16s\n",
            "838:\tlearn: 0.1846383\ttest: 0.1534724\tbest: 0.1534724 (838)\ttotal: 6.01s\tremaining: 1.15s\n",
            "839:\tlearn: 0.1845131\ttest: 0.1535577\tbest: 0.1534724 (838)\ttotal: 6.02s\tremaining: 1.15s\n",
            "840:\tlearn: 0.1842672\ttest: 0.1534838\tbest: 0.1534724 (838)\ttotal: 6.02s\tremaining: 1.14s\n",
            "841:\tlearn: 0.1840346\ttest: 0.1534769\tbest: 0.1534724 (838)\ttotal: 6.03s\tremaining: 1.13s\n",
            "842:\tlearn: 0.1840283\ttest: 0.1534743\tbest: 0.1534724 (838)\ttotal: 6.03s\tremaining: 1.12s\n",
            "843:\tlearn: 0.1839709\ttest: 0.1534362\tbest: 0.1534362 (843)\ttotal: 6.03s\tremaining: 1.11s\n",
            "844:\tlearn: 0.1836923\ttest: 0.1533249\tbest: 0.1533249 (844)\ttotal: 6.04s\tremaining: 1.11s\n",
            "845:\tlearn: 0.1834804\ttest: 0.1531761\tbest: 0.1531761 (845)\ttotal: 6.04s\tremaining: 1.1s\n",
            "846:\tlearn: 0.1832708\ttest: 0.1531267\tbest: 0.1531267 (846)\ttotal: 6.04s\tremaining: 1.09s\n",
            "847:\tlearn: 0.1831771\ttest: 0.1526722\tbest: 0.1526722 (847)\ttotal: 6.05s\tremaining: 1.08s\n",
            "848:\tlearn: 0.1831086\ttest: 0.1526548\tbest: 0.1526548 (848)\ttotal: 6.05s\tremaining: 1.08s\n",
            "849:\tlearn: 0.1830903\ttest: 0.1526247\tbest: 0.1526247 (849)\ttotal: 6.06s\tremaining: 1.07s\n",
            "850:\tlearn: 0.1827901\ttest: 0.1525183\tbest: 0.1525183 (850)\ttotal: 6.07s\tremaining: 1.06s\n",
            "851:\tlearn: 0.1824406\ttest: 0.1522142\tbest: 0.1522142 (851)\ttotal: 6.07s\tremaining: 1.05s\n",
            "852:\tlearn: 0.1822454\ttest: 0.1520721\tbest: 0.1520721 (852)\ttotal: 6.07s\tremaining: 1.05s\n",
            "853:\tlearn: 0.1820325\ttest: 0.1519553\tbest: 0.1519553 (853)\ttotal: 6.08s\tremaining: 1.04s\n",
            "854:\tlearn: 0.1818974\ttest: 0.1518691\tbest: 0.1518691 (854)\ttotal: 6.08s\tremaining: 1.03s\n",
            "855:\tlearn: 0.1817443\ttest: 0.1518115\tbest: 0.1518115 (855)\ttotal: 6.08s\tremaining: 1.02s\n",
            "856:\tlearn: 0.1816675\ttest: 0.1517768\tbest: 0.1517768 (856)\ttotal: 6.09s\tremaining: 1.02s\n",
            "857:\tlearn: 0.1816281\ttest: 0.1517939\tbest: 0.1517768 (856)\ttotal: 6.09s\tremaining: 1.01s\n",
            "858:\tlearn: 0.1815358\ttest: 0.1517472\tbest: 0.1517472 (858)\ttotal: 6.1s\tremaining: 1s\n",
            "859:\tlearn: 0.1814813\ttest: 0.1516906\tbest: 0.1516906 (859)\ttotal: 6.1s\tremaining: 993ms\n",
            "860:\tlearn: 0.1812717\ttest: 0.1515680\tbest: 0.1515680 (860)\ttotal: 6.11s\tremaining: 986ms\n",
            "861:\tlearn: 0.1811124\ttest: 0.1517018\tbest: 0.1515680 (860)\ttotal: 6.11s\tremaining: 978ms\n",
            "862:\tlearn: 0.1810441\ttest: 0.1516351\tbest: 0.1515680 (860)\ttotal: 6.11s\tremaining: 971ms\n",
            "863:\tlearn: 0.1809014\ttest: 0.1514503\tbest: 0.1514503 (863)\ttotal: 6.12s\tremaining: 963ms\n",
            "864:\tlearn: 0.1806869\ttest: 0.1513581\tbest: 0.1513581 (864)\ttotal: 6.12s\tremaining: 956ms\n",
            "865:\tlearn: 0.1805680\ttest: 0.1512823\tbest: 0.1512823 (865)\ttotal: 6.13s\tremaining: 948ms\n",
            "866:\tlearn: 0.1804687\ttest: 0.1512867\tbest: 0.1512823 (865)\ttotal: 6.13s\tremaining: 941ms\n",
            "867:\tlearn: 0.1804066\ttest: 0.1512073\tbest: 0.1512073 (867)\ttotal: 6.14s\tremaining: 933ms\n",
            "868:\tlearn: 0.1802340\ttest: 0.1510691\tbest: 0.1510691 (868)\ttotal: 6.14s\tremaining: 926ms\n",
            "869:\tlearn: 0.1801096\ttest: 0.1510581\tbest: 0.1510581 (869)\ttotal: 6.14s\tremaining: 918ms\n",
            "870:\tlearn: 0.1800942\ttest: 0.1510375\tbest: 0.1510375 (870)\ttotal: 6.15s\tremaining: 911ms\n",
            "871:\tlearn: 0.1800320\ttest: 0.1511607\tbest: 0.1510375 (870)\ttotal: 6.15s\tremaining: 903ms\n",
            "872:\tlearn: 0.1799871\ttest: 0.1511314\tbest: 0.1510375 (870)\ttotal: 6.16s\tremaining: 896ms\n",
            "873:\tlearn: 0.1798495\ttest: 0.1510766\tbest: 0.1510375 (870)\ttotal: 6.16s\tremaining: 888ms\n",
            "874:\tlearn: 0.1798153\ttest: 0.1510648\tbest: 0.1510375 (870)\ttotal: 6.16s\tremaining: 881ms\n",
            "875:\tlearn: 0.1797300\ttest: 0.1510317\tbest: 0.1510317 (875)\ttotal: 6.17s\tremaining: 873ms\n",
            "876:\tlearn: 0.1797151\ttest: 0.1510107\tbest: 0.1510107 (876)\ttotal: 6.17s\tremaining: 866ms\n",
            "877:\tlearn: 0.1794671\ttest: 0.1507845\tbest: 0.1507845 (877)\ttotal: 6.18s\tremaining: 858ms\n",
            "878:\tlearn: 0.1791297\ttest: 0.1505728\tbest: 0.1505728 (878)\ttotal: 6.18s\tremaining: 851ms\n",
            "879:\tlearn: 0.1789636\ttest: 0.1504102\tbest: 0.1504102 (879)\ttotal: 6.18s\tremaining: 843ms\n",
            "880:\tlearn: 0.1788398\ttest: 0.1503925\tbest: 0.1503925 (880)\ttotal: 6.19s\tremaining: 836ms\n",
            "881:\tlearn: 0.1787710\ttest: 0.1504852\tbest: 0.1503925 (880)\ttotal: 6.19s\tremaining: 829ms\n",
            "882:\tlearn: 0.1784796\ttest: 0.1503080\tbest: 0.1503080 (882)\ttotal: 6.2s\tremaining: 821ms\n",
            "883:\tlearn: 0.1782166\ttest: 0.1501758\tbest: 0.1501758 (883)\ttotal: 6.2s\tremaining: 814ms\n",
            "884:\tlearn: 0.1781006\ttest: 0.1502549\tbest: 0.1501758 (883)\ttotal: 6.2s\tremaining: 806ms\n",
            "885:\tlearn: 0.1778351\ttest: 0.1502263\tbest: 0.1501758 (883)\ttotal: 6.21s\tremaining: 799ms\n",
            "886:\tlearn: 0.1777661\ttest: 0.1501737\tbest: 0.1501737 (886)\ttotal: 6.21s\tremaining: 792ms\n",
            "887:\tlearn: 0.1774972\ttest: 0.1499014\tbest: 0.1499014 (887)\ttotal: 6.22s\tremaining: 784ms\n",
            "888:\tlearn: 0.1772675\ttest: 0.1497677\tbest: 0.1497677 (888)\ttotal: 6.22s\tremaining: 777ms\n",
            "889:\tlearn: 0.1769426\ttest: 0.1495573\tbest: 0.1495573 (889)\ttotal: 6.22s\tremaining: 769ms\n",
            "890:\tlearn: 0.1767760\ttest: 0.1495109\tbest: 0.1495109 (890)\ttotal: 6.23s\tremaining: 762ms\n",
            "891:\tlearn: 0.1766060\ttest: 0.1495147\tbest: 0.1495109 (890)\ttotal: 6.23s\tremaining: 755ms\n",
            "892:\tlearn: 0.1763349\ttest: 0.1494739\tbest: 0.1494739 (892)\ttotal: 6.24s\tremaining: 747ms\n",
            "893:\tlearn: 0.1762835\ttest: 0.1493522\tbest: 0.1493522 (893)\ttotal: 6.24s\tremaining: 740ms\n",
            "894:\tlearn: 0.1760199\ttest: 0.1491565\tbest: 0.1491565 (894)\ttotal: 6.24s\tremaining: 733ms\n",
            "895:\tlearn: 0.1759694\ttest: 0.1491477\tbest: 0.1491477 (895)\ttotal: 6.25s\tremaining: 725ms\n",
            "896:\tlearn: 0.1759071\ttest: 0.1491498\tbest: 0.1491477 (895)\ttotal: 6.25s\tremaining: 718ms\n",
            "897:\tlearn: 0.1758251\ttest: 0.1491068\tbest: 0.1491068 (897)\ttotal: 6.26s\tremaining: 711ms\n",
            "898:\tlearn: 0.1757065\ttest: 0.1489633\tbest: 0.1489633 (898)\ttotal: 6.27s\tremaining: 704ms\n",
            "899:\tlearn: 0.1754489\ttest: 0.1487741\tbest: 0.1487741 (899)\ttotal: 6.27s\tremaining: 697ms\n",
            "900:\tlearn: 0.1753693\ttest: 0.1487304\tbest: 0.1487304 (900)\ttotal: 6.28s\tremaining: 690ms\n",
            "901:\tlearn: 0.1752723\ttest: 0.1488327\tbest: 0.1487304 (900)\ttotal: 6.28s\tremaining: 682ms\n",
            "902:\tlearn: 0.1750528\ttest: 0.1487014\tbest: 0.1487014 (902)\ttotal: 6.29s\tremaining: 675ms\n",
            "903:\tlearn: 0.1749139\ttest: 0.1486500\tbest: 0.1486500 (903)\ttotal: 6.29s\tremaining: 668ms\n",
            "904:\tlearn: 0.1748625\ttest: 0.1487298\tbest: 0.1486500 (903)\ttotal: 6.31s\tremaining: 662ms\n",
            "905:\tlearn: 0.1747283\ttest: 0.1484037\tbest: 0.1484037 (905)\ttotal: 6.32s\tremaining: 655ms\n",
            "906:\tlearn: 0.1744827\ttest: 0.1484000\tbest: 0.1484000 (906)\ttotal: 6.32s\tremaining: 648ms\n",
            "907:\tlearn: 0.1744711\ttest: 0.1483837\tbest: 0.1483837 (907)\ttotal: 6.33s\tremaining: 641ms\n",
            "908:\tlearn: 0.1742984\ttest: 0.1482798\tbest: 0.1482798 (908)\ttotal: 6.33s\tremaining: 634ms\n",
            "909:\tlearn: 0.1742184\ttest: 0.1482800\tbest: 0.1482798 (908)\ttotal: 6.34s\tremaining: 627ms\n",
            "910:\tlearn: 0.1741768\ttest: 0.1482641\tbest: 0.1482641 (910)\ttotal: 6.34s\tremaining: 619ms\n",
            "911:\tlearn: 0.1740008\ttest: 0.1482227\tbest: 0.1482227 (911)\ttotal: 6.34s\tremaining: 612ms\n",
            "912:\tlearn: 0.1736477\ttest: 0.1480583\tbest: 0.1480583 (912)\ttotal: 6.35s\tremaining: 605ms\n",
            "913:\tlearn: 0.1734314\ttest: 0.1481013\tbest: 0.1480583 (912)\ttotal: 6.35s\tremaining: 598ms\n",
            "914:\tlearn: 0.1734030\ttest: 0.1481133\tbest: 0.1480583 (912)\ttotal: 6.36s\tremaining: 591ms\n",
            "915:\tlearn: 0.1732685\ttest: 0.1479372\tbest: 0.1479372 (915)\ttotal: 6.36s\tremaining: 583ms\n",
            "916:\tlearn: 0.1732536\ttest: 0.1479114\tbest: 0.1479114 (916)\ttotal: 6.37s\tremaining: 576ms\n",
            "917:\tlearn: 0.1730574\ttest: 0.1479448\tbest: 0.1479114 (916)\ttotal: 6.37s\tremaining: 569ms\n",
            "918:\tlearn: 0.1730199\ttest: 0.1478998\tbest: 0.1478998 (918)\ttotal: 6.37s\tremaining: 562ms\n",
            "919:\tlearn: 0.1729668\ttest: 0.1477466\tbest: 0.1477466 (919)\ttotal: 6.38s\tremaining: 555ms\n",
            "920:\tlearn: 0.1723031\ttest: 0.1472495\tbest: 0.1472495 (920)\ttotal: 6.38s\tremaining: 547ms\n",
            "921:\tlearn: 0.1721927\ttest: 0.1472158\tbest: 0.1472158 (921)\ttotal: 6.38s\tremaining: 540ms\n",
            "922:\tlearn: 0.1721445\ttest: 0.1471525\tbest: 0.1471525 (922)\ttotal: 6.39s\tremaining: 533ms\n",
            "923:\tlearn: 0.1720400\ttest: 0.1472342\tbest: 0.1471525 (922)\ttotal: 6.39s\tremaining: 526ms\n",
            "924:\tlearn: 0.1719879\ttest: 0.1471142\tbest: 0.1471142 (924)\ttotal: 6.4s\tremaining: 519ms\n",
            "925:\tlearn: 0.1719101\ttest: 0.1469979\tbest: 0.1469979 (925)\ttotal: 6.4s\tremaining: 511ms\n",
            "926:\tlearn: 0.1718460\ttest: 0.1470338\tbest: 0.1469979 (925)\ttotal: 6.4s\tremaining: 504ms\n",
            "927:\tlearn: 0.1716021\ttest: 0.1469025\tbest: 0.1469025 (927)\ttotal: 6.41s\tremaining: 497ms\n",
            "928:\tlearn: 0.1715746\ttest: 0.1468812\tbest: 0.1468812 (928)\ttotal: 6.41s\tremaining: 490ms\n",
            "929:\tlearn: 0.1714855\ttest: 0.1467512\tbest: 0.1467512 (929)\ttotal: 6.42s\tremaining: 483ms\n",
            "930:\tlearn: 0.1713640\ttest: 0.1466528\tbest: 0.1466528 (930)\ttotal: 6.42s\tremaining: 476ms\n",
            "931:\tlearn: 0.1712992\ttest: 0.1468771\tbest: 0.1466528 (930)\ttotal: 6.42s\tremaining: 469ms\n",
            "932:\tlearn: 0.1711820\ttest: 0.1468879\tbest: 0.1466528 (930)\ttotal: 6.43s\tremaining: 462ms\n",
            "933:\tlearn: 0.1707992\ttest: 0.1466538\tbest: 0.1466528 (930)\ttotal: 6.43s\tremaining: 455ms\n",
            "934:\tlearn: 0.1706463\ttest: 0.1464795\tbest: 0.1464795 (934)\ttotal: 6.44s\tremaining: 447ms\n",
            "935:\tlearn: 0.1705497\ttest: 0.1464814\tbest: 0.1464795 (934)\ttotal: 6.44s\tremaining: 440ms\n",
            "936:\tlearn: 0.1705047\ttest: 0.1464861\tbest: 0.1464795 (934)\ttotal: 6.45s\tremaining: 433ms\n",
            "937:\tlearn: 0.1704574\ttest: 0.1464575\tbest: 0.1464575 (937)\ttotal: 6.45s\tremaining: 426ms\n",
            "938:\tlearn: 0.1704340\ttest: 0.1464603\tbest: 0.1464575 (937)\ttotal: 6.45s\tremaining: 419ms\n",
            "939:\tlearn: 0.1703722\ttest: 0.1465690\tbest: 0.1464575 (937)\ttotal: 6.46s\tremaining: 412ms\n",
            "940:\tlearn: 0.1701665\ttest: 0.1464730\tbest: 0.1464575 (937)\ttotal: 6.47s\tremaining: 406ms\n",
            "941:\tlearn: 0.1699625\ttest: 0.1464008\tbest: 0.1464008 (941)\ttotal: 6.47s\tremaining: 399ms\n",
            "942:\tlearn: 0.1699552\ttest: 0.1463925\tbest: 0.1463925 (942)\ttotal: 6.48s\tremaining: 391ms\n",
            "943:\tlearn: 0.1698620\ttest: 0.1462524\tbest: 0.1462524 (943)\ttotal: 6.48s\tremaining: 384ms\n",
            "944:\tlearn: 0.1698449\ttest: 0.1461803\tbest: 0.1461803 (944)\ttotal: 6.48s\tremaining: 377ms\n",
            "945:\tlearn: 0.1696276\ttest: 0.1460580\tbest: 0.1460580 (945)\ttotal: 6.49s\tremaining: 370ms\n",
            "946:\tlearn: 0.1695874\ttest: 0.1460268\tbest: 0.1460268 (946)\ttotal: 6.49s\tremaining: 363ms\n",
            "947:\tlearn: 0.1694290\ttest: 0.1459876\tbest: 0.1459876 (947)\ttotal: 6.5s\tremaining: 356ms\n",
            "948:\tlearn: 0.1692322\ttest: 0.1459283\tbest: 0.1459283 (948)\ttotal: 6.5s\tremaining: 349ms\n",
            "949:\tlearn: 0.1691613\ttest: 0.1458484\tbest: 0.1458484 (949)\ttotal: 6.5s\tremaining: 342ms\n",
            "950:\tlearn: 0.1690800\ttest: 0.1458626\tbest: 0.1458484 (949)\ttotal: 6.51s\tremaining: 335ms\n",
            "951:\tlearn: 0.1689667\ttest: 0.1458924\tbest: 0.1458484 (949)\ttotal: 6.51s\tremaining: 328ms\n",
            "952:\tlearn: 0.1688326\ttest: 0.1458043\tbest: 0.1458043 (952)\ttotal: 6.52s\tremaining: 321ms\n",
            "953:\tlearn: 0.1685889\ttest: 0.1457068\tbest: 0.1457068 (953)\ttotal: 6.52s\tremaining: 314ms\n",
            "954:\tlearn: 0.1683719\ttest: 0.1456489\tbest: 0.1456489 (954)\ttotal: 6.53s\tremaining: 308ms\n",
            "955:\tlearn: 0.1682633\ttest: 0.1457011\tbest: 0.1456489 (954)\ttotal: 6.53s\tremaining: 301ms\n",
            "956:\tlearn: 0.1682037\ttest: 0.1456702\tbest: 0.1456489 (954)\ttotal: 6.53s\tremaining: 294ms\n",
            "957:\tlearn: 0.1680950\ttest: 0.1455504\tbest: 0.1455504 (957)\ttotal: 6.54s\tremaining: 287ms\n",
            "958:\tlearn: 0.1680713\ttest: 0.1455279\tbest: 0.1455279 (958)\ttotal: 6.54s\tremaining: 280ms\n",
            "959:\tlearn: 0.1679667\ttest: 0.1456150\tbest: 0.1455279 (958)\ttotal: 6.55s\tremaining: 273ms\n",
            "960:\tlearn: 0.1676796\ttest: 0.1452083\tbest: 0.1452083 (960)\ttotal: 6.55s\tremaining: 266ms\n",
            "961:\tlearn: 0.1675278\ttest: 0.1452132\tbest: 0.1452083 (960)\ttotal: 6.55s\tremaining: 259ms\n",
            "962:\tlearn: 0.1675190\ttest: 0.1452013\tbest: 0.1452013 (962)\ttotal: 6.56s\tremaining: 252ms\n",
            "963:\tlearn: 0.1673868\ttest: 0.1452505\tbest: 0.1452013 (962)\ttotal: 6.56s\tremaining: 245ms\n",
            "964:\tlearn: 0.1672321\ttest: 0.1452244\tbest: 0.1452013 (962)\ttotal: 6.57s\tremaining: 238ms\n",
            "965:\tlearn: 0.1670904\ttest: 0.1452670\tbest: 0.1452013 (962)\ttotal: 6.57s\tremaining: 231ms\n",
            "966:\tlearn: 0.1669580\ttest: 0.1452353\tbest: 0.1452013 (962)\ttotal: 6.58s\tremaining: 224ms\n",
            "967:\tlearn: 0.1667935\ttest: 0.1451986\tbest: 0.1451986 (967)\ttotal: 6.58s\tremaining: 217ms\n",
            "968:\tlearn: 0.1666798\ttest: 0.1452803\tbest: 0.1451986 (967)\ttotal: 6.58s\tremaining: 211ms\n",
            "969:\tlearn: 0.1665859\ttest: 0.1452603\tbest: 0.1451986 (967)\ttotal: 6.59s\tremaining: 204ms\n",
            "970:\tlearn: 0.1665156\ttest: 0.1452077\tbest: 0.1451986 (967)\ttotal: 6.59s\tremaining: 197ms\n",
            "971:\tlearn: 0.1665044\ttest: 0.1452423\tbest: 0.1451986 (967)\ttotal: 6.59s\tremaining: 190ms\n",
            "972:\tlearn: 0.1663502\ttest: 0.1451384\tbest: 0.1451384 (972)\ttotal: 6.6s\tremaining: 183ms\n",
            "973:\tlearn: 0.1659853\ttest: 0.1449691\tbest: 0.1449691 (973)\ttotal: 6.6s\tremaining: 176ms\n",
            "974:\tlearn: 0.1657835\ttest: 0.1449200\tbest: 0.1449200 (974)\ttotal: 6.61s\tremaining: 169ms\n",
            "975:\tlearn: 0.1656339\ttest: 0.1448266\tbest: 0.1448266 (975)\ttotal: 6.61s\tremaining: 163ms\n",
            "976:\tlearn: 0.1656205\ttest: 0.1448042\tbest: 0.1448042 (976)\ttotal: 6.62s\tremaining: 156ms\n",
            "977:\tlearn: 0.1656094\ttest: 0.1447921\tbest: 0.1447921 (977)\ttotal: 6.62s\tremaining: 149ms\n",
            "978:\tlearn: 0.1654679\ttest: 0.1447051\tbest: 0.1447051 (978)\ttotal: 6.62s\tremaining: 142ms\n",
            "979:\tlearn: 0.1652884\ttest: 0.1446662\tbest: 0.1446662 (979)\ttotal: 6.63s\tremaining: 135ms\n",
            "980:\tlearn: 0.1652466\ttest: 0.1446063\tbest: 0.1446063 (980)\ttotal: 6.63s\tremaining: 128ms\n",
            "981:\tlearn: 0.1652111\ttest: 0.1445725\tbest: 0.1445725 (981)\ttotal: 6.63s\tremaining: 122ms\n",
            "982:\tlearn: 0.1651021\ttest: 0.1444771\tbest: 0.1444771 (982)\ttotal: 6.64s\tremaining: 115ms\n",
            "983:\tlearn: 0.1649747\ttest: 0.1443818\tbest: 0.1443818 (983)\ttotal: 6.64s\tremaining: 108ms\n",
            "984:\tlearn: 0.1649683\ttest: 0.1443810\tbest: 0.1443810 (984)\ttotal: 6.65s\tremaining: 101ms\n",
            "985:\tlearn: 0.1649385\ttest: 0.1443309\tbest: 0.1443309 (985)\ttotal: 6.65s\tremaining: 94.4ms\n",
            "986:\tlearn: 0.1648383\ttest: 0.1440774\tbest: 0.1440774 (986)\ttotal: 6.66s\tremaining: 87.7ms\n",
            "987:\tlearn: 0.1645781\ttest: 0.1439315\tbest: 0.1439315 (987)\ttotal: 6.66s\tremaining: 80.9ms\n",
            "988:\tlearn: 0.1644566\ttest: 0.1438800\tbest: 0.1438800 (988)\ttotal: 6.67s\tremaining: 74.2ms\n",
            "989:\tlearn: 0.1641572\ttest: 0.1436839\tbest: 0.1436839 (989)\ttotal: 6.67s\tremaining: 67.4ms\n",
            "990:\tlearn: 0.1641065\ttest: 0.1437338\tbest: 0.1436839 (989)\ttotal: 6.68s\tremaining: 60.6ms\n",
            "991:\tlearn: 0.1639387\ttest: 0.1436986\tbest: 0.1436839 (989)\ttotal: 6.68s\tremaining: 53.9ms\n",
            "992:\tlearn: 0.1637706\ttest: 0.1436200\tbest: 0.1436200 (992)\ttotal: 6.68s\tremaining: 47.1ms\n",
            "993:\tlearn: 0.1636696\ttest: 0.1436372\tbest: 0.1436200 (992)\ttotal: 6.69s\tremaining: 40.4ms\n",
            "994:\tlearn: 0.1634950\ttest: 0.1435647\tbest: 0.1435647 (994)\ttotal: 6.69s\tremaining: 33.6ms\n",
            "995:\tlearn: 0.1634320\ttest: 0.1435341\tbest: 0.1435341 (995)\ttotal: 6.7s\tremaining: 26.9ms\n",
            "996:\tlearn: 0.1634154\ttest: 0.1435203\tbest: 0.1435203 (996)\ttotal: 6.7s\tremaining: 20.2ms\n",
            "997:\tlearn: 0.1631528\ttest: 0.1432976\tbest: 0.1432976 (997)\ttotal: 6.71s\tremaining: 13.4ms\n",
            "998:\tlearn: 0.1627458\ttest: 0.1431653\tbest: 0.1431653 (998)\ttotal: 6.71s\tremaining: 6.71ms\n",
            "999:\tlearn: 0.1626286\ttest: 0.1430841\tbest: 0.1430841 (999)\ttotal: 6.71s\tremaining: 0us\n",
            "\n",
            "bestTest = 0.143084062\n",
            "bestIteration = 999\n",
            "\n"
          ]
        }
      ],
      "source": [
        "cat_features = ['Sex', 'Ticket', 'Cabin', 'Embarked']\n",
        "train_pool = Pool(X_train, y_train, cat_features=cat_features)\n",
        "test_pool = Pool(test_df[X_train.columns], cat_features=cat_features)\n",
        "\n",
        "model = CatBoostClassifier(\n",
        "    loss_function='Logloss',\n",
        ")\n",
        "\n",
        "model.fit(train_pool, eval_set=train_pool, plot=True)\n",
        "train_preds = model.predict(X_train)\n",
        "test_preds = model.predict(test_df)"
      ]
    },
    {
      "cell_type": "code",
      "execution_count": 32,
      "metadata": {
        "id": "cn-Y7ozAe2Uq"
      },
      "outputs": [],
      "source": [
        "submission = pd.DataFrame({\n",
        "    'PassengerId': submission['PassengerId'],\n",
        "    'Survived': test_preds\n",
        "})\n"
      ]
    },
    {
      "cell_type": "code",
      "execution_count": 33,
      "metadata": {
        "colab": {
          "base_uri": "https://localhost:8080/"
        },
        "id": "80fQRhWXdoKE",
        "outputId": "4ab77a67-e837-4bd6-922a-1945cc89d18b"
      },
      "outputs": [
        {
          "output_type": "stream",
          "name": "stdout",
          "text": [
            "Recall: 0.9542682926829268\n",
            "Precision: 0.9152046783625731\n",
            "F1-score: 0.9343283582089552\n"
          ]
        }
      ],
      "source": [
        "print(f\"Recall: {recall_score(train_preds,y_train)}\")\n",
        "print(f\"Precision: {precision_score(train_preds,y_train)}\")\n",
        "print(f\"F1-score: {f1_score(train_preds,y_train)}\")"
      ]
    },
    {
      "cell_type": "markdown",
      "metadata": {
        "id": "_rRK1Xr_eQwu"
      },
      "source": [
        "3. Интерпретация"
      ]
    },
    {
      "cell_type": "code",
      "execution_count": 34,
      "metadata": {
        "id": "MY0R1RCReOLM"
      },
      "outputs": [],
      "source": [
        "cat_explainer = shap.TreeExplainer(\n",
        "    model, feature_perturbation=\"tree_path_dependent\"\n",
        ")\n",
        "cat_shap_values = cat_explainer.shap_values(test_df)"
      ]
    },
    {
      "cell_type": "code",
      "execution_count": 35,
      "metadata": {
        "colab": {
          "base_uri": "https://localhost:8080/",
          "height": 571
        },
        "id": "HkJYmcC6l6ln",
        "outputId": "923732f9-6e99-40e2-f9db-c921bcda5d0f"
      },
      "outputs": [
        {
          "output_type": "stream",
          "name": "stderr",
          "text": [
            "/tmp/ipython-input-3446285147.py:1: FutureWarning: The NumPy global RNG was seeded by calling `np.random.seed`. In a future version this function will no longer use the global RNG. Pass `rng` explicitly to opt-in to the new behaviour and silence this warning.\n",
            "  shap.summary_plot(cat_shap_values,test_df )\n"
          ]
        },
        {
          "output_type": "display_data",
          "data": {
            "text/plain": [
              "<Figure size 800x510 with 2 Axes>"
            ],
            "image/png": "[encoded data removed]"
          },
          "metadata": {}
        }
      ],
      "source": [
        "\n",
        "shap.summary_plot(cat_shap_values,test_df )"
      ]
    },
    {
      "cell_type": "markdown",
      "metadata": {
        "id": "xnfS6BWboYKI"
      },
      "source": [
        "Итоги анализа признаков:\n",
        "\n",
        "1.  Пол — оказал ключевое влияние на выживание, что логично, учитывая, что женщин спасали в первую очередь.\n",
        "\n",
        "2.  Номер каюты — также значимый фактор, что указывает на возможность улучшения точности модели при более тщательной обработке этой переменной.\n",
        "\n",
        "3.  Возраст — очевидная обратная зависимость: с увеличением возраста вероятность выживания снижается."
      ]
    }
  ],
  "metadata": {
    "colab": {
      "provenance": []
    },
    "kernelspec": {
      "display_name": "Python 3 (ipykernel)",
      "language": "python",
      "name": "python3"
    },
    "language_info": {
      "codemirror_mode": {
        "name": "ipython",
        "version": 3
      },
      "file_extension": ".py",
      "mimetype": "text/x-python",
      "name": "python",
      "nbconvert_exporter": "python",
      "pygments_lexer": "ipython3",
      "version": "3.10.12"
    },
    "widgets": {
      "application/vnd.jupyter.widget-state+json": {
        "7306f355c7d7479ab59dd6143b8e94be": {
          "model_module": "catboost-widget",
          "model_name": "CatboostWidgetModel",
          "model_module_version": "^1.0.0",
          "state": {
            "_dom_classes": [],
            "_model_module": "catboost-widget",
            "_model_module_version": "^1.0.0",
            "_model_name": "CatboostWidgetModel",
            "_view_count": null,
            "_view_module": "catboost-widget",
            "_view_module_version": "^1.0.0",
            "_view_name": "CatboostWidgetView",
            "data": {
              "catboost_info": {
                "path": "catboost_info",
                "name": "catboost_info",
                "content": {
                  "passed_iterations": 999,
                  "total_iterations": 1000,
                  "data": {
                    "iterations": [
                      {
                        "learn": [
                          0.674078279
                        ],
                        "iteration": 0,
                        "passed_time": 0.05377989978,
                        "remaining_time": 53.72611988,
                        "test": [
                          0.6751029657
                        ]
                      },
                      {
                        "learn": [
                          0.6632958186
                        ],
                        "iteration": 1,
                        "passed_time": 0.05647975403,
                        "remaining_time": 28.18339726,
                        "test": [
                          0.6643179773
                        ]
                      },
                      {
                        "learn": [
                          0.643901959
                        ],
                        "iteration": 2,
                        "passed_time": 0.06083381592,
                        "remaining_time": 20.21710482,
                        "test": [
                          0.6448807263
                        ]
                      },
                      {
                        "learn": [
                          0.63096596
                        ],
                        "iteration": 3,
                        "passed_time": 0.06548033004,
                        "remaining_time": 16.30460218,
                        "test": [
                          0.6321661025
                        ]
                      },
                      {
                        "learn": [
                          0.6180129147
                        ],
                        "iteration": 4,
                        "passed_time": 0.07083492547,
                        "remaining_time": 14.09615017,
                        "test": [
                          0.6193504128
                        ]
                      },
                      {
                        "learn": [
                          0.6052228045
                        ],
                        "iteration": 5,
                        "passed_time": 0.0752435855,
                        "remaining_time": 12.465354,
                        "test": [
                          0.6060129668
                        ]
                      },
                      {
                        "learn": [
                          0.5921717415
                        ],
                        "iteration": 6,
                        "passed_time": 0.07781398059,
                        "remaining_time": 11.03846896,
                        "test": [
                          0.5929004932
                        ]
                      },
                      {
                        "learn": [
                          0.5779192423
                        ],
                        "iteration": 7,
                        "passed_time": 0.08305233831,
                        "remaining_time": 10.29848995,
                        "test": [
                          0.5785935243
                        ]
                      },
                      {
                        "learn": [
                          0.5659270174
                        ],
                        "iteration": 8,
                        "passed_time": 0.08905829782,
                        "remaining_time": 9.806308126,
                        "test": [
                          0.5655319855
                        ]
                      },
                      {
                        "learn": [
                          0.5544542265
                        ],
                        "iteration": 9,
                        "passed_time": 0.09411325642,
                        "remaining_time": 9.317212385,
                        "test": [
                          0.5533436169
                        ]
                      },
                      {
                        "learn": [
                          0.5446866923
                        ],
                        "iteration": 10,
                        "passed_time": 0.09780870464,
                        "remaining_time": 8.793891717,
                        "test": [
                          0.5435458552
                        ]
                      },
                      {
                        "learn": [
                          0.5348986274
                        ],
                        "iteration": 11,
                        "passed_time": 0.1019637064,
                        "remaining_time": 8.395011824,
                        "test": [
                          0.5333519504
                        ]
                      },
                      {
                        "learn": [
                          0.5279680372
                        ],
                        "iteration": 12,
                        "passed_time": 0.1045001694,
                        "remaining_time": 7.933974398,
                        "test": [
                          0.5263377367
                        ]
                      },
                      {
                        "learn": [
                          0.5208851513
                        ],
                        "iteration": 13,
                        "passed_time": 0.1083645607,
                        "remaining_time": 7.631961204,
                        "test": [
                          0.5192351937
                        ]
                      },
                      {
                        "learn": [
                          0.5140181498
                        ],
                        "iteration": 14,
                        "passed_time": 0.1119748992,
                        "remaining_time": 7.353018379,
                        "test": [
                          0.512333689
                        ]
                      },
                      {
                        "learn": [
                          0.5074223107
                        ],
                        "iteration": 15,
                        "passed_time": 0.1156121892,
                        "remaining_time": 7.110149638,
                        "test": [
                          0.5050064396
                        ]
                      },
                      {
                        "learn": [
                          0.5002208805
                        ],
                        "iteration": 16,
                        "passed_time": 0.1195055181,
                        "remaining_time": 6.910230838,
                        "test": [
                          0.4974382549
                        ]
                      },
                      {
                        "learn": [
                          0.4934868952
                        ],
                        "iteration": 17,
                        "passed_time": 0.1243724493,
                        "remaining_time": 6.785208068,
                        "test": [
                          0.4896340301
                        ]
                      },
                      {
                        "learn": [
                          0.4880682862
                        ],
                        "iteration": 18,
                        "passed_time": 0.127721979,
                        "remaining_time": 6.594487441,
                        "test": [
                          0.4835820038
                        ]
                      },
                      {
                        "learn": [
                          0.4806169911
                        ],
                        "iteration": 19,
                        "passed_time": 0.1313062086,
                        "remaining_time": 6.434004222,
                        "test": [
                          0.4761134137
                        ]
                      },
                      {
                        "learn": [
                          0.4749920421
                        ],
                        "iteration": 20,
                        "passed_time": 0.134999385,
                        "remaining_time": 6.293542758,
                        "test": [
                          0.4709961352
                        ]
                      },
                      {
                        "learn": [
                          0.4696964105
                        ],
                        "iteration": 21,
                        "passed_time": 0.1388808156,
                        "remaining_time": 6.173883528,
                        "test": [
                          0.4653289031
                        ]
                      },
                      {
                        "learn": [
                          0.4666438907
                        ],
                        "iteration": 22,
                        "passed_time": 0.1411356973,
                        "remaining_time": 5.995198969,
                        "test": [
                          0.4604499659
                        ]
                      },
                      {
                        "learn": [
                          0.4615238399
                        ],
                        "iteration": 23,
                        "passed_time": 0.1453367158,
                        "remaining_time": 5.910359774,
                        "test": [
                          0.455060756
                        ]
                      },
                      {
                        "learn": [
                          0.4571696143
                        ],
                        "iteration": 24,
                        "passed_time": 0.1502564729,
                        "remaining_time": 5.860002442,
                        "test": [
                          0.4505233718
                        ]
                      },
                      {
                        "learn": [
                          0.455536176
                        ],
                        "iteration": 25,
                        "passed_time": 0.1520611617,
                        "remaining_time": 5.696445056,
                        "test": [
                          0.4489317694
                        ]
                      },
                      {
                        "learn": [
                          0.4540082049
                        ],
                        "iteration": 26,
                        "passed_time": 0.1548803409,
                        "remaining_time": 5.581428582,
                        "test": [
                          0.4474441469
                        ]
                      },
                      {
                        "learn": [
                          0.4525787739
                        ],
                        "iteration": 27,
                        "passed_time": 0.1579464911,
                        "remaining_time": 5.482999621,
                        "test": [
                          0.4460536286
                        ]
                      },
                      {
                        "learn": [
                          0.4487419085
                        ],
                        "iteration": 28,
                        "passed_time": 0.1622577395,
                        "remaining_time": 5.432836727,
                        "test": [
                          0.44216221
                        ]
                      },
                      {
                        "learn": [
                          0.4464583389
                        ],
                        "iteration": 29,
                        "passed_time": 0.1660935429,
                        "remaining_time": 5.370357887,
                        "test": [
                          0.4392490432
                        ]
                      },
                      {
                        "learn": [
                          0.4444135431
                        ],
                        "iteration": 30,
                        "passed_time": 0.1688233028,
                        "remaining_time": 5.277089692,
                        "test": [
                          0.436637865
                        ]
                      },
                      {
                        "learn": [
                          0.4409647148
                        ],
                        "iteration": 31,
                        "passed_time": 0.1724574033,
                        "remaining_time": 5.216836451,
                        "test": [
                          0.4325172355
                        ]
                      },
                      {
                        "learn": [
                          0.4370434676
                        ],
                        "iteration": 32,
                        "passed_time": 0.1763631568,
                        "remaining_time": 5.167974928,
                        "test": [
                          0.4289507461
                        ]
                      },
                      {
                        "learn": [
                          0.4342342663
                        ],
                        "iteration": 33,
                        "passed_time": 0.1796777703,
                        "remaining_time": 5.104962532,
                        "test": [
                          0.420384155
                        ]
                      },
                      {
                        "learn": [
                          0.4336764779
                        ],
                        "iteration": 34,
                        "passed_time": 0.181587889,
                        "remaining_time": 5.00663751,
                        "test": [
                          0.416650806
                        ]
                      },
                      {
                        "learn": [
                          0.4301703594
                        ],
                        "iteration": 35,
                        "passed_time": 0.1849999041,
                        "remaining_time": 4.953886321,
                        "test": [
                          0.4071905752
                        ]
                      },
                      {
                        "learn": [
                          0.4279524082
                        ],
                        "iteration": 36,
                        "passed_time": 0.1880733589,
                        "remaining_time": 4.894990396,
                        "test": [
                          0.3990138477
                        ]
                      },
                      {
                        "learn": [
                          0.4251256084
                        ],
                        "iteration": 37,
                        "passed_time": 0.1944130892,
                        "remaining_time": 4.921720836,
                        "test": [
                          0.3912702928
                        ]
                      },
                      {
                        "learn": [
                          0.4227135641
                        ],
                        "iteration": 38,
                        "passed_time": 0.1987667347,
                        "remaining_time": 4.897816206,
                        "test": [
                          0.3842784862
                        ]
                      },
                      {
                        "learn": [
                          0.4196499451
                        ],
                        "iteration": 39,
                        "passed_time": 0.2021994164,
                        "remaining_time": 4.852785993,
                        "test": [
                          0.3812945916
                        ]
                      },
                      {
                        "learn": [
                          0.4169522473
                        ],
                        "iteration": 40,
                        "passed_time": 0.2057457739,
                        "remaining_time": 4.812443833,
                        "test": [
                          0.3747428126
                        ]
                      },
                      {
                        "learn": [
                          0.4137517895
                        ],
                        "iteration": 41,
                        "passed_time": 0.2094537622,
                        "remaining_time": 4.777540576,
                        "test": [
                          0.3685009604
                        ]
                      },
                      {
                        "learn": [
                          0.4126579719
                        ],
                        "iteration": 42,
                        "passed_time": 0.2113944302,
                        "remaining_time": 4.70475511,
                        "test": [
                          0.3635456177
                        ]
                      },
                      {
                        "learn": [
                          0.4111358809
                        ],
                        "iteration": 43,
                        "passed_time": 0.214706621,
                        "remaining_time": 4.66498931,
                        "test": [
                          0.3597750104
                        ]
                      },
                      {
                        "learn": [
                          0.4088601504
                        ],
                        "iteration": 44,
                        "passed_time": 0.2185576381,
                        "remaining_time": 4.638278764,
                        "test": [
                          0.3553246775
                        ]
                      },
                      {
                        "learn": [
                          0.4074191087
                        ],
                        "iteration": 45,
                        "passed_time": 0.221889169,
                        "remaining_time": 4.601788418,
                        "test": [
                          0.3495188442
                        ]
                      },
                      {
                        "learn": [
                          0.4059673132
                        ],
                        "iteration": 46,
                        "passed_time": 0.2256887385,
                        "remaining_time": 4.576199314,
                        "test": [
                          0.3476596568
                        ]
                      },
                      {
                        "learn": [
                          0.4052945944
                        ],
                        "iteration": 47,
                        "passed_time": 0.2280720212,
                        "remaining_time": 4.523428421,
                        "test": [
                          0.344967167
                        ]
                      },
                      {
                        "learn": [
                          0.4037669452
                        ],
                        "iteration": 48,
                        "passed_time": 0.2312737593,
                        "remaining_time": 4.488598879,
                        "test": [
                          0.3412629219
                        ]
                      },
                      {
                        "learn": [
                          0.4021670867
                        ],
                        "iteration": 49,
                        "passed_time": 0.2350202534,
                        "remaining_time": 4.465384814,
                        "test": [
                          0.3385579742
                        ]
                      },
                      {
                        "learn": [
                          0.4005788809
                        ],
                        "iteration": 50,
                        "passed_time": 0.238922505,
                        "remaining_time": 4.445832494,
                        "test": [
                          0.3353604497
                        ]
                      },
                      {
                        "learn": [
                          0.3988904329
                        ],
                        "iteration": 51,
                        "passed_time": 0.2425330003,
                        "remaining_time": 4.421563159,
                        "test": [
                          0.3329549857
                        ]
                      },
                      {
                        "learn": [
                          0.397698736
                        ],
                        "iteration": 52,
                        "passed_time": 0.2456942385,
                        "remaining_time": 4.390046111,
                        "test": [
                          0.3313700597
                        ]
                      },
                      {
                        "learn": [
                          0.3974082591
                        ],
                        "iteration": 53,
                        "passed_time": 0.2488022445,
                        "remaining_time": 4.358646728,
                        "test": [
                          0.3311166712
                        ]
                      },
                      {
                        "learn": [
                          0.3957512535
                        ],
                        "iteration": 54,
                        "passed_time": 0.2524805812,
                        "remaining_time": 4.338075441,
                        "test": [
                          0.3294879995
                        ]
                      },
                      {
                        "learn": [
                          0.3937329828
                        ],
                        "iteration": 55,
                        "passed_time": 0.2566306761,
                        "remaining_time": 4.326059969,
                        "test": [
                          0.3245623244
                        ]
                      },
                      {
                        "learn": [
                          0.3929439147
                        ],
                        "iteration": 56,
                        "passed_time": 0.25910578,
                        "remaining_time": 4.286609659,
                        "test": [
                          0.3240213799
                        ]
                      },
                      {
                        "learn": [
                          0.3915638325
                        ],
                        "iteration": 57,
                        "passed_time": 0.2630689166,
                        "remaining_time": 4.27260206,
                        "test": [
                          0.3212709629
                        ]
                      },
                      {
                        "learn": [
                          0.3897471306
                        ],
                        "iteration": 58,
                        "passed_time": 0.2668134675,
                        "remaining_time": 4.255448694,
                        "test": [
                          0.3179778363
                        ]
                      },
                      {
                        "learn": [
                          0.3882470268
                        ],
                        "iteration": 59,
                        "passed_time": 0.270741532,
                        "remaining_time": 4.241617335,
                        "test": [
                          0.3144249635
                        ]
                      },
                      {
                        "learn": [
                          0.3873303433
                        ],
                        "iteration": 60,
                        "passed_time": 0.2745047485,
                        "remaining_time": 4.225573096,
                        "test": [
                          0.3134893784
                        ]
                      },
                      {
                        "learn": [
                          0.386370984
                        ],
                        "iteration": 61,
                        "passed_time": 0.2784654624,
                        "remaining_time": 4.212912963,
                        "test": [
                          0.3129680422
                        ]
                      },
                      {
                        "learn": [
                          0.385279393
                        ],
                        "iteration": 62,
                        "passed_time": 0.2818734698,
                        "remaining_time": 4.19230859,
                        "test": [
                          0.3095472168
                        ]
                      },
                      {
                        "learn": [
                          0.3842269191
                        ],
                        "iteration": 63,
                        "passed_time": 0.286176094,
                        "remaining_time": 4.185325375,
                        "test": [
                          0.3063618209
                        ]
                      },
                      {
                        "learn": [
                          0.3828597199
                        ],
                        "iteration": 64,
                        "passed_time": 0.2899891954,
                        "remaining_time": 4.171383041,
                        "test": [
                          0.3037319313
                        ]
                      },
                      {
                        "learn": [
                          0.3819550335
                        ],
                        "iteration": 65,
                        "passed_time": 0.2942752299,
                        "remaining_time": 4.164440375,
                        "test": [
                          0.3029261096
                        ]
                      },
                      {
                        "learn": [
                          0.380313044
                        ],
                        "iteration": 66,
                        "passed_time": 0.2984327353,
                        "remaining_time": 4.155787195,
                        "test": [
                          0.2993480281
                        ]
                      },
                      {
                        "learn": [
                          0.3799861283
                        ],
                        "iteration": 67,
                        "passed_time": 0.3007634086,
                        "remaining_time": 4.122227894,
                        "test": [
                          0.2991550823
                        ]
                      },
                      {
                        "learn": [
                          0.3790324116
                        ],
                        "iteration": 68,
                        "passed_time": 0.3043393341,
                        "remaining_time": 4.106375652,
                        "test": [
                          0.2971427197
                        ]
                      },
                      {
                        "learn": [
                          0.3779466294
                        ],
                        "iteration": 69,
                        "passed_time": 0.3083796613,
                        "remaining_time": 4.097044071,
                        "test": [
                          0.2960398554
                        ]
                      },
                      {
                        "learn": [
                          0.3771150835
                        ],
                        "iteration": 70,
                        "passed_time": 0.311467059,
                        "remaining_time": 4.075392926,
                        "test": [
                          0.2932769344
                        ]
                      },
                      {
                        "learn": [
                          0.3762590628
                        ],
                        "iteration": 71,
                        "passed_time": 0.3159835571,
                        "remaining_time": 4.072676958,
                        "test": [
                          0.2913702385
                        ]
                      },
                      {
                        "learn": [
                          0.3760070711
                        ],
                        "iteration": 72,
                        "passed_time": 0.3181500723,
                        "remaining_time": 4.040070096,
                        "test": [
                          0.289578158
                        ]
                      },
                      {
                        "learn": [
                          0.3751870212
                        ],
                        "iteration": 73,
                        "passed_time": 0.3218095116,
                        "remaining_time": 4.026967672,
                        "test": [
                          0.2876823381
                        ]
                      },
                      {
                        "learn": [
                          0.3745175888
                        ],
                        "iteration": 74,
                        "passed_time": 0.3251393406,
                        "remaining_time": 4.010051868,
                        "test": [
                          0.2852353227
                        ]
                      },
                      {
                        "learn": [
                          0.3738779758
                        ],
                        "iteration": 75,
                        "passed_time": 0.3290306963,
                        "remaining_time": 4.00032057,
                        "test": [
                          0.2838143585
                        ]
                      },
                      {
                        "learn": [
                          0.3729656758
                        ],
                        "iteration": 76,
                        "passed_time": 0.3329190291,
                        "remaining_time": 3.990704726,
                        "test": [
                          0.2811954486
                        ]
                      },
                      {
                        "learn": [
                          0.3719118353
                        ],
                        "iteration": 77,
                        "passed_time": 0.3368971163,
                        "remaining_time": 3.982296683,
                        "test": [
                          0.2800167039
                        ]
                      },
                      {
                        "learn": [
                          0.3711534323
                        ],
                        "iteration": 78,
                        "passed_time": 0.3405020298,
                        "remaining_time": 3.969650246,
                        "test": [
                          0.2774691411
                        ]
                      },
                      {
                        "learn": [
                          0.3704176824
                        ],
                        "iteration": 79,
                        "passed_time": 0.3438783455,
                        "remaining_time": 3.954600974,
                        "test": [
                          0.2769263579
                        ]
                      },
                      {
                        "learn": [
                          0.3695284635
                        ],
                        "iteration": 80,
                        "passed_time": 0.3481192079,
                        "remaining_time": 3.949648791,
                        "test": [
                          0.2770818136
                        ]
                      },
                      {
                        "learn": [
                          0.3686504902
                        ],
                        "iteration": 81,
                        "passed_time": 0.3520180141,
                        "remaining_time": 3.940884597,
                        "test": [
                          0.2761170575
                        ]
                      },
                      {
                        "learn": [
                          0.36800571
                        ],
                        "iteration": 82,
                        "passed_time": 0.355847912,
                        "remaining_time": 3.931476328,
                        "test": [
                          0.2759773238
                        ]
                      },
                      {
                        "learn": [
                          0.3674375091
                        ],
                        "iteration": 83,
                        "passed_time": 0.3600610155,
                        "remaining_time": 3.926379645,
                        "test": [
                          0.2755939654
                        ]
                      },
                      {
                        "learn": [
                          0.3670881807
                        ],
                        "iteration": 84,
                        "passed_time": 0.3621865113,
                        "remaining_time": 3.898831268,
                        "test": [
                          0.2731713484
                        ]
                      },
                      {
                        "learn": [
                          0.3663228795
                        ],
                        "iteration": 85,
                        "passed_time": 0.3658157058,
                        "remaining_time": 3.887855292,
                        "test": [
                          0.2729305351
                        ]
                      },
                      {
                        "learn": [
                          0.3654939589
                        ],
                        "iteration": 86,
                        "passed_time": 0.369698025,
                        "remaining_time": 3.879704561,
                        "test": [
                          0.2709728766
                        ]
                      },
                      {
                        "learn": [
                          0.3644028284
                        ],
                        "iteration": 87,
                        "passed_time": 0.3733578202,
                        "remaining_time": 3.869344682,
                        "test": [
                          0.2696409917
                        ]
                      },
                      {
                        "learn": [
                          0.3636671735
                        ],
                        "iteration": 88,
                        "passed_time": 0.3771581506,
                        "remaining_time": 3.860573879,
                        "test": [
                          0.2666419511
                        ]
                      },
                      {
                        "learn": [
                          0.3635459542
                        ],
                        "iteration": 89,
                        "passed_time": 0.3802379878,
                        "remaining_time": 3.844628543,
                        "test": [
                          0.2665451585
                        ]
                      },
                      {
                        "learn": [
                          0.3631928637
                        ],
                        "iteration": 90,
                        "passed_time": 0.3834228034,
                        "remaining_time": 3.830014597,
                        "test": [
                          0.2663866152
                        ]
                      },
                      {
                        "learn": [
                          0.3626670135
                        ],
                        "iteration": 91,
                        "passed_time": 0.3893600915,
                        "remaining_time": 3.842814816,
                        "test": [
                          0.2660987815
                        ]
                      },
                      {
                        "learn": [
                          0.3615980594
                        ],
                        "iteration": 92,
                        "passed_time": 0.3942470606,
                        "remaining_time": 3.844968645,
                        "test": [
                          0.2637462205
                        ]
                      },
                      {
                        "learn": [
                          0.3611644101
                        ],
                        "iteration": 93,
                        "passed_time": 0.3971025224,
                        "remaining_time": 3.827392397,
                        "test": [
                          0.2635171592
                        ]
                      },
                      {
                        "learn": [
                          0.3607753777
                        ],
                        "iteration": 94,
                        "passed_time": 0.4004722114,
                        "remaining_time": 3.81502475,
                        "test": [
                          0.2630374251
                        ]
                      },
                      {
                        "learn": [
                          0.3603413784
                        ],
                        "iteration": 95,
                        "passed_time": 0.4044045196,
                        "remaining_time": 3.808142559,
                        "test": [
                          0.2610457303
                        ]
                      },
                      {
                        "learn": [
                          0.3600504347
                        ],
                        "iteration": 96,
                        "passed_time": 0.4086676649,
                        "remaining_time": 3.804401045,
                        "test": [
                          0.2595799804
                        ]
                      },
                      {
                        "learn": [
                          0.3594053464
                        ],
                        "iteration": 97,
                        "passed_time": 0.4115824248,
                        "remaining_time": 3.788238237,
                        "test": [
                          0.259205924
                        ]
                      },
                      {
                        "learn": [
                          0.3590451608
                        ],
                        "iteration": 98,
                        "passed_time": 0.4159687656,
                        "remaining_time": 3.785735938,
                        "test": [
                          0.2591974438
                        ]
                      },
                      {
                        "learn": [
                          0.3582690862
                        ],
                        "iteration": 99,
                        "passed_time": 0.4200033523,
                        "remaining_time": 3.780030171,
                        "test": [
                          0.2587129945
                        ]
                      },
                      {
                        "learn": [
                          0.3574143686
                        ],
                        "iteration": 100,
                        "passed_time": 0.4246106807,
                        "remaining_time": 3.779455465,
                        "test": [
                          0.2568051732
                        ]
                      },
                      {
                        "learn": [
                          0.3569717541
                        ],
                        "iteration": 101,
                        "passed_time": 0.4283653771,
                        "remaining_time": 3.771295183,
                        "test": [
                          0.2558957746
                        ]
                      },
                      {
                        "learn": [
                          0.3565545724
                        ],
                        "iteration": 102,
                        "passed_time": 0.4324067084,
                        "remaining_time": 3.765716674,
                        "test": [
                          0.2558497312
                        ]
                      },
                      {
                        "learn": [
                          0.3559710495
                        ],
                        "iteration": 103,
                        "passed_time": 0.4354457748,
                        "remaining_time": 3.751532829,
                        "test": [
                          0.2557723718
                        ]
                      },
                      {
                        "learn": [
                          0.3552257665
                        ],
                        "iteration": 104,
                        "passed_time": 0.4387228935,
                        "remaining_time": 3.739590378,
                        "test": [
                          0.2553528071
                        ]
                      },
                      {
                        "learn": [
                          0.3545026923
                        ],
                        "iteration": 105,
                        "passed_time": 0.4412435409,
                        "remaining_time": 3.721431373,
                        "test": [
                          0.254942579
                        ]
                      },
                      {
                        "learn": [
                          0.3544884091
                        ],
                        "iteration": 106,
                        "passed_time": 0.4436371428,
                        "remaining_time": 3.702504379,
                        "test": [
                          0.2549157916
                        ]
                      },
                      {
                        "learn": [
                          0.3537756606
                        ],
                        "iteration": 107,
                        "passed_time": 0.4472533009,
                        "remaining_time": 3.693980966,
                        "test": [
                          0.2529849895
                        ]
                      },
                      {
                        "learn": [
                          0.3537443358
                        ],
                        "iteration": 108,
                        "passed_time": 0.4495163759,
                        "remaining_time": 3.674487073,
                        "test": [
                          0.2528696609
                        ]
                      },
                      {
                        "learn": [
                          0.352737469
                        ],
                        "iteration": 109,
                        "passed_time": 0.4533595239,
                        "remaining_time": 3.668090693,
                        "test": [
                          0.2523641188
                        ]
                      },
                      {
                        "learn": [
                          0.3520426564
                        ],
                        "iteration": 110,
                        "passed_time": 0.4571716843,
                        "remaining_time": 3.661492139,
                        "test": [
                          0.2505105059
                        ]
                      },
                      {
                        "learn": [
                          0.351474559
                        ],
                        "iteration": 111,
                        "passed_time": 0.4615021333,
                        "remaining_time": 3.659052628,
                        "test": [
                          0.2502753819
                        ]
                      },
                      {
                        "learn": [
                          0.3508291321
                        ],
                        "iteration": 112,
                        "passed_time": 0.4653304553,
                        "remaining_time": 3.652638176,
                        "test": [
                          0.2500643476
                        ]
                      },
                      {
                        "learn": [
                          0.3499928432
                        ],
                        "iteration": 113,
                        "passed_time": 0.4688707164,
                        "remaining_time": 3.644030305,
                        "test": [
                          0.2484152764
                        ]
                      },
                      {
                        "learn": [
                          0.3496698679
                        ],
                        "iteration": 114,
                        "passed_time": 0.4731983045,
                        "remaining_time": 3.64156956,
                        "test": [
                          0.2481152397
                        ]
                      },
                      {
                        "learn": [
                          0.3492698653
                        ],
                        "iteration": 115,
                        "passed_time": 0.4770634135,
                        "remaining_time": 3.63555222,
                        "test": [
                          0.2473844418
                        ]
                      },
                      {
                        "learn": [
                          0.349098657
                        ],
                        "iteration": 116,
                        "passed_time": 0.4791855606,
                        "remaining_time": 3.616417522,
                        "test": [
                          0.2472543641
                        ]
                      },
                      {
                        "learn": [
                          0.3488155032
                        ],
                        "iteration": 117,
                        "passed_time": 0.4828366358,
                        "remaining_time": 3.608999261,
                        "test": [
                          0.2471859654
                        ]
                      },
                      {
                        "learn": [
                          0.348092168
                        ],
                        "iteration": 118,
                        "passed_time": 0.4867854528,
                        "remaining_time": 3.603848604,
                        "test": [
                          0.2465498948
                        ]
                      },
                      {
                        "learn": [
                          0.3472775807
                        ],
                        "iteration": 119,
                        "passed_time": 0.4906835221,
                        "remaining_time": 3.598345829,
                        "test": [
                          0.246110813
                        ]
                      },
                      {
                        "learn": [
                          0.3466199264
                        ],
                        "iteration": 120,
                        "passed_time": 0.4942900087,
                        "remaining_time": 3.590751386,
                        "test": [
                          0.2454247844
                        ]
                      },
                      {
                        "learn": [
                          0.3463348668
                        ],
                        "iteration": 121,
                        "passed_time": 0.4979890783,
                        "remaining_time": 3.583888613,
                        "test": [
                          0.2451075366
                        ]
                      },
                      {
                        "learn": [
                          0.3455183924
                        ],
                        "iteration": 122,
                        "passed_time": 0.5022844538,
                        "remaining_time": 3.581328992,
                        "test": [
                          0.2437830855
                        ]
                      },
                      {
                        "learn": [
                          0.3449625473
                        ],
                        "iteration": 123,
                        "passed_time": 0.5061050662,
                        "remaining_time": 3.575387403,
                        "test": [
                          0.2434700559
                        ]
                      },
                      {
                        "learn": [
                          0.3445736032
                        ],
                        "iteration": 124,
                        "passed_time": 0.5089779327,
                        "remaining_time": 3.562845529,
                        "test": [
                          0.2432741279
                        ]
                      },
                      {
                        "learn": [
                          0.3443410206
                        ],
                        "iteration": 125,
                        "passed_time": 0.5128839852,
                        "remaining_time": 3.557623834,
                        "test": [
                          0.2431817642
                        ]
                      },
                      {
                        "learn": [
                          0.3440473876
                        ],
                        "iteration": 126,
                        "passed_time": 0.5160931375,
                        "remaining_time": 3.547632354,
                        "test": [
                          0.2430558198
                        ]
                      },
                      {
                        "learn": [
                          0.343816441
                        ],
                        "iteration": 127,
                        "passed_time": 0.5202908732,
                        "remaining_time": 3.544481573,
                        "test": [
                          0.2429155425
                        ]
                      },
                      {
                        "learn": [
                          0.3437769823
                        ],
                        "iteration": 128,
                        "passed_time": 0.5226322615,
                        "remaining_time": 3.528780618,
                        "test": [
                          0.2429352248
                        ]
                      },
                      {
                        "learn": [
                          0.3437765506
                        ],
                        "iteration": 129,
                        "passed_time": 0.5240886135,
                        "remaining_time": 3.50736226,
                        "test": [
                          0.2429344912
                        ]
                      },
                      {
                        "learn": [
                          0.3436900329
                        ],
                        "iteration": 130,
                        "passed_time": 0.5268961059,
                        "remaining_time": 3.495211573,
                        "test": [
                          0.2428837693
                        ]
                      },
                      {
                        "learn": [
                          0.3432866343
                        ],
                        "iteration": 131,
                        "passed_time": 0.530949135,
                        "remaining_time": 3.491392797,
                        "test": [
                          0.2428967735
                        ]
                      },
                      {
                        "learn": [
                          0.3426466245
                        ],
                        "iteration": 132,
                        "passed_time": 0.5349774212,
                        "remaining_time": 3.487409205,
                        "test": [
                          0.2425207247
                        ]
                      },
                      {
                        "learn": [
                          0.3422365855
                        ],
                        "iteration": 133,
                        "passed_time": 0.5390833499,
                        "remaining_time": 3.483926724,
                        "test": [
                          0.242346164
                        ]
                      },
                      {
                        "learn": [
                          0.3419820831
                        ],
                        "iteration": 134,
                        "passed_time": 0.5424926595,
                        "remaining_time": 3.475971485,
                        "test": [
                          0.2422858601
                        ]
                      },
                      {
                        "learn": [
                          0.3417213957
                        ],
                        "iteration": 135,
                        "passed_time": 0.5470239037,
                        "remaining_time": 3.475210682,
                        "test": [
                          0.2421941416
                        ]
                      },
                      {
                        "learn": [
                          0.3412050587
                        ],
                        "iteration": 136,
                        "passed_time": 0.5521965823,
                        "remaining_time": 3.478435405,
                        "test": [
                          0.2421592399
                        ]
                      },
                      {
                        "learn": [
                          0.3411689127
                        ],
                        "iteration": 137,
                        "passed_time": 0.5542275887,
                        "remaining_time": 3.461914358,
                        "test": [
                          0.2421086481
                        ]
                      },
                      {
                        "learn": [
                          0.3406957387
                        ],
                        "iteration": 138,
                        "passed_time": 0.5581027928,
                        "remaining_time": 3.457025213,
                        "test": [
                          0.2411603434
                        ]
                      },
                      {
                        "learn": [
                          0.3405436748
                        ],
                        "iteration": 139,
                        "passed_time": 0.5610065486,
                        "remaining_time": 3.446183084,
                        "test": [
                          0.2411250532
                        ]
                      },
                      {
                        "learn": [
                          0.3402056789
                        ],
                        "iteration": 140,
                        "passed_time": 0.5691671119,
                        "remaining_time": 3.467479072,
                        "test": [
                          0.2402519559
                        ]
                      },
                      {
                        "learn": [
                          0.3397074642
                        ],
                        "iteration": 141,
                        "passed_time": 0.5750873134,
                        "remaining_time": 3.474823345,
                        "test": [
                          0.2400079445
                        ]
                      },
                      {
                        "learn": [
                          0.3396992129
                        ],
                        "iteration": 142,
                        "passed_time": 0.5769004714,
                        "remaining_time": 3.457368559,
                        "test": [
                          0.2399998986
                        ]
                      },
                      {
                        "learn": [
                          0.339552152
                        ],
                        "iteration": 143,
                        "passed_time": 0.5812763121,
                        "remaining_time": 3.455364744,
                        "test": [
                          0.2398185177
                        ]
                      },
                      {
                        "learn": [
                          0.3389325114
                        ],
                        "iteration": 144,
                        "passed_time": 0.5883453815,
                        "remaining_time": 3.469208974,
                        "test": [
                          0.2395898152
                        ]
                      },
                      {
                        "learn": [
                          0.3388166964
                        ],
                        "iteration": 145,
                        "passed_time": 0.5982251151,
                        "remaining_time": 3.49920718,
                        "test": [
                          0.2394929724
                        ]
                      },
                      {
                        "learn": [
                          0.3379644578
                        ],
                        "iteration": 146,
                        "passed_time": 0.6095779032,
                        "remaining_time": 3.537210554,
                        "test": [
                          0.2390189326
                        ]
                      },
                      {
                        "learn": [
                          0.3378707683
                        ],
                        "iteration": 147,
                        "passed_time": 0.6169730992,
                        "remaining_time": 3.551764058,
                        "test": [
                          0.2389164554
                        ]
                      },
                      {
                        "learn": [
                          0.3373721755
                        ],
                        "iteration": 148,
                        "passed_time": 0.6209685411,
                        "remaining_time": 3.54660556,
                        "test": [
                          0.2389429888
                        ]
                      },
                      {
                        "learn": [
                          0.337354176
                        ],
                        "iteration": 149,
                        "passed_time": 0.6231212007,
                        "remaining_time": 3.531020137,
                        "test": [
                          0.2384346889
                        ]
                      },
                      {
                        "learn": [
                          0.3370692137
                        ],
                        "iteration": 150,
                        "passed_time": 0.6270322015,
                        "remaining_time": 3.525498934,
                        "test": [
                          0.237463651
                        ]
                      },
                      {
                        "learn": [
                          0.3370310969
                        ],
                        "iteration": 151,
                        "passed_time": 0.6294823306,
                        "remaining_time": 3.511848792,
                        "test": [
                          0.2374770082
                        ]
                      },
                      {
                        "learn": [
                          0.3364854793
                        ],
                        "iteration": 152,
                        "passed_time": 0.6331323208,
                        "remaining_time": 3.504987423,
                        "test": [
                          0.2361857708
                        ]
                      },
                      {
                        "learn": [
                          0.3359102396
                        ],
                        "iteration": 153,
                        "passed_time": 0.637170933,
                        "remaining_time": 3.500302658,
                        "test": [
                          0.2360714476
                        ]
                      },
                      {
                        "learn": [
                          0.3355017612
                        ],
                        "iteration": 154,
                        "passed_time": 0.6401291715,
                        "remaining_time": 3.489736451,
                        "test": [
                          0.2348007999
                        ]
                      },
                      {
                        "learn": [
                          0.3352396196
                        ],
                        "iteration": 155,
                        "passed_time": 0.6437875026,
                        "remaining_time": 3.483055463,
                        "test": [
                          0.2347210364
                        ]
                      },
                      {
                        "learn": [
                          0.3352093993
                        ],
                        "iteration": 156,
                        "passed_time": 0.6456236334,
                        "remaining_time": 3.466628809,
                        "test": [
                          0.2347499093
                        ]
                      },
                      {
                        "learn": [
                          0.334635281
                        ],
                        "iteration": 157,
                        "passed_time": 0.6491645855,
                        "remaining_time": 3.459472032,
                        "test": [
                          0.2344594968
                        ]
                      },
                      {
                        "learn": [
                          0.3345710498
                        ],
                        "iteration": 158,
                        "passed_time": 0.6533266082,
                        "remaining_time": 3.45564577,
                        "test": [
                          0.2342333546
                        ]
                      },
                      {
                        "learn": [
                          0.3338675767
                        ],
                        "iteration": 159,
                        "passed_time": 0.6585189301,
                        "remaining_time": 3.457224383,
                        "test": [
                          0.2340860798
                        ]
                      },
                      {
                        "learn": [
                          0.3338675731
                        ],
                        "iteration": 160,
                        "passed_time": 0.6599730476,
                        "remaining_time": 3.439238428,
                        "test": [
                          0.2340860159
                        ]
                      },
                      {
                        "learn": [
                          0.3334738251
                        ],
                        "iteration": 161,
                        "passed_time": 0.6640319872,
                        "remaining_time": 3.434930897,
                        "test": [
                          0.2338574366
                        ]
                      },
                      {
                        "learn": [
                          0.3331458124
                        ],
                        "iteration": 162,
                        "passed_time": 0.6674124362,
                        "remaining_time": 3.427142387,
                        "test": [
                          0.2335339379
                        ]
                      },
                      {
                        "learn": [
                          0.3327147751
                        ],
                        "iteration": 163,
                        "passed_time": 0.6716556536,
                        "remaining_time": 3.423805649,
                        "test": [
                          0.2332656702
                        ]
                      },
                      {
                        "learn": [
                          0.3325776828
                        ],
                        "iteration": 164,
                        "passed_time": 0.6748564467,
                        "remaining_time": 3.415182624,
                        "test": [
                          0.2332137974
                        ]
                      },
                      {
                        "learn": [
                          0.3325625353
                        ],
                        "iteration": 165,
                        "passed_time": 0.6769934071,
                        "remaining_time": 3.40128013,
                        "test": [
                          0.2332166117
                        ]
                      },
                      {
                        "learn": [
                          0.3322456152
                        ],
                        "iteration": 166,
                        "passed_time": 0.6806763925,
                        "remaining_time": 3.395230149,
                        "test": [
                          0.2330857634
                        ]
                      },
                      {
                        "learn": [
                          0.3320095589
                        ],
                        "iteration": 167,
                        "passed_time": 0.6845359597,
                        "remaining_time": 3.390082848,
                        "test": [
                          0.2331303113
                        ]
                      },
                      {
                        "learn": [
                          0.3317835601
                        ],
                        "iteration": 168,
                        "passed_time": 0.6884461918,
                        "remaining_time": 3.385199914,
                        "test": [
                          0.2330545666
                        ]
                      },
                      {
                        "learn": [
                          0.3311422114
                        ],
                        "iteration": 169,
                        "passed_time": 0.6918977705,
                        "remaining_time": 3.378089115,
                        "test": [
                          0.2329421698
                        ]
                      },
                      {
                        "learn": [
                          0.330639723
                        ],
                        "iteration": 170,
                        "passed_time": 0.6960408639,
                        "remaining_time": 3.374373545,
                        "test": [
                          0.2324044184
                        ]
                      },
                      {
                        "learn": [
                          0.3300885449
                        ],
                        "iteration": 171,
                        "passed_time": 0.6994861593,
                        "remaining_time": 3.367293837,
                        "test": [
                          0.2321349583
                        ]
                      },
                      {
                        "learn": [
                          0.3299237214
                        ],
                        "iteration": 172,
                        "passed_time": 0.7034435695,
                        "remaining_time": 3.362704231,
                        "test": [
                          0.2323076627
                        ]
                      },
                      {
                        "learn": [
                          0.3297691871
                        ],
                        "iteration": 173,
                        "passed_time": 0.7062680479,
                        "remaining_time": 3.352743722,
                        "test": [
                          0.2322014949
                        ]
                      },
                      {
                        "learn": [
                          0.3293571808
                        ],
                        "iteration": 174,
                        "passed_time": 0.7098282915,
                        "remaining_time": 3.346333374,
                        "test": [
                          0.2320621116
                        ]
                      },
                      {
                        "learn": [
                          0.3291330223
                        ],
                        "iteration": 175,
                        "passed_time": 0.7146502978,
                        "remaining_time": 3.345862758,
                        "test": [
                          0.2318026327
                        ]
                      },
                      {
                        "learn": [
                          0.3286979607
                        ],
                        "iteration": 176,
                        "passed_time": 0.7191101046,
                        "remaining_time": 3.343658848,
                        "test": [
                          0.231619135
                        ]
                      },
                      {
                        "learn": [
                          0.3284821021
                        ],
                        "iteration": 177,
                        "passed_time": 0.7221215676,
                        "remaining_time": 3.334741172,
                        "test": [
                          0.231261892
                        ]
                      },
                      {
                        "learn": [
                          0.3279733161
                        ],
                        "iteration": 178,
                        "passed_time": 0.7261924082,
                        "remaining_time": 3.33074842,
                        "test": [
                          0.2310820571
                        ]
                      },
                      {
                        "learn": [
                          0.3278006502
                        ],
                        "iteration": 179,
                        "passed_time": 0.7293828281,
                        "remaining_time": 3.322743995,
                        "test": [
                          0.230615863
                        ]
                      },
                      {
                        "learn": [
                          0.3274827851
                        ],
                        "iteration": 180,
                        "passed_time": 0.7331353563,
                        "remaining_time": 3.317336225,
                        "test": [
                          0.2304230827
                        ]
                      },
                      {
                        "learn": [
                          0.3272162344
                        ],
                        "iteration": 181,
                        "passed_time": 0.7375033446,
                        "remaining_time": 3.314712835,
                        "test": [
                          0.2302985725
                        ]
                      },
                      {
                        "learn": [
                          0.3270313413
                        ],
                        "iteration": 182,
                        "passed_time": 0.7415548342,
                        "remaining_time": 3.310657375,
                        "test": [
                          0.2300971595
                        ]
                      },
                      {
                        "learn": [
                          0.3268635868
                        ],
                        "iteration": 183,
                        "passed_time": 0.7455820577,
                        "remaining_time": 3.306494343,
                        "test": [
                          0.2301495505
                        ]
                      },
                      {
                        "learn": [
                          0.3268635866
                        ],
                        "iteration": 184,
                        "passed_time": 0.7471131126,
                        "remaining_time": 3.291336144,
                        "test": [
                          0.2301495629
                        ]
                      },
                      {
                        "learn": [
                          0.3268307673
                        ],
                        "iteration": 185,
                        "passed_time": 0.7493532783,
                        "remaining_time": 3.279427788,
                        "test": [
                          0.2301199662
                        ]
                      },
                      {
                        "learn": [
                          0.3267389188
                        ],
                        "iteration": 186,
                        "passed_time": 0.7521194167,
                        "remaining_time": 3.26990955,
                        "test": [
                          0.2299875702
                        ]
                      },
                      {
                        "learn": [
                          0.326706966
                        ],
                        "iteration": 187,
                        "passed_time": 0.754558713,
                        "remaining_time": 3.259051463,
                        "test": [
                          0.2299588424
                        ]
                      },
                      {
                        "learn": [
                          0.3266611099
                        ],
                        "iteration": 188,
                        "passed_time": 0.756594109,
                        "remaining_time": 3.246549325,
                        "test": [
                          0.2299226509
                        ]
                      },
                      {
                        "learn": [
                          0.3261488977
                        ],
                        "iteration": 189,
                        "passed_time": 0.7605244595,
                        "remaining_time": 3.242235854,
                        "test": [
                          0.229453313
                        ]
                      },
                      {
                        "learn": [
                          0.3261021848
                        ],
                        "iteration": 190,
                        "passed_time": 0.7626215328,
                        "remaining_time": 3.230161361,
                        "test": [
                          0.2294443454
                        ]
                      },
                      {
                        "learn": [
                          0.3260047808
                        ],
                        "iteration": 191,
                        "passed_time": 0.765251957,
                        "remaining_time": 3.220435319,
                        "test": [
                          0.2294241229
                        ]
                      },
                      {
                        "learn": [
                          0.3257492698
                        ],
                        "iteration": 192,
                        "passed_time": 0.769281845,
                        "remaining_time": 3.21663445,
                        "test": [
                          0.2289694377
                        ]
                      },
                      {
                        "learn": [
                          0.3250567749
                        ],
                        "iteration": 193,
                        "passed_time": 0.7736781763,
                        "remaining_time": 3.21435366,
                        "test": [
                          0.2283301572
                        ]
                      },
                      {
                        "learn": [
                          0.324860679
                        ],
                        "iteration": 194,
                        "passed_time": 0.778645972,
                        "remaining_time": 3.214410295,
                        "test": [
                          0.2281402321
                        ]
                      },
                      {
                        "learn": [
                          0.3246808929
                        ],
                        "iteration": 195,
                        "passed_time": 0.7865351836,
                        "remaining_time": 3.226399427,
                        "test": [
                          0.2281252757
                        ]
                      },
                      {
                        "learn": [
                          0.3245661036
                        ],
                        "iteration": 196,
                        "passed_time": 0.7908951678,
                        "remaining_time": 3.223801115,
                        "test": [
                          0.2281017471
                        ]
                      },
                      {
                        "learn": [
                          0.3245516763
                        ],
                        "iteration": 197,
                        "passed_time": 0.7945788109,
                        "remaining_time": 3.218445487,
                        "test": [
                          0.2281199115
                        ]
                      },
                      {
                        "learn": [
                          0.3240323806
                        ],
                        "iteration": 198,
                        "passed_time": 0.7998670927,
                        "remaining_time": 3.219565534,
                        "test": [
                          0.2280055728
                        ]
                      },
                      {
                        "learn": [
                          0.3234320807
                        ],
                        "iteration": 199,
                        "passed_time": 0.8080388842,
                        "remaining_time": 3.232155537,
                        "test": [
                          0.2276758332
                        ]
                      },
                      {
                        "learn": [
                          0.3229004051
                        ],
                        "iteration": 200,
                        "passed_time": 0.8122955471,
                        "remaining_time": 3.228975832,
                        "test": [
                          0.22694069
                        ]
                      },
                      {
                        "learn": [
                          0.3225371393
                        ],
                        "iteration": 201,
                        "passed_time": 0.8163158819,
                        "remaining_time": 3.22485185,
                        "test": [
                          0.2267580343
                        ]
                      },
                      {
                        "learn": [
                          0.3221560945
                        ],
                        "iteration": 202,
                        "passed_time": 0.8202858527,
                        "remaining_time": 3.220531156,
                        "test": [
                          0.2266350646
                        ]
                      },
                      {
                        "learn": [
                          0.3220838884
                        ],
                        "iteration": 203,
                        "passed_time": 0.8234205512,
                        "remaining_time": 3.2129547,
                        "test": [
                          0.2265796201
                        ]
                      },
                      {
                        "learn": [
                          0.3217557185
                        ],
                        "iteration": 204,
                        "passed_time": 0.8275467231,
                        "remaining_time": 3.20926656,
                        "test": [
                          0.2264499292
                        ]
                      },
                      {
                        "learn": [
                          0.3215781533
                        ],
                        "iteration": 205,
                        "passed_time": 0.8312020015,
                        "remaining_time": 3.203759171,
                        "test": [
                          0.2262198424
                        ]
                      },
                      {
                        "learn": [
                          0.3212201167
                        ],
                        "iteration": 206,
                        "passed_time": 0.8356115129,
                        "remaining_time": 3.201159081,
                        "test": [
                          0.2262117838
                        ]
                      },
                      {
                        "learn": [
                          0.3209078626
                        ],
                        "iteration": 207,
                        "passed_time": 0.8394909744,
                        "remaining_time": 3.196523325,
                        "test": [
                          0.2267412923
                        ]
                      },
                      {
                        "learn": [
                          0.3206962552
                        ],
                        "iteration": 208,
                        "passed_time": 0.8436009926,
                        "remaining_time": 3.192767393,
                        "test": [
                          0.2264501749
                        ]
                      },
                      {
                        "learn": [
                          0.3205865655
                        ],
                        "iteration": 209,
                        "passed_time": 0.8470531371,
                        "remaining_time": 3.18653323,
                        "test": [
                          0.2265815633
                        ]
                      },
                      {
                        "learn": [
                          0.3205430446
                        ],
                        "iteration": 210,
                        "passed_time": 0.8490187553,
                        "remaining_time": 3.174766815,
                        "test": [
                          0.2265455133
                        ]
                      },
                      {
                        "learn": [
                          0.3203902001
                        ],
                        "iteration": 211,
                        "passed_time": 0.8532221065,
                        "remaining_time": 3.171410471,
                        "test": [
                          0.2267319138
                        ]
                      },
                      {
                        "learn": [
                          0.3195975752
                        ],
                        "iteration": 212,
                        "passed_time": 0.857492855,
                        "remaining_time": 3.168295197,
                        "test": [
                          0.2264173537
                        ]
                      },
                      {
                        "learn": [
                          0.3188508934
                        ],
                        "iteration": 213,
                        "passed_time": 0.8612682743,
                        "remaining_time": 3.16334983,
                        "test": [
                          0.2262079097
                        ]
                      },
                      {
                        "learn": [
                          0.3185360522
                        ],
                        "iteration": 214,
                        "passed_time": 0.8650571796,
                        "remaining_time": 3.158464586,
                        "test": [
                          0.2236662068
                        ]
                      },
                      {
                        "learn": [
                          0.318483137
                        ],
                        "iteration": 215,
                        "passed_time": 0.8683951751,
                        "remaining_time": 3.151952858,
                        "test": [
                          0.2236598501
                        ]
                      },
                      {
                        "learn": [
                          0.3178963101
                        ],
                        "iteration": 216,
                        "passed_time": 0.8721684412,
                        "remaining_time": 3.147040965,
                        "test": [
                          0.2235267525
                        ]
                      },
                      {
                        "learn": [
                          0.3178720985
                        ],
                        "iteration": 217,
                        "passed_time": 0.8743737271,
                        "remaining_time": 3.136514929,
                        "test": [
                          0.2235181317
                        ]
                      },
                      {
                        "learn": [
                          0.3174894791
                        ],
                        "iteration": 218,
                        "passed_time": 0.8781439209,
                        "remaining_time": 3.131645672,
                        "test": [
                          0.2225234964
                        ]
                      },
                      {
                        "learn": [
                          0.3167015039
                        ],
                        "iteration": 219,
                        "passed_time": 0.8815017306,
                        "remaining_time": 3.125324318,
                        "test": [
                          0.2224240915
                        ]
                      },
                      {
                        "learn": [
                          0.3166659264
                        ],
                        "iteration": 220,
                        "passed_time": 0.88332191,
                        "remaining_time": 3.113609809,
                        "test": [
                          0.222420722
                        ]
                      },
                      {
                        "learn": [
                          0.3165397776
                        ],
                        "iteration": 221,
                        "passed_time": 0.8857925157,
                        "remaining_time": 3.104263861,
                        "test": [
                          0.222275903
                        ]
                      },
                      {
                        "learn": [
                          0.316257934
                        ],
                        "iteration": 222,
                        "passed_time": 0.8893115007,
                        "remaining_time": 3.098632449,
                        "test": [
                          0.2217894187
                        ]
                      },
                      {
                        "learn": [
                          0.3158507622
                        ],
                        "iteration": 223,
                        "passed_time": 0.8932579909,
                        "remaining_time": 3.094500897,
                        "test": [
                          0.2216620893
                        ]
                      },
                      {
                        "learn": [
                          0.3158254286
                        ],
                        "iteration": 224,
                        "passed_time": 0.8957877415,
                        "remaining_time": 3.08549111,
                        "test": [
                          0.2216612357
                        ]
                      },
                      {
                        "learn": [
                          0.3153280057
                        ],
                        "iteration": 225,
                        "passed_time": 0.8996722917,
                        "remaining_time": 3.081178556,
                        "test": [
                          0.2215037495
                        ]
                      },
                      {
                        "learn": [
                          0.3151036065
                        ],
                        "iteration": 226,
                        "passed_time": 0.9036949392,
                        "remaining_time": 3.077340035,
                        "test": [
                          0.2215635421
                        ]
                      },
                      {
                        "learn": [
                          0.3150434636
                        ],
                        "iteration": 227,
                        "passed_time": 0.9075930512,
                        "remaining_time": 3.073078226,
                        "test": [
                          0.2214303182
                        ]
                      },
                      {
                        "learn": [
                          0.3149220826
                        ],
                        "iteration": 228,
                        "passed_time": 0.9112279749,
                        "remaining_time": 3.067933488,
                        "test": [
                          0.2209831484
                        ]
                      },
                      {
                        "learn": [
                          0.3147780942
                        ],
                        "iteration": 229,
                        "passed_time": 0.9151132414,
                        "remaining_time": 3.063639982,
                        "test": [
                          0.2209233882
                        ]
                      },
                      {
                        "learn": [
                          0.3147241449
                        ],
                        "iteration": 230,
                        "passed_time": 0.9189416333,
                        "remaining_time": 3.059160676,
                        "test": [
                          0.2208596192
                        ]
                      },
                      {
                        "learn": [
                          0.314724047
                        ],
                        "iteration": 231,
                        "passed_time": 0.920759589,
                        "remaining_time": 3.048031743,
                        "test": [
                          0.2208444999
                        ]
                      },
                      {
                        "learn": [
                          0.3144459566
                        ],
                        "iteration": 232,
                        "passed_time": 0.9245568576,
                        "remaining_time": 3.043498325,
                        "test": [
                          0.2205697502
                        ]
                      },
                      {
                        "learn": [
                          0.3143870573
                        ],
                        "iteration": 233,
                        "passed_time": 0.9283922682,
                        "remaining_time": 3.039096058,
                        "test": [
                          0.2205132664
                        ]
                      },
                      {
                        "learn": [
                          0.3139474102
                        ],
                        "iteration": 234,
                        "passed_time": 0.9321460037,
                        "remaining_time": 3.034432736,
                        "test": [
                          0.2202123386
                        ]
                      },
                      {
                        "learn": [
                          0.313507254
                        ],
                        "iteration": 235,
                        "passed_time": 0.9360300552,
                        "remaining_time": 3.030198992,
                        "test": [
                          0.2199522734
                        ]
                      },
                      {
                        "learn": [
                          0.313201257
                        ],
                        "iteration": 236,
                        "passed_time": 0.9398122941,
                        "remaining_time": 3.025640424,
                        "test": [
                          0.2200015433
                        ]
                      },
                      {
                        "learn": [
                          0.313176394
                        ],
                        "iteration": 237,
                        "passed_time": 0.9415791417,
                        "remaining_time": 3.014635739,
                        "test": [
                          0.219979035
                        ]
                      },
                      {
                        "learn": [
                          0.3128875186
                        ],
                        "iteration": 238,
                        "passed_time": 0.9453875135,
                        "remaining_time": 3.010208777,
                        "test": [
                          0.2199103731
                        ]
                      },
                      {
                        "learn": [
                          0.3127023125
                        ],
                        "iteration": 239,
                        "passed_time": 0.9499518711,
                        "remaining_time": 3.008180925,
                        "test": [
                          0.2198768278
                        ]
                      },
                      {
                        "learn": [
                          0.3121158672
                        ],
                        "iteration": 240,
                        "passed_time": 0.9607556427,
                        "remaining_time": 3.025782294,
                        "test": [
                          0.2194663081
                        ]
                      },
                      {
                        "learn": [
                          0.3119032332
                        ],
                        "iteration": 241,
                        "passed_time": 0.9680222777,
                        "remaining_time": 3.032069779,
                        "test": [
                          0.2195302733
                        ]
                      },
                      {
                        "learn": [
                          0.3118219812
                        ],
                        "iteration": 242,
                        "passed_time": 0.9716394849,
                        "remaining_time": 3.026876914,
                        "test": [
                          0.2191274367
                        ]
                      },
                      {
                        "learn": [
                          0.311789045
                        ],
                        "iteration": 243,
                        "passed_time": 0.973643177,
                        "remaining_time": 3.016697712,
                        "test": [
                          0.2191103599
                        ]
                      },
                      {
                        "learn": [
                          0.3116507371
                        ],
                        "iteration": 244,
                        "passed_time": 0.9775615764,
                        "remaining_time": 3.012485674,
                        "test": [
                          0.2190370388
                        ]
                      },
                      {
                        "learn": [
                          0.3112857813
                        ],
                        "iteration": 245,
                        "passed_time": 0.9849500461,
                        "remaining_time": 3.01891193,
                        "test": [
                          0.2181539554
                        ]
                      },
                      {
                        "learn": [
                          0.3108580906
                        ],
                        "iteration": 246,
                        "passed_time": 0.9892824778,
                        "remaining_time": 3.01590974,
                        "test": [
                          0.2179388226
                        ]
                      },
                      {
                        "learn": [
                          0.3106545643
                        ],
                        "iteration": 247,
                        "passed_time": 0.9929873592,
                        "remaining_time": 3.010993928,
                        "test": [
                          0.2174805642
                        ]
                      },
                      {
                        "learn": [
                          0.3103791085
                        ],
                        "iteration": 248,
                        "passed_time": 0.9976099882,
                        "remaining_time": 3.008855828,
                        "test": [
                          0.2172666984
                        ]
                      },
                      {
                        "learn": [
                          0.3101892339
                        ],
                        "iteration": 249,
                        "passed_time": 1.001729152,
                        "remaining_time": 3.005187456,
                        "test": [
                          0.2172656083
                        ]
                      },
                      {
                        "learn": [
                          0.3100518172
                        ],
                        "iteration": 250,
                        "passed_time": 1.005285119,
                        "remaining_time": 2.999834877,
                        "test": [
                          0.2167416601
                        ]
                      },
                      {
                        "learn": [
                          0.3093072993
                        ],
                        "iteration": 251,
                        "passed_time": 1.009497977,
                        "remaining_time": 2.996446375,
                        "test": [
                          0.2164659359
                        ]
                      },
                      {
                        "learn": [
                          0.3086786564
                        ],
                        "iteration": 252,
                        "passed_time": 1.013223377,
                        "remaining_time": 2.991612104,
                        "test": [
                          0.215868325
                        ]
                      },
                      {
                        "learn": [
                          0.3086470071
                        ],
                        "iteration": 253,
                        "passed_time": 1.017297835,
                        "remaining_time": 2.987811753,
                        "test": [
                          0.2158004679
                        ]
                      },
                      {
                        "learn": [
                          0.308398536
                        ],
                        "iteration": 254,
                        "passed_time": 1.021567162,
                        "remaining_time": 2.984578573,
                        "test": [
                          0.2155642969
                        ]
                      },
                      {
                        "learn": [
                          0.3083786148
                        ],
                        "iteration": 255,
                        "passed_time": 1.023409806,
                        "remaining_time": 2.974284749,
                        "test": [
                          0.2155466722
                        ]
                      },
                      {
                        "learn": [
                          0.3081412711
                        ],
                        "iteration": 256,
                        "passed_time": 1.027265122,
                        "remaining_time": 2.96987543,
                        "test": [
                          0.2154595074
                        ]
                      },
                      {
                        "learn": [
                          0.3079144055
                        ],
                        "iteration": 257,
                        "passed_time": 1.031015532,
                        "remaining_time": 2.965168702,
                        "test": [
                          0.2153414798
                        ]
                      },
                      {
                        "learn": [
                          0.3076713021
                        ],
                        "iteration": 258,
                        "passed_time": 1.035280904,
                        "remaining_time": 2.961942662,
                        "test": [
                          0.2153514579
                        ]
                      },
                      {
                        "learn": [
                          0.307450247
                        ],
                        "iteration": 259,
                        "passed_time": 1.038957997,
                        "remaining_time": 2.957034299,
                        "test": [
                          0.2152223718
                        ]
                      },
                      {
                        "learn": [
                          0.3070127496
                        ],
                        "iteration": 260,
                        "passed_time": 1.042993048,
                        "remaining_time": 2.953148899,
                        "test": [
                          0.2147594376
                        ]
                      },
                      {
                        "learn": [
                          0.3067700336
                        ],
                        "iteration": 261,
                        "passed_time": 1.049762065,
                        "remaining_time": 2.956963373,
                        "test": [
                          0.2145758132
                        ]
                      },
                      {
                        "learn": [
                          0.3065936856
                        ],
                        "iteration": 262,
                        "passed_time": 1.053730599,
                        "remaining_time": 2.952849625,
                        "test": [
                          0.2144968535
                        ]
                      },
                      {
                        "learn": [
                          0.3062767685
                        ],
                        "iteration": 263,
                        "passed_time": 1.057667713,
                        "remaining_time": 2.948649381,
                        "test": [
                          0.2143300096
                        ]
                      },
                      {
                        "learn": [
                          0.3061894675
                        ],
                        "iteration": 264,
                        "passed_time": 1.061496549,
                        "remaining_time": 2.944150805,
                        "test": [
                          0.2142422948
                        ]
                      },
                      {
                        "learn": [
                          0.3056126234
                        ],
                        "iteration": 265,
                        "passed_time": 1.065577641,
                        "remaining_time": 2.940353341,
                        "test": [
                          0.2141729349
                        ]
                      },
                      {
                        "learn": [
                          0.305489274
                        ],
                        "iteration": 266,
                        "passed_time": 1.069431546,
                        "remaining_time": 2.93593005,
                        "test": [
                          0.2140865675
                        ]
                      },
                      {
                        "learn": [
                          0.3054716649
                        ],
                        "iteration": 267,
                        "passed_time": 1.071525579,
                        "remaining_time": 2.926704192,
                        "test": [
                          0.2140512038
                        ]
                      },
                      {
                        "learn": [
                          0.3053302524
                        ],
                        "iteration": 268,
                        "passed_time": 1.07526199,
                        "remaining_time": 2.921994479,
                        "test": [
                          0.2139839672
                        ]
                      },
                      {
                        "learn": [
                          0.3051901763
                        ],
                        "iteration": 269,
                        "passed_time": 1.079317164,
                        "remaining_time": 2.918153815,
                        "test": [
                          0.2137495298
                        ]
                      },
                      {
                        "learn": [
                          0.3051748245
                        ],
                        "iteration": 270,
                        "passed_time": 1.08122347,
                        "remaining_time": 2.908531033,
                        "test": [
                          0.2137354062
                        ]
                      },
                      {
                        "learn": [
                          0.3045819873
                        ],
                        "iteration": 271,
                        "passed_time": 1.085077229,
                        "remaining_time": 2.904177289,
                        "test": [
                          0.2134528765
                        ]
                      },
                      {
                        "learn": [
                          0.3042414031
                        ],
                        "iteration": 272,
                        "passed_time": 1.088951525,
                        "remaining_time": 2.899881901,
                        "test": [
                          0.21306428
                        ]
                      },
                      {
                        "learn": [
                          0.3038718351
                        ],
                        "iteration": 273,
                        "passed_time": 1.092581564,
                        "remaining_time": 2.894942392,
                        "test": [
                          0.2127620419
                        ]
                      },
                      {
                        "learn": [
                          0.3030723542
                        ],
                        "iteration": 274,
                        "passed_time": 1.096501113,
                        "remaining_time": 2.890775662,
                        "test": [
                          0.2121774532
                        ]
                      },
                      {
                        "learn": [
                          0.3025837768
                        ],
                        "iteration": 275,
                        "passed_time": 1.100787276,
                        "remaining_time": 2.88757242,
                        "test": [
                          0.2120560452
                        ]
                      },
                      {
                        "learn": [
                          0.3018834205
                        ],
                        "iteration": 276,
                        "passed_time": 1.105261621,
                        "remaining_time": 2.884852533,
                        "test": [
                          0.2116369409
                        ]
                      },
                      {
                        "learn": [
                          0.3016604207
                        ],
                        "iteration": 277,
                        "passed_time": 1.108876306,
                        "remaining_time": 2.879887385,
                        "test": [
                          0.2114640789
                        ]
                      },
                      {
                        "learn": [
                          0.301093509
                        ],
                        "iteration": 278,
                        "passed_time": 1.112587512,
                        "remaining_time": 2.875181347,
                        "test": [
                          0.2112431639
                        ]
                      },
                      {
                        "learn": [
                          0.3010207083
                        ],
                        "iteration": 279,
                        "passed_time": 1.116587933,
                        "remaining_time": 2.871226114,
                        "test": [
                          0.2112112588
                        ]
                      },
                      {
                        "learn": [
                          0.3009416272
                        ],
                        "iteration": 280,
                        "passed_time": 1.120931584,
                        "remaining_time": 2.868148787,
                        "test": [
                          0.2111948702
                        ]
                      },
                      {
                        "learn": [
                          0.300899941
                        ],
                        "iteration": 281,
                        "passed_time": 1.124914859,
                        "remaining_time": 2.864144926,
                        "test": [
                          0.2111579108
                        ]
                      },
                      {
                        "learn": [
                          0.300496539
                        ],
                        "iteration": 282,
                        "passed_time": 1.129035315,
                        "remaining_time": 2.860488767,
                        "test": [
                          0.211319179
                        ]
                      },
                      {
                        "learn": [
                          0.3004387602
                        ],
                        "iteration": 283,
                        "passed_time": 1.13258515,
                        "remaining_time": 2.855390731,
                        "test": [
                          0.2112665295
                        ]
                      },
                      {
                        "learn": [
                          0.3002989296
                        ],
                        "iteration": 284,
                        "passed_time": 1.135750333,
                        "remaining_time": 2.849338555,
                        "test": [
                          0.2112325622
                        ]
                      },
                      {
                        "learn": [
                          0.3000183235
                        ],
                        "iteration": 285,
                        "passed_time": 1.139414793,
                        "remaining_time": 2.844553014,
                        "test": [
                          0.2110122457
                        ]
                      },
                      {
                        "learn": [
                          0.2998397853
                        ],
                        "iteration": 286,
                        "passed_time": 1.143259189,
                        "remaining_time": 2.840222305,
                        "test": [
                          0.2109650552
                        ]
                      },
                      {
                        "learn": [
                          0.299407961
                        ],
                        "iteration": 287,
                        "passed_time": 1.147485984,
                        "remaining_time": 2.836840349,
                        "test": [
                          0.2109661111
                        ]
                      },
                      {
                        "learn": [
                          0.2992911924
                        ],
                        "iteration": 288,
                        "passed_time": 1.15179523,
                        "remaining_time": 2.833655392,
                        "test": [
                          0.2108306831
                        ]
                      },
                      {
                        "learn": [
                          0.2987371233
                        ],
                        "iteration": 289,
                        "passed_time": 1.155362583,
                        "remaining_time": 2.828646324,
                        "test": [
                          0.2107536781
                        ]
                      },
                      {
                        "learn": [
                          0.2984866962
                        ],
                        "iteration": 290,
                        "passed_time": 1.159270397,
                        "remaining_time": 2.824476672,
                        "test": [
                          0.2106615912
                        ]
                      },
                      {
                        "learn": [
                          0.2983322556
                        ],
                        "iteration": 291,
                        "passed_time": 1.16350269,
                        "remaining_time": 2.821095565,
                        "test": [
                          0.2105457665
                        ]
                      },
                      {
                        "learn": [
                          0.2983054168
                        ],
                        "iteration": 292,
                        "passed_time": 1.165780428,
                        "remaining_time": 2.812992365,
                        "test": [
                          0.2105014751
                        ]
                      },
                      {
                        "learn": [
                          0.2982276666
                        ],
                        "iteration": 293,
                        "passed_time": 1.169803817,
                        "remaining_time": 2.80912073,
                        "test": [
                          0.2104970071
                        ]
                      },
                      {
                        "learn": [
                          0.2979707629
                        ],
                        "iteration": 294,
                        "passed_time": 1.173720719,
                        "remaining_time": 2.804993583,
                        "test": [
                          0.2102331114
                        ]
                      },
                      {
                        "learn": [
                          0.2979425367
                        ],
                        "iteration": 295,
                        "passed_time": 1.178628799,
                        "remaining_time": 2.803225252,
                        "test": [
                          0.2101914512
                        ]
                      },
                      {
                        "learn": [
                          0.297451437
                        ],
                        "iteration": 296,
                        "passed_time": 1.186016289,
                        "remaining_time": 2.80730455,
                        "test": [
                          0.2100200026
                        ]
                      },
                      {
                        "learn": [
                          0.2970323403
                        ],
                        "iteration": 297,
                        "passed_time": 1.190783828,
                        "remaining_time": 2.805135058,
                        "test": [
                          0.2098521906
                        ]
                      },
                      {
                        "learn": [
                          0.2967238762
                        ],
                        "iteration": 298,
                        "passed_time": 1.194441573,
                        "remaining_time": 2.800346296,
                        "test": [
                          0.2094664166
                        ]
                      },
                      {
                        "learn": [
                          0.2964504748
                        ],
                        "iteration": 299,
                        "passed_time": 1.198459377,
                        "remaining_time": 2.796405214,
                        "test": [
                          0.209191729
                        ]
                      },
                      {
                        "learn": [
                          0.2960021581
                        ],
                        "iteration": 300,
                        "passed_time": 1.202327435,
                        "remaining_time": 2.79211587,
                        "test": [
                          0.2088667368
                        ]
                      },
                      {
                        "learn": [
                          0.2956680736
                        ],
                        "iteration": 301,
                        "passed_time": 1.206158048,
                        "remaining_time": 2.787742772,
                        "test": [
                          0.2087538564
                        ]
                      },
                      {
                        "learn": [
                          0.2956044908
                        ],
                        "iteration": 302,
                        "passed_time": 1.210180518,
                        "remaining_time": 2.783814592,
                        "test": [
                          0.2086596877
                        ]
                      },
                      {
                        "learn": [
                          0.2955282418
                        ],
                        "iteration": 303,
                        "passed_time": 1.214080393,
                        "remaining_time": 2.779605109,
                        "test": [
                          0.2086407627
                        ]
                      },
                      {
                        "learn": [
                          0.295100495
                        ],
                        "iteration": 304,
                        "passed_time": 1.218393421,
                        "remaining_time": 2.776339107,
                        "test": [
                          0.2086337342
                        ]
                      },
                      {
                        "learn": [
                          0.2947666554
                        ],
                        "iteration": 305,
                        "passed_time": 1.222209786,
                        "remaining_time": 2.771939842,
                        "test": [
                          0.2084224506
                        ]
                      },
                      {
                        "learn": [
                          0.2947296806
                        ],
                        "iteration": 306,
                        "passed_time": 1.225928397,
                        "remaining_time": 2.767323711,
                        "test": [
                          0.2083558076
                        ]
                      },
                      {
                        "learn": [
                          0.294696974
                        ],
                        "iteration": 307,
                        "passed_time": 1.229907653,
                        "remaining_time": 2.763299014,
                        "test": [
                          0.208351859
                        ]
                      },
                      {
                        "learn": [
                          0.2941378396
                        ],
                        "iteration": 308,
                        "passed_time": 1.233460205,
                        "remaining_time": 2.758320394,
                        "test": [
                          0.2083386485
                        ]
                      },
                      {
                        "learn": [
                          0.2938839379
                        ],
                        "iteration": 309,
                        "passed_time": 1.236766409,
                        "remaining_time": 2.752802653,
                        "test": [
                          0.2083576775
                        ]
                      },
                      {
                        "learn": [
                          0.2937508349
                        ],
                        "iteration": 310,
                        "passed_time": 1.240600502,
                        "remaining_time": 2.748468636,
                        "test": [
                          0.2082822009
                        ]
                      },
                      {
                        "learn": [
                          0.2936335871
                        ],
                        "iteration": 311,
                        "passed_time": 1.244518276,
                        "remaining_time": 2.744322353,
                        "test": [
                          0.2081954721
                        ]
                      },
                      {
                        "learn": [
                          0.2936044558
                        ],
                        "iteration": 312,
                        "passed_time": 1.248247309,
                        "remaining_time": 2.739763262,
                        "test": [
                          0.2081712287
                        ]
                      },
                      {
                        "learn": [
                          0.2933857889
                        ],
                        "iteration": 313,
                        "passed_time": 1.252073477,
                        "remaining_time": 2.735421672,
                        "test": [
                          0.2083289063
                        ]
                      },
                      {
                        "learn": [
                          0.292896623
                        ],
                        "iteration": 314,
                        "passed_time": 1.256239887,
                        "remaining_time": 2.731823247,
                        "test": [
                          0.2082490104
                        ]
                      },
                      {
                        "learn": [
                          0.2925416544
                        ],
                        "iteration": 315,
                        "passed_time": 1.260014681,
                        "remaining_time": 2.72737355,
                        "test": [
                          0.2084189781
                        ]
                      },
                      {
                        "learn": [
                          0.2924268519
                        ],
                        "iteration": 316,
                        "passed_time": 1.263920488,
                        "remaining_time": 2.723210389,
                        "test": [
                          0.208370549
                        ]
                      },
                      {
                        "learn": [
                          0.2922179982
                        ],
                        "iteration": 317,
                        "passed_time": 1.268055144,
                        "remaining_time": 2.719539649,
                        "test": [
                          0.2085386576
                        ]
                      },
                      {
                        "learn": [
                          0.2919806838
                        ],
                        "iteration": 318,
                        "passed_time": 1.271761614,
                        "remaining_time": 2.71495191,
                        "test": [
                          0.2083807371
                        ]
                      },
                      {
                        "learn": [
                          0.2910399032
                        ],
                        "iteration": 319,
                        "passed_time": 1.275604722,
                        "remaining_time": 2.710660035,
                        "test": [
                          0.2076416693
                        ]
                      },
                      {
                        "learn": [
                          0.2906360224
                        ],
                        "iteration": 320,
                        "passed_time": 1.279359891,
                        "remaining_time": 2.70618494,
                        "test": [
                          0.206841877
                        ]
                      },
                      {
                        "learn": [
                          0.2904300444
                        ],
                        "iteration": 321,
                        "passed_time": 1.283450451,
                        "remaining_time": 2.702420516,
                        "test": [
                          0.2067367552
                        ]
                      },
                      {
                        "learn": [
                          0.2899612805
                        ],
                        "iteration": 322,
                        "passed_time": 1.287176633,
                        "remaining_time": 2.697890342,
                        "test": [
                          0.206539485
                        ]
                      },
                      {
                        "learn": [
                          0.289934374
                        ],
                        "iteration": 323,
                        "passed_time": 1.290658418,
                        "remaining_time": 2.692855218,
                        "test": [
                          0.2065183718
                        ]
                      },
                      {
                        "learn": [
                          0.289657551
                        ],
                        "iteration": 324,
                        "passed_time": 1.294613952,
                        "remaining_time": 2.688813592,
                        "test": [
                          0.2064067822
                        ]
                      },
                      {
                        "learn": [
                          0.2893289694
                        ],
                        "iteration": 325,
                        "passed_time": 1.298703087,
                        "remaining_time": 2.685048715,
                        "test": [
                          0.2062527306
                        ]
                      },
                      {
                        "learn": [
                          0.2891198844
                        ],
                        "iteration": 326,
                        "passed_time": 1.302605586,
                        "remaining_time": 2.680897735,
                        "test": [
                          0.2059335613
                        ]
                      },
                      {
                        "learn": [
                          0.2889496499
                        ],
                        "iteration": 327,
                        "passed_time": 1.306624104,
                        "remaining_time": 2.676985969,
                        "test": [
                          0.2059160009
                        ]
                      },
                      {
                        "learn": [
                          0.2889185887
                        ],
                        "iteration": 328,
                        "passed_time": 1.310373337,
                        "remaining_time": 2.672524343,
                        "test": [
                          0.205918725
                        ]
                      },
                      {
                        "learn": [
                          0.2888994466
                        ],
                        "iteration": 329,
                        "passed_time": 1.31393562,
                        "remaining_time": 2.667687471,
                        "test": [
                          0.2059346528
                        ]
                      },
                      {
                        "learn": [
                          0.288514694
                        ],
                        "iteration": 330,
                        "passed_time": 1.317542645,
                        "remaining_time": 2.66294873,
                        "test": [
                          0.2053575287
                        ]
                      },
                      {
                        "learn": [
                          0.2879316279
                        ],
                        "iteration": 331,
                        "passed_time": 1.321521494,
                        "remaining_time": 2.658964933,
                        "test": [
                          0.2049533794
                        ]
                      },
                      {
                        "learn": [
                          0.287767956
                        ],
                        "iteration": 332,
                        "passed_time": 1.325181103,
                        "remaining_time": 2.654341729,
                        "test": [
                          0.2047946969
                        ]
                      },
                      {
                        "learn": [
                          0.2870272834
                        ],
                        "iteration": 333,
                        "passed_time": 1.329124949,
                        "remaining_time": 2.650291067,
                        "test": [
                          0.2046725036
                        ]
                      },
                      {
                        "learn": [
                          0.2868522946
                        ],
                        "iteration": 334,
                        "passed_time": 1.333124939,
                        "remaining_time": 2.646352491,
                        "test": [
                          0.2045949047
                        ]
                      },
                      {
                        "learn": [
                          0.2867164346
                        ],
                        "iteration": 335,
                        "passed_time": 1.336680423,
                        "remaining_time": 2.641535121,
                        "test": [
                          0.204685184
                        ]
                      },
                      {
                        "learn": [
                          0.2866427759
                        ],
                        "iteration": 336,
                        "passed_time": 1.340651317,
                        "remaining_time": 2.637542502,
                        "test": [
                          0.2046286966
                        ]
                      },
                      {
                        "learn": [
                          0.2859241189
                        ],
                        "iteration": 337,
                        "passed_time": 1.344978289,
                        "remaining_time": 2.634247418,
                        "test": [
                          0.2043072696
                        ]
                      },
                      {
                        "learn": [
                          0.285628394
                        ],
                        "iteration": 338,
                        "passed_time": 1.349208778,
                        "remaining_time": 2.630758119,
                        "test": [
                          0.204323885
                        ]
                      },
                      {
                        "learn": [
                          0.2848331379
                        ],
                        "iteration": 339,
                        "passed_time": 1.353951675,
                        "remaining_time": 2.628259133,
                        "test": [
                          0.2039684246
                        ]
                      },
                      {
                        "learn": [
                          0.2846184991
                        ],
                        "iteration": 340,
                        "passed_time": 1.358292571,
                        "remaining_time": 2.6249701,
                        "test": [
                          0.2037334587
                        ]
                      },
                      {
                        "learn": [
                          0.2841917235
                        ],
                        "iteration": 341,
                        "passed_time": 1.362594849,
                        "remaining_time": 2.621600615,
                        "test": [
                          0.2036081959
                        ]
                      },
                      {
                        "learn": [
                          0.2838184588
                        ],
                        "iteration": 342,
                        "passed_time": 1.366759042,
                        "remaining_time": 2.617961197,
                        "test": [
                          0.2035136217
                        ]
                      },
                      {
                        "learn": [
                          0.2836151711
                        ],
                        "iteration": 343,
                        "passed_time": 1.370919057,
                        "remaining_time": 2.61431076,
                        "test": [
                          0.2033494676
                        ]
                      },
                      {
                        "learn": [
                          0.2832592129
                        ],
                        "iteration": 344,
                        "passed_time": 1.379394791,
                        "remaining_time": 2.61885098,
                        "test": [
                          0.2031539462
                        ]
                      },
                      {
                        "learn": [
                          0.2830825674
                        ],
                        "iteration": 345,
                        "passed_time": 1.384626013,
                        "remaining_time": 2.617183273,
                        "test": [
                          0.2030196397
                        ]
                      },
                      {
                        "learn": [
                          0.2828402585
                        ],
                        "iteration": 346,
                        "passed_time": 1.388736245,
                        "remaining_time": 2.613385499,
                        "test": [
                          0.2028508643
                        ]
                      },
                      {
                        "learn": [
                          0.2826940128
                        ],
                        "iteration": 347,
                        "passed_time": 1.392382719,
                        "remaining_time": 2.608717049,
                        "test": [
                          0.2028780634
                        ]
                      },
                      {
                        "learn": [
                          0.2823189016
                        ],
                        "iteration": 348,
                        "passed_time": 1.396546111,
                        "remaining_time": 2.605018677,
                        "test": [
                          0.2027379582
                        ]
                      },
                      {
                        "learn": [
                          0.2822773249
                        ],
                        "iteration": 349,
                        "passed_time": 1.400304715,
                        "remaining_time": 2.6005659,
                        "test": [
                          0.2026860444
                        ]
                      },
                      {
                        "learn": [
                          0.2821010194
                        ],
                        "iteration": 350,
                        "passed_time": 1.404214635,
                        "remaining_time": 2.596396862,
                        "test": [
                          0.2026877644
                        ]
                      },
                      {
                        "learn": [
                          0.2818938916
                        ],
                        "iteration": 351,
                        "passed_time": 1.407911495,
                        "remaining_time": 2.59183707,
                        "test": [
                          0.2025460549
                        ]
                      },
                      {
                        "learn": [
                          0.2818707695
                        ],
                        "iteration": 352,
                        "passed_time": 1.412040216,
                        "remaining_time": 2.588073711,
                        "test": [
                          0.2024963882
                        ]
                      },
                      {
                        "learn": [
                          0.2815858577
                        ],
                        "iteration": 353,
                        "passed_time": 1.416206412,
                        "remaining_time": 2.584376672,
                        "test": [
                          0.2024161157
                        ]
                      },
                      {
                        "learn": [
                          0.2814624132
                        ],
                        "iteration": 354,
                        "passed_time": 1.420299715,
                        "remaining_time": 2.580544553,
                        "test": [
                          0.2026938462
                        ]
                      },
                      {
                        "learn": [
                          0.2813573958
                        ],
                        "iteration": 355,
                        "passed_time": 1.423827855,
                        "remaining_time": 2.575688591,
                        "test": [
                          0.2025706002
                        ]
                      },
                      {
                        "learn": [
                          0.2810616662
                        ],
                        "iteration": 356,
                        "passed_time": 1.427683043,
                        "remaining_time": 2.571429123,
                        "test": [
                          0.2023744942
                        ]
                      },
                      {
                        "learn": [
                          0.2807990025
                        ],
                        "iteration": 357,
                        "passed_time": 1.431808378,
                        "remaining_time": 2.567656365,
                        "test": [
                          0.2022323068
                        ]
                      },
                      {
                        "learn": [
                          0.2807150121
                        ],
                        "iteration": 358,
                        "passed_time": 1.43516136,
                        "remaining_time": 2.562502595,
                        "test": [
                          0.2022390585
                        ]
                      },
                      {
                        "learn": [
                          0.280439681
                        ],
                        "iteration": 359,
                        "passed_time": 1.438986851,
                        "remaining_time": 2.558198845,
                        "test": [
                          0.2020370848
                        ]
                      },
                      {
                        "learn": [
                          0.2801431463
                        ],
                        "iteration": 360,
                        "passed_time": 1.443008858,
                        "remaining_time": 2.554245596,
                        "test": [
                          0.2020283167
                        ]
                      },
                      {
                        "learn": [
                          0.2798996295
                        ],
                        "iteration": 361,
                        "passed_time": 1.447418295,
                        "remaining_time": 2.550974786,
                        "test": [
                          0.2018716616
                        ]
                      },
                      {
                        "learn": [
                          0.2793937172
                        ],
                        "iteration": 362,
                        "passed_time": 1.451739804,
                        "remaining_time": 2.547543402,
                        "test": [
                          0.201519938
                        ]
                      },
                      {
                        "learn": [
                          0.2793334853
                        ],
                        "iteration": 363,
                        "passed_time": 1.455329886,
                        "remaining_time": 2.542829142,
                        "test": [
                          0.2014246671
                        ]
                      },
                      {
                        "learn": [
                          0.2787329335
                        ],
                        "iteration": 364,
                        "passed_time": 1.459421119,
                        "remaining_time": 2.538992905,
                        "test": [
                          0.2008886051
                        ]
                      },
                      {
                        "learn": [
                          0.2786247744
                        ],
                        "iteration": 365,
                        "passed_time": 1.463287068,
                        "remaining_time": 2.534765031,
                        "test": [
                          0.2008283496
                        ]
                      },
                      {
                        "learn": [
                          0.2784252273
                        ],
                        "iteration": 366,
                        "passed_time": 1.467252506,
                        "remaining_time": 2.530710726,
                        "test": [
                          0.2007241847
                        ]
                      },
                      {
                        "learn": [
                          0.2782993726
                        ],
                        "iteration": 367,
                        "passed_time": 1.471561315,
                        "remaining_time": 2.527246607,
                        "test": [
                          0.2006034287
                        ]
                      },
                      {
                        "learn": [
                          0.27795931
                        ],
                        "iteration": 368,
                        "passed_time": 1.475349539,
                        "remaining_time": 2.522887694,
                        "test": [
                          0.2003945304
                        ]
                      },
                      {
                        "learn": [
                          0.2776358105
                        ],
                        "iteration": 369,
                        "passed_time": 1.479672651,
                        "remaining_time": 2.519442622,
                        "test": [
                          0.2003906381
                        ]
                      },
                      {
                        "learn": [
                          0.2772228127
                        ],
                        "iteration": 370,
                        "passed_time": 1.484817375,
                        "remaining_time": 2.517385791,
                        "test": [
                          0.2001835902
                        ]
                      },
                      {
                        "learn": [
                          0.2772010434
                        ],
                        "iteration": 371,
                        "passed_time": 1.488808048,
                        "remaining_time": 2.513364125,
                        "test": [
                          0.2001896891
                        ]
                      },
                      {
                        "learn": [
                          0.2771575606
                        ],
                        "iteration": 372,
                        "passed_time": 1.492251496,
                        "remaining_time": 2.508422756,
                        "test": [
                          0.2002073722
                        ]
                      },
                      {
                        "learn": [
                          0.2770014947
                        ],
                        "iteration": 373,
                        "passed_time": 1.495514044,
                        "remaining_time": 2.503186608,
                        "test": [
                          0.2001126468
                        ]
                      },
                      {
                        "learn": [
                          0.2764329701
                        ],
                        "iteration": 374,
                        "passed_time": 1.499749738,
                        "remaining_time": 2.499582896,
                        "test": [
                          0.199835793
                        ]
                      },
                      {
                        "learn": [
                          0.2764055477
                        ],
                        "iteration": 375,
                        "passed_time": 1.503076768,
                        "remaining_time": 2.494467828,
                        "test": [
                          0.1998180215
                        ]
                      },
                      {
                        "learn": [
                          0.2763791081
                        ],
                        "iteration": 376,
                        "passed_time": 1.506441012,
                        "remaining_time": 2.489423741,
                        "test": [
                          0.1998008137
                        ]
                      },
                      {
                        "learn": [
                          0.276074467
                        ],
                        "iteration": 377,
                        "passed_time": 1.510022593,
                        "remaining_time": 2.484746172,
                        "test": [
                          0.1996171368
                        ]
                      },
                      {
                        "learn": [
                          0.2759518178
                        ],
                        "iteration": 378,
                        "passed_time": 1.514270271,
                        "remaining_time": 2.4811658,
                        "test": [
                          0.1996575667
                        ]
                      },
                      {
                        "learn": [
                          0.2757391636
                        ],
                        "iteration": 379,
                        "passed_time": 1.518189678,
                        "remaining_time": 2.477046316,
                        "test": [
                          0.199691606
                        ]
                      },
                      {
                        "learn": [
                          0.2752979055
                        ],
                        "iteration": 380,
                        "passed_time": 1.522327097,
                        "remaining_time": 2.473282081,
                        "test": [
                          0.1993091295
                        ]
                      },
                      {
                        "learn": [
                          0.2752556482
                        ],
                        "iteration": 381,
                        "passed_time": 1.52506106,
                        "remaining_time": 2.467245379,
                        "test": [
                          0.1993066332
                        ]
                      },
                      {
                        "learn": [
                          0.2750921349
                        ],
                        "iteration": 382,
                        "passed_time": 1.528990782,
                        "remaining_time": 2.463152252,
                        "test": [
                          0.1992001034
                        ]
                      },
                      {
                        "learn": [
                          0.2750025036
                        ],
                        "iteration": 383,
                        "passed_time": 1.532781543,
                        "remaining_time": 2.458837059,
                        "test": [
                          0.199094402
                        ]
                      },
                      {
                        "learn": [
                          0.2748665005
                        ],
                        "iteration": 384,
                        "passed_time": 1.536691769,
                        "remaining_time": 2.454715424,
                        "test": [
                          0.1989775401
                        ]
                      },
                      {
                        "learn": [
                          0.2744965786
                        ],
                        "iteration": 385,
                        "passed_time": 1.54064002,
                        "remaining_time": 2.450655368,
                        "test": [
                          0.1987582416
                        ]
                      },
                      {
                        "learn": [
                          0.2743649851
                        ],
                        "iteration": 386,
                        "passed_time": 1.544606152,
                        "remaining_time": 2.446624215,
                        "test": [
                          0.1985468174
                        ]
                      },
                      {
                        "learn": [
                          0.273931317
                        ],
                        "iteration": 387,
                        "passed_time": 1.548642862,
                        "remaining_time": 2.44270472,
                        "test": [
                          0.1982249758
                        ]
                      },
                      {
                        "learn": [
                          0.2738838069
                        ],
                        "iteration": 388,
                        "passed_time": 1.553053469,
                        "remaining_time": 2.439371902,
                        "test": [
                          0.1982090208
                        ]
                      },
                      {
                        "learn": [
                          0.2737097987
                        ],
                        "iteration": 389,
                        "passed_time": 1.556823659,
                        "remaining_time": 2.435031878,
                        "test": [
                          0.1981677153
                        ]
                      },
                      {
                        "learn": [
                          0.273584017
                        ],
                        "iteration": 390,
                        "passed_time": 1.561217354,
                        "remaining_time": 2.431665904,
                        "test": [
                          0.1982375124
                        ]
                      },
                      {
                        "learn": [
                          0.2734396266
                        ],
                        "iteration": 391,
                        "passed_time": 1.56528067,
                        "remaining_time": 2.427782264,
                        "test": [
                          0.198124568
                        ]
                      },
                      {
                        "learn": [
                          0.2734182662
                        ],
                        "iteration": 392,
                        "passed_time": 1.568894358,
                        "remaining_time": 2.423203245,
                        "test": [
                          0.1981003118
                        ]
                      },
                      {
                        "learn": [
                          0.2730402589
                        ],
                        "iteration": 393,
                        "passed_time": 1.585695604,
                        "remaining_time": 2.438912527,
                        "test": [
                          0.1978632119
                        ]
                      },
                      {
                        "learn": [
                          0.2726527848
                        ],
                        "iteration": 394,
                        "passed_time": 1.592848454,
                        "remaining_time": 2.439679278,
                        "test": [
                          0.1977026132
                        ]
                      },
                      {
                        "learn": [
                          0.2722968275
                        ],
                        "iteration": 395,
                        "passed_time": 1.599562574,
                        "remaining_time": 2.439736855,
                        "test": [
                          0.1974804302
                        ]
                      },
                      {
                        "learn": [
                          0.2721849826
                        ],
                        "iteration": 396,
                        "passed_time": 1.606498711,
                        "remaining_time": 2.440097538,
                        "test": [
                          0.1974469839
                        ]
                      },
                      {
                        "learn": [
                          0.2720887368
                        ],
                        "iteration": 397,
                        "passed_time": 1.612792826,
                        "remaining_time": 2.439450455,
                        "test": [
                          0.1974163688
                        ]
                      },
                      {
                        "learn": [
                          0.2719067358
                        ],
                        "iteration": 398,
                        "passed_time": 1.619467516,
                        "remaining_time": 2.439348313,
                        "test": [
                          0.1972802272
                        ]
                      },
                      {
                        "learn": [
                          0.2718465846
                        ],
                        "iteration": 399,
                        "passed_time": 1.624409877,
                        "remaining_time": 2.436614815,
                        "test": [
                          0.1972181682
                        ]
                      },
                      {
                        "learn": [
                          0.2717158883
                        ],
                        "iteration": 400,
                        "passed_time": 1.633798158,
                        "remaining_time": 2.440511463,
                        "test": [
                          0.197167358
                        ]
                      },
                      {
                        "learn": [
                          0.2711617972
                        ],
                        "iteration": 401,
                        "passed_time": 1.646778144,
                        "remaining_time": 2.4496849,
                        "test": [
                          0.1969946342
                        ]
                      },
                      {
                        "learn": [
                          0.2709446572
                        ],
                        "iteration": 402,
                        "passed_time": 1.657055086,
                        "remaining_time": 2.454744135,
                        "test": [
                          0.196958632
                        ]
                      },
                      {
                        "learn": [
                          0.2704767086
                        ],
                        "iteration": 403,
                        "passed_time": 1.663384202,
                        "remaining_time": 2.453903427,
                        "test": [
                          0.1967956331
                        ]
                      },
                      {
                        "learn": [
                          0.2704197352
                        ],
                        "iteration": 404,
                        "passed_time": 1.667800979,
                        "remaining_time": 2.45022613,
                        "test": [
                          0.1967514414
                        ]
                      },
                      {
                        "learn": [
                          0.2701692211
                        ],
                        "iteration": 405,
                        "passed_time": 1.673023005,
                        "remaining_time": 2.447723312,
                        "test": [
                          0.1961081463
                        ]
                      },
                      {
                        "learn": [
                          0.2700036542
                        ],
                        "iteration": 406,
                        "passed_time": 1.67907649,
                        "remaining_time": 2.446418571,
                        "test": [
                          0.1959777074
                        ]
                      },
                      {
                        "learn": [
                          0.2698097634
                        ],
                        "iteration": 407,
                        "passed_time": 1.683878118,
                        "remaining_time": 2.443274132,
                        "test": [
                          0.1958719253
                        ]
                      },
                      {
                        "learn": [
                          0.2697544248
                        ],
                        "iteration": 408,
                        "passed_time": 1.688751828,
                        "remaining_time": 2.440225746,
                        "test": [
                          0.1958103681
                        ]
                      },
                      {
                        "learn": [
                          0.2696099186
                        ],
                        "iteration": 409,
                        "passed_time": 1.694283352,
                        "remaining_time": 2.438115068,
                        "test": [
                          0.1956679367
                        ]
                      },
                      {
                        "learn": [
                          0.2695388583
                        ],
                        "iteration": 410,
                        "passed_time": 1.700283475,
                        "remaining_time": 2.436659286,
                        "test": [
                          0.1956159113
                        ]
                      },
                      {
                        "learn": [
                          0.2694185164
                        ],
                        "iteration": 411,
                        "passed_time": 1.711137015,
                        "remaining_time": 2.442108167,
                        "test": [
                          0.1954169242
                        ]
                      },
                      {
                        "learn": [
                          0.2692788139
                        ],
                        "iteration": 412,
                        "passed_time": 1.721247403,
                        "remaining_time": 2.446421853,
                        "test": [
                          0.1953232125
                        ]
                      },
                      {
                        "learn": [
                          0.2688754247
                        ],
                        "iteration": 413,
                        "passed_time": 1.728912353,
                        "remaining_time": 2.447204442,
                        "test": [
                          0.1950857871
                        ]
                      },
                      {
                        "learn": [
                          0.2687056977
                        ],
                        "iteration": 414,
                        "passed_time": 1.735548067,
                        "remaining_time": 2.446495469,
                        "test": [
                          0.1949536604
                        ]
                      },
                      {
                        "learn": [
                          0.268379657
                        ],
                        "iteration": 415,
                        "passed_time": 1.742289315,
                        "remaining_time": 2.445906154,
                        "test": [
                          0.1947825241
                        ]
                      },
                      {
                        "learn": [
                          0.2681710566
                        ],
                        "iteration": 416,
                        "passed_time": 1.748606741,
                        "remaining_time": 2.444694796,
                        "test": [
                          0.1944788584
                        ]
                      },
                      {
                        "learn": [
                          0.2680355764
                        ],
                        "iteration": 417,
                        "passed_time": 1.759792055,
                        "remaining_time": 2.450236785,
                        "test": [
                          0.1943660318
                        ]
                      },
                      {
                        "learn": [
                          0.2676590456
                        ],
                        "iteration": 418,
                        "passed_time": 1.77157616,
                        "remaining_time": 2.456529234,
                        "test": [
                          0.1941115355
                        ]
                      },
                      {
                        "learn": [
                          0.2675558194
                        ],
                        "iteration": 419,
                        "passed_time": 1.777452394,
                        "remaining_time": 2.454577115,
                        "test": [
                          0.1940895783
                        ]
                      },
                      {
                        "learn": [
                          0.2671545385
                        ],
                        "iteration": 420,
                        "passed_time": 1.784400194,
                        "remaining_time": 2.454080076,
                        "test": [
                          0.1938433608
                        ]
                      },
                      {
                        "learn": [
                          0.2671402599
                        ],
                        "iteration": 421,
                        "passed_time": 1.795275459,
                        "remaining_time": 2.45893179,
                        "test": [
                          0.1938043826
                        ]
                      },
                      {
                        "learn": [
                          0.2667032493
                        ],
                        "iteration": 422,
                        "passed_time": 1.80532057,
                        "remaining_time": 2.462576758,
                        "test": [
                          0.1935871346
                        ]
                      },
                      {
                        "learn": [
                          0.2657261857
                        ],
                        "iteration": 423,
                        "passed_time": 1.815013499,
                        "remaining_time": 2.465678715,
                        "test": [
                          0.1933788498
                        ]
                      },
                      {
                        "learn": [
                          0.2653380185
                        ],
                        "iteration": 424,
                        "passed_time": 1.825949542,
                        "remaining_time": 2.470402322,
                        "test": [
                          0.1933261772
                        ]
                      },
                      {
                        "learn": [
                          0.2649665785
                        ],
                        "iteration": 425,
                        "passed_time": 1.832693782,
                        "remaining_time": 2.469404297,
                        "test": [
                          0.192938914
                        ]
                      },
                      {
                        "learn": [
                          0.264596955
                        ],
                        "iteration": 426,
                        "passed_time": 1.839756818,
                        "remaining_time": 2.468807158,
                        "test": [
                          0.19178212
                        ]
                      },
                      {
                        "learn": [
                          0.2645551219
                        ],
                        "iteration": 427,
                        "passed_time": 1.849967779,
                        "remaining_time": 2.472386845,
                        "test": [
                          0.1917403846
                        ]
                      },
                      {
                        "learn": [
                          0.2642652983
                        ],
                        "iteration": 428,
                        "passed_time": 1.862363485,
                        "remaining_time": 2.47881014,
                        "test": [
                          0.1916105888
                        ]
                      },
                      {
                        "learn": [
                          0.2641089852
                        ],
                        "iteration": 429,
                        "passed_time": 1.872105503,
                        "remaining_time": 2.481628226,
                        "test": [
                          0.1915107208
                        ]
                      },
                      {
                        "learn": [
                          0.2637591676
                        ],
                        "iteration": 430,
                        "passed_time": 1.888540391,
                        "remaining_time": 2.493223857,
                        "test": [
                          0.1915670324
                        ]
                      },
                      {
                        "learn": [
                          0.2635774501
                        ],
                        "iteration": 431,
                        "passed_time": 1.893924832,
                        "remaining_time": 2.490160427,
                        "test": [
                          0.1915297562
                        ]
                      },
                      {
                        "learn": [
                          0.2632382998
                        ],
                        "iteration": 432,
                        "passed_time": 1.899335151,
                        "remaining_time": 2.487120162,
                        "test": [
                          0.191459679
                        ]
                      },
                      {
                        "learn": [
                          0.2632017663
                        ],
                        "iteration": 433,
                        "passed_time": 1.903177485,
                        "remaining_time": 2.482024094,
                        "test": [
                          0.1914832723
                        ]
                      },
                      {
                        "learn": [
                          0.2631167187
                        ],
                        "iteration": 434,
                        "passed_time": 1.908177795,
                        "remaining_time": 2.478437826,
                        "test": [
                          0.1914989677
                        ]
                      },
                      {
                        "learn": [
                          0.2630056515
                        ],
                        "iteration": 435,
                        "passed_time": 1.912501103,
                        "remaining_time": 2.473969317,
                        "test": [
                          0.1913616318
                        ]
                      },
                      {
                        "learn": [
                          0.2628223012
                        ],
                        "iteration": 436,
                        "passed_time": 1.928733287,
                        "remaining_time": 2.484844029,
                        "test": [
                          0.1913123468
                        ]
                      },
                      {
                        "learn": [
                          0.262521395
                        ],
                        "iteration": 437,
                        "passed_time": 1.936050373,
                        "remaining_time": 2.484155958,
                        "test": [
                          0.1911584271
                        ]
                      },
                      {
                        "learn": [
                          0.2623603103
                        ],
                        "iteration": 438,
                        "passed_time": 1.945346621,
                        "remaining_time": 2.485966866,
                        "test": [
                          0.1909472433
                        ]
                      },
                      {
                        "learn": [
                          0.2622026874
                        ],
                        "iteration": 439,
                        "passed_time": 1.95876055,
                        "remaining_time": 2.492967973,
                        "test": [
                          0.1908036672
                        ]
                      },
                      {
                        "learn": [
                          0.2621732717
                        ],
                        "iteration": 440,
                        "passed_time": 1.968560639,
                        "remaining_time": 2.495295685,
                        "test": [
                          0.190819063
                        ]
                      },
                      {
                        "learn": [
                          0.261857893
                        ],
                        "iteration": 441,
                        "passed_time": 1.977327562,
                        "remaining_time": 2.496264207,
                        "test": [
                          0.1906558537
                        ]
                      },
                      {
                        "learn": [
                          0.2615053237
                        ],
                        "iteration": 442,
                        "passed_time": 1.987019657,
                        "remaining_time": 2.498352029,
                        "test": [
                          0.1904728401
                        ]
                      },
                      {
                        "learn": [
                          0.2612879002
                        ],
                        "iteration": 443,
                        "passed_time": 1.999206677,
                        "remaining_time": 2.503511064,
                        "test": [
                          0.1903178091
                        ]
                      },
                      {
                        "learn": [
                          0.2611481664
                        ],
                        "iteration": 444,
                        "passed_time": 2.0149226,
                        "remaining_time": 2.512993355,
                        "test": [
                          0.1901823526
                        ]
                      },
                      {
                        "learn": [
                          0.2606617171
                        ],
                        "iteration": 445,
                        "passed_time": 2.026753919,
                        "remaining_time": 2.517537379,
                        "test": [
                          0.1898358468
                        ]
                      },
                      {
                        "learn": [
                          0.260500168
                        ],
                        "iteration": 446,
                        "passed_time": 2.037515048,
                        "remaining_time": 2.520684164,
                        "test": [
                          0.1897880692
                        ]
                      },
                      {
                        "learn": [
                          0.2602722153
                        ],
                        "iteration": 447,
                        "passed_time": 2.053802952,
                        "remaining_time": 2.530578638,
                        "test": [
                          0.1897089292
                        ]
                      },
                      {
                        "learn": [
                          0.2602316021
                        ],
                        "iteration": 448,
                        "passed_time": 2.062889067,
                        "remaining_time": 2.531518655,
                        "test": [
                          0.1896393335
                        ]
                      },
                      {
                        "learn": [
                          0.260112161
                        ],
                        "iteration": 449,
                        "passed_time": 2.071495195,
                        "remaining_time": 2.531827461,
                        "test": [
                          0.1895507701
                        ]
                      },
                      {
                        "learn": [
                          0.2599265978
                        ],
                        "iteration": 450,
                        "passed_time": 2.076168154,
                        "remaining_time": 2.527308906,
                        "test": [
                          0.1894417173
                        ]
                      },
                      {
                        "learn": [
                          0.2596955337
                        ],
                        "iteration": 451,
                        "passed_time": 2.081149189,
                        "remaining_time": 2.523163176,
                        "test": [
                          0.1893775181
                        ]
                      },
                      {
                        "learn": [
                          0.2595307039
                        ],
                        "iteration": 452,
                        "passed_time": 2.085586063,
                        "remaining_time": 2.518356681,
                        "test": [
                          0.1894850736
                        ]
                      },
                      {
                        "learn": [
                          0.2591860573
                        ],
                        "iteration": 453,
                        "passed_time": 2.09002261,
                        "remaining_time": 2.513551421,
                        "test": [
                          0.1884035467
                        ]
                      },
                      {
                        "learn": [
                          0.2587976628
                        ],
                        "iteration": 454,
                        "passed_time": 2.095703902,
                        "remaining_time": 2.51023874,
                        "test": [
                          0.1881181864
                        ]
                      },
                      {
                        "learn": [
                          0.2585169484
                        ],
                        "iteration": 455,
                        "passed_time": 2.100104439,
                        "remaining_time": 2.505387751,
                        "test": [
                          0.1879696127
                        ]
                      },
                      {
                        "learn": [
                          0.2584441765
                        ],
                        "iteration": 456,
                        "passed_time": 2.105620347,
                        "remaining_time": 2.501864001,
                        "test": [
                          0.1880155748
                        ]
                      },
                      {
                        "learn": [
                          0.2583102366
                        ],
                        "iteration": 457,
                        "passed_time": 2.111120847,
                        "remaining_time": 2.498313317,
                        "test": [
                          0.1878728966
                        ]
                      },
                      {
                        "learn": [
                          0.2581748216
                        ],
                        "iteration": 458,
                        "passed_time": 2.115011563,
                        "remaining_time": 2.492856766,
                        "test": [
                          0.1877872024
                        ]
                      },
                      {
                        "learn": [
                          0.257782629
                        ],
                        "iteration": 459,
                        "passed_time": 2.119577501,
                        "remaining_time": 2.488199675,
                        "test": [
                          0.1877077113
                        ]
                      },
                      {
                        "learn": [
                          0.2573376789
                        ],
                        "iteration": 460,
                        "passed_time": 2.125905869,
                        "remaining_time": 2.485603609,
                        "test": [
                          0.1877310915
                        ]
                      },
                      {
                        "learn": [
                          0.2569164825
                        ],
                        "iteration": 461,
                        "passed_time": 2.13057829,
                        "remaining_time": 2.481063031,
                        "test": [
                          0.1877648081
                        ]
                      },
                      {
                        "learn": [
                          0.2566575541
                        ],
                        "iteration": 462,
                        "passed_time": 2.13504099,
                        "remaining_time": 2.476278643,
                        "test": [
                          0.1877797111
                        ]
                      },
                      {
                        "learn": [
                          0.2566216227
                        ],
                        "iteration": 463,
                        "passed_time": 2.141087868,
                        "remaining_time": 2.473325641,
                        "test": [
                          0.1877601836
                        ]
                      },
                      {
                        "learn": [
                          0.2565259542
                        ],
                        "iteration": 464,
                        "passed_time": 2.149357643,
                        "remaining_time": 2.472916859,
                        "test": [
                          0.187731269
                        ]
                      },
                      {
                        "learn": [
                          0.2558154888
                        ],
                        "iteration": 465,
                        "passed_time": 2.158962686,
                        "remaining_time": 2.474004452,
                        "test": [
                          0.1874891463
                        ]
                      },
                      {
                        "learn": [
                          0.2555986508
                        ],
                        "iteration": 466,
                        "passed_time": 2.168763316,
                        "remaining_time": 2.47526948,
                        "test": [
                          0.1874804621
                        ]
                      },
                      {
                        "learn": [
                          0.2554891732
                        ],
                        "iteration": 467,
                        "passed_time": 2.178702943,
                        "remaining_time": 2.476645226,
                        "test": [
                          0.1872485873
                        ]
                      },
                      {
                        "learn": [
                          0.2554307252
                        ],
                        "iteration": 468,
                        "passed_time": 2.189737558,
                        "remaining_time": 2.479212459,
                        "test": [
                          0.1871721554
                        ]
                      },
                      {
                        "learn": [
                          0.2553686126
                        ],
                        "iteration": 469,
                        "passed_time": 2.198383075,
                        "remaining_time": 2.479027723,
                        "test": [
                          0.1870863716
                        ]
                      },
                      {
                        "learn": [
                          0.2552261442
                        ],
                        "iteration": 470,
                        "passed_time": 2.208920346,
                        "remaining_time": 2.480931769,
                        "test": [
                          0.1870352942
                        ]
                      },
                      {
                        "learn": [
                          0.2547992849
                        ],
                        "iteration": 471,
                        "passed_time": 2.221761495,
                        "remaining_time": 2.485360317,
                        "test": [
                          0.1869414649
                        ]
                      },
                      {
                        "learn": [
                          0.254706334
                        ],
                        "iteration": 472,
                        "passed_time": 2.231416297,
                        "remaining_time": 2.486165726,
                        "test": [
                          0.1868824801
                        ]
                      },
                      {
                        "learn": [
                          0.2545306174
                        ],
                        "iteration": 473,
                        "passed_time": 2.240781957,
                        "remaining_time": 2.486606138,
                        "test": [
                          0.1868215473
                        ]
                      },
                      {
                        "learn": [
                          0.2541973434
                        ],
                        "iteration": 474,
                        "passed_time": 2.252967004,
                        "remaining_time": 2.490121426,
                        "test": [
                          0.1865187113
                        ]
                      },
                      {
                        "learn": [
                          0.2539375013
                        ],
                        "iteration": 475,
                        "passed_time": 2.26413308,
                        "remaining_time": 2.492449021,
                        "test": [
                          0.186385247
                        ]
                      },
                      {
                        "learn": [
                          0.2537444609
                        ],
                        "iteration": 476,
                        "passed_time": 2.27477058,
                        "remaining_time": 2.494140489,
                        "test": [
                          0.1863235051
                        ]
                      },
                      {
                        "learn": [
                          0.2531302709
                        ],
                        "iteration": 477,
                        "passed_time": 2.283912163,
                        "remaining_time": 2.494146755,
                        "test": [
                          0.1863015413
                        ]
                      },
                      {
                        "learn": [
                          0.2530926051
                        ],
                        "iteration": 478,
                        "passed_time": 2.294613476,
                        "remaining_time": 2.495811317,
                        "test": [
                          0.1862265811
                        ]
                      },
                      {
                        "learn": [
                          0.2527619082
                        ],
                        "iteration": 479,
                        "passed_time": 2.305424154,
                        "remaining_time": 2.497542833,
                        "test": [
                          0.1860280564
                        ]
                      },
                      {
                        "learn": [
                          0.2526269787
                        ],
                        "iteration": 480,
                        "passed_time": 2.31775726,
                        "remaining_time": 2.500864902,
                        "test": [
                          0.1859303591
                        ]
                      },
                      {
                        "learn": [
                          0.2521961762
                        ],
                        "iteration": 481,
                        "passed_time": 2.32815698,
                        "remaining_time": 2.502044223,
                        "test": [
                          0.1857895402
                        ]
                      },
                      {
                        "learn": [
                          0.2517379158
                        ],
                        "iteration": 482,
                        "passed_time": 2.338797204,
                        "remaining_time": 2.503433032,
                        "test": [
                          0.1855593067
                        ]
                      },
                      {
                        "learn": [
                          0.2515509756
                        ],
                        "iteration": 483,
                        "passed_time": 2.350935129,
                        "remaining_time": 2.506368856,
                        "test": [
                          0.1854459883
                        ]
                      },
                      {
                        "learn": [
                          0.2514224744
                        ],
                        "iteration": 484,
                        "passed_time": 2.36099118,
                        "remaining_time": 2.507031871,
                        "test": [
                          0.1852073428
                        ]
                      },
                      {
                        "learn": [
                          0.2511616129
                        ],
                        "iteration": 485,
                        "passed_time": 2.368983219,
                        "remaining_time": 2.505467849,
                        "test": [
                          0.1850628921
                        ]
                      },
                      {
                        "learn": [
                          0.2510502571
                        ],
                        "iteration": 486,
                        "passed_time": 2.379011288,
                        "remaining_time": 2.506022158,
                        "test": [
                          0.1849824484
                        ]
                      },
                      {
                        "learn": [
                          0.2509319597
                        ],
                        "iteration": 487,
                        "passed_time": 2.388459915,
                        "remaining_time": 2.505925157,
                        "test": [
                          0.1848538435
                        ]
                      },
                      {
                        "learn": [
                          0.2507050622
                        ],
                        "iteration": 488,
                        "passed_time": 2.404535804,
                        "remaining_time": 2.512715329,
                        "test": [
                          0.184229536
                        ]
                      },
                      {
                        "learn": [
                          0.2505655539
                        ],
                        "iteration": 489,
                        "passed_time": 2.414573798,
                        "remaining_time": 2.513127831,
                        "test": [
                          0.1841202111
                        ]
                      },
                      {
                        "learn": [
                          0.2501239379
                        ],
                        "iteration": 490,
                        "passed_time": 2.424086303,
                        "remaining_time": 2.51295301,
                        "test": [
                          0.1838059187
                        ]
                      },
                      {
                        "learn": [
                          0.2496443049
                        ],
                        "iteration": 491,
                        "passed_time": 2.429604778,
                        "remaining_time": 2.508616316,
                        "test": [
                          0.1836776488
                        ]
                      },
                      {
                        "learn": [
                          0.2493935402
                        ],
                        "iteration": 492,
                        "passed_time": 2.434814968,
                        "remaining_time": 2.503957786,
                        "test": [
                          0.1835375137
                        ]
                      },
                      {
                        "learn": [
                          0.2493045249
                        ],
                        "iteration": 493,
                        "passed_time": 2.440090673,
                        "remaining_time": 2.499364131,
                        "test": [
                          0.1834851892
                        ]
                      },
                      {
                        "learn": [
                          0.2492150426
                        ],
                        "iteration": 494,
                        "passed_time": 2.444626086,
                        "remaining_time": 2.494012472,
                        "test": [
                          0.1833962691
                        ]
                      },
                      {
                        "learn": [
                          0.2490993323
                        ],
                        "iteration": 495,
                        "passed_time": 2.449910252,
                        "remaining_time": 2.489424933,
                        "test": [
                          0.1832829088
                        ]
                      },
                      {
                        "learn": [
                          0.2490097127
                        ],
                        "iteration": 496,
                        "passed_time": 2.45527524,
                        "remaining_time": 2.48491639,
                        "test": [
                          0.1832285881
                        ]
                      },
                      {
                        "learn": [
                          0.2486150611
                        ],
                        "iteration": 497,
                        "passed_time": 2.460513999,
                        "remaining_time": 2.480277163,
                        "test": [
                          0.1830925281
                        ]
                      },
                      {
                        "learn": [
                          0.2484746063
                        ],
                        "iteration": 498,
                        "passed_time": 2.469838705,
                        "remaining_time": 2.479737858,
                        "test": [
                          0.1830590366
                        ]
                      },
                      {
                        "learn": [
                          0.2482363068
                        ],
                        "iteration": 499,
                        "passed_time": 2.480676937,
                        "remaining_time": 2.480676937,
                        "test": [
                          0.1830222775
                        ]
                      },
                      {
                        "learn": [
                          0.2479550521
                        ],
                        "iteration": 500,
                        "passed_time": 2.497415559,
                        "remaining_time": 2.487445836,
                        "test": [
                          0.1829491708
                        ]
                      },
                      {
                        "learn": [
                          0.247861347
                        ],
                        "iteration": 501,
                        "passed_time": 2.505778564,
                        "remaining_time": 2.485812201,
                        "test": [
                          0.1829460654
                        ]
                      },
                      {
                        "learn": [
                          0.24773605
                        ],
                        "iteration": 502,
                        "passed_time": 2.519008332,
                        "remaining_time": 2.488960519,
                        "test": [
                          0.1830793068
                        ]
                      },
                      {
                        "learn": [
                          0.2472525492
                        ],
                        "iteration": 503,
                        "passed_time": 2.528568804,
                        "remaining_time": 2.488432791,
                        "test": [
                          0.1827601411
                        ]
                      },
                      {
                        "learn": [
                          0.2471995484
                        ],
                        "iteration": 504,
                        "passed_time": 2.538668008,
                        "remaining_time": 2.488397355,
                        "test": [
                          0.1826820605
                        ]
                      },
                      {
                        "learn": [
                          0.2470746751
                        ],
                        "iteration": 505,
                        "passed_time": 2.548014052,
                        "remaining_time": 2.487586841,
                        "test": [
                          0.1823077082
                        ]
                      },
                      {
                        "learn": [
                          0.2467412673
                        ],
                        "iteration": 506,
                        "passed_time": 2.55821949,
                        "remaining_time": 2.48757832,
                        "test": [
                          0.181962111
                        ]
                      },
                      {
                        "learn": [
                          0.2464427434
                        ],
                        "iteration": 507,
                        "passed_time": 2.568767257,
                        "remaining_time": 2.487861201,
                        "test": [
                          0.1818529634
                        ]
                      },
                      {
                        "learn": [
                          0.2460818548
                        ],
                        "iteration": 508,
                        "passed_time": 2.57912914,
                        "remaining_time": 2.487922215,
                        "test": [
                          0.1817888557
                        ]
                      },
                      {
                        "learn": [
                          0.2460178624
                        ],
                        "iteration": 509,
                        "passed_time": 2.591421824,
                        "remaining_time": 2.489797439,
                        "test": [
                          0.181772163
                        ]
                      },
                      {
                        "learn": [
                          0.2459528413
                        ],
                        "iteration": 510,
                        "passed_time": 2.603596057,
                        "remaining_time": 2.491503859,
                        "test": [
                          0.1818346029
                        ]
                      },
                      {
                        "learn": [
                          0.245636077
                        ],
                        "iteration": 511,
                        "passed_time": 2.621117806,
                        "remaining_time": 2.498252908,
                        "test": [
                          0.1816543359
                        ]
                      },
                      {
                        "learn": [
                          0.2451791273
                        ],
                        "iteration": 512,
                        "passed_time": 2.631695081,
                        "remaining_time": 2.498314824,
                        "test": [
                          0.1815316761
                        ]
                      },
                      {
                        "learn": [
                          0.2449466084
                        ],
                        "iteration": 513,
                        "passed_time": 2.642748862,
                        "remaining_time": 2.498785889,
                        "test": [
                          0.1814558081
                        ]
                      },
                      {
                        "learn": [
                          0.2447656336
                        ],
                        "iteration": 514,
                        "passed_time": 2.655955691,
                        "remaining_time": 2.501239825,
                        "test": [
                          0.1813821746
                        ]
                      },
                      {
                        "learn": [
                          0.244730671
                        ],
                        "iteration": 515,
                        "passed_time": 2.670486257,
                        "remaining_time": 2.504874706,
                        "test": [
                          0.1813679666
                        ]
                      },
                      {
                        "learn": [
                          0.2446902382
                        ],
                        "iteration": 516,
                        "passed_time": 2.681540462,
                        "remaining_time": 2.505191573,
                        "test": [
                          0.1811737733
                        ]
                      },
                      {
                        "learn": [
                          0.2444023005
                        ],
                        "iteration": 517,
                        "passed_time": 2.691858707,
                        "remaining_time": 2.504779724,
                        "test": [
                          0.1811318682
                        ]
                      },
                      {
                        "learn": [
                          0.2442261917
                        ],
                        "iteration": 518,
                        "passed_time": 2.705193507,
                        "remaining_time": 2.507125389,
                        "test": [
                          0.1810629544
                        ]
                      },
                      {
                        "learn": [
                          0.2441914907
                        ],
                        "iteration": 519,
                        "passed_time": 2.714981382,
                        "remaining_time": 2.506136661,
                        "test": [
                          0.1810412119
                        ]
                      },
                      {
                        "learn": [
                          0.2441347368
                        ],
                        "iteration": 520,
                        "passed_time": 2.724211767,
                        "remaining_time": 2.504601605,
                        "test": [
                          0.1809964923
                        ]
                      },
                      {
                        "learn": [
                          0.2437621832
                        ],
                        "iteration": 521,
                        "passed_time": 2.736116334,
                        "remaining_time": 2.505485838,
                        "test": [
                          0.1807415827
                        ]
                      },
                      {
                        "learn": [
                          0.2434855239
                        ],
                        "iteration": 522,
                        "passed_time": 2.748139029,
                        "remaining_time": 2.506428904,
                        "test": [
                          0.1806609877
                        ]
                      },
                      {
                        "learn": [
                          0.2434323273
                        ],
                        "iteration": 523,
                        "passed_time": 2.762039047,
                        "remaining_time": 2.509027836,
                        "test": [
                          0.1805830041
                        ]
                      },
                      {
                        "learn": [
                          0.2432141397
                        ],
                        "iteration": 524,
                        "passed_time": 2.772738197,
                        "remaining_time": 2.508667893,
                        "test": [
                          0.1805358624
                        ]
                      },
                      {
                        "learn": [
                          0.2431937014
                        ],
                        "iteration": 525,
                        "passed_time": 2.78300991,
                        "remaining_time": 2.507883455,
                        "test": [
                          0.1805165968
                        ]
                      },
                      {
                        "learn": [
                          0.2425940516
                        ],
                        "iteration": 526,
                        "passed_time": 2.791991208,
                        "remaining_time": 2.505904822,
                        "test": [
                          0.1805733336
                        ]
                      },
                      {
                        "learn": [
                          0.2422982406
                        ],
                        "iteration": 527,
                        "passed_time": 2.809230276,
                        "remaining_time": 2.51128161,
                        "test": [
                          0.1804254113
                        ]
                      },
                      {
                        "learn": [
                          0.2421513314
                        ],
                        "iteration": 528,
                        "passed_time": 2.821187553,
                        "remaining_time": 2.511870203,
                        "test": [
                          0.1803709799
                        ]
                      },
                      {
                        "learn": [
                          0.2418375233
                        ],
                        "iteration": 529,
                        "passed_time": 2.831608462,
                        "remaining_time": 2.511049013,
                        "test": [
                          0.1802611772
                        ]
                      },
                      {
                        "learn": [
                          0.2417099245
                        ],
                        "iteration": 530,
                        "passed_time": 2.841175476,
                        "remaining_time": 2.509437473,
                        "test": [
                          0.1802120748
                        ]
                      },
                      {
                        "learn": [
                          0.241544587
                        ],
                        "iteration": 531,
                        "passed_time": 2.85547112,
                        "remaining_time": 2.511955797,
                        "test": [
                          0.1802992791
                        ]
                      },
                      {
                        "learn": [
                          0.2414543548
                        ],
                        "iteration": 532,
                        "passed_time": 2.865569227,
                        "remaining_time": 2.510733263,
                        "test": [
                          0.1802599848
                        ]
                      },
                      {
                        "learn": [
                          0.2413040104
                        ],
                        "iteration": 533,
                        "passed_time": 2.875623103,
                        "remaining_time": 2.509438887,
                        "test": [
                          0.1802853598
                        ]
                      },
                      {
                        "learn": [
                          0.2411771781
                        ],
                        "iteration": 534,
                        "passed_time": 2.886560465,
                        "remaining_time": 2.508879656,
                        "test": [
                          0.18020131
                        ]
                      },
                      {
                        "learn": [
                          0.2410563336
                        ],
                        "iteration": 535,
                        "passed_time": 2.901018927,
                        "remaining_time": 2.511329817,
                        "test": [
                          0.1801067239
                        ]
                      },
                      {
                        "learn": [
                          0.2409673638
                        ],
                        "iteration": 536,
                        "passed_time": 2.91976112,
                        "remaining_time": 2.517410425,
                        "test": [
                          0.180495082
                        ]
                      },
                      {
                        "learn": [
                          0.2409639436
                        ],
                        "iteration": 537,
                        "passed_time": 2.935005658,
                        "remaining_time": 2.520395193,
                        "test": [
                          0.1804923878
                        ]
                      },
                      {
                        "learn": [
                          0.240954383
                        ],
                        "iteration": 538,
                        "passed_time": 2.953478862,
                        "remaining_time": 2.526073758,
                        "test": [
                          0.1804710179
                        ]
                      },
                      {
                        "learn": [
                          0.2407488204
                        ],
                        "iteration": 539,
                        "passed_time": 2.966119354,
                        "remaining_time": 2.526694265,
                        "test": [
                          0.1803488522
                        ]
                      },
                      {
                        "learn": [
                          0.2406155785
                        ],
                        "iteration": 540,
                        "passed_time": 2.975807598,
                        "remaining_time": 2.524760975,
                        "test": [
                          0.1802407846
                        ]
                      },
                      {
                        "learn": [
                          0.2404970612
                        ],
                        "iteration": 541,
                        "passed_time": 2.983996012,
                        "remaining_time": 2.521531685,
                        "test": [
                          0.180146682
                        ]
                      },
                      {
                        "learn": [
                          0.2401328732
                        ],
                        "iteration": 542,
                        "passed_time": 2.991515736,
                        "remaining_time": 2.517721347,
                        "test": [
                          0.1798522453
                        ]
                      },
                      {
                        "learn": [
                          0.2396883616
                        ],
                        "iteration": 543,
                        "passed_time": 3.000566155,
                        "remaining_time": 2.515180453,
                        "test": [
                          0.179713558
                        ]
                      },
                      {
                        "learn": [
                          0.2395991339
                        ],
                        "iteration": 544,
                        "passed_time": 3.01353575,
                        "remaining_time": 2.515887645,
                        "test": [
                          0.1793556253
                        ]
                      },
                      {
                        "learn": [
                          0.239456379
                        ],
                        "iteration": 545,
                        "passed_time": 3.030264916,
                        "remaining_time": 2.519670827,
                        "test": [
                          0.1792666097
                        ]
                      },
                      {
                        "learn": [
                          0.238972338
                        ],
                        "iteration": 546,
                        "passed_time": 3.040635211,
                        "remaining_time": 2.51811289,
                        "test": [
                          0.1790759791
                        ]
                      },
                      {
                        "learn": [
                          0.2389268909
                        ],
                        "iteration": 547,
                        "passed_time": 3.054596381,
                        "remaining_time": 2.519484606,
                        "test": [
                          0.179090126
                        ]
                      },
                      {
                        "learn": [
                          0.2382728067
                        ],
                        "iteration": 548,
                        "passed_time": 3.066420873,
                        "remaining_time": 2.519045198,
                        "test": [
                          0.1787775862
                        ]
                      },
                      {
                        "learn": [
                          0.2381847797
                        ],
                        "iteration": 549,
                        "passed_time": 3.074347467,
                        "remaining_time": 2.5153752,
                        "test": [
                          0.1786844464
                        ]
                      },
                      {
                        "learn": [
                          0.2381016387
                        ],
                        "iteration": 550,
                        "passed_time": 3.081188201,
                        "remaining_time": 2.510804904,
                        "test": [
                          0.1786688996
                        ]
                      },
                      {
                        "learn": [
                          0.2377459211
                        ],
                        "iteration": 551,
                        "passed_time": 3.0913716,
                        "remaining_time": 2.508939269,
                        "test": [
                          0.1784505784
                        ]
                      },
                      {
                        "learn": [
                          0.2375928994
                        ],
                        "iteration": 552,
                        "passed_time": 3.101597958,
                        "remaining_time": 2.507078277,
                        "test": [
                          0.1782964644
                        ]
                      },
                      {
                        "learn": [
                          0.237526191
                        ],
                        "iteration": 553,
                        "passed_time": 3.117967503,
                        "remaining_time": 2.510132683,
                        "test": [
                          0.1782564464
                        ]
                      },
                      {
                        "learn": [
                          0.2374178277
                        ],
                        "iteration": 554,
                        "passed_time": 3.128898005,
                        "remaining_time": 2.508756058,
                        "test": [
                          0.1782380909
                        ]
                      },
                      {
                        "learn": [
                          0.2373825132
                        ],
                        "iteration": 555,
                        "passed_time": 3.142030003,
                        "remaining_time": 2.509103096,
                        "test": [
                          0.1781917157
                        ]
                      },
                      {
                        "learn": [
                          0.2373586869
                        ],
                        "iteration": 556,
                        "passed_time": 3.149830084,
                        "remaining_time": 2.50516109,
                        "test": [
                          0.1781563156
                        ]
                      },
                      {
                        "learn": [
                          0.2373425185
                        ],
                        "iteration": 557,
                        "passed_time": 3.154267869,
                        "remaining_time": 2.498541932,
                        "test": [
                          0.1781138014
                        ]
                      },
                      {
                        "learn": [
                          0.2370055649
                        ],
                        "iteration": 558,
                        "passed_time": 3.162589444,
                        "remaining_time": 2.494994534,
                        "test": [
                          0.1778372388
                        ]
                      },
                      {
                        "learn": [
                          0.2369961237
                        ],
                        "iteration": 559,
                        "passed_time": 3.172882825,
                        "remaining_time": 2.492979362,
                        "test": [
                          0.1778323251
                        ]
                      },
                      {
                        "learn": [
                          0.2363764045
                        ],
                        "iteration": 560,
                        "passed_time": 3.188165677,
                        "remaining_time": 2.494839095,
                        "test": [
                          0.1775399003
                        ]
                      },
                      {
                        "learn": [
                          0.2361968271
                        ],
                        "iteration": 561,
                        "passed_time": 3.199767056,
                        "remaining_time": 2.493768631,
                        "test": [
                          0.1769823129
                        ]
                      },
                      {
                        "learn": [
                          0.2361208553
                        ],
                        "iteration": 562,
                        "passed_time": 3.215279045,
                        "remaining_time": 2.495696168,
                        "test": [
                          0.1769703529
                        ]
                      },
                      {
                        "learn": [
                          0.2360074168
                        ],
                        "iteration": 563,
                        "passed_time": 3.22815245,
                        "remaining_time": 2.495522107,
                        "test": [
                          0.1768912168
                        ]
                      },
                      {
                        "learn": [
                          0.2357611333
                        ],
                        "iteration": 564,
                        "passed_time": 3.240562446,
                        "remaining_time": 2.494946308,
                        "test": [
                          0.176705381
                        ]
                      },
                      {
                        "learn": [
                          0.2355182089
                        ],
                        "iteration": 565,
                        "passed_time": 3.250692255,
                        "remaining_time": 2.49258028,
                        "test": [
                          0.1767222535
                        ]
                      },
                      {
                        "learn": [
                          0.2354925886
                        ],
                        "iteration": 566,
                        "passed_time": 3.255686845,
                        "remaining_time": 2.486265263,
                        "test": [
                          0.1767034061
                        ]
                      },
                      {
                        "learn": [
                          0.2351769495
                        ],
                        "iteration": 567,
                        "passed_time": 3.262968546,
                        "remaining_time": 2.481694387,
                        "test": [
                          0.1766393345
                        ]
                      },
                      {
                        "learn": [
                          0.2349508257
                        ],
                        "iteration": 568,
                        "passed_time": 3.273223926,
                        "remaining_time": 2.479366453,
                        "test": [
                          0.175959574
                        ]
                      },
                      {
                        "learn": [
                          0.234802548
                        ],
                        "iteration": 569,
                        "passed_time": 3.289122962,
                        "remaining_time": 2.4812682,
                        "test": [
                          0.175812882
                        ]
                      },
                      {
                        "learn": [
                          0.2344611242
                        ],
                        "iteration": 570,
                        "passed_time": 3.299241553,
                        "remaining_time": 2.478764669,
                        "test": [
                          0.1755952235
                        ]
                      },
                      {
                        "learn": [
                          0.2344533978
                        ],
                        "iteration": 571,
                        "passed_time": 3.309320707,
                        "remaining_time": 2.476205005,
                        "test": [
                          0.1755938649
                        ]
                      },
                      {
                        "learn": [
                          0.2341655943
                        ],
                        "iteration": 572,
                        "passed_time": 3.325589542,
                        "remaining_time": 2.478231648,
                        "test": [
                          0.1754537345
                        ]
                      },
                      {
                        "learn": [
                          0.2340609023
                        ],
                        "iteration": 573,
                        "passed_time": 3.336042753,
                        "remaining_time": 2.47587842,
                        "test": [
                          0.1752856326
                        ]
                      },
                      {
                        "learn": [
                          0.233737454
                        ],
                        "iteration": 574,
                        "passed_time": 3.348136625,
                        "remaining_time": 2.474709679,
                        "test": [
                          0.1747891207
                        ]
                      },
                      {
                        "learn": [
                          0.2337310332
                        ],
                        "iteration": 575,
                        "passed_time": 3.359856829,
                        "remaining_time": 2.473227944,
                        "test": [
                          0.1747839654
                        ]
                      },
                      {
                        "learn": [
                          0.2336388072
                        ],
                        "iteration": 576,
                        "passed_time": 3.373684746,
                        "remaining_time": 2.473255888,
                        "test": [
                          0.1748042068
                        ]
                      },
                      {
                        "learn": [
                          0.2335656911
                        ],
                        "iteration": 577,
                        "passed_time": 3.383883382,
                        "remaining_time": 2.470586137,
                        "test": [
                          0.1751398081
                        ]
                      },
                      {
                        "learn": [
                          0.2335636142
                        ],
                        "iteration": 578,
                        "passed_time": 3.393013722,
                        "remaining_time": 2.467113604,
                        "test": [
                          0.1751500241
                        ]
                      },
                      {
                        "learn": [
                          0.2332903494
                        ],
                        "iteration": 579,
                        "passed_time": 3.407374192,
                        "remaining_time": 2.467408898,
                        "test": [
                          0.1750569669
                        ]
                      },
                      {
                        "learn": [
                          0.2327875471
                        ],
                        "iteration": 580,
                        "passed_time": 3.42077087,
                        "remaining_time": 2.466958683,
                        "test": [
                          0.1751219739
                        ]
                      },
                      {
                        "learn": [
                          0.2326265467
                        ],
                        "iteration": 581,
                        "passed_time": 3.431880698,
                        "remaining_time": 2.464821532,
                        "test": [
                          0.1750271039
                        ]
                      },
                      {
                        "learn": [
                          0.2323309205
                        ],
                        "iteration": 582,
                        "passed_time": 3.441451732,
                        "remaining_time": 2.461552954,
                        "test": [
                          0.1750977223
                        ]
                      },
                      {
                        "learn": [
                          0.2321563159
                        ],
                        "iteration": 583,
                        "passed_time": 3.453388402,
                        "remaining_time": 2.459947903,
                        "test": [
                          0.1750961557
                        ]
                      },
                      {
                        "learn": [
                          0.2318192777
                        ],
                        "iteration": 584,
                        "passed_time": 3.464628655,
                        "remaining_time": 2.45781349,
                        "test": [
                          0.1750106004
                        ]
                      },
                      {
                        "learn": [
                          0.2316200295
                        ],
                        "iteration": 585,
                        "passed_time": 3.470798548,
                        "remaining_time": 2.452065868,
                        "test": [
                          0.1749096713
                        ]
                      },
                      {
                        "learn": [
                          0.2315092157
                        ],
                        "iteration": 586,
                        "passed_time": 3.478916487,
                        "remaining_time": 2.447687409,
                        "test": [
                          0.1748993061
                        ]
                      },
                      {
                        "learn": [
                          0.2314893734
                        ],
                        "iteration": 587,
                        "passed_time": 3.488649966,
                        "remaining_time": 2.444428207,
                        "test": [
                          0.174885119
                        ]
                      },
                      {
                        "learn": [
                          0.2312034167
                        ],
                        "iteration": 588,
                        "passed_time": 3.498477998,
                        "remaining_time": 2.441213,
                        "test": [
                          0.1746503794
                        ]
                      },
                      {
                        "learn": [
                          0.2310765695
                        ],
                        "iteration": 589,
                        "passed_time": 3.509262199,
                        "remaining_time": 2.438639833,
                        "test": [
                          0.1745738991
                        ]
                      },
                      {
                        "learn": [
                          0.2309486241
                        ],
                        "iteration": 590,
                        "passed_time": 3.522106818,
                        "remaining_time": 2.437464786,
                        "test": [
                          0.1744838192
                        ]
                      },
                      {
                        "learn": [
                          0.2308836209
                        ],
                        "iteration": 591,
                        "passed_time": 3.532135037,
                        "remaining_time": 2.434309283,
                        "test": [
                          0.1744343529
                        ]
                      },
                      {
                        "learn": [
                          0.2307695362
                        ],
                        "iteration": 592,
                        "passed_time": 3.548519476,
                        "remaining_time": 2.435493131,
                        "test": [
                          0.1745360312
                        ]
                      },
                      {
                        "learn": [
                          0.2304432473
                        ],
                        "iteration": 593,
                        "passed_time": 3.559753697,
                        "remaining_time": 2.433097645,
                        "test": [
                          0.1743422744
                        ]
                      },
                      {
                        "learn": [
                          0.2301342224
                        ],
                        "iteration": 594,
                        "passed_time": 3.57050487,
                        "remaining_time": 2.430343651,
                        "test": [
                          0.1741656056
                        ]
                      },
                      {
                        "learn": [
                          0.229759805
                        ],
                        "iteration": 595,
                        "passed_time": 3.585831881,
                        "remaining_time": 2.430664563,
                        "test": [
                          0.1740564353
                        ]
                      },
                      {
                        "learn": [
                          0.2291267942
                        ],
                        "iteration": 596,
                        "passed_time": 3.59626726,
                        "remaining_time": 2.427630998,
                        "test": [
                          0.1735678036
                        ]
                      },
                      {
                        "learn": [
                          0.2288535904
                        ],
                        "iteration": 597,
                        "passed_time": 3.606270889,
                        "remaining_time": 2.424282437,
                        "test": [
                          0.1735692537
                        ]
                      },
                      {
                        "learn": [
                          0.228625544
                        ],
                        "iteration": 598,
                        "passed_time": 3.618236814,
                        "remaining_time": 2.422225313,
                        "test": [
                          0.1734032105
                        ]
                      },
                      {
                        "learn": [
                          0.2285250716
                        ],
                        "iteration": 599,
                        "passed_time": 3.631317907,
                        "remaining_time": 2.420878604,
                        "test": [
                          0.1732882223
                        ]
                      },
                      {
                        "learn": [
                          0.2283873981
                        ],
                        "iteration": 600,
                        "passed_time": 3.640706,
                        "remaining_time": 2.417041088,
                        "test": [
                          0.1732263869
                        ]
                      },
                      {
                        "learn": [
                          0.228362778
                        ],
                        "iteration": 601,
                        "passed_time": 3.648656604,
                        "remaining_time": 2.412234765,
                        "test": [
                          0.17324502
                        ]
                      },
                      {
                        "learn": [
                          0.2281210413
                        ],
                        "iteration": 602,
                        "passed_time": 3.660266935,
                        "remaining_time": 2.409827485,
                        "test": [
                          0.1731132543
                        ]
                      },
                      {
                        "learn": [
                          0.2279917059
                        ],
                        "iteration": 603,
                        "passed_time": 3.668952598,
                        "remaining_time": 2.405472233,
                        "test": [
                          0.1731453937
                        ]
                      },
                      {
                        "learn": [
                          0.2279753665
                        ],
                        "iteration": 604,
                        "passed_time": 3.686942443,
                        "remaining_time": 2.407177298,
                        "test": [
                          0.1731288052
                        ]
                      },
                      {
                        "learn": [
                          0.2278041117
                        ],
                        "iteration": 605,
                        "passed_time": 3.696119251,
                        "remaining_time": 2.403087434,
                        "test": [
                          0.1730121293
                        ]
                      },
                      {
                        "learn": [
                          0.2278011923
                        ],
                        "iteration": 606,
                        "passed_time": 3.707713414,
                        "remaining_time": 2.400545917,
                        "test": [
                          0.1730212234
                        ]
                      },
                      {
                        "learn": [
                          0.2276190998
                        ],
                        "iteration": 607,
                        "passed_time": 3.716468335,
                        "remaining_time": 2.396144058,
                        "test": [
                          0.1728134429
                        ]
                      },
                      {
                        "learn": [
                          0.2275104545
                        ],
                        "iteration": 608,
                        "passed_time": 3.732077482,
                        "remaining_time": 2.396128564,
                        "test": [
                          0.1727199196
                        ]
                      },
                      {
                        "learn": [
                          0.2272663908
                        ],
                        "iteration": 609,
                        "passed_time": 3.743350336,
                        "remaining_time": 2.393289559,
                        "test": [
                          0.1725763465
                        ]
                      },
                      {
                        "learn": [
                          0.2269193278
                        ],
                        "iteration": 610,
                        "passed_time": 3.754529143,
                        "remaining_time": 2.390363071,
                        "test": [
                          0.1725760645
                        ]
                      },
                      {
                        "learn": [
                          0.22680938
                        ],
                        "iteration": 611,
                        "passed_time": 3.765777217,
                        "remaining_time": 2.38745353,
                        "test": [
                          0.1725204251
                        ]
                      },
                      {
                        "learn": [
                          0.2267330815
                        ],
                        "iteration": 612,
                        "passed_time": 3.782052998,
                        "remaining_time": 2.387690881,
                        "test": [
                          0.1725131005
                        ]
                      },
                      {
                        "learn": [
                          0.2266127245
                        ],
                        "iteration": 613,
                        "passed_time": 3.792039921,
                        "remaining_time": 2.383920862,
                        "test": [
                          0.1724319586
                        ]
                      },
                      {
                        "learn": [
                          0.2265140849
                        ],
                        "iteration": 614,
                        "passed_time": 3.806437852,
                        "remaining_time": 2.382891989,
                        "test": [
                          0.1723984244
                        ]
                      },
                      {
                        "learn": [
                          0.2264765153
                        ],
                        "iteration": 615,
                        "passed_time": 3.817110198,
                        "remaining_time": 2.379497266,
                        "test": [
                          0.1722116898
                        ]
                      },
                      {
                        "learn": [
                          0.2261724275
                        ],
                        "iteration": 616,
                        "passed_time": 3.827774647,
                        "remaining_time": 2.376074051,
                        "test": [
                          0.1720066151
                        ]
                      },
                      {
                        "learn": [
                          0.2258238316
                        ],
                        "iteration": 617,
                        "passed_time": 3.832113598,
                        "remaining_time": 2.368717467,
                        "test": [
                          0.1718774116
                        ]
                      },
                      {
                        "learn": [
                          0.2256408422
                        ],
                        "iteration": 618,
                        "passed_time": 3.837311313,
                        "remaining_time": 2.361899209,
                        "test": [
                          0.1718260253
                        ]
                      },
                      {
                        "learn": [
                          0.2252521571
                        ],
                        "iteration": 619,
                        "passed_time": 3.842696136,
                        "remaining_time": 2.355200857,
                        "test": [
                          0.1715755584
                        ]
                      },
                      {
                        "learn": [
                          0.2250229883
                        ],
                        "iteration": 620,
                        "passed_time": 3.847485102,
                        "remaining_time": 2.348143081,
                        "test": [
                          0.1713148657
                        ]
                      },
                      {
                        "learn": [
                          0.2247597715
                        ],
                        "iteration": 621,
                        "passed_time": 3.852459938,
                        "remaining_time": 2.341205557,
                        "test": [
                          0.1712662856
                        ]
                      },
                      {
                        "learn": [
                          0.2246924668
                        ],
                        "iteration": 622,
                        "passed_time": 3.863505325,
                        "remaining_time": 2.337947845,
                        "test": [
                          0.1712023955
                        ]
                      },
                      {
                        "learn": [
                          0.2245662599
                        ],
                        "iteration": 623,
                        "passed_time": 3.871438081,
                        "remaining_time": 2.332789613,
                        "test": [
                          0.1710997987
                        ]
                      },
                      {
                        "learn": [
                          0.2242877054
                        ],
                        "iteration": 624,
                        "passed_time": 3.881326795,
                        "remaining_time": 2.328796077,
                        "test": [
                          0.1709846559
                        ]
                      },
                      {
                        "learn": [
                          0.2242832854
                        ],
                        "iteration": 625,
                        "passed_time": 3.889380456,
                        "remaining_time": 2.323687365,
                        "test": [
                          0.1709838027
                        ]
                      },
                      {
                        "learn": [
                          0.2240730543
                        ],
                        "iteration": 626,
                        "passed_time": 3.899207186,
                        "remaining_time": 2.319624052,
                        "test": [
                          0.1709292719
                        ]
                      },
                      {
                        "learn": [
                          0.223701373
                        ],
                        "iteration": 627,
                        "passed_time": 3.932717005,
                        "remaining_time": 2.32957122,
                        "test": [
                          0.17067955
                        ]
                      },
                      {
                        "learn": [
                          0.2236081531
                        ],
                        "iteration": 628,
                        "passed_time": 3.95346506,
                        "remaining_time": 2.331853,
                        "test": [
                          0.1706091369
                        ]
                      },
                      {
                        "learn": [
                          0.223546042
                        ],
                        "iteration": 629,
                        "passed_time": 3.968267465,
                        "remaining_time": 2.330569781,
                        "test": [
                          0.1705888004
                        ]
                      },
                      {
                        "learn": [
                          0.2233818014
                        ],
                        "iteration": 630,
                        "passed_time": 3.985431126,
                        "remaining_time": 2.330624541,
                        "test": [
                          0.1700404346
                        ]
                      },
                      {
                        "learn": [
                          0.2232773619
                        ],
                        "iteration": 631,
                        "passed_time": 4.00119369,
                        "remaining_time": 2.329808984,
                        "test": [
                          0.1700795806
                        ]
                      },
                      {
                        "learn": [
                          0.2229799427
                        ],
                        "iteration": 632,
                        "passed_time": 4.010184825,
                        "remaining_time": 2.32502027,
                        "test": [
                          0.1701267415
                        ]
                      },
                      {
                        "learn": [
                          0.2226083069
                        ],
                        "iteration": 633,
                        "passed_time": 4.02373448,
                        "remaining_time": 2.322849873,
                        "test": [
                          0.1702183302
                        ]
                      },
                      {
                        "learn": [
                          0.2226005766
                        ],
                        "iteration": 634,
                        "passed_time": 4.033284778,
                        "remaining_time": 2.318344793,
                        "test": [
                          0.1702093185
                        ]
                      },
                      {
                        "learn": [
                          0.222343266
                        ],
                        "iteration": 635,
                        "passed_time": 4.045115908,
                        "remaining_time": 2.315129231,
                        "test": [
                          0.1701815905
                        ]
                      },
                      {
                        "learn": [
                          0.222075881
                        ],
                        "iteration": 636,
                        "passed_time": 4.054725694,
                        "remaining_time": 2.310620764,
                        "test": [
                          0.1702215295
                        ]
                      },
                      {
                        "learn": [
                          0.2217839177
                        ],
                        "iteration": 637,
                        "passed_time": 4.064682315,
                        "remaining_time": 2.3062931,
                        "test": [
                          0.1699609257
                        ]
                      },
                      {
                        "learn": [
                          0.2213566433
                        ],
                        "iteration": 638,
                        "passed_time": 4.074433209,
                        "remaining_time": 2.301831594,
                        "test": [
                          0.1699433078
                        ]
                      },
                      {
                        "learn": [
                          0.2211911878
                        ],
                        "iteration": 639,
                        "passed_time": 4.082496388,
                        "remaining_time": 2.296404218,
                        "test": [
                          0.1699056865
                        ]
                      },
                      {
                        "learn": [
                          0.2209176486
                        ],
                        "iteration": 640,
                        "passed_time": 4.093866528,
                        "remaining_time": 2.292820723,
                        "test": [
                          0.1698208147
                        ]
                      },
                      {
                        "learn": [
                          0.2208508601
                        ],
                        "iteration": 641,
                        "passed_time": 4.105115164,
                        "remaining_time": 2.289145216,
                        "test": [
                          0.1698297695
                        ]
                      },
                      {
                        "learn": [
                          0.220472026
                        ],
                        "iteration": 642,
                        "passed_time": 4.115784865,
                        "remaining_time": 2.285124723,
                        "test": [
                          0.1696128657
                        ]
                      },
                      {
                        "learn": [
                          0.220406792
                        ],
                        "iteration": 643,
                        "passed_time": 4.125496469,
                        "remaining_time": 2.280553949,
                        "test": [
                          0.1695689085
                        ]
                      },
                      {
                        "learn": [
                          0.2201065776
                        ],
                        "iteration": 644,
                        "passed_time": 4.135477026,
                        "remaining_time": 2.276115262,
                        "test": [
                          0.1695391957
                        ]
                      },
                      {
                        "learn": [
                          0.2199147621
                        ],
                        "iteration": 645,
                        "passed_time": 4.145199941,
                        "remaining_time": 2.271518234,
                        "test": [
                          0.1694437245
                        ]
                      },
                      {
                        "learn": [
                          0.2195669199
                        ],
                        "iteration": 646,
                        "passed_time": 4.156618653,
                        "remaining_time": 2.267830579,
                        "test": [
                          0.1692016634
                        ]
                      },
                      {
                        "learn": [
                          0.2193687887
                        ],
                        "iteration": 647,
                        "passed_time": 4.168071064,
                        "remaining_time": 2.264137368,
                        "test": [
                          0.1689814416
                        ]
                      },
                      {
                        "learn": [
                          0.219191612
                        ],
                        "iteration": 648,
                        "passed_time": 4.180708549,
                        "remaining_time": 2.261061172,
                        "test": [
                          0.1690367876
                        ]
                      },
                      {
                        "learn": [
                          0.2190676062
                        ],
                        "iteration": 649,
                        "passed_time": 4.190670961,
                        "remaining_time": 2.256515133,
                        "test": [
                          0.1688984262
                        ]
                      },
                      {
                        "learn": [
                          0.2186343948
                        ],
                        "iteration": 650,
                        "passed_time": 4.200393965,
                        "remaining_time": 2.251824107,
                        "test": [
                          0.1686148374
                        ]
                      },
                      {
                        "learn": [
                          0.2186145988
                        ],
                        "iteration": 651,
                        "passed_time": 4.209957207,
                        "remaining_time": 2.247032374,
                        "test": [
                          0.1685665269
                        ]
                      },
                      {
                        "learn": [
                          0.218293596
                        ],
                        "iteration": 652,
                        "passed_time": 4.215835534,
                        "remaining_time": 2.240267887,
                        "test": [
                          0.1683337999
                        ]
                      },
                      {
                        "learn": [
                          0.2181475841
                        ],
                        "iteration": 653,
                        "passed_time": 4.220144063,
                        "remaining_time": 2.232675605,
                        "test": [
                          0.1682656116
                        ]
                      },
                      {
                        "learn": [
                          0.2177364557
                        ],
                        "iteration": 654,
                        "passed_time": 4.22903757,
                        "remaining_time": 2.227508338,
                        "test": [
                          0.1680921332
                        ]
                      },
                      {
                        "learn": [
                          0.2176825738
                        ],
                        "iteration": 655,
                        "passed_time": 4.240029476,
                        "remaining_time": 2.223430091,
                        "test": [
                          0.1680521447
                        ]
                      },
                      {
                        "learn": [
                          0.217552796
                        ],
                        "iteration": 656,
                        "passed_time": 4.253707051,
                        "remaining_time": 2.220732905,
                        "test": [
                          0.1680671719
                        ]
                      },
                      {
                        "learn": [
                          0.2174572694
                        ],
                        "iteration": 657,
                        "passed_time": 4.264639212,
                        "remaining_time": 2.216575396,
                        "test": [
                          0.1679839266
                        ]
                      },
                      {
                        "learn": [
                          0.2171026631
                        ],
                        "iteration": 658,
                        "passed_time": 4.278751648,
                        "remaining_time": 2.214042962,
                        "test": [
                          0.1678436536
                        ]
                      },
                      {
                        "learn": [
                          0.2169017686
                        ],
                        "iteration": 659,
                        "passed_time": 4.289654687,
                        "remaining_time": 2.209822112,
                        "test": [
                          0.1677304696
                        ]
                      },
                      {
                        "learn": [
                          0.2165844117
                        ],
                        "iteration": 660,
                        "passed_time": 4.298690268,
                        "remaining_time": 2.204623299,
                        "test": [
                          0.1676631291
                        ]
                      },
                      {
                        "learn": [
                          0.2163748331
                        ],
                        "iteration": 661,
                        "passed_time": 4.309249081,
                        "remaining_time": 2.200190619,
                        "test": [
                          0.1674306691
                        ]
                      },
                      {
                        "learn": [
                          0.2162644194
                        ],
                        "iteration": 662,
                        "passed_time": 4.31922149,
                        "remaining_time": 2.195441391,
                        "test": [
                          0.1673405114
                        ]
                      },
                      {
                        "learn": [
                          0.2159390933
                        ],
                        "iteration": 663,
                        "passed_time": 4.329717756,
                        "remaining_time": 2.190941515,
                        "test": [
                          0.1673419274
                        ]
                      },
                      {
                        "learn": [
                          0.215368089
                        ],
                        "iteration": 664,
                        "passed_time": 4.343890205,
                        "remaining_time": 2.188275517,
                        "test": [
                          0.1671816644
                        ]
                      },
                      {
                        "learn": [
                          0.2151536561
                        ],
                        "iteration": 665,
                        "passed_time": 4.353445389,
                        "remaining_time": 2.183259399,
                        "test": [
                          0.1670640007
                        ]
                      },
                      {
                        "learn": [
                          0.2151248193
                        ],
                        "iteration": 666,
                        "passed_time": 4.363432779,
                        "remaining_time": 2.178445451,
                        "test": [
                          0.1670772424
                        ]
                      },
                      {
                        "learn": [
                          0.2146867357
                        ],
                        "iteration": 667,
                        "passed_time": 4.372595332,
                        "remaining_time": 2.173206063,
                        "test": [
                          0.1669626951
                        ]
                      },
                      {
                        "learn": [
                          0.2145960996
                        ],
                        "iteration": 668,
                        "passed_time": 4.382366303,
                        "remaining_time": 2.168255974,
                        "test": [
                          0.1669169122
                        ]
                      },
                      {
                        "learn": [
                          0.2145546122
                        ],
                        "iteration": 669,
                        "passed_time": 4.391956188,
                        "remaining_time": 2.163202302,
                        "test": [
                          0.1669071023
                        ]
                      },
                      {
                        "learn": [
                          0.2144410947
                        ],
                        "iteration": 670,
                        "passed_time": 4.406054313,
                        "remaining_time": 2.160345557,
                        "test": [
                          0.1668655513
                        ]
                      },
                      {
                        "learn": [
                          0.2143397448
                        ],
                        "iteration": 671,
                        "passed_time": 4.416660946,
                        "remaining_time": 2.155751176,
                        "test": [
                          0.1667688964
                        ]
                      },
                      {
                        "learn": [
                          0.2142722313
                        ],
                        "iteration": 672,
                        "passed_time": 4.428568905,
                        "remaining_time": 2.151771221,
                        "test": [
                          0.1667327919
                        ]
                      },
                      {
                        "learn": [
                          0.2137877214
                        ],
                        "iteration": 673,
                        "passed_time": 4.436900073,
                        "remaining_time": 2.146037721,
                        "test": [
                          0.1665325436
                        ]
                      },
                      {
                        "learn": [
                          0.2136135567
                        ],
                        "iteration": 674,
                        "passed_time": 4.446752488,
                        "remaining_time": 2.141028976,
                        "test": [
                          0.1665209722
                        ]
                      },
                      {
                        "learn": [
                          0.2134662071
                        ],
                        "iteration": 675,
                        "passed_time": 4.458195661,
                        "remaining_time": 2.136768335,
                        "test": [
                          0.1665485199
                        ]
                      },
                      {
                        "learn": [
                          0.2133240301
                        ],
                        "iteration": 676,
                        "passed_time": 4.46837732,
                        "remaining_time": 2.1318846,
                        "test": [
                          0.1665769303
                        ]
                      },
                      {
                        "learn": [
                          0.213238076
                        ],
                        "iteration": 677,
                        "passed_time": 4.478330645,
                        "remaining_time": 2.126876796,
                        "test": [
                          0.1665631467
                        ]
                      },
                      {
                        "learn": [
                          0.2131044079
                        ],
                        "iteration": 678,
                        "passed_time": 4.492220751,
                        "remaining_time": 2.123715554,
                        "test": [
                          0.1665168263
                        ]
                      },
                      {
                        "learn": [
                          0.2127662787
                        ],
                        "iteration": 679,
                        "passed_time": 4.50207774,
                        "remaining_time": 2.118624819,
                        "test": [
                          0.1667376796
                        ]
                      },
                      {
                        "learn": [
                          0.2126071958
                        ],
                        "iteration": 680,
                        "passed_time": 4.513036134,
                        "remaining_time": 2.114036016,
                        "test": [
                          0.1666395623
                        ]
                      },
                      {
                        "learn": [
                          0.2124961738
                        ],
                        "iteration": 681,
                        "passed_time": 4.52883268,
                        "remaining_time": 2.111684446,
                        "test": [
                          0.1666740636
                        ]
                      },
                      {
                        "learn": [
                          0.2124157322
                        ],
                        "iteration": 682,
                        "passed_time": 4.539170018,
                        "remaining_time": 2.10675973,
                        "test": [
                          0.1665958362
                        ]
                      },
                      {
                        "learn": [
                          0.2119248928
                        ],
                        "iteration": 683,
                        "passed_time": 4.550597219,
                        "remaining_time": 2.102322692,
                        "test": [
                          0.1662894679
                        ]
                      },
                      {
                        "learn": [
                          0.2117751011
                        ],
                        "iteration": 684,
                        "passed_time": 4.564120459,
                        "remaining_time": 2.098829116,
                        "test": [
                          0.1661752809
                        ]
                      },
                      {
                        "learn": [
                          0.2116550424
                        ],
                        "iteration": 685,
                        "passed_time": 4.574501638,
                        "remaining_time": 2.093868097,
                        "test": [
                          0.1661637741
                        ]
                      },
                      {
                        "learn": [
                          0.2109300691
                        ],
                        "iteration": 686,
                        "passed_time": 4.584230046,
                        "remaining_time": 2.088593893,
                        "test": [
                          0.1656226864
                        ]
                      },
                      {
                        "learn": [
                          0.2108267377
                        ],
                        "iteration": 687,
                        "passed_time": 4.593923574,
                        "remaining_time": 2.083290923,
                        "test": [
                          0.1654574427
                        ]
                      },
                      {
                        "learn": [
                          0.210599215
                        ],
                        "iteration": 688,
                        "passed_time": 4.604282722,
                        "remaining_time": 2.078275655,
                        "test": [
                          0.1654472865
                        ]
                      },
                      {
                        "learn": [
                          0.210491023
                        ],
                        "iteration": 689,
                        "passed_time": 4.613201891,
                        "remaining_time": 2.072597951,
                        "test": [
                          0.1654364112
                        ]
                      },
                      {
                        "learn": [
                          0.2102311724
                        ],
                        "iteration": 690,
                        "passed_time": 4.622387538,
                        "remaining_time": 2.067030028,
                        "test": [
                          0.165301677
                        ]
                      },
                      {
                        "learn": [
                          0.2101848599
                        ],
                        "iteration": 691,
                        "passed_time": 4.634332708,
                        "remaining_time": 2.062679876,
                        "test": [
                          0.1653241895
                        ]
                      },
                      {
                        "learn": [
                          0.209773016
                        ],
                        "iteration": 692,
                        "passed_time": 4.643639947,
                        "remaining_time": 2.057139197,
                        "test": [
                          0.1651469426
                        ]
                      },
                      {
                        "learn": [
                          0.2096752695
                        ],
                        "iteration": 693,
                        "passed_time": 4.651168324,
                        "remaining_time": 2.050803325,
                        "test": [
                          0.165119577
                        ]
                      },
                      {
                        "learn": [
                          0.2095799781
                        ],
                        "iteration": 694,
                        "passed_time": 4.658515172,
                        "remaining_time": 2.044384356,
                        "test": [
                          0.1650780975
                        ]
                      },
                      {
                        "learn": [
                          0.209472762
                        ],
                        "iteration": 695,
                        "passed_time": 4.668442276,
                        "remaining_time": 2.03908973,
                        "test": [
                          0.1652602381
                        ]
                      },
                      {
                        "learn": [
                          0.2093451808
                        ],
                        "iteration": 696,
                        "passed_time": 4.683783882,
                        "remaining_time": 2.036135604,
                        "test": [
                          0.1649402613
                        ]
                      },
                      {
                        "learn": [
                          0.2091218183
                        ],
                        "iteration": 697,
                        "passed_time": 4.694404192,
                        "remaining_time": 2.031103246,
                        "test": [
                          0.164882188
                        ]
                      },
                      {
                        "learn": [
                          0.2090486216
                        ],
                        "iteration": 698,
                        "passed_time": 4.703395729,
                        "remaining_time": 2.025353526,
                        "test": [
                          0.1648035527
                        ]
                      },
                      {
                        "learn": [
                          0.208919892
                        ],
                        "iteration": 699,
                        "passed_time": 4.714056173,
                        "remaining_time": 2.020309788,
                        "test": [
                          0.1647380982
                        ]
                      },
                      {
                        "learn": [
                          0.2088265846
                        ],
                        "iteration": 700,
                        "passed_time": 4.725965377,
                        "remaining_time": 2.015782664,
                        "test": [
                          0.1646673134
                        ]
                      },
                      {
                        "learn": [
                          0.208702923
                        ],
                        "iteration": 701,
                        "passed_time": 4.737700318,
                        "remaining_time": 2.011160534,
                        "test": [
                          0.1645569934
                        ]
                      },
                      {
                        "learn": [
                          0.2083856734
                        ],
                        "iteration": 702,
                        "passed_time": 4.746980061,
                        "remaining_time": 2.005480908,
                        "test": [
                          0.1644248076
                        ]
                      },
                      {
                        "learn": [
                          0.2082955875
                        ],
                        "iteration": 703,
                        "passed_time": 4.756540408,
                        "remaining_time": 1.999909035,
                        "test": [
                          0.1643573853
                        ]
                      },
                      {
                        "learn": [
                          0.2081582915
                        ],
                        "iteration": 704,
                        "passed_time": 4.77224512,
                        "remaining_time": 1.996896894,
                        "test": [
                          0.1642842897
                        ]
                      },
                      {
                        "learn": [
                          0.208109412
                        ],
                        "iteration": 705,
                        "passed_time": 4.789072181,
                        "remaining_time": 1.994316177,
                        "test": [
                          0.1642709413
                        ]
                      },
                      {
                        "learn": [
                          0.2080725504
                        ],
                        "iteration": 706,
                        "passed_time": 4.798791406,
                        "remaining_time": 1.988749479,
                        "test": [
                          0.164233516
                        ]
                      },
                      {
                        "learn": [
                          0.20784441
                        ],
                        "iteration": 707,
                        "passed_time": 4.8090225,
                        "remaining_time": 1.983382161,
                        "test": [
                          0.1640001329
                        ]
                      },
                      {
                        "learn": [
                          0.2077656943
                        ],
                        "iteration": 708,
                        "passed_time": 4.822173471,
                        "remaining_time": 1.979199549,
                        "test": [
                          0.163480077
                        ]
                      },
                      {
                        "learn": [
                          0.2076643035
                        ],
                        "iteration": 709,
                        "passed_time": 4.83347491,
                        "remaining_time": 1.974236231,
                        "test": [
                          0.1634703548
                        ]
                      },
                      {
                        "learn": [
                          0.2074594313
                        ],
                        "iteration": 710,
                        "passed_time": 4.843609557,
                        "remaining_time": 1.968780819,
                        "test": [
                          0.1633023746
                        ]
                      },
                      {
                        "learn": [
                          0.2074115318
                        ],
                        "iteration": 711,
                        "passed_time": 4.853202489,
                        "remaining_time": 1.963093142,
                        "test": [
                          0.1633184061
                        ]
                      },
                      {
                        "learn": [
                          0.2071225754
                        ],
                        "iteration": 712,
                        "passed_time": 4.870188966,
                        "remaining_time": 1.960370594,
                        "test": [
                          0.1633808879
                        ]
                      },
                      {
                        "learn": [
                          0.2070087767
                        ],
                        "iteration": 713,
                        "passed_time": 4.882809382,
                        "remaining_time": 1.95585922,
                        "test": [
                          0.1633434518
                        ]
                      },
                      {
                        "learn": [
                          0.2068122377
                        ],
                        "iteration": 714,
                        "passed_time": 4.888345159,
                        "remaining_time": 1.948501217,
                        "test": [
                          0.1636005269
                        ]
                      },
                      {
                        "learn": [
                          0.2064569466
                        ],
                        "iteration": 715,
                        "passed_time": 4.89355127,
                        "remaining_time": 1.941017543,
                        "test": [
                          0.1634794797
                        ]
                      },
                      {
                        "learn": [
                          0.2064032872
                        ],
                        "iteration": 716,
                        "passed_time": 4.917006579,
                        "remaining_time": 1.940743183,
                        "test": [
                          0.1635150959
                        ]
                      },
                      {
                        "learn": [
                          0.2060988276
                        ],
                        "iteration": 717,
                        "passed_time": 4.926767549,
                        "remaining_time": 1.935025695,
                        "test": [
                          0.1634039092
                        ]
                      },
                      {
                        "learn": [
                          0.2059777785
                        ],
                        "iteration": 718,
                        "passed_time": 4.939968949,
                        "remaining_time": 1.93064155,
                        "test": [
                          0.16336373
                        ]
                      },
                      {
                        "learn": [
                          0.2059645759
                        ],
                        "iteration": 719,
                        "passed_time": 4.952956381,
                        "remaining_time": 1.926149704,
                        "test": [
                          0.1633154895
                        ]
                      },
                      {
                        "learn": [
                          0.2059530837
                        ],
                        "iteration": 720,
                        "passed_time": 4.96494113,
                        "remaining_time": 1.92124629,
                        "test": [
                          0.1633157766
                        ]
                      },
                      {
                        "learn": [
                          0.2058342242
                        ],
                        "iteration": 721,
                        "passed_time": 4.974179433,
                        "remaining_time": 1.915265765,
                        "test": [
                          0.1632444514
                        ]
                      },
                      {
                        "learn": [
                          0.2057499357
                        ],
                        "iteration": 722,
                        "passed_time": 4.986509035,
                        "remaining_time": 1.910460584,
                        "test": [
                          0.1634575628
                        ]
                      },
                      {
                        "learn": [
                          0.2056157121
                        ],
                        "iteration": 723,
                        "passed_time": 5.004250268,
                        "remaining_time": 1.907697616,
                        "test": [
                          0.1634268107
                        ]
                      },
                      {
                        "learn": [
                          0.2052313845
                        ],
                        "iteration": 724,
                        "passed_time": 5.015780502,
                        "remaining_time": 1.902537432,
                        "test": [
                          0.1631948271
                        ]
                      },
                      {
                        "learn": [
                          0.2049997084
                        ],
                        "iteration": 725,
                        "passed_time": 5.026867323,
                        "remaining_time": 1.89719235,
                        "test": [
                          0.1624899574
                        ]
                      },
                      {
                        "learn": [
                          0.204883327
                        ],
                        "iteration": 726,
                        "passed_time": 5.043858089,
                        "remaining_time": 1.894048498,
                        "test": [
                          0.1623849018
                        ]
                      },
                      {
                        "learn": [
                          0.2047361071
                        ],
                        "iteration": 727,
                        "passed_time": 5.054926445,
                        "remaining_time": 1.888653837,
                        "test": [
                          0.1624646116
                        ]
                      },
                      {
                        "learn": [
                          0.2046574723
                        ],
                        "iteration": 728,
                        "passed_time": 5.065121763,
                        "remaining_time": 1.882919064,
                        "test": [
                          0.1623964116
                        ]
                      },
                      {
                        "learn": [
                          0.2043854556
                        ],
                        "iteration": 729,
                        "passed_time": 5.075201605,
                        "remaining_time": 1.877129361,
                        "test": [
                          0.1623724382
                        ]
                      },
                      {
                        "learn": [
                          0.2043678158
                        ],
                        "iteration": 730,
                        "passed_time": 5.089455662,
                        "remaining_time": 1.872863985,
                        "test": [
                          0.1623472609
                        ]
                      },
                      {
                        "learn": [
                          0.2041672832
                        ],
                        "iteration": 731,
                        "passed_time": 5.100500121,
                        "remaining_time": 1.867396219,
                        "test": [
                          0.1622623174
                        ]
                      },
                      {
                        "learn": [
                          0.2040581659
                        ],
                        "iteration": 732,
                        "passed_time": 5.1102455,
                        "remaining_time": 1.861440039,
                        "test": [
                          0.1622564786
                        ]
                      },
                      {
                        "learn": [
                          0.2037929457
                        ],
                        "iteration": 733,
                        "passed_time": 5.126562653,
                        "remaining_time": 1.85785513,
                        "test": [
                          0.1620845024
                        ]
                      },
                      {
                        "learn": [
                          0.2036598101
                        ],
                        "iteration": 734,
                        "passed_time": 5.131779273,
                        "remaining_time": 1.850233344,
                        "test": [
                          0.1617529733
                        ]
                      },
                      {
                        "learn": [
                          0.2035841898
                        ],
                        "iteration": 735,
                        "passed_time": 5.137213734,
                        "remaining_time": 1.842696231,
                        "test": [
                          0.1617363859
                        ]
                      },
                      {
                        "learn": [
                          0.2030319672
                        ],
                        "iteration": 736,
                        "passed_time": 5.142058201,
                        "remaining_time": 1.834954283,
                        "test": [
                          0.1617358696
                        ]
                      },
                      {
                        "learn": [
                          0.2030170674
                        ],
                        "iteration": 737,
                        "passed_time": 5.147813705,
                        "remaining_time": 1.827543619,
                        "test": [
                          0.1616973399
                        ]
                      },
                      {
                        "learn": [
                          0.2029800456
                        ],
                        "iteration": 738,
                        "passed_time": 5.153292716,
                        "remaining_time": 1.820039782,
                        "test": [
                          0.1615879724
                        ]
                      },
                      {
                        "learn": [
                          0.202888121
                        ],
                        "iteration": 739,
                        "passed_time": 5.158264325,
                        "remaining_time": 1.812363141,
                        "test": [
                          0.1615749128
                        ]
                      },
                      {
                        "learn": [
                          0.2028533515
                        ],
                        "iteration": 740,
                        "passed_time": 5.163351429,
                        "remaining_time": 1.80473417,
                        "test": [
                          0.1615966983
                        ]
                      },
                      {
                        "learn": [
                          0.2025558492
                        ],
                        "iteration": 741,
                        "passed_time": 5.16824273,
                        "remaining_time": 1.797043968,
                        "test": [
                          0.1614046269
                        ]
                      },
                      {
                        "learn": [
                          0.202481354
                        ],
                        "iteration": 742,
                        "passed_time": 5.173122102,
                        "remaining_time": 1.789357174,
                        "test": [
                          0.1615799894
                        ]
                      },
                      {
                        "learn": [
                          0.2024513501
                        ],
                        "iteration": 743,
                        "passed_time": 5.178527462,
                        "remaining_time": 1.781858912,
                        "test": [
                          0.1615828755
                        ]
                      },
                      {
                        "learn": [
                          0.2023853768
                        ],
                        "iteration": 744,
                        "passed_time": 5.183549765,
                        "remaining_time": 1.774235154,
                        "test": [
                          0.1614335759
                        ]
                      },
                      {
                        "learn": [
                          0.2022557556
                        ],
                        "iteration": 745,
                        "passed_time": 5.18894033,
                        "remaining_time": 1.766743758,
                        "test": [
                          0.1613659394
                        ]
                      },
                      {
                        "learn": [
                          0.2019100554
                        ],
                        "iteration": 746,
                        "passed_time": 5.19416993,
                        "remaining_time": 1.75920347,
                        "test": [
                          0.161223115
                        ]
                      },
                      {
                        "learn": [
                          0.2015284333
                        ],
                        "iteration": 747,
                        "passed_time": 5.199478841,
                        "remaining_time": 1.75169608,
                        "test": [
                          0.1611552972
                        ]
                      },
                      {
                        "learn": [
                          0.2013459446
                        ],
                        "iteration": 748,
                        "passed_time": 5.204687267,
                        "remaining_time": 1.744160886,
                        "test": [
                          0.1611024077
                        ]
                      },
                      {
                        "learn": [
                          0.2013251681
                        ],
                        "iteration": 749,
                        "passed_time": 5.209616507,
                        "remaining_time": 1.736538836,
                        "test": [
                          0.1610816208
                        ]
                      },
                      {
                        "learn": [
                          0.2009675173
                        ],
                        "iteration": 750,
                        "passed_time": 5.213454394,
                        "remaining_time": 1.728562109,
                        "test": [
                          0.1610219355
                        ]
                      },
                      {
                        "learn": [
                          0.2009054664
                        ],
                        "iteration": 751,
                        "passed_time": 5.219079802,
                        "remaining_time": 1.721185892,
                        "test": [
                          0.1609870315
                        ]
                      },
                      {
                        "learn": [
                          0.2005224456
                        ],
                        "iteration": 752,
                        "passed_time": 5.224232575,
                        "remaining_time": 1.713659291,
                        "test": [
                          0.1609862676
                        ]
                      },
                      {
                        "learn": [
                          0.20049612
                        ],
                        "iteration": 753,
                        "passed_time": 5.228895353,
                        "remaining_time": 1.70597912,
                        "test": [
                          0.1609766861
                        ]
                      },
                      {
                        "learn": [
                          0.2002218256
                        ],
                        "iteration": 754,
                        "passed_time": 5.236454702,
                        "remaining_time": 1.69924689,
                        "test": [
                          0.1608139009
                        ]
                      },
                      {
                        "learn": [
                          0.2001892149
                        ],
                        "iteration": 755,
                        "passed_time": 5.255529945,
                        "remaining_time": 1.696229242,
                        "test": [
                          0.1607557523
                        ]
                      },
                      {
                        "learn": [
                          0.1998795491
                        ],
                        "iteration": 756,
                        "passed_time": 5.268171247,
                        "remaining_time": 1.691103848,
                        "test": [
                          0.1606516723
                        ]
                      },
                      {
                        "learn": [
                          0.1997512289
                        ],
                        "iteration": 757,
                        "passed_time": 5.28150341,
                        "remaining_time": 1.686179189,
                        "test": [
                          0.1606445519
                        ]
                      },
                      {
                        "learn": [
                          0.1996138076
                        ],
                        "iteration": 758,
                        "passed_time": 5.293852311,
                        "remaining_time": 1.680920167,
                        "test": [
                          0.1605638517
                        ]
                      },
                      {
                        "learn": [
                          0.1992423376
                        ],
                        "iteration": 759,
                        "passed_time": 5.305109828,
                        "remaining_time": 1.67529784,
                        "test": [
                          0.1604397275
                        ]
                      },
                      {
                        "learn": [
                          0.1989643573
                        ],
                        "iteration": 760,
                        "passed_time": 5.315149897,
                        "remaining_time": 1.669278351,
                        "test": [
                          0.1602617903
                        ]
                      },
                      {
                        "learn": [
                          0.198678959
                        ],
                        "iteration": 761,
                        "passed_time": 5.32621239,
                        "remaining_time": 1.663567649,
                        "test": [
                          0.1602429962
                        ]
                      },
                      {
                        "learn": [
                          0.1982589915
                        ],
                        "iteration": 762,
                        "passed_time": 5.342696891,
                        "remaining_time": 1.659527081,
                        "test": [
                          0.1599349943
                        ]
                      },
                      {
                        "learn": [
                          0.1979102531
                        ],
                        "iteration": 763,
                        "passed_time": 5.354225182,
                        "remaining_time": 1.653922962,
                        "test": [
                          0.1596631604
                        ]
                      },
                      {
                        "learn": [
                          0.1977460092
                        ],
                        "iteration": 764,
                        "passed_time": 5.369636748,
                        "remaining_time": 1.649496256,
                        "test": [
                          0.1595845499
                        ]
                      },
                      {
                        "learn": [
                          0.1977015868
                        ],
                        "iteration": 765,
                        "passed_time": 5.380267927,
                        "remaining_time": 1.643580542,
                        "test": [
                          0.159557687
                        ]
                      },
                      {
                        "learn": [
                          0.1975192784
                        ],
                        "iteration": 766,
                        "passed_time": 5.394797621,
                        "remaining_time": 1.638836826,
                        "test": [
                          0.1594566583
                        ]
                      },
                      {
                        "learn": [
                          0.1973505332
                        ],
                        "iteration": 767,
                        "passed_time": 5.405928937,
                        "remaining_time": 1.633041033,
                        "test": [
                          0.1594569633
                        ]
                      },
                      {
                        "learn": [
                          0.1971367803
                        ],
                        "iteration": 768,
                        "passed_time": 5.415543424,
                        "remaining_time": 1.626775723,
                        "test": [
                          0.1594022042
                        ]
                      },
                      {
                        "learn": [
                          0.1969295876
                        ],
                        "iteration": 769,
                        "passed_time": 5.422888172,
                        "remaining_time": 1.61982374,
                        "test": [
                          0.1592744542
                        ]
                      },
                      {
                        "learn": [
                          0.1965896028
                        ],
                        "iteration": 770,
                        "passed_time": 5.432482908,
                        "remaining_time": 1.613539022,
                        "test": [
                          0.159259231
                        ]
                      },
                      {
                        "learn": [
                          0.1963810535
                        ],
                        "iteration": 771,
                        "passed_time": 5.441845134,
                        "remaining_time": 1.60717706,
                        "test": [
                          0.1591712787
                        ]
                      },
                      {
                        "learn": [
                          0.1960717696
                        ],
                        "iteration": 772,
                        "passed_time": 5.45542278,
                        "remaining_time": 1.602045241,
                        "test": [
                          0.1589808436
                        ]
                      },
                      {
                        "learn": [
                          0.1958644075
                        ],
                        "iteration": 773,
                        "passed_time": 5.466214833,
                        "remaining_time": 1.596078233,
                        "test": [
                          0.1588888164
                        ]
                      },
                      {
                        "learn": [
                          0.1956874583
                        ],
                        "iteration": 774,
                        "passed_time": 5.476801063,
                        "remaining_time": 1.590039018,
                        "test": [
                          0.1588552946
                        ]
                      },
                      {
                        "learn": [
                          0.1952992694
                        ],
                        "iteration": 775,
                        "passed_time": 5.492859548,
                        "remaining_time": 1.585567705,
                        "test": [
                          0.1587804795
                        ]
                      },
                      {
                        "learn": [
                          0.1952132538
                        ],
                        "iteration": 776,
                        "passed_time": 5.501599571,
                        "remaining_time": 1.578966157,
                        "test": [
                          0.1586757395
                        ]
                      },
                      {
                        "learn": [
                          0.1950948343
                        ],
                        "iteration": 777,
                        "passed_time": 5.50717846,
                        "remaining_time": 1.571457093,
                        "test": [
                          0.1586721647
                        ]
                      },
                      {
                        "learn": [
                          0.1950815639
                        ],
                        "iteration": 778,
                        "passed_time": 5.512908668,
                        "remaining_time": 1.563995912,
                        "test": [
                          0.1586303631
                        ]
                      },
                      {
                        "learn": [
                          0.1948511468
                        ],
                        "iteration": 779,
                        "passed_time": 5.521410802,
                        "remaining_time": 1.557320995,
                        "test": [
                          0.1586304498
                        ]
                      },
                      {
                        "learn": [
                          0.1945158342
                        ],
                        "iteration": 780,
                        "passed_time": 5.529968405,
                        "remaining_time": 1.550656953,
                        "test": [
                          0.1583708756
                        ]
                      },
                      {
                        "learn": [
                          0.1942938278
                        ],
                        "iteration": 781,
                        "passed_time": 5.545383737,
                        "remaining_time": 1.545899814,
                        "test": [
                          0.1582237692
                        ]
                      },
                      {
                        "learn": [
                          0.1938503236
                        ],
                        "iteration": 782,
                        "passed_time": 5.555593165,
                        "remaining_time": 1.539672691,
                        "test": [
                          0.1579722267
                        ]
                      },
                      {
                        "learn": [
                          0.1938386109
                        ],
                        "iteration": 783,
                        "passed_time": 5.56924656,
                        "remaining_time": 1.534384256,
                        "test": [
                          0.157942588
                        ]
                      },
                      {
                        "learn": [
                          0.1935185537
                        ],
                        "iteration": 784,
                        "passed_time": 5.581623984,
                        "remaining_time": 1.52872504,
                        "test": [
                          0.1577654882
                        ]
                      },
                      {
                        "learn": [
                          0.1932841853
                        ],
                        "iteration": 785,
                        "passed_time": 5.591794531,
                        "remaining_time": 1.522447875,
                        "test": [
                          0.1577138477
                        ]
                      },
                      {
                        "learn": [
                          0.1930669993
                        ],
                        "iteration": 786,
                        "passed_time": 5.602711146,
                        "remaining_time": 1.516362737,
                        "test": [
                          0.1576041302
                        ]
                      },
                      {
                        "learn": [
                          0.1930074326
                        ],
                        "iteration": 787,
                        "passed_time": 5.615057144,
                        "remaining_time": 1.510649891,
                        "test": [
                          0.1575581034
                        ]
                      },
                      {
                        "learn": [
                          0.1929885256
                        ],
                        "iteration": 788,
                        "passed_time": 5.631029429,
                        "remaining_time": 1.505889999,
                        "test": [
                          0.1575408409
                        ]
                      },
                      {
                        "learn": [
                          0.1928206669
                        ],
                        "iteration": 789,
                        "passed_time": 5.639823296,
                        "remaining_time": 1.499193534,
                        "test": [
                          0.1573950275
                        ]
                      },
                      {
                        "learn": [
                          0.1927257623
                        ],
                        "iteration": 790,
                        "passed_time": 5.647982568,
                        "remaining_time": 1.492324092,
                        "test": [
                          0.157371364
                        ]
                      },
                      {
                        "learn": [
                          0.1926557149
                        ],
                        "iteration": 791,
                        "passed_time": 5.656635757,
                        "remaining_time": 1.485581108,
                        "test": [
                          0.157323362
                        ]
                      },
                      {
                        "learn": [
                          0.1924706574
                        ],
                        "iteration": 792,
                        "passed_time": 5.671804642,
                        "remaining_time": 1.480534125,
                        "test": [
                          0.1572568741
                        ]
                      },
                      {
                        "learn": [
                          0.1922507402
                        ],
                        "iteration": 793,
                        "passed_time": 5.680982738,
                        "remaining_time": 1.47390736,
                        "test": [
                          0.1571629579
                        ]
                      },
                      {
                        "learn": [
                          0.1922231494
                        ],
                        "iteration": 794,
                        "passed_time": 5.694279463,
                        "remaining_time": 1.468336214,
                        "test": [
                          0.1571304302
                        ]
                      },
                      {
                        "learn": [
                          0.1921537821
                        ],
                        "iteration": 795,
                        "passed_time": 5.705120856,
                        "remaining_time": 1.4621164,
                        "test": [
                          0.1571079948
                        ]
                      },
                      {
                        "learn": [
                          0.1919304522
                        ],
                        "iteration": 796,
                        "passed_time": 5.720991,
                        "remaining_time": 1.457165838,
                        "test": [
                          0.1569931162
                        ]
                      },
                      {
                        "learn": [
                          0.1917406505
                        ],
                        "iteration": 797,
                        "passed_time": 5.734865283,
                        "remaining_time": 1.451682691,
                        "test": [
                          0.1569687254
                        ]
                      },
                      {
                        "learn": [
                          0.1917117912
                        ],
                        "iteration": 798,
                        "passed_time": 5.745098484,
                        "remaining_time": 1.445262572,
                        "test": [
                          0.1569490405
                        ]
                      },
                      {
                        "learn": [
                          0.1916055708
                        ],
                        "iteration": 799,
                        "passed_time": 5.761286692,
                        "remaining_time": 1.440321673,
                        "test": [
                          0.1568965127
                        ]
                      },
                      {
                        "learn": [
                          0.1913661984
                        ],
                        "iteration": 800,
                        "passed_time": 5.771820601,
                        "remaining_time": 1.433947939,
                        "test": [
                          0.1567599524
                        ]
                      },
                      {
                        "learn": [
                          0.191141537
                        ],
                        "iteration": 801,
                        "passed_time": 5.783421996,
                        "remaining_time": 1.427827376,
                        "test": [
                          0.1566462877
                        ]
                      },
                      {
                        "learn": [
                          0.1909233614
                        ],
                        "iteration": 802,
                        "passed_time": 5.793729818,
                        "remaining_time": 1.421375809,
                        "test": [
                          0.1564127678
                        ]
                      },
                      {
                        "learn": [
                          0.1907529765
                        ],
                        "iteration": 803,
                        "passed_time": 5.797802259,
                        "remaining_time": 1.41339458,
                        "test": [
                          0.1563011709
                        ]
                      },
                      {
                        "learn": [
                          0.1904742759
                        ],
                        "iteration": 804,
                        "passed_time": 5.801619716,
                        "remaining_time": 1.405361298,
                        "test": [
                          0.1563833299
                        ]
                      },
                      {
                        "learn": [
                          0.1904048638
                        ],
                        "iteration": 805,
                        "passed_time": 5.805746727,
                        "remaining_time": 1.397412984,
                        "test": [
                          0.1564381312
                        ]
                      },
                      {
                        "learn": [
                          0.1902287731
                        ],
                        "iteration": 806,
                        "passed_time": 5.809960822,
                        "remaining_time": 1.389494967,
                        "test": [
                          0.1563369109
                        ]
                      },
                      {
                        "learn": [
                          0.1900555204
                        ],
                        "iteration": 807,
                        "passed_time": 5.814251364,
                        "remaining_time": 1.381604285,
                        "test": [
                          0.1562816871
                        ]
                      },
                      {
                        "learn": [
                          0.1899545397
                        ],
                        "iteration": 808,
                        "passed_time": 5.818458736,
                        "remaining_time": 1.373702866,
                        "test": [
                          0.1562512428
                        ]
                      },
                      {
                        "learn": [
                          0.1897132866
                        ],
                        "iteration": 809,
                        "passed_time": 5.822667295,
                        "remaining_time": 1.365810847,
                        "test": [
                          0.1561101052
                        ]
                      },
                      {
                        "learn": [
                          0.1895620002
                        ],
                        "iteration": 810,
                        "passed_time": 5.82672894,
                        "remaining_time": 1.357893674,
                        "test": [
                          0.1560591129
                        ]
                      },
                      {
                        "learn": [
                          0.1894949761
                        ],
                        "iteration": 811,
                        "passed_time": 5.830676381,
                        "remaining_time": 1.349959556,
                        "test": [
                          0.1560488947
                        ]
                      },
                      {
                        "learn": [
                          0.1889945613
                        ],
                        "iteration": 812,
                        "passed_time": 5.834768358,
                        "remaining_time": 1.342068491,
                        "test": [
                          0.155862236
                        ]
                      },
                      {
                        "learn": [
                          0.1888324851
                        ],
                        "iteration": 813,
                        "passed_time": 5.838738187,
                        "remaining_time": 1.334158849,
                        "test": [
                          0.1557361165
                        ]
                      },
                      {
                        "learn": [
                          0.1886229916
                        ],
                        "iteration": 814,
                        "passed_time": 5.84308796,
                        "remaining_time": 1.32634512,
                        "test": [
                          0.1558424836
                        ]
                      },
                      {
                        "learn": [
                          0.1885504771
                        ],
                        "iteration": 815,
                        "passed_time": 5.847047671,
                        "remaining_time": 1.318451926,
                        "test": [
                          0.1558233435
                        ]
                      },
                      {
                        "learn": [
                          0.1882744697
                        ],
                        "iteration": 816,
                        "passed_time": 5.851192817,
                        "remaining_time": 1.310609897,
                        "test": [
                          0.1556116051
                        ]
                      },
                      {
                        "learn": [
                          0.188134918
                        ],
                        "iteration": 817,
                        "passed_time": 5.858938557,
                        "remaining_time": 1.303578016,
                        "test": [
                          0.1555587145
                        ]
                      },
                      {
                        "learn": [
                          0.1878959196
                        ],
                        "iteration": 818,
                        "passed_time": 5.870271159,
                        "remaining_time": 1.297337094,
                        "test": [
                          0.1547576331
                        ]
                      },
                      {
                        "learn": [
                          0.1878687666
                        ],
                        "iteration": 819,
                        "passed_time": 5.881503787,
                        "remaining_time": 1.291061807,
                        "test": [
                          0.1547655708
                        ]
                      },
                      {
                        "learn": [
                          0.1875984792
                        ],
                        "iteration": 820,
                        "passed_time": 5.893417442,
                        "remaining_time": 1.284922926,
                        "test": [
                          0.1546070909
                        ]
                      },
                      {
                        "learn": [
                          0.187541537
                        ],
                        "iteration": 821,
                        "passed_time": 5.911297134,
                        "remaining_time": 1.28006191,
                        "test": [
                          0.1545376696
                        ]
                      },
                      {
                        "learn": [
                          0.1872650931
                        ],
                        "iteration": 822,
                        "passed_time": 5.924005667,
                        "remaining_time": 1.274057112,
                        "test": [
                          0.1545534509
                        ]
                      },
                      {
                        "learn": [
                          0.1872260408
                        ],
                        "iteration": 823,
                        "passed_time": 5.932376096,
                        "remaining_time": 1.267109457,
                        "test": [
                          0.1545905558
                        ]
                      },
                      {
                        "learn": [
                          0.1872002019
                        ],
                        "iteration": 824,
                        "passed_time": 5.936709275,
                        "remaining_time": 1.259301967,
                        "test": [
                          0.1545416041
                        ]
                      },
                      {
                        "learn": [
                          0.1869666904
                        ],
                        "iteration": 825,
                        "passed_time": 5.943160353,
                        "remaining_time": 1.251949033,
                        "test": [
                          0.1544560156
                        ]
                      },
                      {
                        "learn": [
                          0.1867736713
                        ],
                        "iteration": 826,
                        "passed_time": 5.948307394,
                        "remaining_time": 1.244325489,
                        "test": [
                          0.1547435595
                        ]
                      },
                      {
                        "learn": [
                          0.1864441027
                        ],
                        "iteration": 827,
                        "passed_time": 5.954326033,
                        "remaining_time": 1.236888983,
                        "test": [
                          0.1545539901
                        ]
                      },
                      {
                        "learn": [
                          0.1863332126
                        ],
                        "iteration": 828,
                        "passed_time": 5.960120188,
                        "remaining_time": 1.229409592,
                        "test": [
                          0.1544628591
                        ]
                      },
                      {
                        "learn": [
                          0.1862618291
                        ],
                        "iteration": 829,
                        "passed_time": 5.968630092,
                        "remaining_time": 1.222490501,
                        "test": [
                          0.1544102646
                        ]
                      },
                      {
                        "learn": [
                          0.1861530625
                        ],
                        "iteration": 830,
                        "passed_time": 5.977103748,
                        "remaining_time": 1.215560209,
                        "test": [
                          0.1544115807
                        ]
                      },
                      {
                        "learn": [
                          0.1858703255
                        ],
                        "iteration": 831,
                        "passed_time": 5.984150784,
                        "remaining_time": 1.208338139,
                        "test": [
                          0.1543183042
                        ]
                      },
                      {
                        "learn": [
                          0.1857439231
                        ],
                        "iteration": 832,
                        "passed_time": 5.988311988,
                        "remaining_time": 1.200537937,
                        "test": [
                          0.1542640329
                        ]
                      },
                      {
                        "learn": [
                          0.1855471527
                        ],
                        "iteration": 833,
                        "passed_time": 5.992151294,
                        "remaining_time": 1.192682392,
                        "test": [
                          0.1540903824
                        ]
                      },
                      {
                        "learn": [
                          0.1852997059
                        ],
                        "iteration": 834,
                        "passed_time": 5.995763821,
                        "remaining_time": 1.184791653,
                        "test": [
                          0.1538822408
                        ]
                      },
                      {
                        "learn": [
                          0.185036226
                        ],
                        "iteration": 835,
                        "passed_time": 6.000187861,
                        "remaining_time": 1.177070346,
                        "test": [
                          0.1537953508
                        ]
                      },
                      {
                        "learn": [
                          0.1849908195
                        ],
                        "iteration": 836,
                        "passed_time": 6.004336712,
                        "remaining_time": 1.169303326,
                        "test": [
                          0.1537865945
                        ]
                      },
                      {
                        "learn": [
                          0.1847368086
                        ],
                        "iteration": 837,
                        "passed_time": 6.008532598,
                        "remaining_time": 1.161554034,
                        "test": [
                          0.1535942732
                        ]
                      },
                      {
                        "learn": [
                          0.1846383212
                        ],
                        "iteration": 838,
                        "passed_time": 6.012666066,
                        "remaining_time": 1.153801236,
                        "test": [
                          0.1534724074
                        ]
                      },
                      {
                        "learn": [
                          0.1845131476
                        ],
                        "iteration": 839,
                        "passed_time": 6.016626146,
                        "remaining_time": 1.146024028,
                        "test": [
                          0.1535577041
                        ]
                      },
                      {
                        "learn": [
                          0.1842672392
                        ],
                        "iteration": 840,
                        "passed_time": 6.02072334,
                        "remaining_time": 1.138281821,
                        "test": [
                          0.1534837779
                        ]
                      },
                      {
                        "learn": [
                          0.1840346352
                        ],
                        "iteration": 841,
                        "passed_time": 6.02509294,
                        "remaining_time": 1.130599388,
                        "test": [
                          0.1534769001
                        ]
                      },
                      {
                        "learn": [
                          0.1840282874
                        ],
                        "iteration": 842,
                        "passed_time": 6.029477639,
                        "remaining_time": 1.122927627,
                        "test": [
                          0.153474279
                        ]
                      },
                      {
                        "learn": [
                          0.1839708996
                        ],
                        "iteration": 843,
                        "passed_time": 6.033326905,
                        "remaining_time": 1.115164689,
                        "test": [
                          0.1534361748
                        ]
                      },
                      {
                        "learn": [
                          0.1836922653
                        ],
                        "iteration": 844,
                        "passed_time": 6.037395234,
                        "remaining_time": 1.107451197,
                        "test": [
                          0.1533248507
                        ]
                      },
                      {
                        "learn": [
                          0.1834804244
                        ],
                        "iteration": 845,
                        "passed_time": 6.041568856,
                        "remaining_time": 1.099765489,
                        "test": [
                          0.1531760621
                        ]
                      },
                      {
                        "learn": [
                          0.1832708256
                        ],
                        "iteration": 846,
                        "passed_time": 6.045723413,
                        "remaining_time": 1.092084631,
                        "test": [
                          0.1531266635
                        ]
                      },
                      {
                        "learn": [
                          0.183177057
                        ],
                        "iteration": 847,
                        "passed_time": 6.049554705,
                        "remaining_time": 1.084354145,
                        "test": [
                          0.1526722481
                        ]
                      },
                      {
                        "learn": [
                          0.1831086177
                        ],
                        "iteration": 848,
                        "passed_time": 6.053631833,
                        "remaining_time": 1.076676569,
                        "test": [
                          0.1526547994
                        ]
                      },
                      {
                        "learn": [
                          0.1830903235
                        ],
                        "iteration": 849,
                        "passed_time": 6.061088988,
                        "remaining_time": 1.069603939,
                        "test": [
                          0.15262469
                        ]
                      },
                      {
                        "learn": [
                          0.1827900706
                        ],
                        "iteration": 850,
                        "passed_time": 6.06511926,
                        "remaining_time": 1.061930399,
                        "test": [
                          0.1525183002
                        ]
                      },
                      {
                        "learn": [
                          0.1824406238
                        ],
                        "iteration": 851,
                        "passed_time": 6.069163711,
                        "remaining_time": 1.054267875,
                        "test": [
                          0.1522142349
                        ]
                      },
                      {
                        "learn": [
                          0.1822454355
                        ],
                        "iteration": 852,
                        "passed_time": 6.073496446,
                        "remaining_time": 1.046663514,
                        "test": [
                          0.152072108
                        ]
                      },
                      {
                        "learn": [
                          0.1820324616
                        ],
                        "iteration": 853,
                        "passed_time": 6.077802725,
                        "remaining_time": 1.039062293,
                        "test": [
                          0.1519552798
                        ]
                      },
                      {
                        "learn": [
                          0.1818973887
                        ],
                        "iteration": 854,
                        "passed_time": 6.081864949,
                        "remaining_time": 1.031427389,
                        "test": [
                          0.1518691256
                        ]
                      },
                      {
                        "learn": [
                          0.1817443338
                        ],
                        "iteration": 855,
                        "passed_time": 6.085997915,
                        "remaining_time": 1.023812733,
                        "test": [
                          0.1518115093
                        ]
                      },
                      {
                        "learn": [
                          0.1816674654
                        ],
                        "iteration": 856,
                        "passed_time": 6.090166751,
                        "remaining_time": 1.016212188,
                        "test": [
                          0.1517768421
                        ]
                      },
                      {
                        "learn": [
                          0.1816281085
                        ],
                        "iteration": 857,
                        "passed_time": 6.094451175,
                        "remaining_time": 1.008638773,
                        "test": [
                          0.1517938599
                        ]
                      },
                      {
                        "learn": [
                          0.1815357533
                        ],
                        "iteration": 858,
                        "passed_time": 6.098703145,
                        "remaining_time": 1.001067687,
                        "test": [
                          0.1517471887
                        ]
                      },
                      {
                        "learn": [
                          0.1814812737
                        ],
                        "iteration": 859,
                        "passed_time": 6.10276026,
                        "remaining_time": 0.9934726004,
                        "test": [
                          0.1516905578
                        ]
                      },
                      {
                        "learn": [
                          0.181271671
                        ],
                        "iteration": 860,
                        "passed_time": 6.107072521,
                        "remaining_time": 0.9859269226,
                        "test": [
                          0.1515680346
                        ]
                      },
                      {
                        "learn": [
                          0.1811123849
                        ],
                        "iteration": 861,
                        "passed_time": 6.111261825,
                        "remaining_time": 0.9783690624,
                        "test": [
                          0.1517017538
                        ]
                      },
                      {
                        "learn": [
                          0.181044097
                        ],
                        "iteration": 862,
                        "passed_time": 6.114834129,
                        "remaining_time": 0.9707210611,
                        "test": [
                          0.1516351386
                        ]
                      },
                      {
                        "learn": [
                          0.1809014037
                        ],
                        "iteration": 863,
                        "passed_time": 6.118735684,
                        "remaining_time": 0.9631343207,
                        "test": [
                          0.1514502991
                        ]
                      },
                      {
                        "learn": [
                          0.1806868679
                        ],
                        "iteration": 864,
                        "passed_time": 6.122897571,
                        "remaining_time": 0.9555967308,
                        "test": [
                          0.1513581325
                        ]
                      },
                      {
                        "learn": [
                          0.1805680204
                        ],
                        "iteration": 865,
                        "passed_time": 6.126925776,
                        "remaining_time": 0.9480462517,
                        "test": [
                          0.1512823322
                        ]
                      },
                      {
                        "learn": [
                          0.1804686503
                        ],
                        "iteration": 866,
                        "passed_time": 6.132035378,
                        "remaining_time": 0.940669787,
                        "test": [
                          0.1512867302
                        ]
                      },
                      {
                        "learn": [
                          0.1804066065
                        ],
                        "iteration": 867,
                        "passed_time": 6.136398944,
                        "remaining_time": 0.9331850928,
                        "test": [
                          0.1512073022
                        ]
                      },
                      {
                        "learn": [
                          0.1802339612
                        ],
                        "iteration": 868,
                        "passed_time": 6.140342765,
                        "remaining_time": 0.9256443063,
                        "test": [
                          0.1510690932
                        ]
                      },
                      {
                        "learn": [
                          0.1801095531
                        ],
                        "iteration": 869,
                        "passed_time": 6.144656051,
                        "remaining_time": 0.9181669961,
                        "test": [
                          0.1510580661
                        ]
                      },
                      {
                        "learn": [
                          0.1800941695
                        ],
                        "iteration": 870,
                        "passed_time": 6.148783608,
                        "remaining_time": 0.9106694436,
                        "test": [
                          0.1510374898
                        ]
                      },
                      {
                        "learn": [
                          0.180031962
                        ],
                        "iteration": 871,
                        "passed_time": 6.152280072,
                        "remaining_time": 0.9030869831,
                        "test": [
                          0.1511607427
                        ]
                      },
                      {
                        "learn": [
                          0.1799870649
                        ],
                        "iteration": 872,
                        "passed_time": 6.155750643,
                        "remaining_time": 0.8955101165,
                        "test": [
                          0.1511313798
                        ]
                      },
                      {
                        "learn": [
                          0.1798494803
                        ],
                        "iteration": 873,
                        "passed_time": 6.160014721,
                        "remaining_time": 0.8880570421,
                        "test": [
                          0.1510765748
                        ]
                      },
                      {
                        "learn": [
                          0.1798152715
                        ],
                        "iteration": 874,
                        "passed_time": 6.163975797,
                        "remaining_time": 0.880567971,
                        "test": [
                          0.1510648462
                        ]
                      },
                      {
                        "learn": [
                          0.1797300367
                        ],
                        "iteration": 875,
                        "passed_time": 6.168304307,
                        "remaining_time": 0.8731389658,
                        "test": [
                          0.1510316786
                        ]
                      },
                      {
                        "learn": [
                          0.1797151247
                        ],
                        "iteration": 876,
                        "passed_time": 6.17285958,
                        "remaining_time": 0.8657488351,
                        "test": [
                          0.1510107376
                        ]
                      },
                      {
                        "learn": [
                          0.179467067
                        ],
                        "iteration": 877,
                        "passed_time": 6.176838177,
                        "remaining_time": 0.8582850315,
                        "test": [
                          0.1507844917
                        ]
                      },
                      {
                        "learn": [
                          0.1791296973
                        ],
                        "iteration": 878,
                        "passed_time": 6.181039775,
                        "remaining_time": 0.8508598552,
                        "test": [
                          0.1505727813
                        ]
                      },
                      {
                        "learn": [
                          0.1789635896
                        ],
                        "iteration": 879,
                        "passed_time": 6.185383868,
                        "remaining_time": 0.8434614365,
                        "test": [
                          0.1504101559
                        ]
                      },
                      {
                        "learn": [
                          0.1788397663
                        ],
                        "iteration": 880,
                        "passed_time": 6.189261792,
                        "remaining_time": 0.8360069843,
                        "test": [
                          0.1503924839
                        ]
                      },
                      {
                        "learn": [
                          0.1787710305
                        ],
                        "iteration": 881,
                        "passed_time": 6.192986377,
                        "remaining_time": 0.8285401276,
                        "test": [
                          0.15048521
                        ]
                      },
                      {
                        "learn": [
                          0.1784795659
                        ],
                        "iteration": 882,
                        "passed_time": 6.196573404,
                        "remaining_time": 0.8210635201,
                        "test": [
                          0.1503079908
                        ]
                      },
                      {
                        "learn": [
                          0.1782165717
                        ],
                        "iteration": 883,
                        "passed_time": 6.200732378,
                        "remaining_time": 0.8136707645,
                        "test": [
                          0.1501758119
                        ]
                      },
                      {
                        "learn": [
                          0.1781006102
                        ],
                        "iteration": 884,
                        "passed_time": 6.204935885,
                        "remaining_time": 0.8062911037,
                        "test": [
                          0.1502549217
                        ]
                      },
                      {
                        "learn": [
                          0.1778351373
                        ],
                        "iteration": 885,
                        "passed_time": 6.209269849,
                        "remaining_time": 0.7989353981,
                        "test": [
                          0.1502263167
                        ]
                      },
                      {
                        "learn": [
                          0.17776615
                        ],
                        "iteration": 886,
                        "passed_time": 6.213186561,
                        "remaining_time": 0.79153335,
                        "test": [
                          0.150173727
                        ]
                      },
                      {
                        "learn": [
                          0.1774971782
                        ],
                        "iteration": 887,
                        "passed_time": 6.217169014,
                        "remaining_time": 0.7841474432,
                        "test": [
                          0.1499013578
                        ]
                      },
                      {
                        "learn": [
                          0.1772675296
                        ],
                        "iteration": 888,
                        "passed_time": 6.221338142,
                        "remaining_time": 0.7767925014,
                        "test": [
                          0.1497677057
                        ]
                      },
                      {
                        "learn": [
                          0.1769425728
                        ],
                        "iteration": 889,
                        "passed_time": 6.225512793,
                        "remaining_time": 0.7694454014,
                        "test": [
                          0.1495572778
                        ]
                      },
                      {
                        "learn": [
                          0.1767759674
                        ],
                        "iteration": 890,
                        "passed_time": 6.22968421,
                        "remaining_time": 0.7621050268,
                        "test": [
                          0.1495108765
                        ]
                      },
                      {
                        "learn": [
                          0.1766060348
                        ],
                        "iteration": 891,
                        "passed_time": 6.233470678,
                        "remaining_time": 0.7547251493,
                        "test": [
                          0.1495146847
                        ]
                      },
                      {
                        "learn": [
                          0.1763349391
                        ],
                        "iteration": 892,
                        "passed_time": 6.23671206,
                        "remaining_time": 0.7472880072,
                        "test": [
                          0.1494738665
                        ]
                      },
                      {
                        "learn": [
                          0.176283522
                        ],
                        "iteration": 893,
                        "passed_time": 6.240729145,
                        "remaining_time": 0.7399522252,
                        "test": [
                          0.1493521909
                        ]
                      },
                      {
                        "learn": [
                          0.1760199237
                        ],
                        "iteration": 894,
                        "passed_time": 6.244579307,
                        "remaining_time": 0.7326042762,
                        "test": [
                          0.1491564533
                        ]
                      },
                      {
                        "learn": [
                          0.1759693603
                        ],
                        "iteration": 895,
                        "passed_time": 6.248536433,
                        "remaining_time": 0.7252765502,
                        "test": [
                          0.1491476573
                        ]
                      },
                      {
                        "learn": [
                          0.1759071075
                        ],
                        "iteration": 896,
                        "passed_time": 6.252318822,
                        "remaining_time": 0.717936275,
                        "test": [
                          0.1491498122
                        ]
                      },
                      {
                        "learn": [
                          0.1758251359
                        ],
                        "iteration": 897,
                        "passed_time": 6.261902086,
                        "remaining_time": 0.7112628205,
                        "test": [
                          0.1491067551
                        ]
                      },
                      {
                        "learn": [
                          0.1757065146
                        ],
                        "iteration": 898,
                        "passed_time": 6.267263871,
                        "remaining_time": 0.7041086218,
                        "test": [
                          0.1489632665
                        ]
                      },
                      {
                        "learn": [
                          0.175448879
                        ],
                        "iteration": 899,
                        "passed_time": 6.271474568,
                        "remaining_time": 0.6968305075,
                        "test": [
                          0.1487741409
                        ]
                      },
                      {
                        "learn": [
                          0.1753693345
                        ],
                        "iteration": 900,
                        "passed_time": 6.275506504,
                        "remaining_time": 0.6895395604,
                        "test": [
                          0.1487303906
                        ]
                      },
                      {
                        "learn": [
                          0.1752722603
                        ],
                        "iteration": 901,
                        "passed_time": 6.27965913,
                        "remaining_time": 0.6822689521,
                        "test": [
                          0.1488326636
                        ]
                      },
                      {
                        "learn": [
                          0.175052763
                        ],
                        "iteration": 902,
                        "passed_time": 6.285517806,
                        "remaining_time": 0.675188513,
                        "test": [
                          0.1487014437
                        ]
                      },
                      {
                        "learn": [
                          0.1749139126
                        ],
                        "iteration": 903,
                        "passed_time": 6.294344003,
                        "remaining_time": 0.6684259118,
                        "test": [
                          0.1486500272
                        ]
                      },
                      {
                        "learn": [
                          0.1748624672
                        ],
                        "iteration": 904,
                        "passed_time": 6.306381784,
                        "remaining_time": 0.6619958779,
                        "test": [
                          0.1487298027
                        ]
                      },
                      {
                        "learn": [
                          0.1747283453
                        ],
                        "iteration": 905,
                        "passed_time": 6.316907058,
                        "remaining_time": 0.655396538,
                        "test": [
                          0.1484036561
                        ]
                      },
                      {
                        "learn": [
                          0.1744826781
                        ],
                        "iteration": 906,
                        "passed_time": 6.323677899,
                        "remaining_time": 0.6484035773,
                        "test": [
                          0.1483999568
                        ]
                      },
                      {
                        "learn": [
                          0.1744710806
                        ],
                        "iteration": 907,
                        "passed_time": 6.328275148,
                        "remaining_time": 0.641190874,
                        "test": [
                          0.1483836753
                        ]
                      },
                      {
                        "learn": [
                          0.1742984262
                        ],
                        "iteration": 908,
                        "passed_time": 6.332480099,
                        "remaining_time": 0.6339446524,
                        "test": [
                          0.1482798345
                        ]
                      },
                      {
                        "learn": [
                          0.174218362
                        ],
                        "iteration": 909,
                        "passed_time": 6.33684788,
                        "remaining_time": 0.6267212189,
                        "test": [
                          0.1482799844
                        ]
                      },
                      {
                        "learn": [
                          0.1741768436
                        ],
                        "iteration": 910,
                        "passed_time": 6.341098676,
                        "remaining_time": 0.6194926258,
                        "test": [
                          0.1482640653
                        ]
                      },
                      {
                        "learn": [
                          0.1740008232
                        ],
                        "iteration": 911,
                        "passed_time": 6.345447155,
                        "remaining_time": 0.6122799886,
                        "test": [
                          0.148222658
                        ]
                      },
                      {
                        "learn": [
                          0.1736476676
                        ],
                        "iteration": 912,
                        "passed_time": 6.34920404,
                        "remaining_time": 0.6050172524,
                        "test": [
                          0.1480583027
                        ]
                      },
                      {
                        "learn": [
                          0.1734314278
                        ],
                        "iteration": 913,
                        "passed_time": 6.353609196,
                        "remaining_time": 0.5978231848,
                        "test": [
                          0.1481012683
                        ]
                      },
                      {
                        "learn": [
                          0.1734030338
                        ],
                        "iteration": 914,
                        "passed_time": 6.35743711,
                        "remaining_time": 0.5905815894,
                        "test": [
                          0.148113305
                        ]
                      },
                      {
                        "learn": [
                          0.1732684702
                        ],
                        "iteration": 915,
                        "passed_time": 6.36138579,
                        "remaining_time": 0.5833585222,
                        "test": [
                          0.1479371638
                        ]
                      },
                      {
                        "learn": [
                          0.1732536072
                        ],
                        "iteration": 916,
                        "passed_time": 6.365546412,
                        "remaining_time": 0.57616178,
                        "test": [
                          0.1479114366
                        ]
                      },
                      {
                        "learn": [
                          0.1730574349
                        ],
                        "iteration": 917,
                        "passed_time": 6.369873686,
                        "remaining_time": 0.5689865384,
                        "test": [
                          0.1479448295
                        ]
                      },
                      {
                        "learn": [
                          0.1730198826
                        ],
                        "iteration": 918,
                        "passed_time": 6.373833697,
                        "remaining_time": 0.5617851245,
                        "test": [
                          0.1478997641
                        ]
                      },
                      {
                        "learn": [
                          0.1729667712
                        ],
                        "iteration": 919,
                        "passed_time": 6.377085717,
                        "remaining_time": 0.5545291928,
                        "test": [
                          0.1477465986
                        ]
                      },
                      {
                        "learn": [
                          0.1723031405
                        ],
                        "iteration": 920,
                        "passed_time": 6.381290495,
                        "remaining_time": 0.5473636798,
                        "test": [
                          0.1472495356
                        ]
                      },
                      {
                        "learn": [
                          0.1721927258
                        ],
                        "iteration": 921,
                        "passed_time": 6.385259264,
                        "remaining_time": 0.5401846232,
                        "test": [
                          0.1472157673
                        ]
                      },
                      {
                        "learn": [
                          0.1721445173
                        ],
                        "iteration": 922,
                        "passed_time": 6.389234246,
                        "remaining_time": 0.5330130411,
                        "test": [
                          0.1471525402
                        ]
                      },
                      {
                        "learn": [
                          0.1720400362
                        ],
                        "iteration": 923,
                        "passed_time": 6.393038591,
                        "remaining_time": 0.525834343,
                        "test": [
                          0.1472341528
                        ]
                      },
                      {
                        "learn": [
                          0.1719878822
                        ],
                        "iteration": 924,
                        "passed_time": 6.397021609,
                        "remaining_time": 0.5186774277,
                        "test": [
                          0.1471141639
                        ]
                      },
                      {
                        "learn": [
                          0.1719101369
                        ],
                        "iteration": 925,
                        "passed_time": 6.400349985,
                        "remaining_time": 0.5114750528,
                        "test": [
                          0.1469979417
                        ]
                      },
                      {
                        "learn": [
                          0.1718459872
                        ],
                        "iteration": 926,
                        "passed_time": 6.404429133,
                        "remaining_time": 0.5043401583,
                        "test": [
                          0.1470338006
                        ]
                      },
                      {
                        "learn": [
                          0.171602131
                        ],
                        "iteration": 927,
                        "passed_time": 6.408467135,
                        "remaining_time": 0.497208657,
                        "test": [
                          0.1469024565
                        ]
                      },
                      {
                        "learn": [
                          0.1715745662
                        ],
                        "iteration": 928,
                        "passed_time": 6.41243112,
                        "remaining_time": 0.4900781588,
                        "test": [
                          0.1468811939
                        ]
                      },
                      {
                        "learn": [
                          0.1714855089
                        ],
                        "iteration": 929,
                        "passed_time": 6.416645786,
                        "remaining_time": 0.4829733387,
                        "test": [
                          0.1467512298
                        ]
                      },
                      {
                        "learn": [
                          0.1713640157
                        ],
                        "iteration": 930,
                        "passed_time": 6.42151641,
                        "remaining_time": 0.475923343,
                        "test": [
                          0.1466527633
                        ]
                      },
                      {
                        "learn": [
                          0.17129922
                        ],
                        "iteration": 931,
                        "passed_time": 6.425510092,
                        "remaining_time": 0.4688140411,
                        "test": [
                          0.1468771068
                        ]
                      },
                      {
                        "learn": [
                          0.1711819619
                        ],
                        "iteration": 932,
                        "passed_time": 6.429354423,
                        "remaining_time": 0.4617006927,
                        "test": [
                          0.1468879281
                        ]
                      },
                      {
                        "learn": [
                          0.1707991635
                        ],
                        "iteration": 933,
                        "passed_time": 6.432996818,
                        "remaining_time": 0.4545800749,
                        "test": [
                          0.1466538034
                        ]
                      },
                      {
                        "learn": [
                          0.1706462874
                        ],
                        "iteration": 934,
                        "passed_time": 6.436680089,
                        "remaining_time": 0.4474697388,
                        "test": [
                          0.1464794651
                        ]
                      },
                      {
                        "learn": [
                          0.1705497011
                        ],
                        "iteration": 935,
                        "passed_time": 6.441298559,
                        "remaining_time": 0.4404306707,
                        "test": [
                          0.1464813755
                        ]
                      },
                      {
                        "learn": [
                          0.1705047238
                        ],
                        "iteration": 936,
                        "passed_time": 6.445357585,
                        "remaining_time": 0.4333591546,
                        "test": [
                          0.1464861009
                        ]
                      },
                      {
                        "learn": [
                          0.1704574426
                        ],
                        "iteration": 937,
                        "passed_time": 6.448631355,
                        "remaining_time": 0.4262421578,
                        "test": [
                          0.1464575446
                        ]
                      },
                      {
                        "learn": [
                          0.1704340108
                        ],
                        "iteration": 938,
                        "passed_time": 6.452752889,
                        "remaining_time": 0.4191884199,
                        "test": [
                          0.1464602565
                        ]
                      },
                      {
                        "learn": [
                          0.1703722433
                        ],
                        "iteration": 939,
                        "passed_time": 6.460446894,
                        "remaining_time": 0.4123689507,
                        "test": [
                          0.146569028
                        ]
                      },
                      {
                        "learn": [
                          0.1701664563
                        ],
                        "iteration": 940,
                        "passed_time": 6.468258906,
                        "remaining_time": 0.4055550218,
                        "test": [
                          0.1464729541
                        ]
                      },
                      {
                        "learn": [
                          0.1699624917
                        ],
                        "iteration": 941,
                        "passed_time": 6.472566379,
                        "remaining_time": 0.3985231953,
                        "test": [
                          0.1464007626
                        ]
                      },
                      {
                        "learn": [
                          0.1699552044
                        ],
                        "iteration": 942,
                        "passed_time": 6.476441489,
                        "remaining_time": 0.3914710126,
                        "test": [
                          0.146392538
                        ]
                      },
                      {
                        "learn": [
                          0.1698619806
                        ],
                        "iteration": 943,
                        "passed_time": 6.480758356,
                        "remaining_time": 0.3844517669,
                        "test": [
                          0.1462524369
                        ]
                      },
                      {
                        "learn": [
                          0.1698448625
                        ],
                        "iteration": 944,
                        "passed_time": 6.484626936,
                        "remaining_time": 0.3774121497,
                        "test": [
                          0.1461803223
                        ]
                      },
                      {
                        "learn": [
                          0.1696276223
                        ],
                        "iteration": 945,
                        "passed_time": 6.488485234,
                        "remaining_time": 0.3703786497,
                        "test": [
                          0.1460579981
                        ]
                      },
                      {
                        "learn": [
                          0.1695873873
                        ],
                        "iteration": 946,
                        "passed_time": 6.492947518,
                        "remaining_time": 0.3633856583,
                        "test": [
                          0.1460268388
                        ]
                      },
                      {
                        "learn": [
                          0.1694289552
                        ],
                        "iteration": 947,
                        "passed_time": 6.497093438,
                        "remaining_time": 0.3563806527,
                        "test": [
                          0.1459876129
                        ]
                      },
                      {
                        "learn": [
                          0.1692321633
                        ],
                        "iteration": 948,
                        "passed_time": 6.501676549,
                        "remaining_time": 0.3494051675,
                        "test": [
                          0.1459282639
                        ]
                      },
                      {
                        "learn": [
                          0.1691613445
                        ],
                        "iteration": 949,
                        "passed_time": 6.505763252,
                        "remaining_time": 0.3424085922,
                        "test": [
                          0.1458484122
                        ]
                      },
                      {
                        "learn": [
                          0.1690800189
                        ],
                        "iteration": 950,
                        "passed_time": 6.509317435,
                        "remaining_time": 0.3353906985,
                        "test": [
                          0.145862568
                        ]
                      },
                      {
                        "learn": [
                          0.1689666844
                        ],
                        "iteration": 951,
                        "passed_time": 6.513559158,
                        "remaining_time": 0.3284147475,
                        "test": [
                          0.1458923939
                        ]
                      },
                      {
                        "learn": [
                          0.1688325556
                        ],
                        "iteration": 952,
                        "passed_time": 6.517659405,
                        "remaining_time": 0.3214375572,
                        "test": [
                          0.1458043016
                        ]
                      },
                      {
                        "learn": [
                          0.1685889453
                        ],
                        "iteration": 953,
                        "passed_time": 6.521980213,
                        "remaining_time": 0.3144770333,
                        "test": [
                          0.1457068435
                        ]
                      },
                      {
                        "learn": [
                          0.1683719103
                        ],
                        "iteration": 954,
                        "passed_time": 6.526268865,
                        "remaining_time": 0.3075205224,
                        "test": [
                          0.1456488621
                        ]
                      },
                      {
                        "learn": [
                          0.1682632985
                        ],
                        "iteration": 955,
                        "passed_time": 6.529948705,
                        "remaining_time": 0.3005415722,
                        "test": [
                          0.1457011073
                        ]
                      },
                      {
                        "learn": [
                          0.1682037031
                        ],
                        "iteration": 956,
                        "passed_time": 6.534127274,
                        "remaining_time": 0.2935919256,
                        "test": [
                          0.1456701818
                        ]
                      },
                      {
                        "learn": [
                          0.1680949729
                        ],
                        "iteration": 957,
                        "passed_time": 6.538675666,
                        "remaining_time": 0.2866642776,
                        "test": [
                          0.1455504415
                        ]
                      },
                      {
                        "learn": [
                          0.1680712668
                        ],
                        "iteration": 958,
                        "passed_time": 6.542780786,
                        "remaining_time": 0.2797226405,
                        "test": [
                          0.1455279036
                        ]
                      },
                      {
                        "learn": [
                          0.1679667392
                        ],
                        "iteration": 959,
                        "passed_time": 6.547112231,
                        "remaining_time": 0.272796343,
                        "test": [
                          0.1456150267
                        ]
                      },
                      {
                        "learn": [
                          0.1676796471
                        ],
                        "iteration": 960,
                        "passed_time": 6.550880169,
                        "remaining_time": 0.2658525771,
                        "test": [
                          0.1452082917
                        ]
                      },
                      {
                        "learn": [
                          0.167527751
                        ],
                        "iteration": 961,
                        "passed_time": 6.554651698,
                        "remaining_time": 0.2589155556,
                        "test": [
                          0.1452131727
                        ]
                      },
                      {
                        "learn": [
                          0.167518987
                        ],
                        "iteration": 962,
                        "passed_time": 6.558532805,
                        "remaining_time": 0.2519893186,
                        "test": [
                          0.1452012804
                        ]
                      },
                      {
                        "learn": [
                          0.1673867826
                        ],
                        "iteration": 963,
                        "passed_time": 6.562813228,
                        "remaining_time": 0.2450843114,
                        "test": [
                          0.1452504894
                        ]
                      },
                      {
                        "learn": [
                          0.1672321334
                        ],
                        "iteration": 964,
                        "passed_time": 6.567126788,
                        "remaining_time": 0.2381859457,
                        "test": [
                          0.1452244007
                        ]
                      },
                      {
                        "learn": [
                          0.1670903978
                        ],
                        "iteration": 965,
                        "passed_time": 6.570945805,
                        "remaining_time": 0.2312755252,
                        "test": [
                          0.1452670466
                        ]
                      },
                      {
                        "learn": [
                          0.1669580125
                        ],
                        "iteration": 966,
                        "passed_time": 6.575012273,
                        "remaining_time": 0.2243799431,
                        "test": [
                          0.1452352754
                        ]
                      },
                      {
                        "learn": [
                          0.166793523
                        ],
                        "iteration": 967,
                        "passed_time": 6.57891665,
                        "remaining_time": 0.2174848479,
                        "test": [
                          0.14519857
                        ]
                      },
                      {
                        "learn": [
                          0.166679842
                        ],
                        "iteration": 968,
                        "passed_time": 6.582457501,
                        "remaining_time": 0.2105842957,
                        "test": [
                          0.1452802993
                        ]
                      },
                      {
                        "learn": [
                          0.166585922
                        ],
                        "iteration": 969,
                        "passed_time": 6.586681103,
                        "remaining_time": 0.2037117867,
                        "test": [
                          0.1452602532
                        ]
                      },
                      {
                        "learn": [
                          0.1665156394
                        ],
                        "iteration": 970,
                        "passed_time": 6.590853581,
                        "remaining_time": 0.1968432068,
                        "test": [
                          0.1452076891
                        ]
                      },
                      {
                        "learn": [
                          0.166504411
                        ],
                        "iteration": 971,
                        "passed_time": 6.594881898,
                        "remaining_time": 0.1899760217,
                        "test": [
                          0.1452423413
                        ]
                      },
                      {
                        "learn": [
                          0.1663501697
                        ],
                        "iteration": 972,
                        "passed_time": 6.59936116,
                        "remaining_time": 0.1831271853,
                        "test": [
                          0.1451384395
                        ]
                      },
                      {
                        "learn": [
                          0.1659852513
                        ],
                        "iteration": 973,
                        "passed_time": 6.603572796,
                        "remaining_time": 0.1762760705,
                        "test": [
                          0.1449691125
                        ]
                      },
                      {
                        "learn": [
                          0.1657834996
                        ],
                        "iteration": 974,
                        "passed_time": 6.608263069,
                        "remaining_time": 0.1694426428,
                        "test": [
                          0.1449200227
                        ]
                      },
                      {
                        "learn": [
                          0.1656339184
                        ],
                        "iteration": 975,
                        "passed_time": 6.612246894,
                        "remaining_time": 0.1625962351,
                        "test": [
                          0.1448266264
                        ]
                      },
                      {
                        "learn": [
                          0.1656205314
                        ],
                        "iteration": 976,
                        "passed_time": 6.617070139,
                        "remaining_time": 0.1557754485,
                        "test": [
                          0.1448041751
                        ]
                      },
                      {
                        "learn": [
                          0.1656094157
                        ],
                        "iteration": 977,
                        "passed_time": 6.620805719,
                        "remaining_time": 0.14893428,
                        "test": [
                          0.1447921292
                        ]
                      },
                      {
                        "learn": [
                          0.16546787
                        ],
                        "iteration": 978,
                        "passed_time": 6.624371039,
                        "remaining_time": 0.1420958037,
                        "test": [
                          0.1447051276
                        ]
                      },
                      {
                        "learn": [
                          0.1652884299
                        ],
                        "iteration": 979,
                        "passed_time": 6.628015568,
                        "remaining_time": 0.1352656238,
                        "test": [
                          0.1446661832
                        ]
                      },
                      {
                        "learn": [
                          0.1652465648
                        ],
                        "iteration": 980,
                        "passed_time": 6.632186723,
                        "remaining_time": 0.1284521384,
                        "test": [
                          0.1446062865
                        ]
                      },
                      {
                        "learn": [
                          0.1652110659
                        ],
                        "iteration": 981,
                        "passed_time": 6.63566177,
                        "remaining_time": 0.1216312748,
                        "test": [
                          0.1445725113
                        ]
                      },
                      {
                        "learn": [
                          0.1651021318
                        ],
                        "iteration": 982,
                        "passed_time": 6.639623279,
                        "remaining_time": 0.1148256315,
                        "test": [
                          0.1444771131
                        ]
                      },
                      {
                        "learn": [
                          0.1649746678
                        ],
                        "iteration": 983,
                        "passed_time": 6.643516101,
                        "remaining_time": 0.108024652,
                        "test": [
                          0.144381756
                        ]
                      },
                      {
                        "learn": [
                          0.1649683076
                        ],
                        "iteration": 984,
                        "passed_time": 6.646457213,
                        "remaining_time": 0.1012150845,
                        "test": [
                          0.1443809879
                        ]
                      },
                      {
                        "learn": [
                          0.1649384996
                        ],
                        "iteration": 985,
                        "passed_time": 6.649800468,
                        "remaining_time": 0.09441907359,
                        "test": [
                          0.1443309083
                        ]
                      },
                      {
                        "learn": [
                          0.1648383348
                        ],
                        "iteration": 986,
                        "passed_time": 6.65556208,
                        "remaining_time": 0.0876619119,
                        "test": [
                          0.1440773526
                        ]
                      },
                      {
                        "learn": [
                          0.1645780516
                        ],
                        "iteration": 987,
                        "passed_time": 6.664249576,
                        "remaining_time": 0.08094230254,
                        "test": [
                          0.1439315188
                        ]
                      },
                      {
                        "learn": [
                          0.1644565612
                        ],
                        "iteration": 988,
                        "passed_time": 6.668494501,
                        "remaining_time": 0.07416930183,
                        "test": [
                          0.143879999
                        ]
                      },
                      {
                        "learn": [
                          0.164157228
                        ],
                        "iteration": 989,
                        "passed_time": 6.672532365,
                        "remaining_time": 0.06739931682,
                        "test": [
                          0.1436839321
                        ]
                      },
                      {
                        "learn": [
                          0.1641065396
                        ],
                        "iteration": 990,
                        "passed_time": 6.676321674,
                        "remaining_time": 0.06063258836,
                        "test": [
                          0.1437338306
                        ]
                      },
                      {
                        "learn": [
                          0.1639387148
                        ],
                        "iteration": 991,
                        "passed_time": 6.680469537,
                        "remaining_time": 0.05387475433,
                        "test": [
                          0.1436986008
                        ]
                      },
                      {
                        "learn": [
                          0.1637706174
                        ],
                        "iteration": 992,
                        "passed_time": 6.684680948,
                        "remaining_time": 0.04712262501,
                        "test": [
                          0.1436199917
                        ]
                      },
                      {
                        "learn": [
                          0.1636695798
                        ],
                        "iteration": 993,
                        "passed_time": 6.688725572,
                        "remaining_time": 0.04037460104,
                        "test": [
                          0.1436371528
                        ]
                      },
                      {
                        "learn": [
                          0.1634949694
                        ],
                        "iteration": 994,
                        "passed_time": 6.692903268,
                        "remaining_time": 0.03363267974,
                        "test": [
                          0.1435647032
                        ]
                      },
                      {
                        "learn": [
                          0.1634320461
                        ],
                        "iteration": 995,
                        "passed_time": 6.696862563,
                        "remaining_time": 0.02689503037,
                        "test": [
                          0.1435340745
                        ]
                      },
                      {
                        "learn": [
                          0.1634153899
                        ],
                        "iteration": 996,
                        "passed_time": 6.700899761,
                        "remaining_time": 0.02016318885,
                        "test": [
                          0.1435202679
                        ]
                      },
                      {
                        "learn": [
                          0.1631527766
                        ],
                        "iteration": 997,
                        "passed_time": 6.70505609,
                        "remaining_time": 0.01343698615,
                        "test": [
                          0.1432976132
                        ]
                      },
                      {
                        "learn": [
                          0.1627458173
                        ],
                        "iteration": 998,
                        "passed_time": 6.709228231,
                        "remaining_time": 0.006715944176,
                        "test": [
                          0.1431652935
                        ]
                      },
                      {
                        "learn": [
                          0.162628584
                        ],
                        "iteration": 999,
                        "passed_time": 6.713162161,
                        "remaining_time": 0,
                        "test": [
                          0.143084062
                        ]
                      }
                    ],
                    "meta": {
                      "test_sets": [
                        "test"
                      ],
                      "test_metrics": [
                        {
                          "best_value": "Min",
                          "name": "Logloss"
                        }
                      ],
                      "learn_metrics": [
                        {
                          "best_value": "Min",
                          "name": "Logloss"
                        }
                      ],
                      "launch_mode": "Train",
                      "parameters": "",
                      "iteration_count": 1000,
                      "learn_sets": [
                        "learn"
                      ],
                      "name": "experiment"
                    }
                  }
                }
              }
            },
            "layout": "IPY_MODEL_760f67f5d55e441b9268a426c5b98394"
          }
        }
      }
    }
  },
  "nbformat": 4,
  "nbformat_minor": 0
}